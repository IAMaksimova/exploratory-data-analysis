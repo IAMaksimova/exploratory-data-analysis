{
 "cells": [
  {
   "cell_type": "markdown",
   "metadata": {
    "id": "aeFLH07FAwb9"
   },
   "source": [
    "# Исследование объявлений о продаже квартир\n",
    "\n",
    "В нашем распоряжении данные сервиса Яндекс Недвижимость — архив объявлений о продаже квартир в Санкт-Петербурге и соседних населённых пунктах за несколько лет. Перед нами стоит задача: определить рыночную стоимость объектов недвижимости. Для этого проведем исследовательский анализ данных и установим параметры, влияющие на цену объектов. Это позволит построить автоматизированную систему: она отследит аномалии и мошенническую деятельность.\n",
    "\n",
    "По каждой квартире на продажу доступны два вида данных. Первые вписаны пользователем, вторые — получены автоматически на основе картографических данных. Например, расстояние до центра, аэропорта и других объектов — эти данные автоматически получены из геосервисов. Количество парков и водоёмов также заполняется без участия пользователя."
   ]
  },
  {
   "cell_type": "markdown",
   "metadata": {},
   "source": [
    "### Общая информация"
   ]
  },
  {
   "cell_type": "code",
   "execution_count": 1,
   "metadata": {
    "id": "7MZxY65pAwb9"
   },
   "outputs": [],
   "source": [
    "import pandas as pd\n",
    "import numpy as np\n",
    "import matplotlib.pyplot as plt\n",
    "\n",
    "try:\n",
    "    data = pd.read_csv('/datasets/real_estate_data.csv', sep='\\t')\n",
    "except:\n",
    "    data = pd.read_csv('https://code.s3.yandex.net/datasets/real_estate_data.csv', sep='\\t')"
   ]
  },
  {
   "cell_type": "code",
   "execution_count": 2,
   "metadata": {
    "scrolled": true
   },
   "outputs": [
    {
     "data": {
      "text/html": [
       "<div>\n",
       "<style scoped>\n",
       "    .dataframe tbody tr th:only-of-type {\n",
       "        vertical-align: middle;\n",
       "    }\n",
       "\n",
       "    .dataframe tbody tr th {\n",
       "        vertical-align: top;\n",
       "    }\n",
       "\n",
       "    .dataframe thead th {\n",
       "        text-align: right;\n",
       "    }\n",
       "</style>\n",
       "<table border=\"1\" class=\"dataframe\">\n",
       "  <thead>\n",
       "    <tr style=\"text-align: right;\">\n",
       "      <th></th>\n",
       "      <th>total_images</th>\n",
       "      <th>last_price</th>\n",
       "      <th>total_area</th>\n",
       "      <th>first_day_exposition</th>\n",
       "      <th>rooms</th>\n",
       "      <th>ceiling_height</th>\n",
       "      <th>floors_total</th>\n",
       "      <th>living_area</th>\n",
       "      <th>floor</th>\n",
       "      <th>is_apartment</th>\n",
       "      <th>studio</th>\n",
       "      <th>open_plan</th>\n",
       "      <th>kitchen_area</th>\n",
       "      <th>balcony</th>\n",
       "      <th>locality_name</th>\n",
       "      <th>airports_nearest</th>\n",
       "      <th>cityCenters_nearest</th>\n",
       "      <th>parks_around3000</th>\n",
       "      <th>parks_nearest</th>\n",
       "      <th>ponds_around3000</th>\n",
       "      <th>ponds_nearest</th>\n",
       "      <th>days_exposition</th>\n",
       "    </tr>\n",
       "  </thead>\n",
       "  <tbody>\n",
       "    <tr>\n",
       "      <th>0</th>\n",
       "      <td>20</td>\n",
       "      <td>13000000.0</td>\n",
       "      <td>108.0</td>\n",
       "      <td>2019-03-07T00:00:00</td>\n",
       "      <td>3</td>\n",
       "      <td>2.70</td>\n",
       "      <td>16.0</td>\n",
       "      <td>51.0</td>\n",
       "      <td>8</td>\n",
       "      <td>NaN</td>\n",
       "      <td>False</td>\n",
       "      <td>False</td>\n",
       "      <td>25.0</td>\n",
       "      <td>NaN</td>\n",
       "      <td>Санкт-Петербург</td>\n",
       "      <td>18863.0</td>\n",
       "      <td>16028.0</td>\n",
       "      <td>1.0</td>\n",
       "      <td>482.0</td>\n",
       "      <td>2.0</td>\n",
       "      <td>755.0</td>\n",
       "      <td>NaN</td>\n",
       "    </tr>\n",
       "    <tr>\n",
       "      <th>1</th>\n",
       "      <td>7</td>\n",
       "      <td>3350000.0</td>\n",
       "      <td>40.4</td>\n",
       "      <td>2018-12-04T00:00:00</td>\n",
       "      <td>1</td>\n",
       "      <td>NaN</td>\n",
       "      <td>11.0</td>\n",
       "      <td>18.6</td>\n",
       "      <td>1</td>\n",
       "      <td>NaN</td>\n",
       "      <td>False</td>\n",
       "      <td>False</td>\n",
       "      <td>11.0</td>\n",
       "      <td>2.0</td>\n",
       "      <td>посёлок Шушары</td>\n",
       "      <td>12817.0</td>\n",
       "      <td>18603.0</td>\n",
       "      <td>0.0</td>\n",
       "      <td>NaN</td>\n",
       "      <td>0.0</td>\n",
       "      <td>NaN</td>\n",
       "      <td>81.0</td>\n",
       "    </tr>\n",
       "    <tr>\n",
       "      <th>2</th>\n",
       "      <td>10</td>\n",
       "      <td>5196000.0</td>\n",
       "      <td>56.0</td>\n",
       "      <td>2015-08-20T00:00:00</td>\n",
       "      <td>2</td>\n",
       "      <td>NaN</td>\n",
       "      <td>5.0</td>\n",
       "      <td>34.3</td>\n",
       "      <td>4</td>\n",
       "      <td>NaN</td>\n",
       "      <td>False</td>\n",
       "      <td>False</td>\n",
       "      <td>8.3</td>\n",
       "      <td>0.0</td>\n",
       "      <td>Санкт-Петербург</td>\n",
       "      <td>21741.0</td>\n",
       "      <td>13933.0</td>\n",
       "      <td>1.0</td>\n",
       "      <td>90.0</td>\n",
       "      <td>2.0</td>\n",
       "      <td>574.0</td>\n",
       "      <td>558.0</td>\n",
       "    </tr>\n",
       "    <tr>\n",
       "      <th>3</th>\n",
       "      <td>0</td>\n",
       "      <td>64900000.0</td>\n",
       "      <td>159.0</td>\n",
       "      <td>2015-07-24T00:00:00</td>\n",
       "      <td>3</td>\n",
       "      <td>NaN</td>\n",
       "      <td>14.0</td>\n",
       "      <td>NaN</td>\n",
       "      <td>9</td>\n",
       "      <td>NaN</td>\n",
       "      <td>False</td>\n",
       "      <td>False</td>\n",
       "      <td>NaN</td>\n",
       "      <td>0.0</td>\n",
       "      <td>Санкт-Петербург</td>\n",
       "      <td>28098.0</td>\n",
       "      <td>6800.0</td>\n",
       "      <td>2.0</td>\n",
       "      <td>84.0</td>\n",
       "      <td>3.0</td>\n",
       "      <td>234.0</td>\n",
       "      <td>424.0</td>\n",
       "    </tr>\n",
       "    <tr>\n",
       "      <th>4</th>\n",
       "      <td>2</td>\n",
       "      <td>10000000.0</td>\n",
       "      <td>100.0</td>\n",
       "      <td>2018-06-19T00:00:00</td>\n",
       "      <td>2</td>\n",
       "      <td>3.03</td>\n",
       "      <td>14.0</td>\n",
       "      <td>32.0</td>\n",
       "      <td>13</td>\n",
       "      <td>NaN</td>\n",
       "      <td>False</td>\n",
       "      <td>False</td>\n",
       "      <td>41.0</td>\n",
       "      <td>NaN</td>\n",
       "      <td>Санкт-Петербург</td>\n",
       "      <td>31856.0</td>\n",
       "      <td>8098.0</td>\n",
       "      <td>2.0</td>\n",
       "      <td>112.0</td>\n",
       "      <td>1.0</td>\n",
       "      <td>48.0</td>\n",
       "      <td>121.0</td>\n",
       "    </tr>\n",
       "  </tbody>\n",
       "</table>\n",
       "</div>"
      ],
      "text/plain": [
       "   total_images  last_price  total_area first_day_exposition  rooms  \\\n",
       "0            20  13000000.0       108.0  2019-03-07T00:00:00      3   \n",
       "1             7   3350000.0        40.4  2018-12-04T00:00:00      1   \n",
       "2            10   5196000.0        56.0  2015-08-20T00:00:00      2   \n",
       "3             0  64900000.0       159.0  2015-07-24T00:00:00      3   \n",
       "4             2  10000000.0       100.0  2018-06-19T00:00:00      2   \n",
       "\n",
       "   ceiling_height  floors_total  living_area  floor is_apartment  studio  \\\n",
       "0            2.70          16.0         51.0      8          NaN   False   \n",
       "1             NaN          11.0         18.6      1          NaN   False   \n",
       "2             NaN           5.0         34.3      4          NaN   False   \n",
       "3             NaN          14.0          NaN      9          NaN   False   \n",
       "4            3.03          14.0         32.0     13          NaN   False   \n",
       "\n",
       "   open_plan  kitchen_area  balcony    locality_name  airports_nearest  \\\n",
       "0      False          25.0      NaN  Санкт-Петербург           18863.0   \n",
       "1      False          11.0      2.0   посёлок Шушары           12817.0   \n",
       "2      False           8.3      0.0  Санкт-Петербург           21741.0   \n",
       "3      False           NaN      0.0  Санкт-Петербург           28098.0   \n",
       "4      False          41.0      NaN  Санкт-Петербург           31856.0   \n",
       "\n",
       "   cityCenters_nearest  parks_around3000  parks_nearest  ponds_around3000  \\\n",
       "0              16028.0               1.0          482.0               2.0   \n",
       "1              18603.0               0.0            NaN               0.0   \n",
       "2              13933.0               1.0           90.0               2.0   \n",
       "3               6800.0               2.0           84.0               3.0   \n",
       "4               8098.0               2.0          112.0               1.0   \n",
       "\n",
       "   ponds_nearest  days_exposition  \n",
       "0          755.0              NaN  \n",
       "1            NaN             81.0  \n",
       "2          574.0            558.0  \n",
       "3          234.0            424.0  \n",
       "4           48.0            121.0  "
      ]
     },
     "execution_count": 2,
     "metadata": {},
     "output_type": "execute_result"
    }
   ],
   "source": [
    "pd.set_option('display.max_columns', None)\n",
    "data.head()"
   ]
  },
  {
   "cell_type": "code",
   "execution_count": 3,
   "metadata": {},
   "outputs": [
    {
     "name": "stdout",
     "output_type": "stream",
     "text": [
      "<class 'pandas.core.frame.DataFrame'>\n",
      "RangeIndex: 23699 entries, 0 to 23698\n",
      "Data columns (total 22 columns):\n",
      " #   Column                Non-Null Count  Dtype  \n",
      "---  ------                --------------  -----  \n",
      " 0   total_images          23699 non-null  int64  \n",
      " 1   last_price            23699 non-null  float64\n",
      " 2   total_area            23699 non-null  float64\n",
      " 3   first_day_exposition  23699 non-null  object \n",
      " 4   rooms                 23699 non-null  int64  \n",
      " 5   ceiling_height        14504 non-null  float64\n",
      " 6   floors_total          23613 non-null  float64\n",
      " 7   living_area           21796 non-null  float64\n",
      " 8   floor                 23699 non-null  int64  \n",
      " 9   is_apartment          2775 non-null   object \n",
      " 10  studio                23699 non-null  bool   \n",
      " 11  open_plan             23699 non-null  bool   \n",
      " 12  kitchen_area          21421 non-null  float64\n",
      " 13  balcony               12180 non-null  float64\n",
      " 14  locality_name         23650 non-null  object \n",
      " 15  airports_nearest      18157 non-null  float64\n",
      " 16  cityCenters_nearest   18180 non-null  float64\n",
      " 17  parks_around3000      18181 non-null  float64\n",
      " 18  parks_nearest         8079 non-null   float64\n",
      " 19  ponds_around3000      18181 non-null  float64\n",
      " 20  ponds_nearest         9110 non-null   float64\n",
      " 21  days_exposition       20518 non-null  float64\n",
      "dtypes: bool(2), float64(14), int64(3), object(3)\n",
      "memory usage: 3.7+ MB\n"
     ]
    }
   ],
   "source": [
    "data.info()"
   ]
  },
  {
   "cell_type": "code",
   "execution_count": 4,
   "metadata": {},
   "outputs": [
    {
     "data": {
      "image/png": "[encoded data removed]",
      "text/plain": [
       "<Figure size 1080x1440 with 20 Axes>"
      ]
     },
     "metadata": {
      "needs_background": "light"
     },
     "output_type": "display_data"
    }
   ],
   "source": [
    "data.drop_duplicates()\n",
    "data.hist(figsize=(15, 20));"
   ]
  },
  {
   "cell_type": "markdown",
   "metadata": {},
   "source": [
    "**Вывод**"
   ]
  },
  {
   "cell_type": "markdown",
   "metadata": {},
   "source": [
    "В датасете 23699 поля и 22 колонки. В 2/3 части данных обнаружены пропуски, которые предстоит обработать. По получившимся гистограмамм можно обнаружить наличие редких и аномальных значений"
   ]
  },
  {
   "cell_type": "markdown",
   "metadata": {
    "id": "-O5NtivEAwb9"
   },
   "source": [
    "### Предобработка данных"
   ]
  },
  {
   "cell_type": "markdown",
   "metadata": {
    "id": "7v3vAeTuAwb-"
   },
   "source": [
    "#### Удаление пропусков"
   ]
  },
  {
   "cell_type": "code",
   "execution_count": 5,
   "metadata": {},
   "outputs": [
    {
     "data": {
      "text/plain": [
       "total_images                0\n",
       "last_price                  0\n",
       "total_area                  0\n",
       "first_day_exposition        0\n",
       "rooms                       0\n",
       "ceiling_height           9195\n",
       "floors_total               86\n",
       "living_area              1903\n",
       "floor                       0\n",
       "is_apartment            20924\n",
       "studio                      0\n",
       "open_plan                   0\n",
       "kitchen_area             2278\n",
       "balcony                 11519\n",
       "locality_name              49\n",
       "airports_nearest         5542\n",
       "cityCenters_nearest      5519\n",
       "parks_around3000         5518\n",
       "parks_nearest           15620\n",
       "ponds_around3000         5518\n",
       "ponds_nearest           14589\n",
       "days_exposition          3181\n",
       "dtype: int64"
      ]
     },
     "execution_count": 5,
     "metadata": {},
     "output_type": "execute_result"
    }
   ],
   "source": [
    "data.isna().sum()"
   ]
  },
  {
   "cell_type": "markdown",
   "metadata": {},
   "source": [
    "Рассмотрим столбец \"ceiling_height\", содержащий в себе информацию о высоте потолков. Данная характеристика помещения фактически является независимой, поэтому пропуски в столбце заполним медианным значением   "
   ]
  },
  {
   "cell_type": "code",
   "execution_count": 6,
   "metadata": {},
   "outputs": [],
   "source": [
    "data['ceiling_height'] = data['ceiling_height'].fillna(data['ceiling_height'].median())"
   ]
  },
  {
   "cell_type": "markdown",
   "metadata": {},
   "source": [
    "Значения столбца \"floors_total\" непосредственно связаны со значениями \"floor\", а, точнее, номер этажа не может превосходить общее число этажей в доме, соостветсвенно, производить заполнение медианным значением нецелесообразно. Заметим, что в \"floors_total\" насчитывается 86 пропусков, что составляет всего лишь 0.36% от общего объема данных столбца, это доля незначительна, следовательно, можно оставить столбец без измененийи не заполнять пропуски, дабы не усугубить ситуацию "
   ]
  },
  {
   "cell_type": "markdown",
   "metadata": {},
   "source": [
    "В \"living_area\" обнаружено 1903 пропуска. Выдвинем и проверим следующую гипотезу:\n",
    "- жилая площадь зависит от числа комнат и общей площади.\n",
    "\n",
    "Если гипотеза подтвердится, рассчитаем медианные значения жилой площади в зависимости от числа комнат и заполним получившимися числами пропуски в столбце, характеризующем жилую площадь"
   ]
  },
  {
   "cell_type": "code",
   "execution_count": 7,
   "metadata": {},
   "outputs": [
    {
     "data": {
      "text/plain": [
       "total_images           0.104780\n",
       "last_price             0.566492\n",
       "total_area             0.939537\n",
       "rooms                  0.845977\n",
       "ceiling_height         0.078623\n",
       "floors_total          -0.169311\n",
       "living_area            1.000000\n",
       "floor                 -0.097210\n",
       "studio                -0.056231\n",
       "open_plan             -0.033711\n",
       "kitchen_area           0.428674\n",
       "balcony                0.018849\n",
       "airports_nearest      -0.057912\n",
       "cityCenters_nearest   -0.231368\n",
       "parks_around3000       0.184453\n",
       "parks_nearest         -0.050167\n",
       "ponds_around3000       0.148933\n",
       "ponds_nearest         -0.081674\n",
       "days_exposition        0.142454\n",
       "Name: living_area, dtype: float64"
      ]
     },
     "execution_count": 7,
     "metadata": {},
     "output_type": "execute_result"
    }
   ],
   "source": [
    "data.corr()['living_area']"
   ]
  },
  {
   "cell_type": "code",
   "execution_count": 8,
   "metadata": {},
   "outputs": [],
   "source": [
    "#Функция, рассчитывающая медианные значения в зависимости от передаваемых параметров для обработки пропусков\n",
    "def replacing_median(column, index):\n",
    "    try:\n",
    "        median_data = data.pivot_table(index=index, values=column, aggfunc='median')\n",
    "        new_column = data[column].fillna(data[index].map(median_data[column]))\n",
    "        return new_column\n",
    "    except:\n",
    "        pass"
   ]
  },
  {
   "cell_type": "markdown",
   "metadata": {},
   "source": [
    "Да, действительно, жилая площадь зависит от общей площади и числа комнат. Построим таблицу, в которой определим медианное значение жилой площади в зависимости от количества комнат"
   ]
  },
  {
   "cell_type": "code",
   "execution_count": 9,
   "metadata": {},
   "outputs": [],
   "source": [
    "data['living_area'] = replacing_median('living_area', 'rooms')"
   ]
  },
  {
   "cell_type": "markdown",
   "metadata": {},
   "source": [
    "Жилая площадь не должна превосходить общую площадь. Найдем и исправим такие ситуации"
   ]
  },
  {
   "cell_type": "code",
   "execution_count": 10,
   "metadata": {},
   "outputs": [],
   "source": [
    "data.loc[data['living_area'] > data['total_area'], 'living_area'] = float('nan')"
   ]
  },
  {
   "cell_type": "code",
   "execution_count": 11,
   "metadata": {},
   "outputs": [
    {
     "data": {
      "text/plain": [
       "29"
      ]
     },
     "execution_count": 11,
     "metadata": {},
     "output_type": "execute_result"
    }
   ],
   "source": [
    "data['living_area'].isna().sum()"
   ]
  },
  {
   "cell_type": "markdown",
   "metadata": {},
   "source": [
    "Число пропущенных значений сократилось с 1903 до 29. 29 - это 0,12% от общего объема данных, представленных в столбце"
   ]
  },
  {
   "cell_type": "markdown",
   "metadata": {},
   "source": [
    "В столбце \"is_apartment\" 20924 пропуска. Данные являются катгориальными, поэтому можно сказать, что наличие пропусков означает, что данное помещение не является апартаментами"
   ]
  },
  {
   "cell_type": "code",
   "execution_count": 12,
   "metadata": {},
   "outputs": [
    {
     "data": {
      "text/plain": [
       "array([nan, False, True], dtype=object)"
      ]
     },
     "execution_count": 12,
     "metadata": {},
     "output_type": "execute_result"
    }
   ],
   "source": [
    "data['is_apartment'].unique()"
   ]
  },
  {
   "cell_type": "markdown",
   "metadata": {},
   "source": [
    "Заменим \"NaN\" на False:"
   ]
  },
  {
   "cell_type": "code",
   "execution_count": 13,
   "metadata": {},
   "outputs": [],
   "source": [
    "data['is_apartment'] = data['is_apartment'].fillna(False)"
   ]
  },
  {
   "cell_type": "markdown",
   "metadata": {},
   "source": [
    "В столбце \"kitchen_area\" выявлено 2278 пропусков. Проведем исследование их природы"
   ]
  },
  {
   "cell_type": "markdown",
   "metadata": {},
   "source": [
    "Поскольку в наших данных присутствуют квартиры-студии, обратим внимание на них и исследуем их особенности"
   ]
  },
  {
   "cell_type": "code",
   "execution_count": 14,
   "metadata": {},
   "outputs": [
    {
     "data": {
      "text/html": [
       "<div>\n",
       "<style scoped>\n",
       "    .dataframe tbody tr th:only-of-type {\n",
       "        vertical-align: middle;\n",
       "    }\n",
       "\n",
       "    .dataframe tbody tr th {\n",
       "        vertical-align: top;\n",
       "    }\n",
       "\n",
       "    .dataframe thead th {\n",
       "        text-align: right;\n",
       "    }\n",
       "</style>\n",
       "<table border=\"1\" class=\"dataframe\">\n",
       "  <thead>\n",
       "    <tr style=\"text-align: right;\">\n",
       "      <th></th>\n",
       "      <th>total_images</th>\n",
       "      <th>last_price</th>\n",
       "      <th>total_area</th>\n",
       "      <th>first_day_exposition</th>\n",
       "      <th>rooms</th>\n",
       "      <th>ceiling_height</th>\n",
       "      <th>floors_total</th>\n",
       "      <th>living_area</th>\n",
       "      <th>floor</th>\n",
       "      <th>is_apartment</th>\n",
       "      <th>studio</th>\n",
       "      <th>open_plan</th>\n",
       "      <th>kitchen_area</th>\n",
       "      <th>balcony</th>\n",
       "      <th>locality_name</th>\n",
       "      <th>airports_nearest</th>\n",
       "      <th>cityCenters_nearest</th>\n",
       "      <th>parks_around3000</th>\n",
       "      <th>parks_nearest</th>\n",
       "      <th>ponds_around3000</th>\n",
       "      <th>ponds_nearest</th>\n",
       "      <th>days_exposition</th>\n",
       "    </tr>\n",
       "  </thead>\n",
       "  <tbody>\n",
       "    <tr>\n",
       "      <th>144</th>\n",
       "      <td>1</td>\n",
       "      <td>2450000.0</td>\n",
       "      <td>27.00</td>\n",
       "      <td>2017-03-30T00:00:00</td>\n",
       "      <td>0</td>\n",
       "      <td>2.65</td>\n",
       "      <td>24.0</td>\n",
       "      <td>15.50</td>\n",
       "      <td>2</td>\n",
       "      <td>False</td>\n",
       "      <td>True</td>\n",
       "      <td>False</td>\n",
       "      <td>NaN</td>\n",
       "      <td>2.0</td>\n",
       "      <td>посёлок Мурино</td>\n",
       "      <td>NaN</td>\n",
       "      <td>NaN</td>\n",
       "      <td>NaN</td>\n",
       "      <td>NaN</td>\n",
       "      <td>NaN</td>\n",
       "      <td>NaN</td>\n",
       "      <td>181.0</td>\n",
       "    </tr>\n",
       "    <tr>\n",
       "      <th>440</th>\n",
       "      <td>8</td>\n",
       "      <td>2480000.0</td>\n",
       "      <td>27.11</td>\n",
       "      <td>2018-03-12T00:00:00</td>\n",
       "      <td>0</td>\n",
       "      <td>2.65</td>\n",
       "      <td>17.0</td>\n",
       "      <td>24.75</td>\n",
       "      <td>4</td>\n",
       "      <td>False</td>\n",
       "      <td>True</td>\n",
       "      <td>False</td>\n",
       "      <td>NaN</td>\n",
       "      <td>2.0</td>\n",
       "      <td>Санкт-Петербург</td>\n",
       "      <td>38171.0</td>\n",
       "      <td>15015.0</td>\n",
       "      <td>0.0</td>\n",
       "      <td>NaN</td>\n",
       "      <td>2.0</td>\n",
       "      <td>982.0</td>\n",
       "      <td>64.0</td>\n",
       "    </tr>\n",
       "    <tr>\n",
       "      <th>608</th>\n",
       "      <td>2</td>\n",
       "      <td>1850000.0</td>\n",
       "      <td>25.00</td>\n",
       "      <td>2019-02-20T00:00:00</td>\n",
       "      <td>0</td>\n",
       "      <td>2.65</td>\n",
       "      <td>10.0</td>\n",
       "      <td>18.00</td>\n",
       "      <td>7</td>\n",
       "      <td>False</td>\n",
       "      <td>True</td>\n",
       "      <td>False</td>\n",
       "      <td>NaN</td>\n",
       "      <td>NaN</td>\n",
       "      <td>посёлок Шушары</td>\n",
       "      <td>NaN</td>\n",
       "      <td>NaN</td>\n",
       "      <td>NaN</td>\n",
       "      <td>NaN</td>\n",
       "      <td>NaN</td>\n",
       "      <td>NaN</td>\n",
       "      <td>29.0</td>\n",
       "    </tr>\n",
       "    <tr>\n",
       "      <th>697</th>\n",
       "      <td>12</td>\n",
       "      <td>2500000.0</td>\n",
       "      <td>24.10</td>\n",
       "      <td>2017-12-01T00:00:00</td>\n",
       "      <td>0</td>\n",
       "      <td>2.75</td>\n",
       "      <td>25.0</td>\n",
       "      <td>17.50</td>\n",
       "      <td>21</td>\n",
       "      <td>False</td>\n",
       "      <td>True</td>\n",
       "      <td>False</td>\n",
       "      <td>NaN</td>\n",
       "      <td>NaN</td>\n",
       "      <td>деревня Кудрово</td>\n",
       "      <td>NaN</td>\n",
       "      <td>NaN</td>\n",
       "      <td>NaN</td>\n",
       "      <td>NaN</td>\n",
       "      <td>NaN</td>\n",
       "      <td>NaN</td>\n",
       "      <td>201.0</td>\n",
       "    </tr>\n",
       "    <tr>\n",
       "      <th>716</th>\n",
       "      <td>5</td>\n",
       "      <td>1500000.0</td>\n",
       "      <td>17.00</td>\n",
       "      <td>2017-06-07T00:00:00</td>\n",
       "      <td>0</td>\n",
       "      <td>2.70</td>\n",
       "      <td>9.0</td>\n",
       "      <td>12.00</td>\n",
       "      <td>1</td>\n",
       "      <td>False</td>\n",
       "      <td>True</td>\n",
       "      <td>False</td>\n",
       "      <td>NaN</td>\n",
       "      <td>0.0</td>\n",
       "      <td>посёлок Шушары</td>\n",
       "      <td>18654.0</td>\n",
       "      <td>29846.0</td>\n",
       "      <td>0.0</td>\n",
       "      <td>NaN</td>\n",
       "      <td>0.0</td>\n",
       "      <td>NaN</td>\n",
       "      <td>40.0</td>\n",
       "    </tr>\n",
       "    <tr>\n",
       "      <th>1173</th>\n",
       "      <td>12</td>\n",
       "      <td>3240000.0</td>\n",
       "      <td>29.00</td>\n",
       "      <td>2018-10-30T00:00:00</td>\n",
       "      <td>0</td>\n",
       "      <td>2.65</td>\n",
       "      <td>24.0</td>\n",
       "      <td>17.00</td>\n",
       "      <td>2</td>\n",
       "      <td>False</td>\n",
       "      <td>True</td>\n",
       "      <td>False</td>\n",
       "      <td>NaN</td>\n",
       "      <td>2.0</td>\n",
       "      <td>Санкт-Петербург</td>\n",
       "      <td>35129.0</td>\n",
       "      <td>16293.0</td>\n",
       "      <td>0.0</td>\n",
       "      <td>NaN</td>\n",
       "      <td>1.0</td>\n",
       "      <td>475.0</td>\n",
       "      <td>13.0</td>\n",
       "    </tr>\n",
       "    <tr>\n",
       "      <th>1174</th>\n",
       "      <td>3</td>\n",
       "      <td>3900000.0</td>\n",
       "      <td>32.00</td>\n",
       "      <td>2016-10-18T00:00:00</td>\n",
       "      <td>0</td>\n",
       "      <td>2.70</td>\n",
       "      <td>24.0</td>\n",
       "      <td>18.00</td>\n",
       "      <td>2</td>\n",
       "      <td>False</td>\n",
       "      <td>True</td>\n",
       "      <td>False</td>\n",
       "      <td>NaN</td>\n",
       "      <td>2.0</td>\n",
       "      <td>Санкт-Петербург</td>\n",
       "      <td>44754.0</td>\n",
       "      <td>8409.0</td>\n",
       "      <td>1.0</td>\n",
       "      <td>609.0</td>\n",
       "      <td>0.0</td>\n",
       "      <td>NaN</td>\n",
       "      <td>540.0</td>\n",
       "    </tr>\n",
       "    <tr>\n",
       "      <th>1220</th>\n",
       "      <td>5</td>\n",
       "      <td>3300000.0</td>\n",
       "      <td>27.00</td>\n",
       "      <td>2017-11-10T00:00:00</td>\n",
       "      <td>0</td>\n",
       "      <td>2.80</td>\n",
       "      <td>17.0</td>\n",
       "      <td>20.00</td>\n",
       "      <td>16</td>\n",
       "      <td>False</td>\n",
       "      <td>True</td>\n",
       "      <td>False</td>\n",
       "      <td>NaN</td>\n",
       "      <td>NaN</td>\n",
       "      <td>Санкт-Петербург</td>\n",
       "      <td>12507.0</td>\n",
       "      <td>12419.0</td>\n",
       "      <td>0.0</td>\n",
       "      <td>NaN</td>\n",
       "      <td>1.0</td>\n",
       "      <td>528.0</td>\n",
       "      <td>113.0</td>\n",
       "    </tr>\n",
       "    <tr>\n",
       "      <th>1260</th>\n",
       "      <td>0</td>\n",
       "      <td>2600000.0</td>\n",
       "      <td>27.00</td>\n",
       "      <td>2018-07-20T00:00:00</td>\n",
       "      <td>0</td>\n",
       "      <td>2.70</td>\n",
       "      <td>16.0</td>\n",
       "      <td>16.00</td>\n",
       "      <td>4</td>\n",
       "      <td>False</td>\n",
       "      <td>True</td>\n",
       "      <td>False</td>\n",
       "      <td>NaN</td>\n",
       "      <td>2.0</td>\n",
       "      <td>Кудрово</td>\n",
       "      <td>NaN</td>\n",
       "      <td>NaN</td>\n",
       "      <td>NaN</td>\n",
       "      <td>NaN</td>\n",
       "      <td>NaN</td>\n",
       "      <td>NaN</td>\n",
       "      <td>102.0</td>\n",
       "    </tr>\n",
       "    <tr>\n",
       "      <th>1277</th>\n",
       "      <td>10</td>\n",
       "      <td>3150000.0</td>\n",
       "      <td>26.00</td>\n",
       "      <td>2017-07-14T00:00:00</td>\n",
       "      <td>0</td>\n",
       "      <td>2.75</td>\n",
       "      <td>21.0</td>\n",
       "      <td>17.38</td>\n",
       "      <td>11</td>\n",
       "      <td>False</td>\n",
       "      <td>True</td>\n",
       "      <td>False</td>\n",
       "      <td>NaN</td>\n",
       "      <td>NaN</td>\n",
       "      <td>Санкт-Петербург</td>\n",
       "      <td>48847.0</td>\n",
       "      <td>16685.0</td>\n",
       "      <td>0.0</td>\n",
       "      <td>NaN</td>\n",
       "      <td>0.0</td>\n",
       "      <td>NaN</td>\n",
       "      <td>622.0</td>\n",
       "    </tr>\n",
       "  </tbody>\n",
       "</table>\n",
       "</div>"
      ],
      "text/plain": [
       "      total_images  last_price  total_area first_day_exposition  rooms  \\\n",
       "144              1   2450000.0       27.00  2017-03-30T00:00:00      0   \n",
       "440              8   2480000.0       27.11  2018-03-12T00:00:00      0   \n",
       "608              2   1850000.0       25.00  2019-02-20T00:00:00      0   \n",
       "697             12   2500000.0       24.10  2017-12-01T00:00:00      0   \n",
       "716              5   1500000.0       17.00  2017-06-07T00:00:00      0   \n",
       "1173            12   3240000.0       29.00  2018-10-30T00:00:00      0   \n",
       "1174             3   3900000.0       32.00  2016-10-18T00:00:00      0   \n",
       "1220             5   3300000.0       27.00  2017-11-10T00:00:00      0   \n",
       "1260             0   2600000.0       27.00  2018-07-20T00:00:00      0   \n",
       "1277            10   3150000.0       26.00  2017-07-14T00:00:00      0   \n",
       "\n",
       "      ceiling_height  floors_total  living_area  floor  is_apartment  studio  \\\n",
       "144             2.65          24.0        15.50      2         False    True   \n",
       "440             2.65          17.0        24.75      4         False    True   \n",
       "608             2.65          10.0        18.00      7         False    True   \n",
       "697             2.75          25.0        17.50     21         False    True   \n",
       "716             2.70           9.0        12.00      1         False    True   \n",
       "1173            2.65          24.0        17.00      2         False    True   \n",
       "1174            2.70          24.0        18.00      2         False    True   \n",
       "1220            2.80          17.0        20.00     16         False    True   \n",
       "1260            2.70          16.0        16.00      4         False    True   \n",
       "1277            2.75          21.0        17.38     11         False    True   \n",
       "\n",
       "      open_plan  kitchen_area  balcony    locality_name  airports_nearest  \\\n",
       "144       False           NaN      2.0   посёлок Мурино               NaN   \n",
       "440       False           NaN      2.0  Санкт-Петербург           38171.0   \n",
       "608       False           NaN      NaN   посёлок Шушары               NaN   \n",
       "697       False           NaN      NaN  деревня Кудрово               NaN   \n",
       "716       False           NaN      0.0   посёлок Шушары           18654.0   \n",
       "1173      False           NaN      2.0  Санкт-Петербург           35129.0   \n",
       "1174      False           NaN      2.0  Санкт-Петербург           44754.0   \n",
       "1220      False           NaN      NaN  Санкт-Петербург           12507.0   \n",
       "1260      False           NaN      2.0          Кудрово               NaN   \n",
       "1277      False           NaN      NaN  Санкт-Петербург           48847.0   \n",
       "\n",
       "      cityCenters_nearest  parks_around3000  parks_nearest  ponds_around3000  \\\n",
       "144                   NaN               NaN            NaN               NaN   \n",
       "440               15015.0               0.0            NaN               2.0   \n",
       "608                   NaN               NaN            NaN               NaN   \n",
       "697                   NaN               NaN            NaN               NaN   \n",
       "716               29846.0               0.0            NaN               0.0   \n",
       "1173              16293.0               0.0            NaN               1.0   \n",
       "1174               8409.0               1.0          609.0               0.0   \n",
       "1220              12419.0               0.0            NaN               1.0   \n",
       "1260                  NaN               NaN            NaN               NaN   \n",
       "1277              16685.0               0.0            NaN               0.0   \n",
       "\n",
       "      ponds_nearest  days_exposition  \n",
       "144             NaN            181.0  \n",
       "440           982.0             64.0  \n",
       "608             NaN             29.0  \n",
       "697             NaN            201.0  \n",
       "716             NaN             40.0  \n",
       "1173          475.0             13.0  \n",
       "1174            NaN            540.0  \n",
       "1220          528.0            113.0  \n",
       "1260            NaN            102.0  \n",
       "1277            NaN            622.0  "
      ]
     },
     "execution_count": 14,
     "metadata": {},
     "output_type": "execute_result"
    }
   ],
   "source": [
    "data[data['studio'] == True].head(10)"
   ]
  },
  {
   "cell_type": "markdown",
   "metadata": {},
   "source": [
    "Число комнат в квартирах студиях равняется нулю, следовательно, кухня не считается комнатой. Для таких случаев будет справедливо, если мы заменим пропуски нулями."
   ]
  },
  {
   "cell_type": "code",
   "execution_count": 15,
   "metadata": {},
   "outputs": [],
   "source": [
    "data.loc[(data['kitchen_area'].isna()) & (data['studio']), 'kitchen_area'] = 0"
   ]
  },
  {
   "cell_type": "markdown",
   "metadata": {},
   "source": [
    "В остальных случаях рассчитаем медианные значения площади кухни в зависимости от числа комнат. Важно учитывать, что кухня не является жилым помещением, следовательно, замену будем осуществлять только для полей, удовлетворяющих условию: \n",
    "- площадь кухни < общая площадь - жилая площадь"
   ]
  },
  {
   "cell_type": "code",
   "execution_count": 16,
   "metadata": {},
   "outputs": [],
   "source": [
    "data['kitchen_area'] = replacing_median('kitchen_area', 'rooms')"
   ]
  },
  {
   "cell_type": "code",
   "execution_count": 17,
   "metadata": {},
   "outputs": [],
   "source": [
    "data.loc[data['total_area'] - data['living_area'] < data['kitchen_area'], 'kitchen_area'] = float('nan')"
   ]
  },
  {
   "cell_type": "markdown",
   "metadata": {},
   "source": [
    "Столбец \"balcony\" характеризует наличие балкона(ов) в квартире. Пропуски в данных могут быть связаны с отсутсвием балконов в квартире. Пусть 0 означает отсуствие балконов для данного столбца"
   ]
  },
  {
   "cell_type": "code",
   "execution_count": 18,
   "metadata": {},
   "outputs": [],
   "source": [
    "data['balcony'] = data['balcony'].fillna(0) "
   ]
  },
  {
   "cell_type": "markdown",
   "metadata": {},
   "source": [
    "В \"locality_name\" обнаружено всего лишь 49 пропусков "
   ]
  },
  {
   "cell_type": "code",
   "execution_count": 19,
   "metadata": {},
   "outputs": [],
   "source": [
    "data['locality_name'] = data['locality_name'].fillna('Другое')"
   ]
  },
  {
   "cell_type": "markdown",
   "metadata": {},
   "source": [
    "parks_around3000 и ponds_around3000 - столбцы, характеризующие число парков и водоемов в радиусе 3000м соответственно (c одинаковым количеством пропусков). Пропуски в данных столбцах означают отсутсвие парков и водоемов, поэтому заполним их нулями."
   ]
  },
  {
   "cell_type": "code",
   "execution_count": 20,
   "metadata": {},
   "outputs": [],
   "source": [
    "data['parks_around3000'] = data['parks_around3000'].fillna(0)\n",
    "data['ponds_around3000'] = data['ponds_around3000'].fillna(0)"
   ]
  },
  {
   "cell_type": "markdown",
   "metadata": {},
   "source": [
    "Пропуски в days_exposition могли появиться по следующим причинам: объявление о продаже снято в день публикации, поэтому между датой размещения и датой завершения продажи прошло 0 дней или на момент выгрузки данных объявления могли быть активными, поэтому число дней осталось незафиксированным. Пропуски в данном случае заполнять не будем"
   ]
  },
  {
   "cell_type": "markdown",
   "metadata": {},
   "source": [
    "#### Для корректного заполнения пропусков необходимо избавиться от дубликатов"
   ]
  },
  {
   "cell_type": "code",
   "execution_count": 21,
   "metadata": {},
   "outputs": [
    {
     "data": {
      "text/plain": [
       "365"
      ]
     },
     "execution_count": 21,
     "metadata": {},
     "output_type": "execute_result"
    }
   ],
   "source": [
    "data['locality_name'].nunique()"
   ]
  },
  {
   "cell_type": "markdown",
   "metadata": {},
   "source": [
    "Проведем предварительную подготовку данных"
   ]
  },
  {
   "cell_type": "code",
   "execution_count": 22,
   "metadata": {},
   "outputs": [],
   "source": [
    "data['locality_name'] = data['locality_name'].str.lower()\n",
    "data['locality_name'] = data['locality_name'].str.replace('ё', 'е')\n",
    "data['locality_name'] = data['locality_name'].str.strip()\n",
    "data['locality_name'] = data['locality_name'].str.replace('  ', ' ', regex=False)"
   ]
  },
  {
   "cell_type": "code",
   "execution_count": 23,
   "metadata": {},
   "outputs": [
    {
     "data": {
      "text/plain": [
       "['бокситогорск',\n",
       " 'волосово',\n",
       " 'волхов',\n",
       " 'всеволожск',\n",
       " 'выборг',\n",
       " 'высоцк',\n",
       " 'гатчина',\n",
       " 'городской поселок большая ижора',\n",
       " 'городской поселок будогощь',\n",
       " 'городской поселок виллози',\n",
       " 'городской поселок лесогорский',\n",
       " 'городской поселок мга',\n",
       " 'городской поселок назия',\n",
       " 'городской поселок новоселье',\n",
       " 'городской поселок павлово',\n",
       " 'городской поселок рощино',\n",
       " 'городской поселок свирьстрой',\n",
       " 'городской поселок советский',\n",
       " 'городской поселок федоровское',\n",
       " 'городской поселок янино-1',\n",
       " 'деревня агалатово',\n",
       " 'деревня аро',\n",
       " 'деревня батово',\n",
       " 'деревня бегуницы',\n",
       " 'деревня белогорка',\n",
       " 'деревня большая вруда',\n",
       " 'деревня большая пустомержа',\n",
       " 'деревня большие колпаны',\n",
       " 'деревня большое рейзино',\n",
       " 'деревня большой сабск',\n",
       " 'деревня бор',\n",
       " 'деревня борисова грива',\n",
       " 'деревня ваганово',\n",
       " 'деревня вартемяги',\n",
       " 'деревня вахнова кара',\n",
       " 'деревня выскатка',\n",
       " 'деревня гарболово',\n",
       " 'деревня глинка',\n",
       " 'деревня горбунки',\n",
       " 'деревня гостилицы',\n",
       " 'деревня заклинье',\n",
       " 'деревня заневка',\n",
       " 'деревня зимитицы',\n",
       " 'деревня извара',\n",
       " 'деревня иссад',\n",
       " 'деревня калитино',\n",
       " 'деревня кальтино',\n",
       " 'деревня камышовка',\n",
       " 'деревня каськово',\n",
       " 'деревня келози',\n",
       " 'деревня кипень',\n",
       " 'деревня кисельня',\n",
       " 'деревня колтуши',\n",
       " 'деревня коркино',\n",
       " 'деревня котлы',\n",
       " 'деревня кривко',\n",
       " 'деревня кудрово',\n",
       " 'деревня кузьмолово',\n",
       " 'деревня курковицы',\n",
       " 'деревня куровицы',\n",
       " 'деревня куттузи',\n",
       " 'деревня лаврики',\n",
       " 'деревня лаголово',\n",
       " 'деревня лампово',\n",
       " 'деревня лесколово',\n",
       " 'деревня лопухинка',\n",
       " 'деревня лупполово',\n",
       " 'деревня малая романовка',\n",
       " 'деревня малое верево',\n",
       " 'деревня малое карлино',\n",
       " 'деревня малые колпаны',\n",
       " 'деревня мануйлово',\n",
       " 'деревня меньково',\n",
       " 'деревня мины',\n",
       " 'деревня мистолово',\n",
       " 'деревня ненимяки',\n",
       " 'деревня нижние осельки',\n",
       " 'деревня нижняя',\n",
       " 'деревня низино',\n",
       " 'деревня новое девяткино',\n",
       " 'деревня новолисино',\n",
       " 'деревня нурма',\n",
       " 'деревня оржицы',\n",
       " 'деревня парицы',\n",
       " 'деревня пельгора',\n",
       " 'деревня пеники',\n",
       " 'деревня пижма',\n",
       " 'деревня пикколово',\n",
       " 'деревня пудомяги',\n",
       " 'деревня пустынка',\n",
       " 'деревня пчева',\n",
       " 'деревня рабитицы',\n",
       " 'деревня разбегаево',\n",
       " 'деревня раздолье',\n",
       " 'деревня разметелево',\n",
       " 'деревня рапполово',\n",
       " 'деревня реброво',\n",
       " 'деревня русско',\n",
       " 'деревня сижно',\n",
       " 'деревня снегиревка',\n",
       " 'деревня старая',\n",
       " 'деревня старая пустошь',\n",
       " 'деревня старое хинколово',\n",
       " 'деревня старополье',\n",
       " 'деревня старосиверская',\n",
       " 'деревня старые бегуницы',\n",
       " 'деревня суоранда',\n",
       " 'деревня сяськелево',\n",
       " 'деревня тарасово',\n",
       " 'деревня терпилицы',\n",
       " 'деревня тихковицы',\n",
       " 'деревня тойворово',\n",
       " 'деревня торосово',\n",
       " 'деревня торошковичи',\n",
       " 'деревня трубников бор',\n",
       " 'деревня фалилеево',\n",
       " 'деревня федоровское',\n",
       " 'деревня хапо-ое',\n",
       " 'деревня хязельки',\n",
       " 'деревня чудской бор',\n",
       " 'деревня шпаньково',\n",
       " 'деревня щеглово',\n",
       " 'деревня юкки',\n",
       " 'деревня ялгино',\n",
       " 'деревня яльгелево',\n",
       " 'деревня ям-тесово',\n",
       " 'другое',\n",
       " 'зеленогорск',\n",
       " 'ивангород',\n",
       " 'каменногорск',\n",
       " 'кингисепп',\n",
       " 'кириши',\n",
       " 'кировск',\n",
       " 'колпино',\n",
       " 'коммунар',\n",
       " 'коттеджный поселок кивеннапа север',\n",
       " 'коттеджный поселок лесное',\n",
       " 'коттеджный поселок счастье',\n",
       " 'красное село',\n",
       " 'кронштадт',\n",
       " 'кудрово',\n",
       " 'лодейное поле',\n",
       " 'ломоносов',\n",
       " 'луга',\n",
       " 'любань',\n",
       " 'мурино',\n",
       " 'никольское',\n",
       " 'новая ладога',\n",
       " 'отрадное',\n",
       " 'павловск',\n",
       " 'петергоф',\n",
       " 'пикалево',\n",
       " 'подпорожье',\n",
       " 'поселок александровская',\n",
       " 'поселок алексеевка',\n",
       " 'поселок аннино',\n",
       " 'поселок барышево',\n",
       " 'поселок белоостров',\n",
       " 'поселок бугры',\n",
       " 'поселок возрождение',\n",
       " 'поселок войсковицы',\n",
       " 'поселок войскорово',\n",
       " 'поселок володарское',\n",
       " 'поселок высокоключевой',\n",
       " 'поселок гаврилово',\n",
       " 'поселок гарболово',\n",
       " 'поселок гладкое',\n",
       " 'поселок глажево',\n",
       " 'поселок глебычево',\n",
       " 'поселок гончарово',\n",
       " 'поселок городского типа большая ижора',\n",
       " 'поселок городского типа важины',\n",
       " 'поселок городского типа вознесенье',\n",
       " 'поселок городского типа вырица',\n",
       " 'поселок городского типа дружная горка',\n",
       " 'поселок городского типа дубровка',\n",
       " 'поселок городского типа ефимовский',\n",
       " 'поселок городского типа имени морозова',\n",
       " 'поселок городского типа имени свердлова',\n",
       " 'поселок городского типа кондратьево',\n",
       " 'поселок городского типа красный бор',\n",
       " 'поселок городского типа кузнечное',\n",
       " 'поселок городского типа кузьмоловский',\n",
       " 'поселок городского типа лебяжье',\n",
       " 'поселок городского типа лесогорский',\n",
       " 'поселок городского типа мга',\n",
       " 'поселок городского типа назия',\n",
       " 'поселок городского типа никольский',\n",
       " 'поселок городского типа павлово',\n",
       " 'поселок городского типа приладожский',\n",
       " 'поселок городского типа рахья',\n",
       " 'поселок городского типа рощино',\n",
       " 'поселок городского типа рябово',\n",
       " 'поселок городского типа сиверский',\n",
       " 'поселок городского типа синявино',\n",
       " 'поселок городского типа советский',\n",
       " 'поселок городского типа тайцы',\n",
       " 'поселок городского типа токсово',\n",
       " 'поселок городского типа ульяновка',\n",
       " 'поселок городского типа форносово',\n",
       " 'поселок громово',\n",
       " 'поселок дзержинского',\n",
       " 'поселок дружноселье',\n",
       " 'поселок елизаветино',\n",
       " 'поселок жилгородок',\n",
       " 'поселок жилпоселок',\n",
       " 'поселок житково',\n",
       " 'поселок заводской',\n",
       " 'поселок запорожское',\n",
       " 'поселок зимитицы',\n",
       " 'поселок ильичево',\n",
       " 'поселок калитино',\n",
       " 'поселок каложицы',\n",
       " 'поселок кикерино',\n",
       " 'поселок кингисеппский',\n",
       " 'поселок кирпичное',\n",
       " 'поселок кобралово',\n",
       " 'поселок кобринское',\n",
       " 'поселок коммунары',\n",
       " 'поселок коробицыно',\n",
       " 'поселок котельский',\n",
       " 'поселок красная долина',\n",
       " 'поселок красносельское',\n",
       " 'поселок левашово',\n",
       " 'поселок ленинское',\n",
       " 'поселок лесное',\n",
       " 'поселок лисий нос',\n",
       " 'поселок лукаши',\n",
       " 'поселок любань',\n",
       " 'поселок мельниково',\n",
       " 'поселок металлострой',\n",
       " 'поселок мичуринское',\n",
       " 'поселок молодежное',\n",
       " 'поселок молодцово',\n",
       " 'поселок мурино',\n",
       " 'поселок мыза-ивановка',\n",
       " 'поселок новогорелово',\n",
       " 'поселок новый свет',\n",
       " 'поселок новый учхоз',\n",
       " 'поселок оредеж',\n",
       " 'поселок пансионат зеленый бор',\n",
       " 'поселок парголово',\n",
       " 'поселок первомайское',\n",
       " 'поселок перово',\n",
       " 'поселок песочный',\n",
       " 'поселок петро-славянка',\n",
       " 'поселок петровское',\n",
       " 'поселок платформа 69-й километр',\n",
       " 'поселок плодовое',\n",
       " 'поселок плоское',\n",
       " 'поселок победа',\n",
       " 'поселок поляны',\n",
       " 'поселок понтонный',\n",
       " 'поселок почап',\n",
       " 'поселок починок',\n",
       " 'поселок при железнодорожной станции вещево',\n",
       " 'поселок при железнодорожной станции приветнинское',\n",
       " 'поселок пригородный',\n",
       " 'поселок пудость',\n",
       " 'поселок пушное',\n",
       " 'поселок пчевжа',\n",
       " 'поселок рабитицы',\n",
       " 'поселок репино',\n",
       " 'поселок романовка',\n",
       " 'поселок ромашки',\n",
       " 'поселок ропша',\n",
       " 'поселок рябово',\n",
       " 'поселок саперное',\n",
       " 'поселок саперный',\n",
       " 'поселок севастьяново',\n",
       " 'поселок селезнево',\n",
       " 'поселок сельцо',\n",
       " 'поселок семиозерье',\n",
       " 'поселок семрино',\n",
       " 'поселок серебрянский',\n",
       " 'поселок совхозный',\n",
       " 'поселок сосново',\n",
       " 'поселок станции вещево',\n",
       " 'поселок станции громово',\n",
       " 'поселок станции корнево',\n",
       " 'поселок станции лужайка',\n",
       " 'поселок станции приветнинское',\n",
       " 'поселок станции свирь',\n",
       " 'поселок старая малукса',\n",
       " 'поселок стеклянный',\n",
       " 'поселок стрельна',\n",
       " 'поселок суйда',\n",
       " 'поселок сумино',\n",
       " 'поселок суходолье',\n",
       " 'поселок тельмана',\n",
       " 'поселок терволово',\n",
       " 'поселок тесово-4',\n",
       " 'поселок торковичи',\n",
       " 'поселок торфяное',\n",
       " 'поселок углово',\n",
       " 'поселок усть-ижора',\n",
       " 'поселок усть-луга',\n",
       " 'поселок ушаки',\n",
       " 'поселок форт красная горка',\n",
       " 'поселок цвелодубово',\n",
       " 'поселок цвылево',\n",
       " 'поселок шугозеро',\n",
       " 'поселок шушары',\n",
       " 'поселок щеглово',\n",
       " 'приморск',\n",
       " 'приозерск',\n",
       " 'пушкин',\n",
       " 'садоводческое некоммерческое товарищество лесная поляна',\n",
       " 'садовое товарищество новая ропша',\n",
       " 'садовое товарищество приладожский',\n",
       " 'садовое товарищество рахья',\n",
       " 'садовое товарищество садко',\n",
       " 'санкт-петербург',\n",
       " 'светогорск',\n",
       " 'село копорье',\n",
       " 'село никольское',\n",
       " 'село павлово',\n",
       " 'село паша',\n",
       " 'село путилово',\n",
       " 'село рождествено',\n",
       " 'село русско-высоцкое',\n",
       " 'село старая ладога',\n",
       " 'село шум',\n",
       " 'сертолово',\n",
       " 'сестрорецк',\n",
       " 'сланцы',\n",
       " 'сосновый бор',\n",
       " 'сясьстрой',\n",
       " 'тихвин',\n",
       " 'тосно',\n",
       " 'шлиссельбург']"
      ]
     },
     "execution_count": 23,
     "metadata": {},
     "output_type": "execute_result"
    }
   ],
   "source": [
    "sorted(data['locality_name'].unique())"
   ]
  },
  {
   "cell_type": "markdown",
   "metadata": {},
   "source": [
    "Удалим все вхождения слов, не несущих смысловой нагрузки"
   ]
  },
  {
   "cell_type": "code",
   "execution_count": 24,
   "metadata": {},
   "outputs": [],
   "source": [
    "strings_to_remove = ['городской', 'городского типа', 'коттеджный', 'садоводческое некоммерческое', 'садовое',] \n",
    "\n",
    "data['locality_name'] = data['locality_name'].replace('|'.join(strings_to_remove), '', regex=True).str.strip()\n",
    "data['locality_name'] = data['locality_name'].str.strip().str.replace('  ', ' ')"
   ]
  },
  {
   "cell_type": "code",
   "execution_count": 25,
   "metadata": {},
   "outputs": [
    {
     "data": {
      "text/plain": [
       "['бокситогорск',\n",
       " 'волосово',\n",
       " 'волхов',\n",
       " 'всеволожск',\n",
       " 'выборг',\n",
       " 'высоцк',\n",
       " 'гатчина',\n",
       " 'деревня агалатово',\n",
       " 'деревня аро',\n",
       " 'деревня батово',\n",
       " 'деревня бегуницы',\n",
       " 'деревня белогорка',\n",
       " 'деревня большая вруда',\n",
       " 'деревня большая пустомержа',\n",
       " 'деревня большие колпаны',\n",
       " 'деревня большое рейзино',\n",
       " 'деревня большой сабск',\n",
       " 'деревня бор',\n",
       " 'деревня борисова грива',\n",
       " 'деревня ваганово',\n",
       " 'деревня вартемяги',\n",
       " 'деревня вахнова кара',\n",
       " 'деревня выскатка',\n",
       " 'деревня гарболово',\n",
       " 'деревня глинка',\n",
       " 'деревня горбунки',\n",
       " 'деревня гостилицы',\n",
       " 'деревня заклинье',\n",
       " 'деревня заневка',\n",
       " 'деревня зимитицы',\n",
       " 'деревня извара',\n",
       " 'деревня иссад',\n",
       " 'деревня калитино',\n",
       " 'деревня кальтино',\n",
       " 'деревня камышовка',\n",
       " 'деревня каськово',\n",
       " 'деревня келози',\n",
       " 'деревня кипень',\n",
       " 'деревня кисельня',\n",
       " 'деревня колтуши',\n",
       " 'деревня коркино',\n",
       " 'деревня котлы',\n",
       " 'деревня кривко',\n",
       " 'деревня кудрово',\n",
       " 'деревня кузьмолово',\n",
       " 'деревня курковицы',\n",
       " 'деревня куровицы',\n",
       " 'деревня куттузи',\n",
       " 'деревня лаврики',\n",
       " 'деревня лаголово',\n",
       " 'деревня лампово',\n",
       " 'деревня лесколово',\n",
       " 'деревня лопухинка',\n",
       " 'деревня лупполово',\n",
       " 'деревня малая романовка',\n",
       " 'деревня малое верево',\n",
       " 'деревня малое карлино',\n",
       " 'деревня малые колпаны',\n",
       " 'деревня мануйлово',\n",
       " 'деревня меньково',\n",
       " 'деревня мины',\n",
       " 'деревня мистолово',\n",
       " 'деревня ненимяки',\n",
       " 'деревня нижние осельки',\n",
       " 'деревня нижняя',\n",
       " 'деревня низино',\n",
       " 'деревня новое девяткино',\n",
       " 'деревня новолисино',\n",
       " 'деревня нурма',\n",
       " 'деревня оржицы',\n",
       " 'деревня парицы',\n",
       " 'деревня пельгора',\n",
       " 'деревня пеники',\n",
       " 'деревня пижма',\n",
       " 'деревня пикколово',\n",
       " 'деревня пудомяги',\n",
       " 'деревня пустынка',\n",
       " 'деревня пчева',\n",
       " 'деревня рабитицы',\n",
       " 'деревня разбегаево',\n",
       " 'деревня раздолье',\n",
       " 'деревня разметелево',\n",
       " 'деревня рапполово',\n",
       " 'деревня реброво',\n",
       " 'деревня русско',\n",
       " 'деревня сижно',\n",
       " 'деревня снегиревка',\n",
       " 'деревня старая',\n",
       " 'деревня старая пустошь',\n",
       " 'деревня старое хинколово',\n",
       " 'деревня старополье',\n",
       " 'деревня старосиверская',\n",
       " 'деревня старые бегуницы',\n",
       " 'деревня суоранда',\n",
       " 'деревня сяськелево',\n",
       " 'деревня тарасово',\n",
       " 'деревня терпилицы',\n",
       " 'деревня тихковицы',\n",
       " 'деревня тойворово',\n",
       " 'деревня торосово',\n",
       " 'деревня торошковичи',\n",
       " 'деревня трубников бор',\n",
       " 'деревня фалилеево',\n",
       " 'деревня федоровское',\n",
       " 'деревня хапо-ое',\n",
       " 'деревня хязельки',\n",
       " 'деревня чудской бор',\n",
       " 'деревня шпаньково',\n",
       " 'деревня щеглово',\n",
       " 'деревня юкки',\n",
       " 'деревня ялгино',\n",
       " 'деревня яльгелево',\n",
       " 'деревня ям-тесово',\n",
       " 'другое',\n",
       " 'зеленогорск',\n",
       " 'ивангород',\n",
       " 'каменногорск',\n",
       " 'кингисепп',\n",
       " 'кириши',\n",
       " 'кировск',\n",
       " 'колпино',\n",
       " 'коммунар',\n",
       " 'красное село',\n",
       " 'кронштадт',\n",
       " 'кудрово',\n",
       " 'лодейное поле',\n",
       " 'ломоносов',\n",
       " 'луга',\n",
       " 'любань',\n",
       " 'мурино',\n",
       " 'никольское',\n",
       " 'новая ладога',\n",
       " 'отрадное',\n",
       " 'павловск',\n",
       " 'петергоф',\n",
       " 'пикалево',\n",
       " 'подпорожье',\n",
       " 'поселок александровская',\n",
       " 'поселок алексеевка',\n",
       " 'поселок аннино',\n",
       " 'поселок барышево',\n",
       " 'поселок белоостров',\n",
       " 'поселок большая ижора',\n",
       " 'поселок бугры',\n",
       " 'поселок будогощь',\n",
       " 'поселок важины',\n",
       " 'поселок виллози',\n",
       " 'поселок вознесенье',\n",
       " 'поселок возрождение',\n",
       " 'поселок войсковицы',\n",
       " 'поселок войскорово',\n",
       " 'поселок володарское',\n",
       " 'поселок вырица',\n",
       " 'поселок высокоключевой',\n",
       " 'поселок гаврилово',\n",
       " 'поселок гарболово',\n",
       " 'поселок гладкое',\n",
       " 'поселок глажево',\n",
       " 'поселок глебычево',\n",
       " 'поселок гончарово',\n",
       " 'поселок громово',\n",
       " 'поселок дзержинского',\n",
       " 'поселок дружная горка',\n",
       " 'поселок дружноселье',\n",
       " 'поселок дубровка',\n",
       " 'поселок елизаветино',\n",
       " 'поселок ефимовский',\n",
       " 'поселок жилгородок',\n",
       " 'поселок жилпоселок',\n",
       " 'поселок житково',\n",
       " 'поселок заводской',\n",
       " 'поселок запорожское',\n",
       " 'поселок зимитицы',\n",
       " 'поселок ильичево',\n",
       " 'поселок имени морозова',\n",
       " 'поселок имени свердлова',\n",
       " 'поселок калитино',\n",
       " 'поселок каложицы',\n",
       " 'поселок кивеннапа север',\n",
       " 'поселок кикерино',\n",
       " 'поселок кингисеппский',\n",
       " 'поселок кирпичное',\n",
       " 'поселок кобралово',\n",
       " 'поселок кобринское',\n",
       " 'поселок коммунары',\n",
       " 'поселок кондратьево',\n",
       " 'поселок коробицыно',\n",
       " 'поселок котельский',\n",
       " 'поселок красная долина',\n",
       " 'поселок красносельское',\n",
       " 'поселок красный бор',\n",
       " 'поселок кузнечное',\n",
       " 'поселок кузьмоловский',\n",
       " 'поселок лебяжье',\n",
       " 'поселок левашово',\n",
       " 'поселок ленинское',\n",
       " 'поселок лесное',\n",
       " 'поселок лесогорский',\n",
       " 'поселок лисий нос',\n",
       " 'поселок лукаши',\n",
       " 'поселок любань',\n",
       " 'поселок мга',\n",
       " 'поселок мельниково',\n",
       " 'поселок металлострой',\n",
       " 'поселок мичуринское',\n",
       " 'поселок молодежное',\n",
       " 'поселок молодцово',\n",
       " 'поселок мурино',\n",
       " 'поселок мыза-ивановка',\n",
       " 'поселок назия',\n",
       " 'поселок никольский',\n",
       " 'поселок новогорелово',\n",
       " 'поселок новоселье',\n",
       " 'поселок новый свет',\n",
       " 'поселок новый учхоз',\n",
       " 'поселок оредеж',\n",
       " 'поселок павлово',\n",
       " 'поселок пансионат зеленый бор',\n",
       " 'поселок парголово',\n",
       " 'поселок первомайское',\n",
       " 'поселок перово',\n",
       " 'поселок песочный',\n",
       " 'поселок петро-славянка',\n",
       " 'поселок петровское',\n",
       " 'поселок платформа 69-й километр',\n",
       " 'поселок плодовое',\n",
       " 'поселок плоское',\n",
       " 'поселок победа',\n",
       " 'поселок поляны',\n",
       " 'поселок понтонный',\n",
       " 'поселок почап',\n",
       " 'поселок починок',\n",
       " 'поселок при железнодорожной станции вещево',\n",
       " 'поселок при железнодорожной станции приветнинское',\n",
       " 'поселок пригородный',\n",
       " 'поселок приладожский',\n",
       " 'поселок пудость',\n",
       " 'поселок пушное',\n",
       " 'поселок пчевжа',\n",
       " 'поселок рабитицы',\n",
       " 'поселок рахья',\n",
       " 'поселок репино',\n",
       " 'поселок романовка',\n",
       " 'поселок ромашки',\n",
       " 'поселок ропша',\n",
       " 'поселок рощино',\n",
       " 'поселок рябово',\n",
       " 'поселок саперное',\n",
       " 'поселок саперный',\n",
       " 'поселок свирьстрой',\n",
       " 'поселок севастьяново',\n",
       " 'поселок селезнево',\n",
       " 'поселок сельцо',\n",
       " 'поселок семиозерье',\n",
       " 'поселок семрино',\n",
       " 'поселок серебрянский',\n",
       " 'поселок сиверский',\n",
       " 'поселок синявино',\n",
       " 'поселок советский',\n",
       " 'поселок совхозный',\n",
       " 'поселок сосново',\n",
       " 'поселок станции вещево',\n",
       " 'поселок станции громово',\n",
       " 'поселок станции корнево',\n",
       " 'поселок станции лужайка',\n",
       " 'поселок станции приветнинское',\n",
       " 'поселок станции свирь',\n",
       " 'поселок старая малукса',\n",
       " 'поселок стеклянный',\n",
       " 'поселок стрельна',\n",
       " 'поселок суйда',\n",
       " 'поселок сумино',\n",
       " 'поселок суходолье',\n",
       " 'поселок счастье',\n",
       " 'поселок тайцы',\n",
       " 'поселок тельмана',\n",
       " 'поселок терволово',\n",
       " 'поселок тесово-4',\n",
       " 'поселок токсово',\n",
       " 'поселок торковичи',\n",
       " 'поселок торфяное',\n",
       " 'поселок углово',\n",
       " 'поселок ульяновка',\n",
       " 'поселок усть-ижора',\n",
       " 'поселок усть-луга',\n",
       " 'поселок ушаки',\n",
       " 'поселок федоровское',\n",
       " 'поселок форносово',\n",
       " 'поселок форт красная горка',\n",
       " 'поселок цвелодубово',\n",
       " 'поселок цвылево',\n",
       " 'поселок шугозеро',\n",
       " 'поселок шушары',\n",
       " 'поселок щеглово',\n",
       " 'поселок янино-1',\n",
       " 'приморск',\n",
       " 'приозерск',\n",
       " 'пушкин',\n",
       " 'санкт-петербург',\n",
       " 'светогорск',\n",
       " 'село копорье',\n",
       " 'село никольское',\n",
       " 'село павлово',\n",
       " 'село паша',\n",
       " 'село путилово',\n",
       " 'село рождествено',\n",
       " 'село русско-высоцкое',\n",
       " 'село старая ладога',\n",
       " 'село шум',\n",
       " 'сертолово',\n",
       " 'сестрорецк',\n",
       " 'сланцы',\n",
       " 'сосновый бор',\n",
       " 'сясьстрой',\n",
       " 'тихвин',\n",
       " 'товарищество лесная поляна',\n",
       " 'товарищество новая ропша',\n",
       " 'товарищество приладожский',\n",
       " 'товарищество рахья',\n",
       " 'товарищество садко',\n",
       " 'тосно',\n",
       " 'шлиссельбург']"
      ]
     },
     "execution_count": 25,
     "metadata": {},
     "output_type": "execute_result"
    }
   ],
   "source": [
    "sorted(data['locality_name'].unique())"
   ]
  },
  {
   "cell_type": "code",
   "execution_count": 26,
   "metadata": {},
   "outputs": [
    {
     "data": {
      "text/plain": [
       "322"
      ]
     },
     "execution_count": 26,
     "metadata": {},
     "output_type": "execute_result"
    }
   ],
   "source": [
    "data['locality_name'].nunique()"
   ]
  },
  {
   "cell_type": "markdown",
   "metadata": {},
   "source": [
    "**Вывод**"
   ]
  },
  {
   "cell_type": "markdown",
   "metadata": {},
   "source": [
    "В результате обработки неявных дубликатов удалось сократить число исследуемых населенных пунктов с 365 до 322, то есть в изначальном списке насчитывалось 43 дубликата"
   ]
  },
  {
   "cell_type": "markdown",
   "metadata": {},
   "source": [
    "#### Вернемся к заполнению пропусков"
   ]
  },
  {
   "cell_type": "markdown",
   "metadata": {},
   "source": [
    "Рассмотрим группу столбцов, характеризующую расстояние от квартиры до того или иного объекта инфраструктуры:\n",
    "* airports_nearest         \n",
    "* cityCenters_nearest      \n",
    "* parks_nearest        \n",
    "* ponds_nearest          \n"
   ]
  },
  {
   "cell_type": "markdown",
   "metadata": {},
   "source": [
    "Замена в стошлбцах parks_nearest, ponds_nearest не производится, так как получится следующее искажение данных:\n",
    "медианное значение для населенного пункта может не превосходить 3000м, тогда, если значение в столбцах ponds_around3000 и parks_around3000 равно 0, получается несоответствие. Значения в parks_nearest и ponds_nearest должны превосходить 3000м и одновремнно с этим в around3000 должны быть нули"
   ]
  },
  {
   "cell_type": "markdown",
   "metadata": {},
   "source": [
    "Картографические данные не восстановить с достаточной точностью, поэтому оставим их без изменений"
   ]
  },
  {
   "cell_type": "markdown",
   "metadata": {},
   "source": [
    "**Вывод**"
   ]
  },
  {
   "cell_type": "markdown",
   "metadata": {},
   "source": [
    "В результате обработки пропусков полностью удалось избавиться от пропусков в столбцах с категориальными значениями и столбцах, в которых можно однозначно определить медианное значение параметра. Часть пропусков не удалось обработать по следующим причинам:\n",
    "1. Отсуствие возможности подобрать значение, наиболее верно отражающее истинный смысл NaN и не нарушающее целостности типа данных столбца\n",
    "2. Влияние на параметры, зависящие от исследуемого столбца, порождающее несоответсвие между данными"
   ]
  },
  {
   "cell_type": "markdown",
   "metadata": {},
   "source": [
    "#### Типы данных в каждом столбце"
   ]
  },
  {
   "cell_type": "code",
   "execution_count": 27,
   "metadata": {},
   "outputs": [
    {
     "data": {
      "text/plain": [
       "total_images              int64\n",
       "last_price              float64\n",
       "total_area              float64\n",
       "first_day_exposition     object\n",
       "rooms                     int64\n",
       "ceiling_height          float64\n",
       "floors_total            float64\n",
       "living_area             float64\n",
       "floor                     int64\n",
       "is_apartment               bool\n",
       "studio                     bool\n",
       "open_plan                  bool\n",
       "kitchen_area            float64\n",
       "balcony                 float64\n",
       "locality_name            object\n",
       "airports_nearest        float64\n",
       "cityCenters_nearest     float64\n",
       "parks_around3000        float64\n",
       "parks_nearest           float64\n",
       "ponds_around3000        float64\n",
       "ponds_nearest           float64\n",
       "days_exposition         float64\n",
       "dtype: object"
      ]
     },
     "execution_count": 27,
     "metadata": {},
     "output_type": "execute_result"
    }
   ],
   "source": [
    "data.dtypes"
   ]
  },
  {
   "cell_type": "code",
   "execution_count": 28,
   "metadata": {},
   "outputs": [
    {
     "data": {
      "text/html": [
       "<div>\n",
       "<style scoped>\n",
       "    .dataframe tbody tr th:only-of-type {\n",
       "        vertical-align: middle;\n",
       "    }\n",
       "\n",
       "    .dataframe tbody tr th {\n",
       "        vertical-align: top;\n",
       "    }\n",
       "\n",
       "    .dataframe thead th {\n",
       "        text-align: right;\n",
       "    }\n",
       "</style>\n",
       "<table border=\"1\" class=\"dataframe\">\n",
       "  <thead>\n",
       "    <tr style=\"text-align: right;\">\n",
       "      <th></th>\n",
       "      <th>total_images</th>\n",
       "      <th>last_price</th>\n",
       "      <th>total_area</th>\n",
       "      <th>first_day_exposition</th>\n",
       "      <th>rooms</th>\n",
       "      <th>ceiling_height</th>\n",
       "      <th>floors_total</th>\n",
       "      <th>living_area</th>\n",
       "      <th>floor</th>\n",
       "      <th>is_apartment</th>\n",
       "      <th>studio</th>\n",
       "      <th>open_plan</th>\n",
       "      <th>kitchen_area</th>\n",
       "      <th>balcony</th>\n",
       "      <th>locality_name</th>\n",
       "      <th>airports_nearest</th>\n",
       "      <th>cityCenters_nearest</th>\n",
       "      <th>parks_around3000</th>\n",
       "      <th>parks_nearest</th>\n",
       "      <th>ponds_around3000</th>\n",
       "      <th>ponds_nearest</th>\n",
       "      <th>days_exposition</th>\n",
       "    </tr>\n",
       "  </thead>\n",
       "  <tbody>\n",
       "    <tr>\n",
       "      <th>0</th>\n",
       "      <td>20</td>\n",
       "      <td>13000000.0</td>\n",
       "      <td>108.0</td>\n",
       "      <td>2019-03-07T00:00:00</td>\n",
       "      <td>3</td>\n",
       "      <td>2.70</td>\n",
       "      <td>16.0</td>\n",
       "      <td>51.0</td>\n",
       "      <td>8</td>\n",
       "      <td>False</td>\n",
       "      <td>False</td>\n",
       "      <td>False</td>\n",
       "      <td>25.0</td>\n",
       "      <td>0.0</td>\n",
       "      <td>санкт-петербург</td>\n",
       "      <td>18863.0</td>\n",
       "      <td>16028.0</td>\n",
       "      <td>1.0</td>\n",
       "      <td>482.0</td>\n",
       "      <td>2.0</td>\n",
       "      <td>755.0</td>\n",
       "      <td>NaN</td>\n",
       "    </tr>\n",
       "    <tr>\n",
       "      <th>1</th>\n",
       "      <td>7</td>\n",
       "      <td>3350000.0</td>\n",
       "      <td>40.4</td>\n",
       "      <td>2018-12-04T00:00:00</td>\n",
       "      <td>1</td>\n",
       "      <td>2.65</td>\n",
       "      <td>11.0</td>\n",
       "      <td>18.6</td>\n",
       "      <td>1</td>\n",
       "      <td>False</td>\n",
       "      <td>False</td>\n",
       "      <td>False</td>\n",
       "      <td>11.0</td>\n",
       "      <td>2.0</td>\n",
       "      <td>поселок шушары</td>\n",
       "      <td>12817.0</td>\n",
       "      <td>18603.0</td>\n",
       "      <td>0.0</td>\n",
       "      <td>NaN</td>\n",
       "      <td>0.0</td>\n",
       "      <td>NaN</td>\n",
       "      <td>81.0</td>\n",
       "    </tr>\n",
       "    <tr>\n",
       "      <th>2</th>\n",
       "      <td>10</td>\n",
       "      <td>5196000.0</td>\n",
       "      <td>56.0</td>\n",
       "      <td>2015-08-20T00:00:00</td>\n",
       "      <td>2</td>\n",
       "      <td>2.65</td>\n",
       "      <td>5.0</td>\n",
       "      <td>34.3</td>\n",
       "      <td>4</td>\n",
       "      <td>False</td>\n",
       "      <td>False</td>\n",
       "      <td>False</td>\n",
       "      <td>8.3</td>\n",
       "      <td>0.0</td>\n",
       "      <td>санкт-петербург</td>\n",
       "      <td>21741.0</td>\n",
       "      <td>13933.0</td>\n",
       "      <td>1.0</td>\n",
       "      <td>90.0</td>\n",
       "      <td>2.0</td>\n",
       "      <td>574.0</td>\n",
       "      <td>558.0</td>\n",
       "    </tr>\n",
       "    <tr>\n",
       "      <th>3</th>\n",
       "      <td>0</td>\n",
       "      <td>64900000.0</td>\n",
       "      <td>159.0</td>\n",
       "      <td>2015-07-24T00:00:00</td>\n",
       "      <td>3</td>\n",
       "      <td>2.65</td>\n",
       "      <td>14.0</td>\n",
       "      <td>45.0</td>\n",
       "      <td>9</td>\n",
       "      <td>False</td>\n",
       "      <td>False</td>\n",
       "      <td>False</td>\n",
       "      <td>9.5</td>\n",
       "      <td>0.0</td>\n",
       "      <td>санкт-петербург</td>\n",
       "      <td>28098.0</td>\n",
       "      <td>6800.0</td>\n",
       "      <td>2.0</td>\n",
       "      <td>84.0</td>\n",
       "      <td>3.0</td>\n",
       "      <td>234.0</td>\n",
       "      <td>424.0</td>\n",
       "    </tr>\n",
       "    <tr>\n",
       "      <th>4</th>\n",
       "      <td>2</td>\n",
       "      <td>10000000.0</td>\n",
       "      <td>100.0</td>\n",
       "      <td>2018-06-19T00:00:00</td>\n",
       "      <td>2</td>\n",
       "      <td>3.03</td>\n",
       "      <td>14.0</td>\n",
       "      <td>32.0</td>\n",
       "      <td>13</td>\n",
       "      <td>False</td>\n",
       "      <td>False</td>\n",
       "      <td>False</td>\n",
       "      <td>41.0</td>\n",
       "      <td>0.0</td>\n",
       "      <td>санкт-петербург</td>\n",
       "      <td>31856.0</td>\n",
       "      <td>8098.0</td>\n",
       "      <td>2.0</td>\n",
       "      <td>112.0</td>\n",
       "      <td>1.0</td>\n",
       "      <td>48.0</td>\n",
       "      <td>121.0</td>\n",
       "    </tr>\n",
       "  </tbody>\n",
       "</table>\n",
       "</div>"
      ],
      "text/plain": [
       "   total_images  last_price  total_area first_day_exposition  rooms  \\\n",
       "0            20  13000000.0       108.0  2019-03-07T00:00:00      3   \n",
       "1             7   3350000.0        40.4  2018-12-04T00:00:00      1   \n",
       "2            10   5196000.0        56.0  2015-08-20T00:00:00      2   \n",
       "3             0  64900000.0       159.0  2015-07-24T00:00:00      3   \n",
       "4             2  10000000.0       100.0  2018-06-19T00:00:00      2   \n",
       "\n",
       "   ceiling_height  floors_total  living_area  floor  is_apartment  studio  \\\n",
       "0            2.70          16.0         51.0      8         False   False   \n",
       "1            2.65          11.0         18.6      1         False   False   \n",
       "2            2.65           5.0         34.3      4         False   False   \n",
       "3            2.65          14.0         45.0      9         False   False   \n",
       "4            3.03          14.0         32.0     13         False   False   \n",
       "\n",
       "   open_plan  kitchen_area  balcony    locality_name  airports_nearest  \\\n",
       "0      False          25.0      0.0  санкт-петербург           18863.0   \n",
       "1      False          11.0      2.0   поселок шушары           12817.0   \n",
       "2      False           8.3      0.0  санкт-петербург           21741.0   \n",
       "3      False           9.5      0.0  санкт-петербург           28098.0   \n",
       "4      False          41.0      0.0  санкт-петербург           31856.0   \n",
       "\n",
       "   cityCenters_nearest  parks_around3000  parks_nearest  ponds_around3000  \\\n",
       "0              16028.0               1.0          482.0               2.0   \n",
       "1              18603.0               0.0            NaN               0.0   \n",
       "2              13933.0               1.0           90.0               2.0   \n",
       "3               6800.0               2.0           84.0               3.0   \n",
       "4               8098.0               2.0          112.0               1.0   \n",
       "\n",
       "   ponds_nearest  days_exposition  \n",
       "0          755.0              NaN  \n",
       "1            NaN             81.0  \n",
       "2          574.0            558.0  \n",
       "3          234.0            424.0  \n",
       "4           48.0            121.0  "
      ]
     },
     "execution_count": 28,
     "metadata": {},
     "output_type": "execute_result"
    }
   ],
   "source": [
    "data.head(5)"
   ]
  },
  {
   "cell_type": "markdown",
   "metadata": {},
   "source": [
    "* first_day_exposition - данные в этом столбце следует привести к типу Date для корректного отображения информации в датафрейме и возможности проведения дальнейшего исследования\n",
    "* floors_total, balcony, parks_around3000, ponds_around3000 - представляют целочисленные значения. Например, число этажей в доме не может быть представлено в виде дробного. Для смыслового соответсвия преобразуем float в int \n",
    "* столбцы с типом данных float64 заменим на float32 для экономии памяти"
   ]
  },
  {
   "cell_type": "code",
   "execution_count": 29,
   "metadata": {},
   "outputs": [],
   "source": [
    "data['first_day_exposition'] = pd.to_datetime(data['first_day_exposition'])"
   ]
  },
  {
   "cell_type": "markdown",
   "metadata": {},
   "source": [
    "floors_total привести к целочисленному не получится, так как в этих столбцах присутствует значение NaN"
   ]
  },
  {
   "cell_type": "code",
   "execution_count": 30,
   "metadata": {},
   "outputs": [],
   "source": [
    "convert_dic = {\n",
    "               'balcony': int, \n",
    "               'parks_around3000': int,\n",
    "               'ponds_around3000': int,  \n",
    "               'days_exposition': np.float32,\n",
    "               'last_price': np.float32,\n",
    "               'total_area': np.float32, \n",
    "               'ceiling_height': np.float32, \n",
    "               'floors_total': np.float32,\n",
    "               'living_area': np.float32,\n",
    "               'kitchen_area': np.float32, \n",
    "               'airports_nearest': np.float32, \n",
    "               'cityCenters_nearest': np.float32,\n",
    "               'parks_nearest': np.float32, \n",
    "               'ponds_nearest': np.float32\n",
    "              }\n",
    "\n",
    "data = data.astype(convert_dic)"
   ]
  },
  {
   "cell_type": "markdown",
   "metadata": {
    "id": "QCcvyY6YAwb-"
   },
   "source": [
    "### Расширение датафрейма"
   ]
  },
  {
   "cell_type": "markdown",
   "metadata": {
    "id": "Z8eJek3IAwb-"
   },
   "source": [
    "#### Цена одного квадратного метра"
   ]
  },
  {
   "cell_type": "code",
   "execution_count": 31,
   "metadata": {},
   "outputs": [],
   "source": [
    "data['price_metr'] = (data['last_price'] / data['total_area']).round(2)"
   ]
  },
  {
   "cell_type": "markdown",
   "metadata": {},
   "source": [
    "#### День недели публикации объявления"
   ]
  },
  {
   "cell_type": "code",
   "execution_count": 32,
   "metadata": {},
   "outputs": [],
   "source": [
    "data['day_of_pub'] = data['first_day_exposition'].dt.weekday"
   ]
  },
  {
   "cell_type": "markdown",
   "metadata": {},
   "source": [
    "#### Месяц публикации объявления"
   ]
  },
  {
   "cell_type": "code",
   "execution_count": 33,
   "metadata": {},
   "outputs": [],
   "source": [
    "data['month_of_pub'] =  data['first_day_exposition'].dt.month"
   ]
  },
  {
   "cell_type": "markdown",
   "metadata": {},
   "source": [
    "#### Год публикации объявления"
   ]
  },
  {
   "cell_type": "code",
   "execution_count": 34,
   "metadata": {},
   "outputs": [],
   "source": [
    "data['year_of_pub'] =  data['first_day_exposition'].dt.year"
   ]
  },
  {
   "cell_type": "markdown",
   "metadata": {},
   "source": [
    "#### Тип этажа квартиры"
   ]
  },
  {
   "cell_type": "code",
   "execution_count": 35,
   "metadata": {},
   "outputs": [],
   "source": [
    "def categorize_floor(floor, floors_total):\n",
    "    try:\n",
    "        if floor == 1:\n",
    "            return 'первый'\n",
    "        if floor == floors_total:\n",
    "            return 'последний'\n",
    "        else:\n",
    "            return 'другой'\n",
    "    except:\n",
    "        pass"
   ]
  },
  {
   "cell_type": "code",
   "execution_count": 36,
   "metadata": {},
   "outputs": [],
   "source": [
    "data['categorize_floor'] = (data[~data['floors_total'].isna()]\n",
    "                            .apply(lambda row: categorize_floor(row['floor'], row['floors_total']), axis=1)\n",
    "                           )"
   ]
  },
  {
   "cell_type": "markdown",
   "metadata": {},
   "source": [
    "Обработаем вручную случаи, длякоторых значение floors_total неизвестны"
   ]
  },
  {
   "cell_type": "code",
   "execution_count": 37,
   "metadata": {},
   "outputs": [],
   "source": [
    "data.loc[(data['floors_total'].isna()) & (data['floor'] == 1), 'categorize_floor'] = 'первый'\n",
    "data.loc[(data['floors_total'].isna()) & (data['floor'] != 1), 'categorize_floor'] = 'другой'"
   ]
  },
  {
   "cell_type": "markdown",
   "metadata": {},
   "source": [
    "#### Расстояние до центра города в километрах"
   ]
  },
  {
   "cell_type": "code",
   "execution_count": 38,
   "metadata": {},
   "outputs": [],
   "source": [
    "data['cityCenters_km'] = np.where(data['cityCenters_nearest'].isna(), np.nan, (data['cityCenters_nearest'] / 1000).round(2))"
   ]
  },
  {
   "cell_type": "markdown",
   "metadata": {
    "id": "pPyxrKWTAwb-"
   },
   "source": [
    "### Исследовательский анализ данных"
   ]
  },
  {
   "cell_type": "markdown",
   "metadata": {
    "id": "V2f0D3kLAwb-"
   },
   "source": [
    "#### Обработка аномальных значений"
   ]
  },
  {
   "cell_type": "markdown",
   "metadata": {},
   "source": [
    "В рамках этого раздела проведем исследование следующих параметров:\n",
    "* общая площадь - total_area\n",
    "* жилая площадь - living_area\n",
    "* площадь кухни - kitchen_area\n",
    "* цена объекта - last_price\n",
    "* количество комнат - rooms\n",
    "* высота потолков - ceiling_height\n",
    "* тип этажа квартиры - categorize_floor\n",
    "* общее количество этажей в доме - floors_total\n",
    "* расстояние до центра города в метрах - cityCenters_nearest\n",
    "* расстояние до ближайшего парка - parks_nearest"
   ]
  },
  {
   "cell_type": "code",
   "execution_count": 39,
   "metadata": {},
   "outputs": [
    {
     "data": {
      "text/plain": [
       "array([[<AxesSubplot:title={'center':'total_area'}>,\n",
       "        <AxesSubplot:title={'center':'living_area'}>,\n",
       "        <AxesSubplot:title={'center':'kitchen_area'}>],\n",
       "       [<AxesSubplot:title={'center':'last_price'}>,\n",
       "        <AxesSubplot:title={'center':'rooms'}>,\n",
       "        <AxesSubplot:title={'center':'ceiling_height'}>],\n",
       "       [<AxesSubplot:title={'center':'floors_total'}>,\n",
       "        <AxesSubplot:title={'center':'cityCenters_nearest'}>,\n",
       "        <AxesSubplot:title={'center':'parks_nearest'}>]], dtype=object)"
      ]
     },
     "execution_count": 39,
     "metadata": {},
     "output_type": "execute_result"
    },
    {
     "data": {
      "image/png": "[encoded data removed]",
      "text/plain": [
       "<Figure size 720x864 with 9 Axes>"
      ]
     },
     "metadata": {
      "needs_background": "light"
     },
     "output_type": "display_data"
    }
   ],
   "source": [
    "columns = ['total_area', 'living_area', 'kitchen_area', 'last_price', 'rooms', 'ceiling_height',\n",
    "           'floors_total', 'cityCenters_nearest', 'parks_nearest']\n",
    "data[columns].hist(figsize=(10, 12), bins=25)"
   ]
  },
  {
   "cell_type": "markdown",
   "metadata": {},
   "source": [
    "Реже всего встречается общая площадь от 210 до 400 метров квадратных, а наиболее редкий метраж у жилой площади составляет 160 - 210 метров квадратных, удалим эти значения из датасета"
   ]
  },
  {
   "cell_type": "code",
   "execution_count": 40,
   "metadata": {},
   "outputs": [],
   "source": [
    "data = data[data['total_area'] < 210]\n",
    "data = data[data['living_area'] < 160]"
   ]
  },
  {
   "cell_type": "markdown",
   "metadata": {},
   "source": [
    "Площадь кухни в большинстве случаев не превышает 36 метров квадратных"
   ]
  },
  {
   "cell_type": "code",
   "execution_count": 41,
   "metadata": {},
   "outputs": [],
   "source": [
    "data = data[data['kitchen_area'] < 30]"
   ]
  },
  {
   "cell_type": "markdown",
   "metadata": {},
   "source": [
    "В редких случаях цена объекта может быть ниже 100 000 рублей"
   ]
  },
  {
   "cell_type": "code",
   "execution_count": 42,
   "metadata": {},
   "outputs": [],
   "source": [
    "data = data[data['last_price'] > 100000]"
   ]
  },
  {
   "cell_type": "markdown",
   "metadata": {},
   "source": [
    "В среднем в квартире насчитывается от 1-й до 3-х комнат, квартиры, число комнат в которых больше 5, скорее, являются исключением из правил"
   ]
  },
  {
   "cell_type": "code",
   "execution_count": 43,
   "metadata": {},
   "outputs": [],
   "source": [
    "data = data[data['rooms'] < 6]"
   ]
  },
  {
   "cell_type": "markdown",
   "metadata": {},
   "source": [
    "Отдельно рассмотрим высоту потолков"
   ]
  },
  {
   "cell_type": "code",
   "execution_count": 44,
   "metadata": {},
   "outputs": [
    {
     "data": {
      "text/plain": [
       "count    22809.000000\n",
       "mean         2.714992\n",
       "std          0.976748\n",
       "min          1.000000\n",
       "25%          2.600000\n",
       "50%          2.650000\n",
       "75%          2.700000\n",
       "max        100.000000\n",
       "Name: ceiling_height, dtype: float64"
      ]
     },
     "execution_count": 44,
     "metadata": {},
     "output_type": "execute_result"
    }
   ],
   "source": [
    "data['ceiling_height'].describe()"
   ]
  },
  {
   "cell_type": "code",
   "execution_count": 45,
   "metadata": {},
   "outputs": [
    {
     "data": {
      "text/html": [
       "<div>\n",
       "<style scoped>\n",
       "    .dataframe tbody tr th:only-of-type {\n",
       "        vertical-align: middle;\n",
       "    }\n",
       "\n",
       "    .dataframe tbody tr th {\n",
       "        vertical-align: top;\n",
       "    }\n",
       "\n",
       "    .dataframe thead th {\n",
       "        text-align: right;\n",
       "    }\n",
       "</style>\n",
       "<table border=\"1\" class=\"dataframe\">\n",
       "  <thead>\n",
       "    <tr style=\"text-align: right;\">\n",
       "      <th></th>\n",
       "      <th>total_images</th>\n",
       "      <th>last_price</th>\n",
       "      <th>total_area</th>\n",
       "      <th>first_day_exposition</th>\n",
       "      <th>rooms</th>\n",
       "      <th>ceiling_height</th>\n",
       "      <th>floors_total</th>\n",
       "      <th>living_area</th>\n",
       "      <th>floor</th>\n",
       "      <th>is_apartment</th>\n",
       "      <th>studio</th>\n",
       "      <th>open_plan</th>\n",
       "      <th>kitchen_area</th>\n",
       "      <th>balcony</th>\n",
       "      <th>locality_name</th>\n",
       "      <th>airports_nearest</th>\n",
       "      <th>cityCenters_nearest</th>\n",
       "      <th>parks_around3000</th>\n",
       "      <th>parks_nearest</th>\n",
       "      <th>ponds_around3000</th>\n",
       "      <th>ponds_nearest</th>\n",
       "      <th>days_exposition</th>\n",
       "      <th>price_metr</th>\n",
       "      <th>day_of_pub</th>\n",
       "      <th>month_of_pub</th>\n",
       "      <th>year_of_pub</th>\n",
       "      <th>categorize_floor</th>\n",
       "      <th>cityCenters_km</th>\n",
       "    </tr>\n",
       "  </thead>\n",
       "  <tbody>\n",
       "    <tr>\n",
       "      <th>22869</th>\n",
       "      <td>0</td>\n",
       "      <td>15000000.0</td>\n",
       "      <td>25.000000</td>\n",
       "      <td>2018-07-25</td>\n",
       "      <td>1</td>\n",
       "      <td>100.0</td>\n",
       "      <td>5.0</td>\n",
       "      <td>14.0</td>\n",
       "      <td>5</td>\n",
       "      <td>True</td>\n",
       "      <td>False</td>\n",
       "      <td>False</td>\n",
       "      <td>11.0</td>\n",
       "      <td>5</td>\n",
       "      <td>санкт-петербург</td>\n",
       "      <td>34963.0</td>\n",
       "      <td>8283.0</td>\n",
       "      <td>1</td>\n",
       "      <td>223.0</td>\n",
       "      <td>3</td>\n",
       "      <td>30.0</td>\n",
       "      <td>19.0</td>\n",
       "      <td>600000.000000</td>\n",
       "      <td>2</td>\n",
       "      <td>7</td>\n",
       "      <td>2018</td>\n",
       "      <td>последний</td>\n",
       "      <td>8.28</td>\n",
       "    </tr>\n",
       "    <tr>\n",
       "      <th>22336</th>\n",
       "      <td>19</td>\n",
       "      <td>9999000.0</td>\n",
       "      <td>92.400002</td>\n",
       "      <td>2019-04-05</td>\n",
       "      <td>2</td>\n",
       "      <td>32.0</td>\n",
       "      <td>6.0</td>\n",
       "      <td>55.5</td>\n",
       "      <td>5</td>\n",
       "      <td>False</td>\n",
       "      <td>False</td>\n",
       "      <td>False</td>\n",
       "      <td>16.5</td>\n",
       "      <td>4</td>\n",
       "      <td>санкт-петербург</td>\n",
       "      <td>18838.0</td>\n",
       "      <td>3506.0</td>\n",
       "      <td>0</td>\n",
       "      <td>NaN</td>\n",
       "      <td>3</td>\n",
       "      <td>511.0</td>\n",
       "      <td>NaN</td>\n",
       "      <td>108214.281250</td>\n",
       "      <td>4</td>\n",
       "      <td>4</td>\n",
       "      <td>2019</td>\n",
       "      <td>другой</td>\n",
       "      <td>3.51</td>\n",
       "    </tr>\n",
       "    <tr>\n",
       "      <th>3148</th>\n",
       "      <td>14</td>\n",
       "      <td>2900000.0</td>\n",
       "      <td>75.000000</td>\n",
       "      <td>2018-11-12</td>\n",
       "      <td>3</td>\n",
       "      <td>32.0</td>\n",
       "      <td>3.0</td>\n",
       "      <td>53.0</td>\n",
       "      <td>2</td>\n",
       "      <td>False</td>\n",
       "      <td>False</td>\n",
       "      <td>False</td>\n",
       "      <td>8.0</td>\n",
       "      <td>0</td>\n",
       "      <td>волхов</td>\n",
       "      <td>NaN</td>\n",
       "      <td>NaN</td>\n",
       "      <td>0</td>\n",
       "      <td>NaN</td>\n",
       "      <td>0</td>\n",
       "      <td>NaN</td>\n",
       "      <td>NaN</td>\n",
       "      <td>38666.671875</td>\n",
       "      <td>0</td>\n",
       "      <td>11</td>\n",
       "      <td>2018</td>\n",
       "      <td>другой</td>\n",
       "      <td>NaN</td>\n",
       "    </tr>\n",
       "    <tr>\n",
       "      <th>17857</th>\n",
       "      <td>1</td>\n",
       "      <td>3900000.0</td>\n",
       "      <td>56.000000</td>\n",
       "      <td>2017-12-22</td>\n",
       "      <td>3</td>\n",
       "      <td>27.0</td>\n",
       "      <td>5.0</td>\n",
       "      <td>33.0</td>\n",
       "      <td>4</td>\n",
       "      <td>False</td>\n",
       "      <td>False</td>\n",
       "      <td>False</td>\n",
       "      <td>9.5</td>\n",
       "      <td>0</td>\n",
       "      <td>санкт-петербург</td>\n",
       "      <td>41030.0</td>\n",
       "      <td>15543.0</td>\n",
       "      <td>0</td>\n",
       "      <td>NaN</td>\n",
       "      <td>0</td>\n",
       "      <td>NaN</td>\n",
       "      <td>73.0</td>\n",
       "      <td>69642.859375</td>\n",
       "      <td>4</td>\n",
       "      <td>12</td>\n",
       "      <td>2017</td>\n",
       "      <td>другой</td>\n",
       "      <td>15.54</td>\n",
       "    </tr>\n",
       "    <tr>\n",
       "      <th>10773</th>\n",
       "      <td>8</td>\n",
       "      <td>3800000.0</td>\n",
       "      <td>58.000000</td>\n",
       "      <td>2017-10-13</td>\n",
       "      <td>2</td>\n",
       "      <td>27.0</td>\n",
       "      <td>10.0</td>\n",
       "      <td>30.1</td>\n",
       "      <td>3</td>\n",
       "      <td>False</td>\n",
       "      <td>False</td>\n",
       "      <td>False</td>\n",
       "      <td>8.1</td>\n",
       "      <td>2</td>\n",
       "      <td>поселок мурино</td>\n",
       "      <td>NaN</td>\n",
       "      <td>NaN</td>\n",
       "      <td>0</td>\n",
       "      <td>NaN</td>\n",
       "      <td>0</td>\n",
       "      <td>NaN</td>\n",
       "      <td>71.0</td>\n",
       "      <td>65517.238281</td>\n",
       "      <td>4</td>\n",
       "      <td>10</td>\n",
       "      <td>2017</td>\n",
       "      <td>другой</td>\n",
       "      <td>NaN</td>\n",
       "    </tr>\n",
       "  </tbody>\n",
       "</table>\n",
       "</div>"
      ],
      "text/plain": [
       "       total_images  last_price  total_area first_day_exposition  rooms  \\\n",
       "22869             0  15000000.0   25.000000           2018-07-25      1   \n",
       "22336            19   9999000.0   92.400002           2019-04-05      2   \n",
       "3148             14   2900000.0   75.000000           2018-11-12      3   \n",
       "17857             1   3900000.0   56.000000           2017-12-22      3   \n",
       "10773             8   3800000.0   58.000000           2017-10-13      2   \n",
       "\n",
       "       ceiling_height  floors_total  living_area  floor  is_apartment  studio  \\\n",
       "22869           100.0           5.0         14.0      5          True   False   \n",
       "22336            32.0           6.0         55.5      5         False   False   \n",
       "3148             32.0           3.0         53.0      2         False   False   \n",
       "17857            27.0           5.0         33.0      4         False   False   \n",
       "10773            27.0          10.0         30.1      3         False   False   \n",
       "\n",
       "       open_plan  kitchen_area  balcony    locality_name  airports_nearest  \\\n",
       "22869      False          11.0        5  санкт-петербург           34963.0   \n",
       "22336      False          16.5        4  санкт-петербург           18838.0   \n",
       "3148       False           8.0        0           волхов               NaN   \n",
       "17857      False           9.5        0  санкт-петербург           41030.0   \n",
       "10773      False           8.1        2   поселок мурино               NaN   \n",
       "\n",
       "       cityCenters_nearest  parks_around3000  parks_nearest  ponds_around3000  \\\n",
       "22869               8283.0                 1          223.0                 3   \n",
       "22336               3506.0                 0            NaN                 3   \n",
       "3148                   NaN                 0            NaN                 0   \n",
       "17857              15543.0                 0            NaN                 0   \n",
       "10773                  NaN                 0            NaN                 0   \n",
       "\n",
       "       ponds_nearest  days_exposition     price_metr  day_of_pub  \\\n",
       "22869           30.0             19.0  600000.000000           2   \n",
       "22336          511.0              NaN  108214.281250           4   \n",
       "3148             NaN              NaN   38666.671875           0   \n",
       "17857            NaN             73.0   69642.859375           4   \n",
       "10773            NaN             71.0   65517.238281           4   \n",
       "\n",
       "       month_of_pub  year_of_pub categorize_floor  cityCenters_km  \n",
       "22869             7         2018        последний            8.28  \n",
       "22336             4         2019           другой            3.51  \n",
       "3148             11         2018           другой             NaN  \n",
       "17857            12         2017           другой           15.54  \n",
       "10773            10         2017           другой             NaN  "
      ]
     },
     "execution_count": 45,
     "metadata": {},
     "output_type": "execute_result"
    }
   ],
   "source": [
    "data[data['ceiling_height'] > 3 ].sort_values(by='ceiling_height', ascending=False).head(5)"
   ]
  },
  {
   "cell_type": "markdown",
   "metadata": {},
   "source": [
    "В датафрейме встречаются значения высот, которые превышают 10м и, к тому же, являются двузначными числами. Очевидно, в таких ячейках потеряна точка для вещественного значения"
   ]
  },
  {
   "cell_type": "code",
   "execution_count": 46,
   "metadata": {},
   "outputs": [],
   "source": [
    "mask = data['ceiling_height'] > 10\n",
    "data.loc[mask, 'ceiling_height'] = data.loc[mask, 'ceiling_height'] / 10"
   ]
  },
  {
   "cell_type": "code",
   "execution_count": 47,
   "metadata": {},
   "outputs": [
    {
     "data": {
      "text/plain": [
       "<AxesSubplot:>"
      ]
     },
     "execution_count": 47,
     "metadata": {},
     "output_type": "execute_result"
    },
    {
     "data": {
      "image/png": "[encoded data removed]",
      "text/plain": [
       "<Figure size 288x216 with 1 Axes>"
      ]
     },
     "metadata": {
      "needs_background": "light"
     },
     "output_type": "display_data"
    }
   ],
   "source": [
    "data['ceiling_height'].hist(bins=20, figsize=(4, 3), legend=True)"
   ]
  },
  {
   "cell_type": "markdown",
   "metadata": {},
   "source": [
    "Гистограмма распределения высот потолков служит подтверждением того, что меньше всего насчитывается потолков высотой более 4-x метров"
   ]
  },
  {
   "cell_type": "code",
   "execution_count": 48,
   "metadata": {},
   "outputs": [],
   "source": [
    "data = data[data['ceiling_height'] < 5]"
   ]
  },
  {
   "cell_type": "markdown",
   "metadata": {},
   "source": [
    "В редких случаях этажность дома составляет 30 этажей и более"
   ]
  },
  {
   "cell_type": "code",
   "execution_count": 49,
   "metadata": {},
   "outputs": [],
   "source": [
    "data = data[data['floors_total'] <= 30 ]"
   ]
  },
  {
   "cell_type": "markdown",
   "metadata": {},
   "source": [
    "Чаще всего расстояние от объекта недвижимости до центра города не превышает 60км, а расстояние от квартиры до ближайшего парка лежит в пределах 2,8км"
   ]
  },
  {
   "cell_type": "code",
   "execution_count": 50,
   "metadata": {},
   "outputs": [
    {
     "data": {
      "text/plain": [
       "array([[<AxesSubplot:title={'center':'cityCenters_nearest'}>,\n",
       "        <AxesSubplot:title={'center':'parks_nearest'}>]], dtype=object)"
      ]
     },
     "execution_count": 50,
     "metadata": {},
     "output_type": "execute_result"
    },
    {
     "data": {
      "image/png": "[encoded data removed]",
      "text/plain": [
       "<Figure size 432x288 with 2 Axes>"
      ]
     },
     "metadata": {
      "needs_background": "light"
     },
     "output_type": "display_data"
    }
   ],
   "source": [
    "data[['cityCenters_nearest', 'parks_nearest']].hist(bins=30)"
   ]
  },
  {
   "cell_type": "code",
   "execution_count": 51,
   "metadata": {},
   "outputs": [],
   "source": [
    "mask1_center = ~data['cityCenters_nearest'].isna()\n",
    "mask2_center = data['cityCenters_nearest'] <= 40000\n",
    "data[mask1_center] = data[mask2_center]"
   ]
  },
  {
   "cell_type": "code",
   "execution_count": 52,
   "metadata": {},
   "outputs": [],
   "source": [
    "mask1_parks = ~data['parks_nearest'].isna()\n",
    "mask2_parks = data['parks_nearest'] <= 2500\n",
    "data[mask1_parks] = data[mask2_parks]"
   ]
  },
  {
   "cell_type": "markdown",
   "metadata": {},
   "source": [
    "#### Анализ скорости продажи кватрир"
   ]
  },
  {
   "cell_type": "code",
   "execution_count": 53,
   "metadata": {},
   "outputs": [
    {
     "data": {
      "image/png": "[encoded data removed]",
      "text/plain": [
       "<Figure size 432x288 with 1 Axes>"
      ]
     },
     "metadata": {
      "needs_background": "light"
     },
     "output_type": "display_data"
    }
   ],
   "source": [
    "#Вычисляем медианное и среднее значения\n",
    "median_days_exposition = data['days_exposition'].median()\n",
    "mean_days_exposition = data['days_exposition'].mean()\n",
    "\n",
    "#Строим гмтограмму\n",
    "plt.hist(data['days_exposition'], bins=20)\n",
    "plt.title('Распределение проданных квартир')\n",
    "plt.xlabel('Число дней, прошедших с даты публикации объявления')\n",
    "plt.ylabel('Количество проданных квартир')\n",
    "\n",
    "#Формируем линии медианного и среднего значений\n",
    "median_line = plt.axvline(median_days_exposition, color='red', linestyle='dashed', linewidth=1.2)\n",
    "mean_line = plt.axvline(mean_days_exposition, color='green', linestyle='dashed', linewidth=1.2)\n",
    "\n",
    "# Получаем существующие элементы гистограммы и добавляем линии медианы и среднего\n",
    "handles, labels = plt.gca().get_legend_handles_labels() \n",
    "handles.append(median_line) \n",
    "handles.append(mean_line)\n",
    "labels.append(f'Медиана: {median_days_exposition:.2f}')\n",
    "labels.append(f'Среднее: {mean_days_exposition:.2f}')\n",
    "plt.legend(handles, labels)\n",
    "plt.grid()\n",
    "plt.show()"
   ]
  },
  {
   "cell_type": "code",
   "execution_count": 54,
   "metadata": {},
   "outputs": [
    {
     "data": {
      "image/png": "[encoded data removed]",
      "text/plain": [
       "<Figure size 432x288 with 1 Axes>"
      ]
     },
     "metadata": {
      "needs_background": "light"
     },
     "output_type": "display_data"
    }
   ],
   "source": [
    "plt.hist(data[data['days_exposition'] < 100]['days_exposition'], bins=20)\n",
    "plt.title('Распределение проданных квартир в течение 100 дней')\n",
    "plt.xlabel('Число дней, прошедших с даты публикации объявления')\n",
    "plt.ylabel('Количество проданных квартир')\n",
    "plt.grid()\n",
    "plt.show()"
   ]
  },
  {
   "cell_type": "code",
   "execution_count": 55,
   "metadata": {},
   "outputs": [
    {
     "data": {
      "text/plain": [
       "count    1.234000e+03\n",
       "mean     3.670208e+06\n",
       "std      4.005298e+06\n",
       "min      4.300000e+05\n",
       "25%      2.550000e+06\n",
       "50%      3.450000e+06\n",
       "75%      4.100000e+06\n",
       "max      1.240000e+08\n",
       "Name: last_price, dtype: float64"
      ]
     },
     "execution_count": 55,
     "metadata": {},
     "output_type": "execute_result"
    }
   ],
   "source": [
    "data[(40 < data['days_exposition']) & (data['days_exposition'] < 46)]['last_price'].describe()"
   ]
  },
  {
   "cell_type": "code",
   "execution_count": 56,
   "metadata": {},
   "outputs": [
    {
     "data": {
      "text/plain": [
       "count        4356.0\n",
       "mean      5256816.5\n",
       "std       4027946.0\n",
       "min        530000.0\n",
       "25%       3450000.0\n",
       "50%       4400000.0\n",
       "75%       5990000.0\n",
       "max      95000000.0\n",
       "Name: last_price, dtype: float64"
      ]
     },
     "execution_count": 56,
     "metadata": {},
     "output_type": "execute_result"
    }
   ],
   "source": [
    "data[data['days_exposition'] < 40]['last_price'].describe()"
   ]
  },
  {
   "cell_type": "markdown",
   "metadata": {},
   "source": [
    "**Вывод**"
   ]
  },
  {
   "cell_type": "markdown",
   "metadata": {},
   "source": [
    "Большинство квартир продается в течение 95 дней. Быстрыми можно считать продажи, которые завершаются в течение 200 дней, а аномально долгими продажами можно назвать те, чья длительность составляет более 1.5 года "
   ]
  },
  {
   "cell_type": "markdown",
   "metadata": {},
   "source": [
    "В диапазоне от 0 до 100 дней можно обнаружить пики продаж, когда в среднем за 5 дней число проданных кватрир превышало 800. Это связано с тем, что в эти дни медианная цена на недвижимость  достигала минимальных значений по сравнению с другими периодами"
   ]
  },
  {
   "cell_type": "markdown",
   "metadata": {},
   "source": [
    "#### Выявление факторов, которые больше всего влияют на общую стоимость объекта"
   ]
  },
  {
   "cell_type": "code",
   "execution_count": 57,
   "metadata": {},
   "outputs": [
    {
     "data": {
      "text/plain": [
       "total_images           0.124349\n",
       "last_price             1.000000\n",
       "total_area             0.717175\n",
       "rooms                  0.421156\n",
       "ceiling_height         0.364061\n",
       "floors_total           0.051775\n",
       "living_area            0.599673\n",
       "floor                  0.055893\n",
       "kitchen_area           0.474005\n",
       "balcony                0.026188\n",
       "airports_nearest      -0.020367\n",
       "cityCenters_nearest   -0.325832\n",
       "parks_around3000       0.287972\n",
       "parks_nearest         -0.006463\n",
       "ponds_around3000       0.301742\n",
       "ponds_nearest         -0.108350\n",
       "days_exposition        0.114382\n",
       "price_metr             0.762312\n",
       "day_of_pub            -0.006247\n",
       "month_of_pub           0.013913\n",
       "year_of_pub           -0.051713\n",
       "cityCenters_km        -0.325837\n",
       "Name: last_price, dtype: float64"
      ]
     },
     "execution_count": 57,
     "metadata": {},
     "output_type": "execute_result"
    }
   ],
   "source": [
    "data.corr()['last_price']"
   ]
  },
  {
   "cell_type": "markdown",
   "metadata": {},
   "source": [
    "На основании значений коэффициента корреляции можно сделать вывод, что наибольшее влияние на итоговую цену квартиры влияет общая площадь, которую в свою очередь формируют такие параметры как жилая площадь, число комнат и площадь кухни"
   ]
  },
  {
   "cell_type": "markdown",
   "metadata": {},
   "source": [
    "Изучим другие факторы ценообразования:"
   ]
  },
  {
   "cell_type": "code",
   "execution_count": 58,
   "metadata": {},
   "outputs": [
    {
     "data": {
      "image/png": "[encoded data removed]",
      "text/plain": [
       "<Figure size 432x288 with 1 Axes>"
      ]
     },
     "metadata": {
      "needs_background": "light"
     },
     "output_type": "display_data"
    },
    {
     "data": {
      "image/png": "[encoded data removed]",
      "text/plain": [
       "<Figure size 432x288 with 1 Axes>"
      ]
     },
     "metadata": {
      "needs_background": "light"
     },
     "output_type": "display_data"
    },
    {
     "data": {
      "image/png": "[encoded data removed]",
      "text/plain": [
       "<Figure size 432x288 with 1 Axes>"
      ]
     },
     "metadata": {
      "needs_background": "light"
     },
     "output_type": "display_data"
    },
    {
     "data": {
      "image/png": "[encoded data removed]",
      "text/plain": [
       "<Figure size 432x288 with 1 Axes>"
      ]
     },
     "metadata": {
      "needs_background": "light"
     },
     "output_type": "display_data"
    }
   ],
   "source": [
    "factors = ['categorize_floor', 'year_of_pub', 'month_of_pub', 'day_of_pub']\n",
    "\n",
    "for fact in factors:\n",
    "    factor_pivot_table = data.pivot_table(index=fact, values='last_price', aggfunc='median')\n",
    "    factor_pivot_table =  factor_pivot_table.reset_index()\n",
    "    factor_pivot_table.plot(x=fact, y='last_price')\n",
    "    plt.title(f'Зависимость last_price от {fact}')\n",
    "    plt.grid(True) \n",
    "    plt.show()"
   ]
  },
  {
   "cell_type": "markdown",
   "metadata": {},
   "source": [
    "**Вывод**"
   ]
  },
  {
   "cell_type": "markdown",
   "metadata": {},
   "source": [
    "Главный фактор, влияющий на ценообразование квартиры - это ее общая площадь, соответственно, чем больше площадь, тем выше цена. Что касается таких факторов как этажность и дата публикации объявления, ситуация следующая:\n",
    "* Дорогостоящие квартиры располагаются на этажах, находящихся между первым и последним этажами\n",
    "* В определенные времена года цена на недвижимость снижается (зима, лето ), а весной и сенью, наоборот, возрастает\n",
    "* В начале недели публикуются объекты по наиболее высокими ценами, а к концу недели можно заметить тренд на снижение цены в объявлениях\n",
    "* Делать объективные выводы относительно зависимости цены от года публикации объявления проблематично, потому что не удается в достаточной мере проследить тренд ценообразования. Вероятно, следует, рассматривать более длинный промежуток времени "
   ]
  },
  {
   "cell_type": "markdown",
   "metadata": {},
   "source": [
    "#### Исследование зависимости цены квадратного метра в популярных населенных пунктах"
   ]
  },
  {
   "cell_type": "code",
   "execution_count": 59,
   "metadata": {},
   "outputs": [
    {
     "data": {
      "text/html": [
       "<div>\n",
       "<style scoped>\n",
       "    .dataframe tbody tr th:only-of-type {\n",
       "        vertical-align: middle;\n",
       "    }\n",
       "\n",
       "    .dataframe tbody tr th {\n",
       "        vertical-align: top;\n",
       "    }\n",
       "\n",
       "    .dataframe thead th {\n",
       "        text-align: right;\n",
       "    }\n",
       "</style>\n",
       "<table border=\"1\" class=\"dataframe\">\n",
       "  <thead>\n",
       "    <tr style=\"text-align: right;\">\n",
       "      <th></th>\n",
       "      <th>locality_name</th>\n",
       "      <th>number_of_pubs</th>\n",
       "      <th>mean_price_metr</th>\n",
       "    </tr>\n",
       "  </thead>\n",
       "  <tbody>\n",
       "    <tr>\n",
       "      <th>0</th>\n",
       "      <td>санкт-петербург</td>\n",
       "      <td>14896</td>\n",
       "      <td>112169.320312</td>\n",
       "    </tr>\n",
       "    <tr>\n",
       "      <th>1</th>\n",
       "      <td>пушкин</td>\n",
       "      <td>354</td>\n",
       "      <td>102581.742188</td>\n",
       "    </tr>\n",
       "    <tr>\n",
       "      <th>2</th>\n",
       "      <td>деревня кудрово</td>\n",
       "      <td>284</td>\n",
       "      <td>92314.468750</td>\n",
       "    </tr>\n",
       "    <tr>\n",
       "      <th>3</th>\n",
       "      <td>поселок парголово</td>\n",
       "      <td>324</td>\n",
       "      <td>90336.007812</td>\n",
       "    </tr>\n",
       "    <tr>\n",
       "      <th>4</th>\n",
       "      <td>поселок мурино</td>\n",
       "      <td>525</td>\n",
       "      <td>85310.976562</td>\n",
       "    </tr>\n",
       "    <tr>\n",
       "      <th>5</th>\n",
       "      <td>поселок шушары</td>\n",
       "      <td>432</td>\n",
       "      <td>78372.656250</td>\n",
       "    </tr>\n",
       "    <tr>\n",
       "      <th>6</th>\n",
       "      <td>колпино</td>\n",
       "      <td>334</td>\n",
       "      <td>75304.585938</td>\n",
       "    </tr>\n",
       "    <tr>\n",
       "      <th>7</th>\n",
       "      <td>гатчина</td>\n",
       "      <td>301</td>\n",
       "      <td>68628.546875</td>\n",
       "    </tr>\n",
       "    <tr>\n",
       "      <th>8</th>\n",
       "      <td>всеволожск</td>\n",
       "      <td>388</td>\n",
       "      <td>68593.031250</td>\n",
       "    </tr>\n",
       "    <tr>\n",
       "      <th>9</th>\n",
       "      <td>выборг</td>\n",
       "      <td>230</td>\n",
       "      <td>57531.191406</td>\n",
       "    </tr>\n",
       "  </tbody>\n",
       "</table>\n",
       "</div>"
      ],
      "text/plain": [
       "       locality_name  number_of_pubs  mean_price_metr\n",
       "0    санкт-петербург           14896    112169.320312\n",
       "1             пушкин             354    102581.742188\n",
       "2    деревня кудрово             284     92314.468750\n",
       "3  поселок парголово             324     90336.007812\n",
       "4     поселок мурино             525     85310.976562\n",
       "5     поселок шушары             432     78372.656250\n",
       "6            колпино             334     75304.585938\n",
       "7            гатчина             301     68628.546875\n",
       "8         всеволожск             388     68593.031250\n",
       "9             выборг             230     57531.191406"
      ]
     },
     "execution_count": 59,
     "metadata": {},
     "output_type": "execute_result"
    }
   ],
   "source": [
    "price_loc_pub = data.pivot_table(index='locality_name', values='first_day_exposition', aggfunc='count')\n",
    "price_loc_metr = data.pivot_table(index='locality_name', values='price_metr')\n",
    "\n",
    "res_pub_metr = price_loc_pub.join(price_loc_metr).sort_values(by='first_day_exposition', ascending=False).head(10)\n",
    "res_pub_metr = res_pub_metr.rename(columns={'first_day_exposition':'number_of_pubs', 'price_metr':'mean_price_metr'})\n",
    "res_pub_metr = res_pub_metr.sort_values(by='mean_price_metr', ascending=False).reset_index()\n",
    "res_pub_metr"
   ]
  },
  {
   "cell_type": "code",
   "execution_count": 60,
   "metadata": {},
   "outputs": [
    {
     "data": {
      "image/png": "[encoded data removed]",
      "text/plain": [
       "<Figure size 432x288 with 1 Axes>"
      ]
     },
     "metadata": {
      "needs_background": "light"
     },
     "output_type": "display_data"
    }
   ],
   "source": [
    "plt.bar(res_pub_metr['locality_name'], res_pub_metr['mean_price_metr'])\n",
    "plt.title('Зависимость цены за квадратный метр от населенного пункта')\n",
    "plt.xlabel('Населенный пункт')\n",
    "plt.ylabel('Цена за метр квадратный (тыс)')\n",
    "plt.xticks(rotation=60)\n",
    "plt.grid(axis='y')\n",
    "plt.show()"
   ]
  },
  {
   "cell_type": "markdown",
   "metadata": {},
   "source": [
    "**Вывод**"
   ]
  },
  {
   "cell_type": "markdown",
   "metadata": {},
   "source": [
    "Населёнными пунктами с самой высокой стоимостью квадратного метра являются Санкт-Петербург и Пушкин, а самая низкая стоимость квадратного метра наблюдается в Выборге"
   ]
  },
  {
   "cell_type": "markdown",
   "metadata": {},
   "source": [
    "#### Зависимость цены квартиры от расстояния до центра города"
   ]
  },
  {
   "cell_type": "code",
   "execution_count": 61,
   "metadata": {},
   "outputs": [
    {
     "data": {
      "image/png": "[encoded data removed]",
      "text/plain": [
       "<Figure size 360x288 with 1 Axes>"
      ]
     },
     "metadata": {
      "needs_background": "light"
     },
     "output_type": "display_data"
    }
   ],
   "source": [
    "center_price = data[['locality_name', 'last_price']].copy()\n",
    "\n",
    "#Вычисляем, на каком километре от центра расположена квартира\n",
    "center_price['distance_center'] = np.where(data['cityCenters_km'].isna(),\n",
    "                                            np.nan,\n",
    "                                            np.ceil(data['cityCenters_km']))\n",
    "\n",
    "#Делим значения last_price для корректного отображения на графике\n",
    "center_price['last_price'] = center_price['last_price'] / 100000\n",
    "center_price_pivot = center_price.pivot_table(index='distance_center', values='last_price')\n",
    "\n",
    "#Строим график зависимости \n",
    "pd.options.display.float_format = '{:.0f}'.format\n",
    "center_price_pivot.plot(figsize=(5, 4))\n",
    "plt.title('Зависимость цены квартиры от ее удаленности от центра города')\n",
    "plt.ylabel('Цена кватриры (млн)')\n",
    "plt.xlabel('Расстояние до центра (км)')\n",
    "plt.grid(True) \n",
    "plt.show()"
   ]
  },
  {
   "cell_type": "markdown",
   "metadata": {},
   "source": [
    "**Вывод**"
   ]
  },
  {
   "cell_type": "markdown",
   "metadata": {},
   "source": [
    "Цена квартиры зависит от расстояния до центра города достаточно очевидным образом: чем меньше расстояние до центра, тем выше цена квартиры. С удалением от центра цена уменьшается. Однако в районе 40км и 55км присутствуют объекты, цена которых значительно выше объектов с аналогичной удаленностью"
   ]
  },
  {
   "cell_type": "markdown",
   "metadata": {},
   "source": [
    "### Общий вывод"
   ]
  },
  {
   "cell_type": "markdown",
   "metadata": {},
   "source": [
    "Рыночная стоимсоть недвижимости складывается под влиянием многих факторов, в ходе исследования были выявлены наиболее важные косвенные и прямые параметры ценообразования:\n",
    "* Общая площадь\n",
    "* Этажность\n",
    "* Расстояние до центра города\n",
    "* Сезонность\n",
    "\n",
    "*Общая площадь*  \n",
    "Общая площадь - главный прямой и собирательный параметр, от которого зависят не менее важные характеристики такие как жилая площадь, число комнат и площадь кухни. Цена прямопропорциональна площади квартиры \n",
    "\n",
    "*Этажность*  \n",
    "У каждого потенциального покупателя есть потребность в безопасности. Самыми безопасными считаютмя этажи, находящиеся между первым и последним, поэтому высокий спрос и, как следствие, наиболее высокие цены характерны именно для квартир, расположенных на описанных ранее этажах\n",
    "\n",
    "*Расстояние до центра города*  \n",
    "Еще одна важная потребность - это потребность в комфорте за пределами квартиры. Эту потребность может удовлетворить развитая инфраструктура района (наличие парков, водоемов и тп), которая зависит от расстояния до центра города. Близость к центру позволяет обеспечивает покупателю доступ к ряду услуг, недоступных для отдаленных уголков Ленинградской области\n",
    "\n",
    "*Сезонность*  \n",
    "Весна и осень - самые благоприятные сезоны для роста цен по следующим причинам: чаще всего весной сдают новостройки, а ближе к осени традиционно большинство людей возвращаются из отпусков и возвращаются к решению квартирного вопроса - эти факторы стимилуруют рост спроса и цен соотвественно "
   ]
  }
 ],
 "metadata": {
  "ExecuteTimeLog": [
   {
    "duration": 637,
    "start_time": "2025-01-20T11:32:56.311Z"
   },
   {
    "duration": 14,
    "start_time": "2025-01-20T11:33:10.570Z"
   },
   {
    "duration": 14,
    "start_time": "2025-01-20T11:33:25.410Z"
   },
   {
    "duration": 95,
    "start_time": "2025-01-20T11:33:51.829Z"
   },
   {
    "duration": 43,
    "start_time": "2025-01-20T11:33:53.279Z"
   },
   {
    "duration": 21,
    "start_time": "2025-01-20T11:34:08.749Z"
   },
   {
    "duration": 2311,
    "start_time": "2025-01-20T11:36:28.028Z"
   },
   {
    "duration": 11,
    "start_time": "2025-01-20T11:45:11.285Z"
   },
   {
    "duration": 6,
    "start_time": "2025-01-20T11:46:55.084Z"
   },
   {
    "duration": 6,
    "start_time": "2025-01-20T11:47:02.465Z"
   },
   {
    "duration": 6,
    "start_time": "2025-01-20T11:47:08.664Z"
   },
   {
    "duration": 29,
    "start_time": "2025-01-20T11:49:02.304Z"
   },
   {
    "duration": 14,
    "start_time": "2025-01-20T11:49:29.884Z"
   },
   {
    "duration": 30,
    "start_time": "2025-01-20T11:49:38.134Z"
   },
   {
    "duration": 13,
    "start_time": "2025-01-20T11:49:49.763Z"
   },
   {
    "duration": 45,
    "start_time": "2025-01-20T11:50:25.604Z"
   },
   {
    "duration": 32,
    "start_time": "2025-01-20T11:51:00.563Z"
   },
   {
    "duration": 87,
    "start_time": "2025-01-20T11:51:42.623Z"
   },
   {
    "duration": 6,
    "start_time": "2025-01-20T11:51:49.143Z"
   },
   {
    "duration": 4,
    "start_time": "2025-01-20T11:51:53.843Z"
   },
   {
    "duration": 11,
    "start_time": "2025-01-20T11:52:45.242Z"
   },
   {
    "duration": 29,
    "start_time": "2025-01-20T12:09:44.467Z"
   },
   {
    "duration": 475,
    "start_time": "2025-01-20T12:12:17.288Z"
   },
   {
    "duration": 45,
    "start_time": "2025-01-20T12:12:17.764Z"
   },
   {
    "duration": 22,
    "start_time": "2025-01-20T12:12:17.811Z"
   },
   {
    "duration": 2191,
    "start_time": "2025-01-20T12:12:17.855Z"
   },
   {
    "duration": 13,
    "start_time": "2025-01-20T12:12:20.048Z"
   },
   {
    "duration": 48,
    "start_time": "2025-01-20T12:12:20.063Z"
   },
   {
    "duration": 10,
    "start_time": "2025-01-20T12:12:58.546Z"
   },
   {
    "duration": 7,
    "start_time": "2025-01-20T12:13:19.016Z"
   },
   {
    "duration": 7,
    "start_time": "2025-01-20T12:13:42.384Z"
   },
   {
    "duration": 4,
    "start_time": "2025-01-20T12:14:48.315Z"
   },
   {
    "duration": 29,
    "start_time": "2025-01-20T12:15:03.064Z"
   },
   {
    "duration": 40,
    "start_time": "2025-01-20T12:20:29.503Z"
   },
   {
    "duration": 6,
    "start_time": "2025-01-20T12:22:03.142Z"
   },
   {
    "duration": 36,
    "start_time": "2025-01-20T12:23:34.212Z"
   },
   {
    "duration": 4,
    "start_time": "2025-01-20T12:42:48.375Z"
   },
   {
    "duration": 8,
    "start_time": "2025-01-20T12:45:32.324Z"
   },
   {
    "duration": 50,
    "start_time": "2025-01-20T12:45:44.734Z"
   },
   {
    "duration": 10,
    "start_time": "2025-01-20T12:47:10.203Z"
   },
   {
    "duration": 11,
    "start_time": "2025-01-20T12:48:35.302Z"
   },
   {
    "duration": 83,
    "start_time": "2025-01-20T12:49:12.323Z"
   },
   {
    "duration": 6,
    "start_time": "2025-01-20T12:49:17.037Z"
   },
   {
    "duration": 5,
    "start_time": "2025-01-20T12:49:27.983Z"
   },
   {
    "duration": 10,
    "start_time": "2025-01-20T12:49:33.113Z"
   },
   {
    "duration": 4,
    "start_time": "2025-01-20T12:50:07.412Z"
   },
   {
    "duration": 13,
    "start_time": "2025-01-20T12:50:11.792Z"
   },
   {
    "duration": 10,
    "start_time": "2025-01-20T12:50:15.232Z"
   },
   {
    "duration": 11,
    "start_time": "2025-01-20T12:50:28.872Z"
   },
   {
    "duration": 12,
    "start_time": "2025-01-20T12:50:32.531Z"
   },
   {
    "duration": 10,
    "start_time": "2025-01-20T12:50:33.643Z"
   },
   {
    "duration": 9,
    "start_time": "2025-01-20T12:51:41.262Z"
   },
   {
    "duration": 10,
    "start_time": "2025-01-20T12:51:43.061Z"
   },
   {
    "duration": 30,
    "start_time": "2025-01-20T12:52:08.022Z"
   },
   {
    "duration": 19,
    "start_time": "2025-01-20T12:52:21.861Z"
   },
   {
    "duration": 16,
    "start_time": "2025-01-20T12:53:10.431Z"
   },
   {
    "duration": 8,
    "start_time": "2025-01-20T12:53:20.561Z"
   },
   {
    "duration": 5,
    "start_time": "2025-01-20T12:53:23.012Z"
   },
   {
    "duration": 5,
    "start_time": "2025-01-20T12:53:27.730Z"
   },
   {
    "duration": 10,
    "start_time": "2025-01-20T12:53:56.221Z"
   },
   {
    "duration": 11,
    "start_time": "2025-01-20T12:54:04.941Z"
   },
   {
    "duration": 9,
    "start_time": "2025-01-20T12:54:06.750Z"
   },
   {
    "duration": 53,
    "start_time": "2025-01-20T12:55:43.200Z"
   },
   {
    "duration": 17,
    "start_time": "2025-01-20T12:56:06.141Z"
   },
   {
    "duration": 19,
    "start_time": "2025-01-20T12:56:57.699Z"
   },
   {
    "duration": 25,
    "start_time": "2025-01-20T12:57:17.239Z"
   },
   {
    "duration": 17,
    "start_time": "2025-01-20T12:57:41.480Z"
   },
   {
    "duration": 14,
    "start_time": "2025-01-20T12:57:45.789Z"
   },
   {
    "duration": 10,
    "start_time": "2025-01-20T12:57:47.299Z"
   },
   {
    "duration": 5,
    "start_time": "2025-01-20T12:58:59.729Z"
   },
   {
    "duration": 13,
    "start_time": "2025-01-20T12:59:59.259Z"
   },
   {
    "duration": 38,
    "start_time": "2025-01-20T13:20:51.409Z"
   },
   {
    "duration": 37,
    "start_time": "2025-01-20T13:21:59.410Z"
   },
   {
    "duration": 32,
    "start_time": "2025-01-20T13:22:19.689Z"
   },
   {
    "duration": 36,
    "start_time": "2025-01-20T13:22:41.639Z"
   },
   {
    "duration": 1299,
    "start_time": "2025-01-20T13:23:40.098Z"
   },
   {
    "duration": 33,
    "start_time": "2025-01-20T13:23:42.998Z"
   },
   {
    "duration": 29,
    "start_time": "2025-01-20T13:31:37.045Z"
   },
   {
    "duration": 15,
    "start_time": "2025-01-20T13:34:00.434Z"
   },
   {
    "duration": 30,
    "start_time": "2025-01-20T13:35:15.073Z"
   },
   {
    "duration": 30,
    "start_time": "2025-01-20T13:35:33.643Z"
   },
   {
    "duration": 37,
    "start_time": "2025-01-20T13:35:39.253Z"
   },
   {
    "duration": 29,
    "start_time": "2025-01-20T13:41:40.002Z"
   },
   {
    "duration": 14,
    "start_time": "2025-01-20T13:47:33.799Z"
   },
   {
    "duration": 14,
    "start_time": "2025-01-20T13:47:48.910Z"
   },
   {
    "duration": 13,
    "start_time": "2025-01-20T13:47:54.790Z"
   },
   {
    "duration": 15,
    "start_time": "2025-01-20T13:48:42.209Z"
   },
   {
    "duration": 11,
    "start_time": "2025-01-20T13:48:49.739Z"
   },
   {
    "duration": 11,
    "start_time": "2025-01-20T13:48:51.739Z"
   },
   {
    "duration": 8,
    "start_time": "2025-01-20T13:49:02.948Z"
   },
   {
    "duration": 12,
    "start_time": "2025-01-20T13:49:09.149Z"
   },
   {
    "duration": 11,
    "start_time": "2025-01-20T13:49:43.548Z"
   },
   {
    "duration": 12,
    "start_time": "2025-01-20T13:58:32.306Z"
   },
   {
    "duration": 8,
    "start_time": "2025-01-20T14:01:34.814Z"
   },
   {
    "duration": 6,
    "start_time": "2025-01-20T14:02:56.484Z"
   },
   {
    "duration": 4,
    "start_time": "2025-01-20T14:03:12.263Z"
   },
   {
    "duration": 55,
    "start_time": "2025-01-20T14:03:45.494Z"
   },
   {
    "duration": 10,
    "start_time": "2025-01-20T14:08:50.772Z"
   },
   {
    "duration": 472,
    "start_time": "2025-01-20T14:09:20.016Z"
   },
   {
    "duration": 37,
    "start_time": "2025-01-20T14:09:20.490Z"
   },
   {
    "duration": 25,
    "start_time": "2025-01-20T14:09:20.529Z"
   },
   {
    "duration": 2103,
    "start_time": "2025-01-20T14:09:20.555Z"
   },
   {
    "duration": 10,
    "start_time": "2025-01-20T14:09:22.660Z"
   },
   {
    "duration": 12,
    "start_time": "2025-01-20T14:09:22.671Z"
   },
   {
    "duration": 39,
    "start_time": "2025-01-20T14:09:22.684Z"
   },
   {
    "duration": 9,
    "start_time": "2025-01-20T14:09:22.725Z"
   },
   {
    "duration": 2,
    "start_time": "2025-01-20T14:09:22.735Z"
   },
   {
    "duration": 16,
    "start_time": "2025-01-20T14:09:22.738Z"
   },
   {
    "duration": 12,
    "start_time": "2025-01-20T14:09:22.755Z"
   },
   {
    "duration": 164,
    "start_time": "2025-01-20T14:09:56.895Z"
   },
   {
    "duration": 132,
    "start_time": "2025-01-20T14:10:13.786Z"
   },
   {
    "duration": 122,
    "start_time": "2025-01-20T14:10:21.495Z"
   },
   {
    "duration": 134,
    "start_time": "2025-01-20T14:10:54.285Z"
   },
   {
    "duration": 74,
    "start_time": "2025-01-20T14:13:45.204Z"
   },
   {
    "duration": 6,
    "start_time": "2025-01-20T14:13:58.804Z"
   },
   {
    "duration": 15,
    "start_time": "2025-01-20T14:14:01.043Z"
   },
   {
    "duration": 4,
    "start_time": "2025-01-20T14:14:27.994Z"
   },
   {
    "duration": 7,
    "start_time": "2025-01-20T14:15:13.813Z"
   },
   {
    "duration": 46,
    "start_time": "2025-01-20T14:15:18.053Z"
   },
   {
    "duration": 8,
    "start_time": "2025-01-20T14:18:41.443Z"
   },
   {
    "duration": 489,
    "start_time": "2025-01-20T14:19:01.859Z"
   },
   {
    "duration": 37,
    "start_time": "2025-01-20T14:19:02.351Z"
   },
   {
    "duration": 29,
    "start_time": "2025-01-20T14:19:02.390Z"
   },
   {
    "duration": 2170,
    "start_time": "2025-01-20T14:19:02.421Z"
   },
   {
    "duration": 10,
    "start_time": "2025-01-20T14:19:04.594Z"
   },
   {
    "duration": 77,
    "start_time": "2025-01-20T14:19:04.605Z"
   },
   {
    "duration": 67,
    "start_time": "2025-01-20T14:19:04.683Z"
   },
   {
    "duration": 10,
    "start_time": "2025-01-20T14:19:04.751Z"
   },
   {
    "duration": 45,
    "start_time": "2025-01-20T14:19:04.762Z"
   },
   {
    "duration": 13,
    "start_time": "2025-01-20T14:19:04.808Z"
   },
   {
    "duration": 78,
    "start_time": "2025-01-20T15:34:55.755Z"
   },
   {
    "duration": 79,
    "start_time": "2025-01-20T15:35:43.531Z"
   },
   {
    "duration": 5,
    "start_time": "2025-01-20T15:37:56.629Z"
   },
   {
    "duration": 6,
    "start_time": "2025-01-20T15:37:58.379Z"
   },
   {
    "duration": 13,
    "start_time": "2025-01-20T15:38:19.049Z"
   },
   {
    "duration": 487,
    "start_time": "2025-01-20T15:38:27.563Z"
   },
   {
    "duration": 36,
    "start_time": "2025-01-20T15:38:28.051Z"
   },
   {
    "duration": 14,
    "start_time": "2025-01-20T15:38:28.088Z"
   },
   {
    "duration": 2055,
    "start_time": "2025-01-20T15:38:28.103Z"
   },
   {
    "duration": 9,
    "start_time": "2025-01-20T15:38:30.161Z"
   },
   {
    "duration": 21,
    "start_time": "2025-01-20T15:38:30.171Z"
   },
   {
    "duration": 54,
    "start_time": "2025-01-20T15:38:30.194Z"
   },
   {
    "duration": 9,
    "start_time": "2025-01-20T15:38:30.250Z"
   },
   {
    "duration": 55,
    "start_time": "2025-01-20T15:38:30.261Z"
   },
   {
    "duration": 61,
    "start_time": "2025-01-20T15:38:30.318Z"
   },
   {
    "duration": 48,
    "start_time": "2025-01-20T15:38:30.381Z"
   },
   {
    "duration": 68,
    "start_time": "2025-01-20T15:42:12.679Z"
   },
   {
    "duration": 10,
    "start_time": "2025-01-20T15:42:22.288Z"
   },
   {
    "duration": 8,
    "start_time": "2025-01-20T15:43:49.187Z"
   },
   {
    "duration": 6,
    "start_time": "2025-01-20T15:45:38.497Z"
   },
   {
    "duration": 6,
    "start_time": "2025-01-20T15:45:54.758Z"
   },
   {
    "duration": 4,
    "start_time": "2025-01-20T15:50:54.585Z"
   },
   {
    "duration": 28,
    "start_time": "2025-01-20T15:51:11.067Z"
   },
   {
    "duration": 463,
    "start_time": "2025-01-20T15:52:40.615Z"
   },
   {
    "duration": 3,
    "start_time": "2025-01-20T15:52:56.345Z"
   },
   {
    "duration": 19488,
    "start_time": "2025-01-20T15:52:57.167Z"
   },
   {
    "duration": 3,
    "start_time": "2025-01-20T15:55:48.344Z"
   },
   {
    "duration": 518,
    "start_time": "2025-01-20T15:58:16.556Z"
   },
   {
    "duration": 38,
    "start_time": "2025-01-20T15:58:17.076Z"
   },
   {
    "duration": 16,
    "start_time": "2025-01-20T15:58:17.116Z"
   },
   {
    "duration": 2109,
    "start_time": "2025-01-20T15:58:17.133Z"
   },
   {
    "duration": 10,
    "start_time": "2025-01-20T15:58:19.244Z"
   },
   {
    "duration": 5,
    "start_time": "2025-01-20T15:58:19.255Z"
   },
   {
    "duration": 32,
    "start_time": "2025-01-20T15:58:19.262Z"
   },
   {
    "duration": 10,
    "start_time": "2025-01-20T15:58:19.295Z"
   },
   {
    "duration": 5,
    "start_time": "2025-01-20T15:58:19.306Z"
   },
   {
    "duration": 12,
    "start_time": "2025-01-20T15:58:19.312Z"
   },
   {
    "duration": 29,
    "start_time": "2025-01-20T15:58:19.325Z"
   },
   {
    "duration": 1283,
    "start_time": "2025-01-20T16:07:47.161Z"
   },
   {
    "duration": 5,
    "start_time": "2025-01-20T16:07:56.771Z"
   },
   {
    "duration": 1360,
    "start_time": "2025-01-20T16:09:33.940Z"
   },
   {
    "duration": 5,
    "start_time": "2025-01-20T16:09:48.330Z"
   },
   {
    "duration": 56,
    "start_time": "2025-01-20T16:11:53.620Z"
   },
   {
    "duration": 40,
    "start_time": "2025-01-20T16:12:40.589Z"
   },
   {
    "duration": 35,
    "start_time": "2025-01-20T16:15:40.217Z"
   },
   {
    "duration": 12,
    "start_time": "2025-01-20T16:16:13.517Z"
   },
   {
    "duration": 10,
    "start_time": "2025-01-20T16:16:30.858Z"
   },
   {
    "duration": 10,
    "start_time": "2025-01-20T16:16:36.048Z"
   },
   {
    "duration": 37,
    "start_time": "2025-01-20T16:16:39.518Z"
   },
   {
    "duration": 9,
    "start_time": "2025-01-20T16:19:13.001Z"
   },
   {
    "duration": 8,
    "start_time": "2025-01-20T16:19:20.476Z"
   },
   {
    "duration": 20,
    "start_time": "2025-01-20T16:19:32.387Z"
   },
   {
    "duration": 22,
    "start_time": "2025-01-20T16:19:55.916Z"
   },
   {
    "duration": 36,
    "start_time": "2025-01-20T16:20:33.856Z"
   },
   {
    "duration": 5,
    "start_time": "2025-01-20T16:20:53.726Z"
   },
   {
    "duration": 25,
    "start_time": "2025-01-20T16:21:05.875Z"
   },
   {
    "duration": 489,
    "start_time": "2025-01-20T16:21:17.405Z"
   },
   {
    "duration": 63,
    "start_time": "2025-01-20T16:21:17.896Z"
   },
   {
    "duration": 18,
    "start_time": "2025-01-20T16:21:17.960Z"
   },
   {
    "duration": 2223,
    "start_time": "2025-01-20T16:21:17.980Z"
   },
   {
    "duration": 15,
    "start_time": "2025-01-20T16:21:20.206Z"
   },
   {
    "duration": 11,
    "start_time": "2025-01-20T16:21:20.223Z"
   },
   {
    "duration": 47,
    "start_time": "2025-01-20T16:21:20.236Z"
   },
   {
    "duration": 15,
    "start_time": "2025-01-20T16:21:20.286Z"
   },
   {
    "duration": 26,
    "start_time": "2025-01-20T16:21:20.303Z"
   },
   {
    "duration": 6,
    "start_time": "2025-01-20T16:21:20.331Z"
   },
   {
    "duration": 16,
    "start_time": "2025-01-20T16:21:20.339Z"
   },
   {
    "duration": 9,
    "start_time": "2025-01-20T16:21:20.357Z"
   },
   {
    "duration": 64,
    "start_time": "2025-01-20T16:21:20.368Z"
   },
   {
    "duration": 8,
    "start_time": "2025-01-20T16:21:38.963Z"
   },
   {
    "duration": 8,
    "start_time": "2025-01-20T16:21:42.634Z"
   },
   {
    "duration": 6,
    "start_time": "2025-01-20T16:21:58.503Z"
   },
   {
    "duration": 14,
    "start_time": "2025-01-20T16:22:28.303Z"
   },
   {
    "duration": 35,
    "start_time": "2025-01-20T16:23:02.993Z"
   },
   {
    "duration": 116,
    "start_time": "2025-01-20T16:25:15.532Z"
   },
   {
    "duration": 38,
    "start_time": "2025-01-20T16:25:23.753Z"
   },
   {
    "duration": 10,
    "start_time": "2025-01-20T16:25:58.732Z"
   },
   {
    "duration": 17,
    "start_time": "2025-01-20T16:26:05.182Z"
   },
   {
    "duration": 16,
    "start_time": "2025-01-20T16:26:24.732Z"
   },
   {
    "duration": 35,
    "start_time": "2025-01-20T16:26:34.902Z"
   },
   {
    "duration": 14,
    "start_time": "2025-01-20T16:27:37.961Z"
   },
   {
    "duration": 149,
    "start_time": "2025-01-20T16:28:28.781Z"
   },
   {
    "duration": 137,
    "start_time": "2025-01-20T16:28:47.331Z"
   },
   {
    "duration": 192,
    "start_time": "2025-01-20T16:28:54.271Z"
   },
   {
    "duration": 175,
    "start_time": "2025-01-20T16:29:00.831Z"
   },
   {
    "duration": 16,
    "start_time": "2025-01-20T16:31:05.770Z"
   },
   {
    "duration": 8,
    "start_time": "2025-01-20T16:33:24.728Z"
   },
   {
    "duration": 8,
    "start_time": "2025-01-20T16:33:33.069Z"
   },
   {
    "duration": 6,
    "start_time": "2025-01-20T16:33:38.499Z"
   },
   {
    "duration": 12,
    "start_time": "2025-01-20T16:33:47.959Z"
   },
   {
    "duration": 6,
    "start_time": "2025-01-20T16:34:21.289Z"
   },
   {
    "duration": 23,
    "start_time": "2025-01-20T16:35:06.989Z"
   },
   {
    "duration": 34,
    "start_time": "2025-01-20T16:38:25.607Z"
   },
   {
    "duration": 16,
    "start_time": "2025-01-20T16:46:55.215Z"
   },
   {
    "duration": 4,
    "start_time": "2025-01-20T16:47:04.665Z"
   },
   {
    "duration": 19,
    "start_time": "2025-01-20T16:47:27.934Z"
   },
   {
    "duration": 7,
    "start_time": "2025-01-20T16:47:33.545Z"
   },
   {
    "duration": 19,
    "start_time": "2025-01-20T16:47:49.295Z"
   },
   {
    "duration": 0,
    "start_time": "2025-01-20T16:48:13.223Z"
   },
   {
    "duration": 0,
    "start_time": "2025-01-20T16:48:13.224Z"
   },
   {
    "duration": 0,
    "start_time": "2025-01-20T16:48:13.225Z"
   },
   {
    "duration": 0,
    "start_time": "2025-01-20T16:48:13.227Z"
   },
   {
    "duration": 0,
    "start_time": "2025-01-20T16:48:13.228Z"
   },
   {
    "duration": 0,
    "start_time": "2025-01-20T16:48:13.229Z"
   },
   {
    "duration": 0,
    "start_time": "2025-01-20T16:48:13.230Z"
   },
   {
    "duration": 0,
    "start_time": "2025-01-20T16:48:13.231Z"
   },
   {
    "duration": 0,
    "start_time": "2025-01-20T16:48:13.232Z"
   },
   {
    "duration": 0,
    "start_time": "2025-01-20T16:48:13.254Z"
   },
   {
    "duration": 0,
    "start_time": "2025-01-20T16:48:13.255Z"
   },
   {
    "duration": 0,
    "start_time": "2025-01-20T16:48:13.256Z"
   },
   {
    "duration": 0,
    "start_time": "2025-01-20T16:48:13.257Z"
   },
   {
    "duration": 0,
    "start_time": "2025-01-20T16:48:13.258Z"
   },
   {
    "duration": 0,
    "start_time": "2025-01-20T16:48:13.259Z"
   },
   {
    "duration": 0,
    "start_time": "2025-01-20T16:48:13.260Z"
   },
   {
    "duration": 0,
    "start_time": "2025-01-20T16:48:13.262Z"
   },
   {
    "duration": 504,
    "start_time": "2025-01-20T16:48:31.624Z"
   },
   {
    "duration": 53,
    "start_time": "2025-01-20T16:48:32.130Z"
   },
   {
    "duration": 16,
    "start_time": "2025-01-20T16:48:32.185Z"
   },
   {
    "duration": 2336,
    "start_time": "2025-01-20T16:48:32.203Z"
   },
   {
    "duration": 15,
    "start_time": "2025-01-20T16:48:34.543Z"
   },
   {
    "duration": 13,
    "start_time": "2025-01-20T16:48:34.560Z"
   },
   {
    "duration": 38,
    "start_time": "2025-01-20T16:48:34.576Z"
   },
   {
    "duration": 12,
    "start_time": "2025-01-20T16:48:34.615Z"
   },
   {
    "duration": 25,
    "start_time": "2025-01-20T16:48:34.628Z"
   },
   {
    "duration": 9,
    "start_time": "2025-01-20T16:48:34.654Z"
   },
   {
    "duration": 12,
    "start_time": "2025-01-20T16:48:34.665Z"
   },
   {
    "duration": 6,
    "start_time": "2025-01-20T16:48:34.678Z"
   },
   {
    "duration": 130,
    "start_time": "2025-01-20T16:48:34.685Z"
   },
   {
    "duration": 0,
    "start_time": "2025-01-20T16:48:34.816Z"
   },
   {
    "duration": 0,
    "start_time": "2025-01-20T16:48:34.818Z"
   },
   {
    "duration": 0,
    "start_time": "2025-01-20T16:48:34.819Z"
   },
   {
    "duration": 0,
    "start_time": "2025-01-20T16:48:34.821Z"
   },
   {
    "duration": 34,
    "start_time": "2025-01-20T16:49:11.864Z"
   },
   {
    "duration": 5,
    "start_time": "2025-01-20T16:55:49.841Z"
   },
   {
    "duration": 31,
    "start_time": "2025-01-20T16:55:52.501Z"
   },
   {
    "duration": 461,
    "start_time": "2025-01-20T16:56:24.883Z"
   },
   {
    "duration": 39,
    "start_time": "2025-01-20T16:56:25.345Z"
   },
   {
    "duration": 15,
    "start_time": "2025-01-20T16:56:25.385Z"
   },
   {
    "duration": 2068,
    "start_time": "2025-01-20T16:56:25.402Z"
   },
   {
    "duration": 10,
    "start_time": "2025-01-20T16:56:27.472Z"
   },
   {
    "duration": 15,
    "start_time": "2025-01-20T16:56:27.483Z"
   },
   {
    "duration": 31,
    "start_time": "2025-01-20T16:56:27.499Z"
   },
   {
    "duration": 23,
    "start_time": "2025-01-20T16:56:27.531Z"
   },
   {
    "duration": 9,
    "start_time": "2025-01-20T16:56:27.556Z"
   },
   {
    "duration": 37,
    "start_time": "2025-01-20T16:56:27.567Z"
   },
   {
    "duration": 6,
    "start_time": "2025-01-20T16:56:27.606Z"
   },
   {
    "duration": 21,
    "start_time": "2025-01-20T16:56:27.614Z"
   },
   {
    "duration": 33,
    "start_time": "2025-01-20T16:56:27.636Z"
   },
   {
    "duration": 5,
    "start_time": "2025-01-20T16:56:27.671Z"
   },
   {
    "duration": 11,
    "start_time": "2025-01-20T16:56:27.678Z"
   },
   {
    "duration": 4,
    "start_time": "2025-01-20T16:56:27.691Z"
   },
   {
    "duration": 26,
    "start_time": "2025-01-20T16:56:27.696Z"
   },
   {
    "duration": 440,
    "start_time": "2025-01-20T16:57:13.011Z"
   },
   {
    "duration": 39,
    "start_time": "2025-01-20T16:57:13.453Z"
   },
   {
    "duration": 14,
    "start_time": "2025-01-20T16:57:13.493Z"
   },
   {
    "duration": 2165,
    "start_time": "2025-01-20T16:57:13.509Z"
   },
   {
    "duration": 9,
    "start_time": "2025-01-20T16:57:15.677Z"
   },
   {
    "duration": 12,
    "start_time": "2025-01-20T16:57:15.688Z"
   },
   {
    "duration": 40,
    "start_time": "2025-01-20T16:57:15.702Z"
   },
   {
    "duration": 10,
    "start_time": "2025-01-20T16:57:15.744Z"
   },
   {
    "duration": 9,
    "start_time": "2025-01-20T16:57:15.756Z"
   },
   {
    "duration": 4,
    "start_time": "2025-01-20T16:57:15.767Z"
   },
   {
    "duration": 6,
    "start_time": "2025-01-20T16:57:15.772Z"
   },
   {
    "duration": 16,
    "start_time": "2025-01-20T16:57:15.779Z"
   },
   {
    "duration": 49,
    "start_time": "2025-01-20T16:57:15.796Z"
   },
   {
    "duration": 6,
    "start_time": "2025-01-20T16:57:15.847Z"
   },
   {
    "duration": 21,
    "start_time": "2025-01-20T16:57:15.854Z"
   },
   {
    "duration": 4,
    "start_time": "2025-01-20T16:57:15.876Z"
   },
   {
    "duration": 83,
    "start_time": "2025-01-20T16:57:15.882Z"
   },
   {
    "duration": 4,
    "start_time": "2025-01-20T16:57:33.981Z"
   },
   {
    "duration": 33,
    "start_time": "2025-01-20T17:06:55.507Z"
   },
   {
    "duration": 3,
    "start_time": "2025-01-20T17:08:40.707Z"
   },
   {
    "duration": 1351,
    "start_time": "2025-01-20T17:11:56.165Z"
   },
   {
    "duration": 5,
    "start_time": "2025-01-20T17:12:57.425Z"
   },
   {
    "duration": 14,
    "start_time": "2025-01-20T17:15:36.364Z"
   },
   {
    "duration": 13,
    "start_time": "2025-01-20T17:16:00.464Z"
   },
   {
    "duration": 21,
    "start_time": "2025-01-20T17:17:51.923Z"
   },
   {
    "duration": 53,
    "start_time": "2025-01-20T17:20:14.452Z"
   },
   {
    "duration": 13,
    "start_time": "2025-01-20T17:21:55.991Z"
   },
   {
    "duration": 5,
    "start_time": "2025-01-20T17:23:48.601Z"
   },
   {
    "duration": 461,
    "start_time": "2025-01-20T17:23:55.213Z"
   },
   {
    "duration": 39,
    "start_time": "2025-01-20T17:23:55.676Z"
   },
   {
    "duration": 20,
    "start_time": "2025-01-20T17:23:55.717Z"
   },
   {
    "duration": 2141,
    "start_time": "2025-01-20T17:23:55.738Z"
   },
   {
    "duration": 10,
    "start_time": "2025-01-20T17:23:57.881Z"
   },
   {
    "duration": 10,
    "start_time": "2025-01-20T17:23:57.893Z"
   },
   {
    "duration": 41,
    "start_time": "2025-01-20T17:23:57.904Z"
   },
   {
    "duration": 12,
    "start_time": "2025-01-20T17:23:57.947Z"
   },
   {
    "duration": 4,
    "start_time": "2025-01-20T17:23:57.960Z"
   },
   {
    "duration": 20,
    "start_time": "2025-01-20T17:23:57.965Z"
   },
   {
    "duration": 5,
    "start_time": "2025-01-20T17:23:57.986Z"
   },
   {
    "duration": 7,
    "start_time": "2025-01-20T17:23:57.992Z"
   },
   {
    "duration": 29,
    "start_time": "2025-01-20T17:23:58.000Z"
   },
   {
    "duration": 4,
    "start_time": "2025-01-20T17:23:58.031Z"
   },
   {
    "duration": 26,
    "start_time": "2025-01-20T17:23:58.036Z"
   },
   {
    "duration": 5,
    "start_time": "2025-01-20T17:23:58.063Z"
   },
   {
    "duration": 4,
    "start_time": "2025-01-20T17:23:58.069Z"
   },
   {
    "duration": 4,
    "start_time": "2025-01-20T17:23:58.074Z"
   },
   {
    "duration": 13,
    "start_time": "2025-01-20T17:23:58.080Z"
   },
   {
    "duration": 38,
    "start_time": "2025-01-20T17:23:58.094Z"
   },
   {
    "duration": 48,
    "start_time": "2025-01-20T17:23:58.134Z"
   },
   {
    "duration": 9,
    "start_time": "2025-01-20T17:23:58.184Z"
   },
   {
    "duration": 699,
    "start_time": "2025-01-20T17:53:22.649Z"
   },
   {
    "duration": 4,
    "start_time": "2025-01-20T17:54:07.949Z"
   },
   {
    "duration": 13,
    "start_time": "2025-01-20T17:54:20.020Z"
   },
   {
    "duration": 16,
    "start_time": "2025-01-20T17:55:58.708Z"
   },
   {
    "duration": 23,
    "start_time": "2025-01-20T17:56:28.758Z"
   },
   {
    "duration": 60,
    "start_time": "2025-01-20T17:58:15.998Z"
   },
   {
    "duration": 24,
    "start_time": "2025-01-20T17:58:49.327Z"
   },
   {
    "duration": 17,
    "start_time": "2025-01-20T18:00:35.047Z"
   },
   {
    "duration": 25,
    "start_time": "2025-01-20T18:00:44.617Z"
   },
   {
    "duration": 46,
    "start_time": "2025-01-20T18:04:04.486Z"
   },
   {
    "duration": 33,
    "start_time": "2025-01-20T18:05:22.615Z"
   },
   {
    "duration": 47,
    "start_time": "2025-01-20T18:13:37.612Z"
   },
   {
    "duration": 22,
    "start_time": "2025-01-20T18:54:17.578Z"
   },
   {
    "duration": 17,
    "start_time": "2025-01-20T18:54:34.558Z"
   },
   {
    "duration": 18,
    "start_time": "2025-01-20T18:55:26.038Z"
   },
   {
    "duration": 9,
    "start_time": "2025-01-20T18:55:48.478Z"
   },
   {
    "duration": 13,
    "start_time": "2025-01-20T18:56:03.417Z"
   },
   {
    "duration": 12,
    "start_time": "2025-01-20T18:56:05.759Z"
   },
   {
    "duration": 31,
    "start_time": "2025-01-20T18:56:56.487Z"
   },
   {
    "duration": 5,
    "start_time": "2025-01-20T18:57:15.958Z"
   },
   {
    "duration": 9,
    "start_time": "2025-01-20T18:57:52.146Z"
   },
   {
    "duration": 8,
    "start_time": "2025-01-20T18:58:42.216Z"
   },
   {
    "duration": 13,
    "start_time": "2025-01-20T19:02:19.635Z"
   },
   {
    "duration": 9,
    "start_time": "2025-01-20T19:02:24.824Z"
   },
   {
    "duration": 8,
    "start_time": "2025-01-20T19:02:51.915Z"
   },
   {
    "duration": 49,
    "start_time": "2025-01-21T10:32:52.251Z"
   },
   {
    "duration": 668,
    "start_time": "2025-01-21T10:33:02.084Z"
   },
   {
    "duration": 34,
    "start_time": "2025-01-21T10:33:02.754Z"
   },
   {
    "duration": 36,
    "start_time": "2025-01-21T10:33:02.790Z"
   },
   {
    "duration": 2130,
    "start_time": "2025-01-21T10:33:02.827Z"
   },
   {
    "duration": 9,
    "start_time": "2025-01-21T10:33:04.959Z"
   },
   {
    "duration": 26,
    "start_time": "2025-01-21T10:33:04.969Z"
   },
   {
    "duration": 36,
    "start_time": "2025-01-21T10:33:04.997Z"
   },
   {
    "duration": 11,
    "start_time": "2025-01-21T10:33:05.034Z"
   },
   {
    "duration": 3,
    "start_time": "2025-01-21T10:33:05.047Z"
   },
   {
    "duration": 5,
    "start_time": "2025-01-21T10:33:05.052Z"
   },
   {
    "duration": 16,
    "start_time": "2025-01-21T10:33:05.058Z"
   },
   {
    "duration": 12,
    "start_time": "2025-01-21T10:33:05.075Z"
   },
   {
    "duration": 53,
    "start_time": "2025-01-21T10:33:05.089Z"
   },
   {
    "duration": 4,
    "start_time": "2025-01-21T10:33:05.144Z"
   },
   {
    "duration": 16,
    "start_time": "2025-01-21T10:33:05.149Z"
   },
   {
    "duration": 16,
    "start_time": "2025-01-21T10:33:05.166Z"
   },
   {
    "duration": 24,
    "start_time": "2025-01-21T10:33:05.183Z"
   },
   {
    "duration": 21,
    "start_time": "2025-01-21T10:33:05.209Z"
   },
   {
    "duration": 20,
    "start_time": "2025-01-21T10:33:05.231Z"
   },
   {
    "duration": 9,
    "start_time": "2025-01-21T10:33:05.252Z"
   },
   {
    "duration": 7,
    "start_time": "2025-01-21T10:34:26.773Z"
   },
   {
    "duration": 8,
    "start_time": "2025-01-21T10:35:33.122Z"
   },
   {
    "duration": 10,
    "start_time": "2025-01-21T10:36:00.892Z"
   },
   {
    "duration": 8,
    "start_time": "2025-01-21T10:36:02.472Z"
   },
   {
    "duration": 6,
    "start_time": "2025-01-21T10:37:38.581Z"
   },
   {
    "duration": 8,
    "start_time": "2025-01-21T10:37:49.401Z"
   },
   {
    "duration": 5,
    "start_time": "2025-01-21T10:38:09.231Z"
   },
   {
    "duration": 8,
    "start_time": "2025-01-21T10:38:25.011Z"
   },
   {
    "duration": 21,
    "start_time": "2025-01-21T10:42:41.899Z"
   },
   {
    "duration": 1084,
    "start_time": "2025-01-21T10:46:19.317Z"
   },
   {
    "duration": 13,
    "start_time": "2025-01-21T10:47:15.257Z"
   },
   {
    "duration": 6,
    "start_time": "2025-01-21T10:47:29.837Z"
   },
   {
    "duration": 9,
    "start_time": "2025-01-21T10:47:43.256Z"
   },
   {
    "duration": 13,
    "start_time": "2025-01-21T10:48:03.947Z"
   },
   {
    "duration": 5,
    "start_time": "2025-01-21T10:54:10.594Z"
   },
   {
    "duration": 6,
    "start_time": "2025-01-21T10:54:20.144Z"
   },
   {
    "duration": 5,
    "start_time": "2025-01-21T10:54:55.904Z"
   },
   {
    "duration": 5,
    "start_time": "2025-01-21T10:54:59.914Z"
   },
   {
    "duration": 7,
    "start_time": "2025-01-21T10:57:01.383Z"
   },
   {
    "duration": 13,
    "start_time": "2025-01-21T10:59:32.442Z"
   },
   {
    "duration": 9,
    "start_time": "2025-01-21T10:59:43.592Z"
   },
   {
    "duration": 9,
    "start_time": "2025-01-21T11:02:15.631Z"
   },
   {
    "duration": 11,
    "start_time": "2025-01-21T11:09:07.919Z"
   },
   {
    "duration": 8,
    "start_time": "2025-01-21T11:09:16.449Z"
   },
   {
    "duration": 9,
    "start_time": "2025-01-21T11:11:37.758Z"
   },
   {
    "duration": 22,
    "start_time": "2025-01-21T11:14:07.907Z"
   },
   {
    "duration": 10,
    "start_time": "2025-01-21T11:14:12.718Z"
   },
   {
    "duration": 7,
    "start_time": "2025-01-21T11:14:17.947Z"
   },
   {
    "duration": 26,
    "start_time": "2025-01-21T11:15:06.847Z"
   },
   {
    "duration": 9,
    "start_time": "2025-01-21T11:15:08.957Z"
   },
   {
    "duration": 11,
    "start_time": "2025-01-21T11:19:25.865Z"
   },
   {
    "duration": 7,
    "start_time": "2025-01-21T11:19:34.906Z"
   },
   {
    "duration": 15,
    "start_time": "2025-01-21T11:19:43.956Z"
   },
   {
    "duration": 10,
    "start_time": "2025-01-21T11:20:08.115Z"
   },
   {
    "duration": 10,
    "start_time": "2025-01-21T11:20:09.735Z"
   },
   {
    "duration": 35,
    "start_time": "2025-01-21T11:22:45.494Z"
   },
   {
    "duration": 9,
    "start_time": "2025-01-21T11:22:46.954Z"
   },
   {
    "duration": 8,
    "start_time": "2025-01-21T11:22:48.114Z"
   },
   {
    "duration": 10,
    "start_time": "2025-01-21T11:22:52.205Z"
   },
   {
    "duration": 9,
    "start_time": "2025-01-21T11:22:53.494Z"
   },
   {
    "duration": 4,
    "start_time": "2025-01-21T11:27:11.862Z"
   },
   {
    "duration": 13,
    "start_time": "2025-01-21T11:27:23.954Z"
   },
   {
    "duration": 9,
    "start_time": "2025-01-21T11:27:25.422Z"
   },
   {
    "duration": 10,
    "start_time": "2025-01-21T11:27:55.302Z"
   },
   {
    "duration": 8,
    "start_time": "2025-01-21T11:27:56.493Z"
   },
   {
    "duration": 5,
    "start_time": "2025-01-21T11:29:30.611Z"
   },
   {
    "duration": 9,
    "start_time": "2025-01-21T11:29:31.792Z"
   },
   {
    "duration": 37,
    "start_time": "2025-01-21T12:00:05.321Z"
   },
   {
    "duration": 9,
    "start_time": "2025-01-21T12:00:06.721Z"
   },
   {
    "duration": 41,
    "start_time": "2025-01-21T12:00:39.690Z"
   },
   {
    "duration": 40,
    "start_time": "2025-01-21T12:00:45.440Z"
   },
   {
    "duration": 41,
    "start_time": "2025-01-21T12:00:59.550Z"
   },
   {
    "duration": 12,
    "start_time": "2025-01-21T12:01:00.380Z"
   },
   {
    "duration": 42,
    "start_time": "2025-01-21T12:02:04.430Z"
   },
   {
    "duration": 10,
    "start_time": "2025-01-21T12:02:05.380Z"
   },
   {
    "duration": 489,
    "start_time": "2025-01-21T12:02:16.649Z"
   },
   {
    "duration": 36,
    "start_time": "2025-01-21T12:02:17.140Z"
   },
   {
    "duration": 13,
    "start_time": "2025-01-21T12:02:17.177Z"
   },
   {
    "duration": 1978,
    "start_time": "2025-01-21T12:02:17.191Z"
   },
   {
    "duration": 8,
    "start_time": "2025-01-21T12:02:19.173Z"
   },
   {
    "duration": 21,
    "start_time": "2025-01-21T12:02:19.182Z"
   },
   {
    "duration": 61,
    "start_time": "2025-01-21T12:02:19.204Z"
   },
   {
    "duration": 11,
    "start_time": "2025-01-21T12:02:19.266Z"
   },
   {
    "duration": 17,
    "start_time": "2025-01-21T12:02:19.279Z"
   },
   {
    "duration": 13,
    "start_time": "2025-01-21T12:02:19.298Z"
   },
   {
    "duration": 13,
    "start_time": "2025-01-21T12:02:19.312Z"
   },
   {
    "duration": 34,
    "start_time": "2025-01-21T12:02:19.327Z"
   },
   {
    "duration": 40,
    "start_time": "2025-01-21T12:02:19.363Z"
   },
   {
    "duration": 4,
    "start_time": "2025-01-21T12:02:19.406Z"
   },
   {
    "duration": 15,
    "start_time": "2025-01-21T12:02:19.411Z"
   },
   {
    "duration": 4,
    "start_time": "2025-01-21T12:02:19.427Z"
   },
   {
    "duration": 4,
    "start_time": "2025-01-21T12:02:19.433Z"
   },
   {
    "duration": 4,
    "start_time": "2025-01-21T12:02:19.438Z"
   },
   {
    "duration": 11,
    "start_time": "2025-01-21T12:02:19.444Z"
   },
   {
    "duration": 40,
    "start_time": "2025-01-21T12:02:19.456Z"
   },
   {
    "duration": 55,
    "start_time": "2025-01-21T12:02:19.497Z"
   },
   {
    "duration": 9,
    "start_time": "2025-01-21T12:02:19.554Z"
   },
   {
    "duration": 31,
    "start_time": "2025-01-21T12:02:19.564Z"
   },
   {
    "duration": 43,
    "start_time": "2025-01-21T12:02:19.597Z"
   },
   {
    "duration": 18,
    "start_time": "2025-01-21T12:02:19.641Z"
   },
   {
    "duration": 8,
    "start_time": "2025-01-21T12:02:47.777Z"
   },
   {
    "duration": 485,
    "start_time": "2025-01-21T12:06:22.257Z"
   },
   {
    "duration": 35,
    "start_time": "2025-01-21T12:06:22.743Z"
   },
   {
    "duration": 13,
    "start_time": "2025-01-21T12:06:22.780Z"
   },
   {
    "duration": 1963,
    "start_time": "2025-01-21T12:06:22.794Z"
   },
   {
    "duration": 9,
    "start_time": "2025-01-21T12:06:24.759Z"
   },
   {
    "duration": 8,
    "start_time": "2025-01-21T12:06:24.769Z"
   },
   {
    "duration": 35,
    "start_time": "2025-01-21T12:06:24.779Z"
   },
   {
    "duration": 10,
    "start_time": "2025-01-21T12:06:24.815Z"
   },
   {
    "duration": 5,
    "start_time": "2025-01-21T12:06:24.827Z"
   },
   {
    "duration": 24,
    "start_time": "2025-01-21T12:06:24.834Z"
   },
   {
    "duration": 5,
    "start_time": "2025-01-21T12:06:24.859Z"
   },
   {
    "duration": 7,
    "start_time": "2025-01-21T12:06:24.865Z"
   },
   {
    "duration": 28,
    "start_time": "2025-01-21T12:06:24.874Z"
   },
   {
    "duration": 4,
    "start_time": "2025-01-21T12:06:24.904Z"
   },
   {
    "duration": 17,
    "start_time": "2025-01-21T12:06:24.909Z"
   },
   {
    "duration": 4,
    "start_time": "2025-01-21T12:06:24.927Z"
   },
   {
    "duration": 21,
    "start_time": "2025-01-21T12:06:24.932Z"
   },
   {
    "duration": 23,
    "start_time": "2025-01-21T12:06:24.954Z"
   },
   {
    "duration": 8,
    "start_time": "2025-01-21T12:06:24.978Z"
   },
   {
    "duration": 5,
    "start_time": "2025-01-21T12:06:24.988Z"
   },
   {
    "duration": 35,
    "start_time": "2025-01-21T12:06:24.995Z"
   },
   {
    "duration": 9,
    "start_time": "2025-01-21T12:06:25.031Z"
   },
   {
    "duration": 13,
    "start_time": "2025-01-21T12:06:25.042Z"
   },
   {
    "duration": 41,
    "start_time": "2025-01-21T12:06:25.057Z"
   },
   {
    "duration": 41,
    "start_time": "2025-01-21T12:06:25.099Z"
   },
   {
    "duration": 15,
    "start_time": "2025-01-21T12:06:25.142Z"
   },
   {
    "duration": 152,
    "start_time": "2025-01-21T12:14:39.683Z"
   },
   {
    "duration": 17,
    "start_time": "2025-01-21T12:14:42.252Z"
   },
   {
    "duration": 9,
    "start_time": "2025-01-21T12:15:25.492Z"
   },
   {
    "duration": 15,
    "start_time": "2025-01-21T12:15:33.202Z"
   },
   {
    "duration": 14,
    "start_time": "2025-01-21T12:15:39.942Z"
   },
   {
    "duration": 13,
    "start_time": "2025-01-21T12:17:12.332Z"
   },
   {
    "duration": 79,
    "start_time": "2025-01-21T12:19:17.681Z"
   },
   {
    "duration": 16,
    "start_time": "2025-01-21T12:19:22.691Z"
   },
   {
    "duration": 8,
    "start_time": "2025-01-21T12:22:59.210Z"
   },
   {
    "duration": 57,
    "start_time": "2025-01-21T12:23:10.800Z"
   },
   {
    "duration": 9,
    "start_time": "2025-01-21T12:23:11.840Z"
   },
   {
    "duration": 8,
    "start_time": "2025-01-21T12:23:45.649Z"
   },
   {
    "duration": 7,
    "start_time": "2025-01-21T12:25:48.649Z"
   },
   {
    "duration": 464,
    "start_time": "2025-01-21T12:25:57.169Z"
   },
   {
    "duration": 35,
    "start_time": "2025-01-21T12:25:57.635Z"
   },
   {
    "duration": 13,
    "start_time": "2025-01-21T12:25:57.672Z"
   },
   {
    "duration": 1876,
    "start_time": "2025-01-21T12:25:57.687Z"
   },
   {
    "duration": 8,
    "start_time": "2025-01-21T12:25:59.565Z"
   },
   {
    "duration": 5,
    "start_time": "2025-01-21T12:25:59.574Z"
   },
   {
    "duration": 40,
    "start_time": "2025-01-21T12:25:59.580Z"
   },
   {
    "duration": 10,
    "start_time": "2025-01-21T12:25:59.621Z"
   },
   {
    "duration": 13,
    "start_time": "2025-01-21T12:25:59.632Z"
   },
   {
    "duration": 5,
    "start_time": "2025-01-21T12:25:59.647Z"
   },
   {
    "duration": 26,
    "start_time": "2025-01-21T12:25:59.654Z"
   },
   {
    "duration": 23,
    "start_time": "2025-01-21T12:25:59.681Z"
   },
   {
    "duration": 36,
    "start_time": "2025-01-21T12:25:59.705Z"
   },
   {
    "duration": 4,
    "start_time": "2025-01-21T12:25:59.742Z"
   },
   {
    "duration": 18,
    "start_time": "2025-01-21T12:25:59.747Z"
   },
   {
    "duration": 27,
    "start_time": "2025-01-21T12:25:59.766Z"
   },
   {
    "duration": 16,
    "start_time": "2025-01-21T12:25:59.794Z"
   },
   {
    "duration": 14,
    "start_time": "2025-01-21T12:25:59.811Z"
   },
   {
    "duration": 18,
    "start_time": "2025-01-21T12:25:59.826Z"
   },
   {
    "duration": 9,
    "start_time": "2025-01-21T12:25:59.845Z"
   },
   {
    "duration": 7,
    "start_time": "2025-01-21T12:25:59.855Z"
   },
   {
    "duration": 38,
    "start_time": "2025-01-21T12:25:59.863Z"
   },
   {
    "duration": 9,
    "start_time": "2025-01-21T12:25:59.902Z"
   },
   {
    "duration": 91,
    "start_time": "2025-01-21T12:25:59.913Z"
   },
   {
    "duration": 9,
    "start_time": "2025-01-21T12:26:00.005Z"
   },
   {
    "duration": 41,
    "start_time": "2025-01-21T12:26:00.015Z"
   },
   {
    "duration": 1490,
    "start_time": "2025-01-21T12:30:41.687Z"
   },
   {
    "duration": 15,
    "start_time": "2025-01-21T12:30:55.897Z"
   },
   {
    "duration": 3,
    "start_time": "2025-01-21T12:31:10.118Z"
   },
   {
    "duration": 8,
    "start_time": "2025-01-21T12:31:16.717Z"
   },
   {
    "duration": 8,
    "start_time": "2025-01-21T12:32:03.417Z"
   },
   {
    "duration": 14,
    "start_time": "2025-01-21T12:33:56.596Z"
   },
   {
    "duration": 9,
    "start_time": "2025-01-21T12:34:07.955Z"
   },
   {
    "duration": 14,
    "start_time": "2025-01-21T12:35:30.405Z"
   },
   {
    "duration": 8,
    "start_time": "2025-01-21T12:35:38.315Z"
   },
   {
    "duration": 14,
    "start_time": "2025-01-21T12:37:08.774Z"
   },
   {
    "duration": 7,
    "start_time": "2025-01-21T12:37:20.505Z"
   },
   {
    "duration": 3,
    "start_time": "2025-01-21T14:08:20.581Z"
   },
   {
    "duration": 10,
    "start_time": "2025-01-21T14:08:51.520Z"
   },
   {
    "duration": 3,
    "start_time": "2025-01-21T14:10:41.030Z"
   },
   {
    "duration": 4,
    "start_time": "2025-01-21T14:13:15.038Z"
   },
   {
    "duration": 27,
    "start_time": "2025-01-21T14:13:18.369Z"
   },
   {
    "duration": 4,
    "start_time": "2025-01-21T14:13:23.438Z"
   },
   {
    "duration": 501,
    "start_time": "2025-01-21T14:26:56.577Z"
   },
   {
    "duration": 36,
    "start_time": "2025-01-21T14:26:57.080Z"
   },
   {
    "duration": 12,
    "start_time": "2025-01-21T14:26:57.118Z"
   },
   {
    "duration": 1981,
    "start_time": "2025-01-21T14:26:57.132Z"
   },
   {
    "duration": 8,
    "start_time": "2025-01-21T14:26:59.115Z"
   },
   {
    "duration": 10,
    "start_time": "2025-01-21T14:26:59.124Z"
   },
   {
    "duration": 34,
    "start_time": "2025-01-21T14:26:59.135Z"
   },
   {
    "duration": 4,
    "start_time": "2025-01-21T14:26:59.171Z"
   },
   {
    "duration": 15,
    "start_time": "2025-01-21T14:26:59.176Z"
   },
   {
    "duration": 333,
    "start_time": "2025-01-21T14:26:59.194Z"
   },
   {
    "duration": 0,
    "start_time": "2025-01-21T14:26:59.528Z"
   },
   {
    "duration": 0,
    "start_time": "2025-01-21T14:26:59.530Z"
   },
   {
    "duration": 0,
    "start_time": "2025-01-21T14:26:59.530Z"
   },
   {
    "duration": 0,
    "start_time": "2025-01-21T14:26:59.532Z"
   },
   {
    "duration": 0,
    "start_time": "2025-01-21T14:26:59.533Z"
   },
   {
    "duration": 0,
    "start_time": "2025-01-21T14:26:59.534Z"
   },
   {
    "duration": 0,
    "start_time": "2025-01-21T14:26:59.535Z"
   },
   {
    "duration": 0,
    "start_time": "2025-01-21T14:26:59.536Z"
   },
   {
    "duration": 0,
    "start_time": "2025-01-21T14:26:59.537Z"
   },
   {
    "duration": 0,
    "start_time": "2025-01-21T14:26:59.538Z"
   },
   {
    "duration": 0,
    "start_time": "2025-01-21T14:26:59.539Z"
   },
   {
    "duration": 0,
    "start_time": "2025-01-21T14:26:59.540Z"
   },
   {
    "duration": 0,
    "start_time": "2025-01-21T14:26:59.541Z"
   },
   {
    "duration": 0,
    "start_time": "2025-01-21T14:26:59.542Z"
   },
   {
    "duration": 0,
    "start_time": "2025-01-21T14:26:59.543Z"
   },
   {
    "duration": 0,
    "start_time": "2025-01-21T14:26:59.544Z"
   },
   {
    "duration": 0,
    "start_time": "2025-01-21T14:26:59.545Z"
   },
   {
    "duration": 10,
    "start_time": "2025-01-21T14:27:11.387Z"
   },
   {
    "duration": 509,
    "start_time": "2025-01-21T14:27:31.934Z"
   },
   {
    "duration": 37,
    "start_time": "2025-01-21T14:27:32.445Z"
   },
   {
    "duration": 13,
    "start_time": "2025-01-21T14:27:32.484Z"
   },
   {
    "duration": 2022,
    "start_time": "2025-01-21T14:27:32.499Z"
   },
   {
    "duration": 9,
    "start_time": "2025-01-21T14:27:34.524Z"
   },
   {
    "duration": 21,
    "start_time": "2025-01-21T14:27:34.534Z"
   },
   {
    "duration": 37,
    "start_time": "2025-01-21T14:27:34.557Z"
   },
   {
    "duration": 3,
    "start_time": "2025-01-21T14:27:34.596Z"
   },
   {
    "duration": 32,
    "start_time": "2025-01-21T14:27:34.601Z"
   },
   {
    "duration": 368,
    "start_time": "2025-01-21T14:27:34.635Z"
   },
   {
    "duration": 0,
    "start_time": "2025-01-21T14:27:35.005Z"
   },
   {
    "duration": 0,
    "start_time": "2025-01-21T14:27:35.006Z"
   },
   {
    "duration": 0,
    "start_time": "2025-01-21T14:27:35.007Z"
   },
   {
    "duration": 0,
    "start_time": "2025-01-21T14:27:35.008Z"
   },
   {
    "duration": 0,
    "start_time": "2025-01-21T14:27:35.009Z"
   },
   {
    "duration": 0,
    "start_time": "2025-01-21T14:27:35.010Z"
   },
   {
    "duration": 0,
    "start_time": "2025-01-21T14:27:35.011Z"
   },
   {
    "duration": 0,
    "start_time": "2025-01-21T14:27:35.012Z"
   },
   {
    "duration": 0,
    "start_time": "2025-01-21T14:27:35.013Z"
   },
   {
    "duration": 0,
    "start_time": "2025-01-21T14:27:35.014Z"
   },
   {
    "duration": 0,
    "start_time": "2025-01-21T14:27:35.015Z"
   },
   {
    "duration": 0,
    "start_time": "2025-01-21T14:27:35.015Z"
   },
   {
    "duration": 0,
    "start_time": "2025-01-21T14:27:35.016Z"
   },
   {
    "duration": 0,
    "start_time": "2025-01-21T14:27:35.018Z"
   },
   {
    "duration": 0,
    "start_time": "2025-01-21T14:27:35.019Z"
   },
   {
    "duration": 0,
    "start_time": "2025-01-21T14:27:35.020Z"
   },
   {
    "duration": 0,
    "start_time": "2025-01-21T14:27:35.021Z"
   },
   {
    "duration": 0,
    "start_time": "2025-01-21T14:27:35.022Z"
   },
   {
    "duration": 31,
    "start_time": "2025-01-21T14:28:24.423Z"
   },
   {
    "duration": 4,
    "start_time": "2025-01-21T14:28:42.643Z"
   },
   {
    "duration": 7,
    "start_time": "2025-01-21T14:28:44.043Z"
   },
   {
    "duration": 30,
    "start_time": "2025-01-21T14:28:46.173Z"
   },
   {
    "duration": 449,
    "start_time": "2025-01-21T14:29:06.797Z"
   },
   {
    "duration": 35,
    "start_time": "2025-01-21T14:29:07.248Z"
   },
   {
    "duration": 13,
    "start_time": "2025-01-21T14:29:07.284Z"
   },
   {
    "duration": 1950,
    "start_time": "2025-01-21T14:29:07.299Z"
   },
   {
    "duration": 9,
    "start_time": "2025-01-21T14:29:09.251Z"
   },
   {
    "duration": 7,
    "start_time": "2025-01-21T14:29:09.262Z"
   },
   {
    "duration": 36,
    "start_time": "2025-01-21T14:29:09.270Z"
   },
   {
    "duration": 3,
    "start_time": "2025-01-21T14:29:09.308Z"
   },
   {
    "duration": 14,
    "start_time": "2025-01-21T14:29:09.312Z"
   },
   {
    "duration": 47,
    "start_time": "2025-01-21T14:29:09.327Z"
   },
   {
    "duration": 4,
    "start_time": "2025-01-21T14:29:09.375Z"
   },
   {
    "duration": 22,
    "start_time": "2025-01-21T14:29:09.380Z"
   },
   {
    "duration": 9,
    "start_time": "2025-01-21T14:29:09.403Z"
   },
   {
    "duration": 17,
    "start_time": "2025-01-21T14:29:09.414Z"
   },
   {
    "duration": 28,
    "start_time": "2025-01-21T14:29:09.433Z"
   },
   {
    "duration": 4,
    "start_time": "2025-01-21T14:29:09.462Z"
   },
   {
    "duration": 21,
    "start_time": "2025-01-21T14:29:09.467Z"
   },
   {
    "duration": 10,
    "start_time": "2025-01-21T14:29:09.489Z"
   },
   {
    "duration": 5,
    "start_time": "2025-01-21T14:29:09.500Z"
   },
   {
    "duration": 7,
    "start_time": "2025-01-21T14:29:09.506Z"
   },
   {
    "duration": 21,
    "start_time": "2025-01-21T14:29:09.514Z"
   },
   {
    "duration": 17,
    "start_time": "2025-01-21T14:29:09.537Z"
   },
   {
    "duration": 26,
    "start_time": "2025-01-21T14:29:09.556Z"
   },
   {
    "duration": 65,
    "start_time": "2025-01-21T14:29:09.584Z"
   },
   {
    "duration": 10,
    "start_time": "2025-01-21T14:29:09.651Z"
   },
   {
    "duration": 76,
    "start_time": "2025-01-21T14:29:09.663Z"
   },
   {
    "duration": 9,
    "start_time": "2025-01-21T14:29:09.740Z"
   },
   {
    "duration": 94,
    "start_time": "2025-01-21T14:29:09.750Z"
   },
   {
    "duration": 8,
    "start_time": "2025-01-21T14:29:09.845Z"
   },
   {
    "duration": 6,
    "start_time": "2025-01-21T14:30:25.846Z"
   },
   {
    "duration": 5,
    "start_time": "2025-01-21T14:30:41.596Z"
   },
   {
    "duration": 5,
    "start_time": "2025-01-21T14:30:49.826Z"
   },
   {
    "duration": 40,
    "start_time": "2025-01-21T14:31:41.635Z"
   },
   {
    "duration": 25,
    "start_time": "2025-01-21T14:32:28.995Z"
   },
   {
    "duration": 39,
    "start_time": "2025-01-21T14:33:21.705Z"
   },
   {
    "duration": 44,
    "start_time": "2025-01-21T14:34:59.404Z"
   },
   {
    "duration": 8,
    "start_time": "2025-01-21T14:35:01.434Z"
   },
   {
    "duration": 35,
    "start_time": "2025-01-21T14:35:20.524Z"
   },
   {
    "duration": 1079,
    "start_time": "2025-01-21T14:36:33.555Z"
   },
   {
    "duration": 1039,
    "start_time": "2025-01-21T14:36:40.654Z"
   },
   {
    "duration": 34,
    "start_time": "2025-01-21T14:36:55.504Z"
   },
   {
    "duration": 37,
    "start_time": "2025-01-21T14:37:17.004Z"
   },
   {
    "duration": 49,
    "start_time": "2025-01-21T14:37:48.764Z"
   },
   {
    "duration": 44,
    "start_time": "2025-01-21T14:38:57.083Z"
   },
   {
    "duration": 493,
    "start_time": "2025-01-21T14:39:04.560Z"
   },
   {
    "duration": 37,
    "start_time": "2025-01-21T14:39:05.055Z"
   },
   {
    "duration": 21,
    "start_time": "2025-01-21T14:39:05.094Z"
   },
   {
    "duration": 1944,
    "start_time": "2025-01-21T14:39:05.117Z"
   },
   {
    "duration": 9,
    "start_time": "2025-01-21T14:39:07.063Z"
   },
   {
    "duration": 27,
    "start_time": "2025-01-21T14:39:07.073Z"
   },
   {
    "duration": 55,
    "start_time": "2025-01-21T14:39:07.101Z"
   },
   {
    "duration": 3,
    "start_time": "2025-01-21T14:39:07.158Z"
   },
   {
    "duration": 32,
    "start_time": "2025-01-21T14:39:07.162Z"
   },
   {
    "duration": 9,
    "start_time": "2025-01-21T14:39:07.195Z"
   },
   {
    "duration": 20,
    "start_time": "2025-01-21T14:39:07.206Z"
   },
   {
    "duration": 21,
    "start_time": "2025-01-21T14:39:07.227Z"
   },
   {
    "duration": 11,
    "start_time": "2025-01-21T14:39:07.250Z"
   },
   {
    "duration": 42,
    "start_time": "2025-01-21T14:39:07.263Z"
   },
   {
    "duration": 13,
    "start_time": "2025-01-21T14:39:07.306Z"
   },
   {
    "duration": 30,
    "start_time": "2025-01-21T14:39:07.320Z"
   },
   {
    "duration": 9,
    "start_time": "2025-01-21T14:39:07.352Z"
   },
   {
    "duration": 42,
    "start_time": "2025-01-21T14:39:07.363Z"
   },
   {
    "duration": 37,
    "start_time": "2025-01-21T14:39:07.406Z"
   },
   {
    "duration": 6,
    "start_time": "2025-01-21T14:39:07.444Z"
   },
   {
    "duration": 6,
    "start_time": "2025-01-21T14:39:07.451Z"
   },
   {
    "duration": 6,
    "start_time": "2025-01-21T14:39:07.459Z"
   },
   {
    "duration": 51,
    "start_time": "2025-01-21T14:39:07.466Z"
   },
   {
    "duration": 24,
    "start_time": "2025-01-21T14:39:07.518Z"
   },
   {
    "duration": 64,
    "start_time": "2025-01-21T14:39:07.543Z"
   },
   {
    "duration": 8,
    "start_time": "2025-01-21T14:39:07.608Z"
   },
   {
    "duration": 50,
    "start_time": "2025-01-21T14:39:07.617Z"
   },
   {
    "duration": 7,
    "start_time": "2025-01-21T14:39:07.669Z"
   },
   {
    "duration": 54,
    "start_time": "2025-01-21T14:39:07.677Z"
   },
   {
    "duration": 34,
    "start_time": "2025-01-21T14:39:26.839Z"
   },
   {
    "duration": 35,
    "start_time": "2025-01-21T14:39:51.169Z"
   },
   {
    "duration": 38,
    "start_time": "2025-01-21T14:40:09.589Z"
   },
   {
    "duration": 13,
    "start_time": "2025-01-21T14:40:30.299Z"
   },
   {
    "duration": 32,
    "start_time": "2025-01-21T14:41:39.259Z"
   },
   {
    "duration": 36,
    "start_time": "2025-01-21T14:41:58.708Z"
   },
   {
    "duration": 35,
    "start_time": "2025-01-21T14:42:09.809Z"
   },
   {
    "duration": 22,
    "start_time": "2025-01-21T14:45:34.208Z"
   },
   {
    "duration": 42,
    "start_time": "2025-01-21T14:45:49.937Z"
   },
   {
    "duration": 8,
    "start_time": "2025-01-21T14:45:50.787Z"
   },
   {
    "duration": 22,
    "start_time": "2025-01-21T14:45:55.597Z"
   },
   {
    "duration": 13,
    "start_time": "2025-01-21T14:46:08.877Z"
   },
   {
    "duration": 4,
    "start_time": "2025-01-21T14:46:42.477Z"
   },
   {
    "duration": 4,
    "start_time": "2025-01-21T14:47:40.446Z"
   },
   {
    "duration": 3,
    "start_time": "2025-01-21T14:47:52.807Z"
   },
   {
    "duration": 37,
    "start_time": "2025-01-21T14:53:24.025Z"
   },
   {
    "duration": 8,
    "start_time": "2025-01-21T14:58:01.753Z"
   },
   {
    "duration": 500,
    "start_time": "2025-01-21T14:58:27.434Z"
   },
   {
    "duration": 37,
    "start_time": "2025-01-21T14:58:27.935Z"
   },
   {
    "duration": 13,
    "start_time": "2025-01-21T14:58:27.973Z"
   },
   {
    "duration": 1885,
    "start_time": "2025-01-21T14:58:27.988Z"
   },
   {
    "duration": 9,
    "start_time": "2025-01-21T14:58:29.876Z"
   },
   {
    "duration": 10,
    "start_time": "2025-01-21T14:58:29.887Z"
   },
   {
    "duration": 36,
    "start_time": "2025-01-21T14:58:29.898Z"
   },
   {
    "duration": 4,
    "start_time": "2025-01-21T14:58:29.935Z"
   },
   {
    "duration": 16,
    "start_time": "2025-01-21T14:58:29.941Z"
   },
   {
    "duration": 3,
    "start_time": "2025-01-21T14:58:29.959Z"
   },
   {
    "duration": 7,
    "start_time": "2025-01-21T14:58:29.963Z"
   },
   {
    "duration": 4,
    "start_time": "2025-01-21T14:58:29.971Z"
   },
   {
    "duration": 10,
    "start_time": "2025-01-21T14:58:29.976Z"
   },
   {
    "duration": 32,
    "start_time": "2025-01-21T14:58:29.988Z"
   },
   {
    "duration": 16,
    "start_time": "2025-01-21T14:58:30.022Z"
   },
   {
    "duration": 49,
    "start_time": "2025-01-21T14:58:30.040Z"
   },
   {
    "duration": 50,
    "start_time": "2025-01-21T14:58:30.091Z"
   },
   {
    "duration": 34,
    "start_time": "2025-01-21T14:58:30.143Z"
   },
   {
    "duration": 68,
    "start_time": "2025-01-21T14:58:30.178Z"
   },
   {
    "duration": 74,
    "start_time": "2025-01-21T14:58:30.248Z"
   },
   {
    "duration": 51,
    "start_time": "2025-01-21T14:58:30.323Z"
   },
   {
    "duration": 43,
    "start_time": "2025-01-21T14:58:30.375Z"
   },
   {
    "duration": 58,
    "start_time": "2025-01-21T14:58:30.419Z"
   },
   {
    "duration": 32,
    "start_time": "2025-01-21T14:58:30.479Z"
   },
   {
    "duration": 78,
    "start_time": "2025-01-21T14:58:30.512Z"
   },
   {
    "duration": 8,
    "start_time": "2025-01-21T14:58:30.591Z"
   },
   {
    "duration": 56,
    "start_time": "2025-01-21T14:58:30.600Z"
   },
   {
    "duration": 4,
    "start_time": "2025-01-21T14:58:30.657Z"
   },
   {
    "duration": 51,
    "start_time": "2025-01-21T14:58:30.662Z"
   },
   {
    "duration": 73,
    "start_time": "2025-01-21T15:14:29.516Z"
   },
   {
    "duration": 5,
    "start_time": "2025-01-21T15:14:34.406Z"
   },
   {
    "duration": 20,
    "start_time": "2025-01-21T15:15:55.065Z"
   },
   {
    "duration": 8,
    "start_time": "2025-01-21T15:23:35.222Z"
   },
   {
    "duration": 21,
    "start_time": "2025-01-21T15:23:47.582Z"
   },
   {
    "duration": 31,
    "start_time": "2025-01-21T15:24:37.132Z"
   },
   {
    "duration": 450,
    "start_time": "2025-01-21T15:24:45.583Z"
   },
   {
    "duration": 34,
    "start_time": "2025-01-21T15:24:46.035Z"
   },
   {
    "duration": 12,
    "start_time": "2025-01-21T15:24:46.070Z"
   },
   {
    "duration": 1881,
    "start_time": "2025-01-21T15:24:46.084Z"
   },
   {
    "duration": 8,
    "start_time": "2025-01-21T15:24:47.967Z"
   },
   {
    "duration": 20,
    "start_time": "2025-01-21T15:24:47.977Z"
   },
   {
    "duration": 32,
    "start_time": "2025-01-21T15:24:47.998Z"
   },
   {
    "duration": 3,
    "start_time": "2025-01-21T15:24:48.032Z"
   },
   {
    "duration": 10,
    "start_time": "2025-01-21T15:24:48.036Z"
   },
   {
    "duration": 3,
    "start_time": "2025-01-21T15:24:48.048Z"
   },
   {
    "duration": 9,
    "start_time": "2025-01-21T15:24:48.052Z"
   },
   {
    "duration": 16,
    "start_time": "2025-01-21T15:24:48.062Z"
   },
   {
    "duration": 16,
    "start_time": "2025-01-21T15:24:48.079Z"
   },
   {
    "duration": 32,
    "start_time": "2025-01-21T15:24:48.097Z"
   },
   {
    "duration": 4,
    "start_time": "2025-01-21T15:24:48.130Z"
   },
   {
    "duration": 22,
    "start_time": "2025-01-21T15:24:48.135Z"
   },
   {
    "duration": 8,
    "start_time": "2025-01-21T15:24:48.159Z"
   },
   {
    "duration": 3,
    "start_time": "2025-01-21T15:24:48.168Z"
   },
   {
    "duration": 5,
    "start_time": "2025-01-21T15:24:48.173Z"
   },
   {
    "duration": 8,
    "start_time": "2025-01-21T15:24:48.180Z"
   },
   {
    "duration": 26,
    "start_time": "2025-01-21T15:24:48.189Z"
   },
   {
    "duration": 6,
    "start_time": "2025-01-21T15:24:48.216Z"
   },
   {
    "duration": 38,
    "start_time": "2025-01-21T15:24:48.223Z"
   },
   {
    "duration": 10,
    "start_time": "2025-01-21T15:24:48.263Z"
   },
   {
    "duration": 57,
    "start_time": "2025-01-21T15:24:48.274Z"
   },
   {
    "duration": 8,
    "start_time": "2025-01-21T15:24:48.332Z"
   },
   {
    "duration": 31,
    "start_time": "2025-01-21T15:24:48.341Z"
   },
   {
    "duration": 4,
    "start_time": "2025-01-21T15:24:48.374Z"
   },
   {
    "duration": 10,
    "start_time": "2025-01-21T15:24:48.379Z"
   },
   {
    "duration": 24,
    "start_time": "2025-01-21T15:24:48.391Z"
   },
   {
    "duration": 8,
    "start_time": "2025-01-21T15:24:48.416Z"
   },
   {
    "duration": 44,
    "start_time": "2025-01-21T15:24:48.425Z"
   },
   {
    "duration": 80,
    "start_time": "2025-01-21T15:27:16.331Z"
   },
   {
    "duration": 12,
    "start_time": "2025-01-21T15:27:45.591Z"
   },
   {
    "duration": 13,
    "start_time": "2025-01-21T15:27:49.741Z"
   },
   {
    "duration": 13,
    "start_time": "2025-01-21T15:28:11.290Z"
   },
   {
    "duration": 9,
    "start_time": "2025-01-21T15:30:58.249Z"
   },
   {
    "duration": 8,
    "start_time": "2025-01-21T15:31:07.160Z"
   },
   {
    "duration": 8,
    "start_time": "2025-01-21T15:31:09.599Z"
   },
   {
    "duration": 22,
    "start_time": "2025-01-21T15:31:22.679Z"
   },
   {
    "duration": 5,
    "start_time": "2025-01-21T15:32:22.199Z"
   },
   {
    "duration": 7,
    "start_time": "2025-01-21T15:32:43.399Z"
   },
   {
    "duration": 4,
    "start_time": "2025-01-21T15:32:44.530Z"
   },
   {
    "duration": 2224,
    "start_time": "2025-01-21T15:33:55.678Z"
   },
   {
    "duration": 7,
    "start_time": "2025-01-21T15:33:58.798Z"
   },
   {
    "duration": 2212,
    "start_time": "2025-01-21T15:34:05.889Z"
   },
   {
    "duration": 12,
    "start_time": "2025-01-21T15:36:26.668Z"
   },
   {
    "duration": 9,
    "start_time": "2025-01-21T15:36:56.228Z"
   },
   {
    "duration": 6,
    "start_time": "2025-01-21T15:37:01.217Z"
   },
   {
    "duration": 8,
    "start_time": "2025-01-21T15:42:59.155Z"
   },
   {
    "duration": 4,
    "start_time": "2025-01-21T15:43:04.055Z"
   },
   {
    "duration": 23,
    "start_time": "2025-01-21T15:43:13.555Z"
   },
   {
    "duration": 7,
    "start_time": "2025-01-21T15:44:32.485Z"
   },
   {
    "duration": 8,
    "start_time": "2025-01-21T15:44:53.724Z"
   },
   {
    "duration": 5,
    "start_time": "2025-01-21T15:45:45.904Z"
   },
   {
    "duration": 5,
    "start_time": "2025-01-21T15:47:29.313Z"
   },
   {
    "duration": 29,
    "start_time": "2025-01-21T15:47:40.004Z"
   },
   {
    "duration": 5,
    "start_time": "2025-01-21T15:48:51.403Z"
   },
   {
    "duration": 4,
    "start_time": "2025-01-21T15:49:16.083Z"
   },
   {
    "duration": 3,
    "start_time": "2025-01-21T15:54:25.241Z"
   },
   {
    "duration": 16,
    "start_time": "2025-01-21T15:54:26.501Z"
   },
   {
    "duration": 343,
    "start_time": "2025-01-21T15:58:02.080Z"
   },
   {
    "duration": 29,
    "start_time": "2025-01-21T15:58:11.110Z"
   },
   {
    "duration": 3,
    "start_time": "2025-01-21T15:58:17.890Z"
   },
   {
    "duration": 280,
    "start_time": "2025-01-21T15:58:18.889Z"
   },
   {
    "duration": 465,
    "start_time": "2025-01-21T15:58:28.971Z"
   },
   {
    "duration": 35,
    "start_time": "2025-01-21T15:58:29.438Z"
   },
   {
    "duration": 15,
    "start_time": "2025-01-21T15:58:29.475Z"
   },
   {
    "duration": 1929,
    "start_time": "2025-01-21T15:58:29.492Z"
   },
   {
    "duration": 9,
    "start_time": "2025-01-21T15:58:31.423Z"
   },
   {
    "duration": 44,
    "start_time": "2025-01-21T15:58:31.434Z"
   },
   {
    "duration": 70,
    "start_time": "2025-01-21T15:58:31.479Z"
   },
   {
    "duration": 4,
    "start_time": "2025-01-21T15:58:31.550Z"
   },
   {
    "duration": 51,
    "start_time": "2025-01-21T15:58:31.556Z"
   },
   {
    "duration": 22,
    "start_time": "2025-01-21T15:58:31.608Z"
   },
   {
    "duration": 34,
    "start_time": "2025-01-21T15:58:31.631Z"
   },
   {
    "duration": 37,
    "start_time": "2025-01-21T15:58:31.666Z"
   },
   {
    "duration": 8,
    "start_time": "2025-01-21T15:58:31.704Z"
   },
   {
    "duration": 61,
    "start_time": "2025-01-21T15:58:31.715Z"
   },
   {
    "duration": 4,
    "start_time": "2025-01-21T15:58:31.778Z"
   },
   {
    "duration": 51,
    "start_time": "2025-01-21T15:58:31.783Z"
   },
   {
    "duration": 24,
    "start_time": "2025-01-21T15:58:31.836Z"
   },
   {
    "duration": 9,
    "start_time": "2025-01-21T15:58:31.862Z"
   },
   {
    "duration": 43,
    "start_time": "2025-01-21T15:58:31.873Z"
   },
   {
    "duration": 35,
    "start_time": "2025-01-21T15:58:31.918Z"
   },
   {
    "duration": 39,
    "start_time": "2025-01-21T15:58:31.955Z"
   },
   {
    "duration": 30,
    "start_time": "2025-01-21T15:58:31.995Z"
   },
   {
    "duration": 96,
    "start_time": "2025-01-21T15:58:32.026Z"
   },
   {
    "duration": 18,
    "start_time": "2025-01-21T15:58:32.124Z"
   },
   {
    "duration": 75,
    "start_time": "2025-01-21T15:58:32.144Z"
   },
   {
    "duration": 13,
    "start_time": "2025-01-21T15:58:32.221Z"
   },
   {
    "duration": 46,
    "start_time": "2025-01-21T15:58:32.235Z"
   },
   {
    "duration": 4,
    "start_time": "2025-01-21T15:58:32.283Z"
   },
   {
    "duration": 12,
    "start_time": "2025-01-21T15:58:32.288Z"
   },
   {
    "duration": 32,
    "start_time": "2025-01-21T15:58:32.301Z"
   },
   {
    "duration": 16,
    "start_time": "2025-01-21T15:58:32.334Z"
   },
   {
    "duration": 21,
    "start_time": "2025-01-21T15:58:32.351Z"
   },
   {
    "duration": 8,
    "start_time": "2025-01-21T15:58:32.373Z"
   },
   {
    "duration": 17,
    "start_time": "2025-01-21T15:58:32.383Z"
   },
   {
    "duration": 8,
    "start_time": "2025-01-21T15:58:32.402Z"
   },
   {
    "duration": 4,
    "start_time": "2025-01-21T15:58:32.411Z"
   },
   {
    "duration": 3,
    "start_time": "2025-01-21T15:58:32.416Z"
   },
   {
    "duration": 304,
    "start_time": "2025-01-21T15:58:32.420Z"
   },
   {
    "duration": 31,
    "start_time": "2025-01-21T15:58:32.726Z"
   },
   {
    "duration": 10,
    "start_time": "2025-01-21T15:59:30.800Z"
   },
   {
    "duration": 3,
    "start_time": "2025-01-21T16:00:43.389Z"
   },
   {
    "duration": 288,
    "start_time": "2025-01-21T16:00:45.159Z"
   },
   {
    "duration": 10,
    "start_time": "2025-01-21T16:00:46.229Z"
   },
   {
    "duration": 453,
    "start_time": "2025-01-21T16:01:03.900Z"
   },
   {
    "duration": 36,
    "start_time": "2025-01-21T16:01:04.355Z"
   },
   {
    "duration": 14,
    "start_time": "2025-01-21T16:01:04.393Z"
   },
   {
    "duration": 1933,
    "start_time": "2025-01-21T16:01:04.408Z"
   },
   {
    "duration": 9,
    "start_time": "2025-01-21T16:01:06.343Z"
   },
   {
    "duration": 5,
    "start_time": "2025-01-21T16:01:06.353Z"
   },
   {
    "duration": 44,
    "start_time": "2025-01-21T16:01:06.359Z"
   },
   {
    "duration": 10,
    "start_time": "2025-01-21T16:01:06.405Z"
   },
   {
    "duration": 31,
    "start_time": "2025-01-21T16:01:06.416Z"
   },
   {
    "duration": 40,
    "start_time": "2025-01-21T16:01:06.449Z"
   },
   {
    "duration": 30,
    "start_time": "2025-01-21T16:01:06.490Z"
   },
   {
    "duration": 38,
    "start_time": "2025-01-21T16:01:06.522Z"
   },
   {
    "duration": 12,
    "start_time": "2025-01-21T16:01:06.561Z"
   },
   {
    "duration": 67,
    "start_time": "2025-01-21T16:01:06.576Z"
   },
   {
    "duration": 3,
    "start_time": "2025-01-21T16:01:06.645Z"
   },
   {
    "duration": 13,
    "start_time": "2025-01-21T16:01:06.649Z"
   },
   {
    "duration": 3,
    "start_time": "2025-01-21T16:01:06.663Z"
   },
   {
    "duration": 37,
    "start_time": "2025-01-21T16:01:06.667Z"
   },
   {
    "duration": 25,
    "start_time": "2025-01-21T16:01:06.705Z"
   },
   {
    "duration": 18,
    "start_time": "2025-01-21T16:01:06.731Z"
   },
   {
    "duration": 11,
    "start_time": "2025-01-21T16:01:06.750Z"
   },
   {
    "duration": 26,
    "start_time": "2025-01-21T16:01:06.762Z"
   },
   {
    "duration": 55,
    "start_time": "2025-01-21T16:01:06.789Z"
   },
   {
    "duration": 10,
    "start_time": "2025-01-21T16:01:06.845Z"
   },
   {
    "duration": 56,
    "start_time": "2025-01-21T16:01:06.857Z"
   },
   {
    "duration": 16,
    "start_time": "2025-01-21T16:01:06.915Z"
   },
   {
    "duration": 36,
    "start_time": "2025-01-21T16:01:06.933Z"
   },
   {
    "duration": 4,
    "start_time": "2025-01-21T16:01:06.971Z"
   },
   {
    "duration": 27,
    "start_time": "2025-01-21T16:01:06.976Z"
   },
   {
    "duration": 39,
    "start_time": "2025-01-21T16:01:07.004Z"
   },
   {
    "duration": 8,
    "start_time": "2025-01-21T16:01:07.044Z"
   },
   {
    "duration": 27,
    "start_time": "2025-01-21T16:01:07.053Z"
   },
   {
    "duration": 28,
    "start_time": "2025-01-21T16:01:07.082Z"
   },
   {
    "duration": 51,
    "start_time": "2025-01-21T16:01:07.112Z"
   },
   {
    "duration": 44,
    "start_time": "2025-01-21T16:01:07.164Z"
   },
   {
    "duration": 36,
    "start_time": "2025-01-21T16:01:07.209Z"
   },
   {
    "duration": 53,
    "start_time": "2025-01-21T16:01:07.247Z"
   },
   {
    "duration": 325,
    "start_time": "2025-01-21T16:01:07.301Z"
   },
   {
    "duration": 9,
    "start_time": "2025-01-21T16:01:07.628Z"
   },
   {
    "duration": 3,
    "start_time": "2025-01-21T16:01:55.628Z"
   },
   {
    "duration": 289,
    "start_time": "2025-01-21T16:01:57.878Z"
   },
   {
    "duration": 11,
    "start_time": "2025-01-21T16:01:59.118Z"
   },
   {
    "duration": 174,
    "start_time": "2025-01-21T16:02:15.838Z"
   },
   {
    "duration": 3,
    "start_time": "2025-01-21T16:02:30.978Z"
   },
   {
    "duration": 329,
    "start_time": "2025-01-21T16:02:31.859Z"
   },
   {
    "duration": 10,
    "start_time": "2025-01-21T16:02:33.028Z"
   },
   {
    "duration": 3,
    "start_time": "2025-01-21T16:02:55.868Z"
   },
   {
    "duration": 286,
    "start_time": "2025-01-21T16:02:57.888Z"
   },
   {
    "duration": 10,
    "start_time": "2025-01-21T16:02:59.308Z"
   },
   {
    "duration": 3,
    "start_time": "2025-01-21T16:03:20.248Z"
   },
   {
    "duration": 155,
    "start_time": "2025-01-21T16:03:21.278Z"
   },
   {
    "duration": 3,
    "start_time": "2025-01-21T16:05:04.917Z"
   },
   {
    "duration": 347,
    "start_time": "2025-01-21T16:05:07.987Z"
   },
   {
    "duration": 10,
    "start_time": "2025-01-21T16:05:09.547Z"
   },
   {
    "duration": 15,
    "start_time": "2025-01-21T16:05:30.147Z"
   },
   {
    "duration": 17,
    "start_time": "2025-01-21T16:05:36.917Z"
   },
   {
    "duration": 30,
    "start_time": "2025-01-21T16:05:43.977Z"
   },
   {
    "duration": 3,
    "start_time": "2025-01-21T16:08:20.036Z"
   },
   {
    "duration": 287,
    "start_time": "2025-01-21T16:08:21.176Z"
   },
   {
    "duration": 29,
    "start_time": "2025-01-21T16:08:22.366Z"
   },
   {
    "duration": 13,
    "start_time": "2025-01-21T16:08:33.766Z"
   },
   {
    "duration": 2,
    "start_time": "2025-01-21T16:08:44.706Z"
   },
   {
    "duration": 86,
    "start_time": "2025-01-21T16:08:45.606Z"
   },
   {
    "duration": 4,
    "start_time": "2025-01-21T16:09:30.158Z"
   },
   {
    "duration": 155,
    "start_time": "2025-01-21T16:09:32.717Z"
   },
   {
    "duration": 3,
    "start_time": "2025-01-21T16:10:13.585Z"
   },
   {
    "duration": 90,
    "start_time": "2025-01-21T16:10:15.515Z"
   },
   {
    "duration": 3,
    "start_time": "2025-01-21T16:10:23.305Z"
   },
   {
    "duration": 91,
    "start_time": "2025-01-21T16:10:28.236Z"
   },
   {
    "duration": 1209,
    "start_time": "2025-01-21T16:12:24.704Z"
   },
   {
    "duration": 14,
    "start_time": "2025-01-21T16:12:26.185Z"
   },
   {
    "duration": 14,
    "start_time": "2025-01-21T16:12:28.665Z"
   },
   {
    "duration": 37,
    "start_time": "2025-01-21T16:12:35.045Z"
   },
   {
    "duration": 1178,
    "start_time": "2025-01-21T16:13:16.245Z"
   },
   {
    "duration": 38,
    "start_time": "2025-01-21T16:13:32.235Z"
   },
   {
    "duration": 4,
    "start_time": "2025-01-21T16:14:20.526Z"
   },
   {
    "duration": 303,
    "start_time": "2025-01-21T16:14:25.104Z"
   },
   {
    "duration": 26,
    "start_time": "2025-01-21T16:14:33.154Z"
   },
   {
    "duration": 4,
    "start_time": "2025-01-21T16:15:15.464Z"
   },
   {
    "duration": 375,
    "start_time": "2025-01-21T16:15:16.684Z"
   },
   {
    "duration": 27,
    "start_time": "2025-01-21T16:15:17.804Z"
   },
   {
    "duration": 3,
    "start_time": "2025-01-21T16:15:57.914Z"
   },
   {
    "duration": 269,
    "start_time": "2025-01-21T16:15:59.084Z"
   },
   {
    "duration": 3,
    "start_time": "2025-01-21T16:16:13.794Z"
   },
   {
    "duration": 280,
    "start_time": "2025-01-21T16:16:15.334Z"
   },
   {
    "duration": 26,
    "start_time": "2025-01-21T16:16:17.424Z"
   },
   {
    "duration": 15,
    "start_time": "2025-01-21T16:16:37.514Z"
   },
   {
    "duration": 31,
    "start_time": "2025-01-21T16:16:46.123Z"
   },
   {
    "duration": 40,
    "start_time": "2025-01-21T16:17:09.544Z"
   },
   {
    "duration": 8,
    "start_time": "2025-01-21T16:17:33.373Z"
   },
   {
    "duration": 6,
    "start_time": "2025-01-21T16:17:46.044Z"
   },
   {
    "duration": 4,
    "start_time": "2025-01-21T16:18:08.324Z"
   },
   {
    "duration": 6,
    "start_time": "2025-01-21T16:21:23.755Z"
   },
   {
    "duration": 867,
    "start_time": "2025-01-21T16:24:05.721Z"
   },
   {
    "duration": 5,
    "start_time": "2025-01-21T16:24:44.331Z"
   },
   {
    "duration": 772,
    "start_time": "2025-01-21T16:24:45.981Z"
   },
   {
    "duration": 36,
    "start_time": "2025-01-21T16:25:18.251Z"
   },
   {
    "duration": 758,
    "start_time": "2025-01-21T16:25:56.331Z"
   },
   {
    "duration": 278,
    "start_time": "2025-01-21T16:26:43.070Z"
   },
   {
    "duration": 7,
    "start_time": "2025-01-21T16:26:44.181Z"
   },
   {
    "duration": 4,
    "start_time": "2025-01-21T16:28:35.520Z"
   },
   {
    "duration": 28,
    "start_time": "2025-01-21T16:28:44.721Z"
   },
   {
    "duration": 11,
    "start_time": "2025-01-21T16:29:19.159Z"
   },
   {
    "duration": 164,
    "start_time": "2025-01-22T10:10:24.303Z"
   },
   {
    "duration": 47,
    "start_time": "2025-01-22T10:10:30.292Z"
   },
   {
    "duration": 586,
    "start_time": "2025-01-22T10:10:37.963Z"
   },
   {
    "duration": 41,
    "start_time": "2025-01-22T10:10:38.551Z"
   },
   {
    "duration": 15,
    "start_time": "2025-01-22T10:10:38.596Z"
   },
   {
    "duration": 2489,
    "start_time": "2025-01-22T10:10:38.613Z"
   },
   {
    "duration": 11,
    "start_time": "2025-01-22T10:10:41.104Z"
   },
   {
    "duration": 17,
    "start_time": "2025-01-22T10:10:41.117Z"
   },
   {
    "duration": 34,
    "start_time": "2025-01-22T10:10:41.135Z"
   },
   {
    "duration": 4,
    "start_time": "2025-01-22T10:10:41.170Z"
   },
   {
    "duration": 29,
    "start_time": "2025-01-22T10:10:41.175Z"
   },
   {
    "duration": 4,
    "start_time": "2025-01-22T10:10:41.206Z"
   },
   {
    "duration": 15,
    "start_time": "2025-01-22T10:10:41.212Z"
   },
   {
    "duration": 6,
    "start_time": "2025-01-22T10:10:41.229Z"
   },
   {
    "duration": 7,
    "start_time": "2025-01-22T10:10:41.239Z"
   },
   {
    "duration": 32,
    "start_time": "2025-01-22T10:10:41.247Z"
   },
   {
    "duration": 21,
    "start_time": "2025-01-22T10:10:41.281Z"
   },
   {
    "duration": 9,
    "start_time": "2025-01-22T10:10:41.304Z"
   },
   {
    "duration": 4,
    "start_time": "2025-01-22T10:10:41.314Z"
   },
   {
    "duration": 18,
    "start_time": "2025-01-22T10:10:41.319Z"
   },
   {
    "duration": 9,
    "start_time": "2025-01-22T10:10:41.339Z"
   },
   {
    "duration": 8,
    "start_time": "2025-01-22T10:10:41.349Z"
   },
   {
    "duration": 6,
    "start_time": "2025-01-22T10:10:41.359Z"
   },
   {
    "duration": 11,
    "start_time": "2025-01-22T10:10:41.367Z"
   },
   {
    "duration": 58,
    "start_time": "2025-01-22T10:10:41.379Z"
   },
   {
    "duration": 11,
    "start_time": "2025-01-22T10:10:41.439Z"
   },
   {
    "duration": 67,
    "start_time": "2025-01-22T10:10:41.452Z"
   },
   {
    "duration": 10,
    "start_time": "2025-01-22T10:10:41.536Z"
   },
   {
    "duration": 32,
    "start_time": "2025-01-22T10:10:41.548Z"
   },
   {
    "duration": 5,
    "start_time": "2025-01-22T10:10:41.582Z"
   },
   {
    "duration": 5,
    "start_time": "2025-01-22T10:10:41.588Z"
   },
   {
    "duration": 55,
    "start_time": "2025-01-22T10:10:41.595Z"
   },
   {
    "duration": 9,
    "start_time": "2025-01-22T10:10:41.651Z"
   },
   {
    "duration": 13,
    "start_time": "2025-01-22T10:10:41.661Z"
   },
   {
    "duration": 5,
    "start_time": "2025-01-22T10:10:41.676Z"
   },
   {
    "duration": 20,
    "start_time": "2025-01-22T10:10:41.682Z"
   },
   {
    "duration": 25,
    "start_time": "2025-01-22T10:10:41.703Z"
   },
   {
    "duration": 48,
    "start_time": "2025-01-22T10:10:41.730Z"
   },
   {
    "duration": 4,
    "start_time": "2025-01-22T10:10:41.779Z"
   },
   {
    "duration": 306,
    "start_time": "2025-01-22T10:10:41.784Z"
   },
   {
    "duration": 7,
    "start_time": "2025-01-22T10:10:42.091Z"
   },
   {
    "duration": 13,
    "start_time": "2025-01-22T10:10:42.102Z"
   },
   {
    "duration": 761,
    "start_time": "2025-01-22T10:10:42.117Z"
   },
   {
    "duration": 1040,
    "start_time": "2025-01-22T10:10:54.933Z"
   },
   {
    "duration": 1116,
    "start_time": "2025-01-22T10:11:02.793Z"
   },
   {
    "duration": 1111,
    "start_time": "2025-01-22T10:11:26.002Z"
   },
   {
    "duration": 110,
    "start_time": "2025-01-22T10:23:48.607Z"
   },
   {
    "duration": 153,
    "start_time": "2025-01-22T10:24:00.697Z"
   },
   {
    "duration": 171,
    "start_time": "2025-01-22T10:24:25.526Z"
   },
   {
    "duration": 6,
    "start_time": "2025-01-22T10:24:55.760Z"
   },
   {
    "duration": 6,
    "start_time": "2025-01-22T10:25:09.867Z"
   },
   {
    "duration": 549,
    "start_time": "2025-01-22T10:25:23.731Z"
   },
   {
    "duration": 42,
    "start_time": "2025-01-22T10:25:24.282Z"
   },
   {
    "duration": 22,
    "start_time": "2025-01-22T10:25:24.326Z"
   },
   {
    "duration": 2328,
    "start_time": "2025-01-22T10:25:24.350Z"
   },
   {
    "duration": 11,
    "start_time": "2025-01-22T10:25:26.680Z"
   },
   {
    "duration": 11,
    "start_time": "2025-01-22T10:25:26.693Z"
   },
   {
    "duration": 41,
    "start_time": "2025-01-22T10:25:26.706Z"
   },
   {
    "duration": 4,
    "start_time": "2025-01-22T10:25:26.750Z"
   },
   {
    "duration": 19,
    "start_time": "2025-01-22T10:25:26.755Z"
   },
   {
    "duration": 5,
    "start_time": "2025-01-22T10:25:26.775Z"
   },
   {
    "duration": 15,
    "start_time": "2025-01-22T10:25:26.781Z"
   },
   {
    "duration": 7,
    "start_time": "2025-01-22T10:25:26.797Z"
   },
   {
    "duration": 7,
    "start_time": "2025-01-22T10:25:26.806Z"
   },
   {
    "duration": 52,
    "start_time": "2025-01-22T10:25:26.816Z"
   },
   {
    "duration": 6,
    "start_time": "2025-01-22T10:25:26.870Z"
   },
   {
    "duration": 13,
    "start_time": "2025-01-22T10:25:26.878Z"
   },
   {
    "duration": 6,
    "start_time": "2025-01-22T10:25:26.893Z"
   },
   {
    "duration": 5,
    "start_time": "2025-01-22T10:25:26.901Z"
   },
   {
    "duration": 36,
    "start_time": "2025-01-22T10:25:26.908Z"
   },
   {
    "duration": 46,
    "start_time": "2025-01-22T10:25:26.946Z"
   },
   {
    "duration": 6,
    "start_time": "2025-01-22T10:25:26.994Z"
   },
   {
    "duration": 9,
    "start_time": "2025-01-22T10:25:27.002Z"
   },
   {
    "duration": 43,
    "start_time": "2025-01-22T10:25:27.013Z"
   },
   {
    "duration": 12,
    "start_time": "2025-01-22T10:25:27.058Z"
   },
   {
    "duration": 74,
    "start_time": "2025-01-22T10:25:27.072Z"
   },
   {
    "duration": 11,
    "start_time": "2025-01-22T10:25:27.147Z"
   },
   {
    "duration": 29,
    "start_time": "2025-01-22T10:25:27.160Z"
   },
   {
    "duration": 5,
    "start_time": "2025-01-22T10:25:27.191Z"
   },
   {
    "duration": 10,
    "start_time": "2025-01-22T10:25:27.197Z"
   },
   {
    "duration": 25,
    "start_time": "2025-01-22T10:25:27.237Z"
   },
   {
    "duration": 8,
    "start_time": "2025-01-22T10:25:27.264Z"
   },
   {
    "duration": 30,
    "start_time": "2025-01-22T10:25:27.274Z"
   },
   {
    "duration": 19,
    "start_time": "2025-01-22T10:25:27.305Z"
   },
   {
    "duration": 12,
    "start_time": "2025-01-22T10:25:27.326Z"
   },
   {
    "duration": 6,
    "start_time": "2025-01-22T10:25:27.339Z"
   },
   {
    "duration": 23,
    "start_time": "2025-01-22T10:25:27.346Z"
   },
   {
    "duration": 14,
    "start_time": "2025-01-22T10:25:27.371Z"
   },
   {
    "duration": 313,
    "start_time": "2025-01-22T10:25:27.387Z"
   },
   {
    "duration": 7,
    "start_time": "2025-01-22T10:25:27.702Z"
   },
   {
    "duration": 13,
    "start_time": "2025-01-22T10:25:27.710Z"
   },
   {
    "duration": 1278,
    "start_time": "2025-01-22T10:25:27.727Z"
   },
   {
    "duration": 4,
    "start_time": "2025-01-22T10:25:29.007Z"
   },
   {
    "duration": 5,
    "start_time": "2025-01-22T10:25:34.340Z"
   },
   {
    "duration": 17,
    "start_time": "2025-01-22T10:25:56.319Z"
   },
   {
    "duration": 61,
    "start_time": "2025-01-22T10:26:13.139Z"
   },
   {
    "duration": 49,
    "start_time": "2025-01-22T10:26:25.639Z"
   },
   {
    "duration": 51,
    "start_time": "2025-01-22T10:26:31.690Z"
   },
   {
    "duration": 47,
    "start_time": "2025-01-22T10:26:38.449Z"
   },
   {
    "duration": 110,
    "start_time": "2025-01-22T10:27:11.069Z"
   },
   {
    "duration": 6,
    "start_time": "2025-01-22T10:27:19.709Z"
   },
   {
    "duration": 523,
    "start_time": "2025-01-22T10:27:45.850Z"
   },
   {
    "duration": 41,
    "start_time": "2025-01-22T10:27:46.375Z"
   },
   {
    "duration": 24,
    "start_time": "2025-01-22T10:27:46.417Z"
   },
   {
    "duration": 2428,
    "start_time": "2025-01-22T10:27:46.442Z"
   },
   {
    "duration": 10,
    "start_time": "2025-01-22T10:27:48.872Z"
   },
   {
    "duration": 5,
    "start_time": "2025-01-22T10:27:48.884Z"
   },
   {
    "duration": 34,
    "start_time": "2025-01-22T10:27:48.891Z"
   },
   {
    "duration": 4,
    "start_time": "2025-01-22T10:27:48.936Z"
   },
   {
    "duration": 18,
    "start_time": "2025-01-22T10:27:48.942Z"
   },
   {
    "duration": 5,
    "start_time": "2025-01-22T10:27:48.962Z"
   },
   {
    "duration": 8,
    "start_time": "2025-01-22T10:27:48.968Z"
   },
   {
    "duration": 8,
    "start_time": "2025-01-22T10:27:48.977Z"
   },
   {
    "duration": 6,
    "start_time": "2025-01-22T10:27:48.987Z"
   },
   {
    "duration": 61,
    "start_time": "2025-01-22T10:27:48.995Z"
   },
   {
    "duration": 5,
    "start_time": "2025-01-22T10:27:49.058Z"
   },
   {
    "duration": 11,
    "start_time": "2025-01-22T10:27:49.065Z"
   },
   {
    "duration": 4,
    "start_time": "2025-01-22T10:27:49.077Z"
   },
   {
    "duration": 31,
    "start_time": "2025-01-22T10:27:49.083Z"
   },
   {
    "duration": 7,
    "start_time": "2025-01-22T10:27:49.116Z"
   },
   {
    "duration": 12,
    "start_time": "2025-01-22T10:27:49.125Z"
   },
   {
    "duration": 6,
    "start_time": "2025-01-22T10:27:49.139Z"
   },
   {
    "duration": 18,
    "start_time": "2025-01-22T10:27:49.147Z"
   },
   {
    "duration": 50,
    "start_time": "2025-01-22T10:27:49.167Z"
   },
   {
    "duration": 25,
    "start_time": "2025-01-22T10:27:49.219Z"
   },
   {
    "duration": 64,
    "start_time": "2025-01-22T10:27:49.245Z"
   },
   {
    "duration": 69,
    "start_time": "2025-01-22T10:27:49.311Z"
   },
   {
    "duration": 27,
    "start_time": "2025-01-22T10:27:49.382Z"
   },
   {
    "duration": 4,
    "start_time": "2025-01-22T10:27:49.411Z"
   },
   {
    "duration": 5,
    "start_time": "2025-01-22T10:27:49.417Z"
   },
   {
    "duration": 27,
    "start_time": "2025-01-22T10:27:49.424Z"
   },
   {
    "duration": 8,
    "start_time": "2025-01-22T10:27:49.453Z"
   },
   {
    "duration": 13,
    "start_time": "2025-01-22T10:27:49.462Z"
   },
   {
    "duration": 4,
    "start_time": "2025-01-22T10:27:49.477Z"
   },
   {
    "duration": 34,
    "start_time": "2025-01-22T10:27:49.482Z"
   },
   {
    "duration": 5,
    "start_time": "2025-01-22T10:27:49.518Z"
   },
   {
    "duration": 7,
    "start_time": "2025-01-22T10:27:49.524Z"
   },
   {
    "duration": 6,
    "start_time": "2025-01-22T10:27:49.532Z"
   },
   {
    "duration": 319,
    "start_time": "2025-01-22T10:27:49.539Z"
   },
   {
    "duration": 8,
    "start_time": "2025-01-22T10:27:49.859Z"
   },
   {
    "duration": 4,
    "start_time": "2025-01-22T10:27:49.869Z"
   },
   {
    "duration": 1230,
    "start_time": "2025-01-22T10:27:49.878Z"
   },
   {
    "duration": 7,
    "start_time": "2025-01-22T10:27:51.110Z"
   },
   {
    "duration": 20,
    "start_time": "2025-01-22T10:27:51.118Z"
   },
   {
    "duration": 10,
    "start_time": "2025-01-22T10:30:35.988Z"
   },
   {
    "duration": 5,
    "start_time": "2025-01-22T10:30:48.377Z"
   },
   {
    "duration": 77,
    "start_time": "2025-01-22T10:30:58.467Z"
   },
   {
    "duration": 8,
    "start_time": "2025-01-22T10:31:05.176Z"
   },
   {
    "duration": 3,
    "start_time": "2025-01-22T10:31:13.687Z"
   },
   {
    "duration": 6,
    "start_time": "2025-01-22T10:33:18.846Z"
   },
   {
    "duration": 150,
    "start_time": "2025-01-22T10:34:20.756Z"
   },
   {
    "duration": 175,
    "start_time": "2025-01-22T10:34:41.075Z"
   },
   {
    "duration": 1326,
    "start_time": "2025-01-22T10:35:05.696Z"
   },
   {
    "duration": 1422,
    "start_time": "2025-01-22T10:35:49.415Z"
   },
   {
    "duration": 7,
    "start_time": "2025-01-22T10:36:56.795Z"
   },
   {
    "duration": 8,
    "start_time": "2025-01-22T10:39:28.344Z"
   },
   {
    "duration": 8,
    "start_time": "2025-01-22T10:39:35.324Z"
   },
   {
    "duration": 4,
    "start_time": "2025-01-22T10:42:23.553Z"
   },
   {
    "duration": 7,
    "start_time": "2025-01-22T10:42:44.833Z"
   },
   {
    "duration": 121,
    "start_time": "2025-01-22T10:43:34.042Z"
   },
   {
    "duration": 158,
    "start_time": "2025-01-22T10:43:40.182Z"
   },
   {
    "duration": 154,
    "start_time": "2025-01-22T10:43:44.162Z"
   },
   {
    "duration": 206,
    "start_time": "2025-01-22T10:43:51.302Z"
   },
   {
    "duration": 381,
    "start_time": "2025-01-22T10:43:55.612Z"
   },
   {
    "duration": 6,
    "start_time": "2025-01-22T10:44:04.813Z"
   },
   {
    "duration": 5,
    "start_time": "2025-01-22T10:44:20.622Z"
   },
   {
    "duration": 11,
    "start_time": "2025-01-22T10:44:26.332Z"
   },
   {
    "duration": 43,
    "start_time": "2025-01-22T10:45:10.002Z"
   },
   {
    "duration": 72,
    "start_time": "2025-01-22T10:45:44.142Z"
   },
   {
    "duration": 10,
    "start_time": "2025-01-22T10:46:02.632Z"
   },
   {
    "duration": 41,
    "start_time": "2025-01-22T10:46:22.491Z"
   },
   {
    "duration": 12,
    "start_time": "2025-01-22T10:46:52.021Z"
   },
   {
    "duration": 37,
    "start_time": "2025-01-22T10:47:15.161Z"
   },
   {
    "duration": 10,
    "start_time": "2025-01-22T10:47:31.151Z"
   },
   {
    "duration": 39,
    "start_time": "2025-01-22T10:47:36.421Z"
   },
   {
    "duration": 40,
    "start_time": "2025-01-22T10:47:45.651Z"
   },
   {
    "duration": 34,
    "start_time": "2025-01-22T10:47:59.491Z"
   },
   {
    "duration": 15,
    "start_time": "2025-01-22T10:48:49.651Z"
   },
   {
    "duration": 10,
    "start_time": "2025-01-22T10:49:55.750Z"
   },
   {
    "duration": 32,
    "start_time": "2025-01-22T10:51:32.399Z"
   },
   {
    "duration": 195,
    "start_time": "2025-01-22T10:51:58.709Z"
   },
   {
    "duration": 216,
    "start_time": "2025-01-22T10:52:34.019Z"
   },
   {
    "duration": 11,
    "start_time": "2025-01-22T10:53:32.436Z"
   },
   {
    "duration": 23,
    "start_time": "2025-01-22T10:53:59.659Z"
   },
   {
    "duration": 25,
    "start_time": "2025-01-22T10:54:06.369Z"
   },
   {
    "duration": 34,
    "start_time": "2025-01-22T10:55:40.008Z"
   },
   {
    "duration": 12,
    "start_time": "2025-01-22T10:59:36.767Z"
   },
   {
    "duration": 9,
    "start_time": "2025-01-22T10:59:45.076Z"
   },
   {
    "duration": 44,
    "start_time": "2025-01-22T11:00:21.466Z"
   },
   {
    "duration": 8,
    "start_time": "2025-01-22T11:01:09.145Z"
   },
   {
    "duration": 6,
    "start_time": "2025-01-22T11:01:18.187Z"
   },
   {
    "duration": 6,
    "start_time": "2025-01-22T11:01:51.675Z"
   },
   {
    "duration": 31,
    "start_time": "2025-01-22T11:01:53.506Z"
   },
   {
    "duration": 90,
    "start_time": "2025-01-22T11:02:15.445Z"
   },
   {
    "duration": 9,
    "start_time": "2025-01-22T11:02:21.834Z"
   },
   {
    "duration": 135,
    "start_time": "2025-01-22T11:02:36.734Z"
   },
   {
    "duration": 135,
    "start_time": "2025-01-22T11:02:42.855Z"
   },
   {
    "duration": 161,
    "start_time": "2025-01-22T11:02:46.785Z"
   },
   {
    "duration": 153,
    "start_time": "2025-01-22T11:03:15.575Z"
   },
   {
    "duration": 155,
    "start_time": "2025-01-22T11:03:20.035Z"
   },
   {
    "duration": 129,
    "start_time": "2025-01-22T11:03:26.957Z"
   },
   {
    "duration": 127,
    "start_time": "2025-01-22T11:03:32.765Z"
   },
   {
    "duration": 156,
    "start_time": "2025-01-22T11:03:52.345Z"
   },
   {
    "duration": 138,
    "start_time": "2025-01-22T11:04:01.255Z"
   },
   {
    "duration": 142,
    "start_time": "2025-01-22T11:04:04.135Z"
   },
   {
    "duration": 169,
    "start_time": "2025-01-22T11:04:08.215Z"
   },
   {
    "duration": 91,
    "start_time": "2025-01-22T11:05:30.096Z"
   },
   {
    "duration": 169,
    "start_time": "2025-01-22T11:05:40.674Z"
   },
   {
    "duration": 318,
    "start_time": "2025-01-22T11:05:59.033Z"
   },
   {
    "duration": 147,
    "start_time": "2025-01-22T11:06:12.744Z"
   },
   {
    "duration": 5,
    "start_time": "2025-01-22T11:09:25.612Z"
   },
   {
    "duration": 4,
    "start_time": "2025-01-22T11:14:12.831Z"
   },
   {
    "duration": 5,
    "start_time": "2025-01-22T11:14:53.221Z"
   },
   {
    "duration": 8,
    "start_time": "2025-01-22T11:15:05.261Z"
   },
   {
    "duration": 36,
    "start_time": "2025-01-22T11:15:07.801Z"
   },
   {
    "duration": 4,
    "start_time": "2025-01-22T11:15:37.211Z"
   },
   {
    "duration": 4,
    "start_time": "2025-01-22T11:15:46.960Z"
   },
   {
    "duration": 3,
    "start_time": "2025-01-22T11:15:53.021Z"
   },
   {
    "duration": 545,
    "start_time": "2025-01-22T11:16:00.117Z"
   },
   {
    "duration": 42,
    "start_time": "2025-01-22T11:16:00.664Z"
   },
   {
    "duration": 28,
    "start_time": "2025-01-22T11:16:00.707Z"
   },
   {
    "duration": 2293,
    "start_time": "2025-01-22T11:16:00.737Z"
   },
   {
    "duration": 10,
    "start_time": "2025-01-22T11:16:03.032Z"
   },
   {
    "duration": 45,
    "start_time": "2025-01-22T11:16:03.044Z"
   },
   {
    "duration": 58,
    "start_time": "2025-01-22T11:16:03.091Z"
   },
   {
    "duration": 3,
    "start_time": "2025-01-22T11:16:03.151Z"
   },
   {
    "duration": 43,
    "start_time": "2025-01-22T11:16:03.156Z"
   },
   {
    "duration": 12,
    "start_time": "2025-01-22T11:16:03.202Z"
   },
   {
    "duration": 5,
    "start_time": "2025-01-22T11:16:03.216Z"
   },
   {
    "duration": 24,
    "start_time": "2025-01-22T11:16:03.222Z"
   },
   {
    "duration": 22,
    "start_time": "2025-01-22T11:16:03.248Z"
   },
   {
    "duration": 71,
    "start_time": "2025-01-22T11:16:03.272Z"
   },
   {
    "duration": 27,
    "start_time": "2025-01-22T11:16:03.345Z"
   },
   {
    "duration": 52,
    "start_time": "2025-01-22T11:16:03.374Z"
   },
   {
    "duration": 61,
    "start_time": "2025-01-22T11:16:03.428Z"
   },
   {
    "duration": 19,
    "start_time": "2025-01-22T11:16:03.491Z"
   },
   {
    "duration": 21,
    "start_time": "2025-01-22T11:16:03.511Z"
   },
   {
    "duration": 23,
    "start_time": "2025-01-22T11:16:03.534Z"
   },
   {
    "duration": 21,
    "start_time": "2025-01-22T11:16:03.558Z"
   },
   {
    "duration": 8,
    "start_time": "2025-01-22T11:16:03.581Z"
   },
   {
    "duration": 43,
    "start_time": "2025-01-22T11:16:03.591Z"
   },
   {
    "duration": 13,
    "start_time": "2025-01-22T11:16:03.636Z"
   },
   {
    "duration": 78,
    "start_time": "2025-01-22T11:16:03.651Z"
   },
   {
    "duration": 9,
    "start_time": "2025-01-22T11:16:03.730Z"
   },
   {
    "duration": 48,
    "start_time": "2025-01-22T11:16:03.741Z"
   },
   {
    "duration": 5,
    "start_time": "2025-01-22T11:16:03.793Z"
   },
   {
    "duration": 16,
    "start_time": "2025-01-22T11:16:03.799Z"
   },
   {
    "duration": 28,
    "start_time": "2025-01-22T11:16:03.817Z"
   },
   {
    "duration": 8,
    "start_time": "2025-01-22T11:16:03.847Z"
   },
   {
    "duration": 26,
    "start_time": "2025-01-22T11:16:03.856Z"
   },
   {
    "duration": 4,
    "start_time": "2025-01-22T11:16:03.884Z"
   },
   {
    "duration": 14,
    "start_time": "2025-01-22T11:16:03.890Z"
   },
   {
    "duration": 19,
    "start_time": "2025-01-22T11:16:03.906Z"
   },
   {
    "duration": 23,
    "start_time": "2025-01-22T11:16:03.927Z"
   },
   {
    "duration": 18,
    "start_time": "2025-01-22T11:16:03.952Z"
   },
   {
    "duration": 321,
    "start_time": "2025-01-22T11:16:03.972Z"
   },
   {
    "duration": 7,
    "start_time": "2025-01-22T11:16:04.295Z"
   },
   {
    "duration": 16,
    "start_time": "2025-01-22T11:16:04.304Z"
   },
   {
    "duration": 1271,
    "start_time": "2025-01-22T11:16:04.322Z"
   },
   {
    "duration": 10,
    "start_time": "2025-01-22T11:16:05.595Z"
   },
   {
    "duration": 31,
    "start_time": "2025-01-22T11:16:05.606Z"
   },
   {
    "duration": 41,
    "start_time": "2025-01-22T11:16:05.638Z"
   },
   {
    "duration": 33,
    "start_time": "2025-01-22T11:16:05.681Z"
   },
   {
    "duration": 34,
    "start_time": "2025-01-22T11:16:05.715Z"
   },
   {
    "duration": 58,
    "start_time": "2025-01-22T11:16:05.751Z"
   },
   {
    "duration": 9,
    "start_time": "2025-01-22T11:16:05.811Z"
   },
   {
    "duration": 30,
    "start_time": "2025-01-22T11:16:05.821Z"
   },
   {
    "duration": 58,
    "start_time": "2025-01-22T11:16:05.853Z"
   },
   {
    "duration": 183,
    "start_time": "2025-01-22T11:16:05.913Z"
   },
   {
    "duration": 4,
    "start_time": "2025-01-22T11:16:06.098Z"
   },
   {
    "duration": 33,
    "start_time": "2025-01-22T11:16:06.103Z"
   },
   {
    "duration": 29,
    "start_time": "2025-01-22T11:16:06.138Z"
   },
   {
    "duration": 539,
    "start_time": "2025-01-22T11:16:40.021Z"
   },
   {
    "duration": 42,
    "start_time": "2025-01-22T11:16:40.562Z"
   },
   {
    "duration": 15,
    "start_time": "2025-01-22T11:16:40.605Z"
   },
   {
    "duration": 2320,
    "start_time": "2025-01-22T11:16:40.622Z"
   },
   {
    "duration": 11,
    "start_time": "2025-01-22T11:16:42.944Z"
   },
   {
    "duration": 5,
    "start_time": "2025-01-22T11:16:42.957Z"
   },
   {
    "duration": 38,
    "start_time": "2025-01-22T11:16:42.963Z"
   },
   {
    "duration": 4,
    "start_time": "2025-01-22T11:16:43.002Z"
   },
   {
    "duration": 36,
    "start_time": "2025-01-22T11:16:43.008Z"
   },
   {
    "duration": 4,
    "start_time": "2025-01-22T11:16:43.046Z"
   },
   {
    "duration": 4,
    "start_time": "2025-01-22T11:16:43.052Z"
   },
   {
    "duration": 6,
    "start_time": "2025-01-22T11:16:43.058Z"
   },
   {
    "duration": 5,
    "start_time": "2025-01-22T11:16:43.066Z"
   },
   {
    "duration": 62,
    "start_time": "2025-01-22T11:16:43.075Z"
   },
   {
    "duration": 5,
    "start_time": "2025-01-22T11:16:43.139Z"
   },
   {
    "duration": 14,
    "start_time": "2025-01-22T11:16:43.146Z"
   },
   {
    "duration": 5,
    "start_time": "2025-01-22T11:16:43.162Z"
   },
   {
    "duration": 5,
    "start_time": "2025-01-22T11:16:43.168Z"
   },
   {
    "duration": 6,
    "start_time": "2025-01-22T11:16:43.174Z"
   },
   {
    "duration": 11,
    "start_time": "2025-01-22T11:16:43.181Z"
   },
   {
    "duration": 19,
    "start_time": "2025-01-22T11:16:43.194Z"
   },
   {
    "duration": 27,
    "start_time": "2025-01-22T11:16:43.214Z"
   },
   {
    "duration": 47,
    "start_time": "2025-01-22T11:16:43.243Z"
   },
   {
    "duration": 11,
    "start_time": "2025-01-22T11:16:43.292Z"
   },
   {
    "duration": 82,
    "start_time": "2025-01-22T11:16:43.304Z"
   },
   {
    "duration": 9,
    "start_time": "2025-01-22T11:16:43.388Z"
   },
   {
    "duration": 54,
    "start_time": "2025-01-22T11:16:43.399Z"
   },
   {
    "duration": 4,
    "start_time": "2025-01-22T11:16:43.455Z"
   },
   {
    "duration": 6,
    "start_time": "2025-01-22T11:16:43.461Z"
   },
   {
    "duration": 35,
    "start_time": "2025-01-22T11:16:43.469Z"
   },
   {
    "duration": 11,
    "start_time": "2025-01-22T11:16:43.506Z"
   },
   {
    "duration": 35,
    "start_time": "2025-01-22T11:16:43.519Z"
   },
   {
    "duration": 5,
    "start_time": "2025-01-22T11:16:43.556Z"
   },
   {
    "duration": 7,
    "start_time": "2025-01-22T11:16:43.563Z"
   },
   {
    "duration": 6,
    "start_time": "2025-01-22T11:16:43.571Z"
   },
   {
    "duration": 5,
    "start_time": "2025-01-22T11:16:43.579Z"
   },
   {
    "duration": 8,
    "start_time": "2025-01-22T11:16:43.586Z"
   },
   {
    "duration": 330,
    "start_time": "2025-01-22T11:16:43.596Z"
   },
   {
    "duration": 12,
    "start_time": "2025-01-22T11:16:43.927Z"
   },
   {
    "duration": 4,
    "start_time": "2025-01-22T11:16:43.941Z"
   },
   {
    "duration": 1335,
    "start_time": "2025-01-22T11:16:43.950Z"
   },
   {
    "duration": 10,
    "start_time": "2025-01-22T11:16:45.287Z"
   },
   {
    "duration": 20,
    "start_time": "2025-01-22T11:16:45.299Z"
   },
   {
    "duration": 16,
    "start_time": "2025-01-22T11:16:45.321Z"
   },
   {
    "duration": 6,
    "start_time": "2025-01-22T11:16:45.339Z"
   },
   {
    "duration": 9,
    "start_time": "2025-01-22T11:16:45.347Z"
   },
   {
    "duration": 28,
    "start_time": "2025-01-22T11:16:45.357Z"
   },
   {
    "duration": 37,
    "start_time": "2025-01-22T11:16:45.386Z"
   },
   {
    "duration": 23,
    "start_time": "2025-01-22T11:16:45.425Z"
   },
   {
    "duration": 5,
    "start_time": "2025-01-22T11:16:45.450Z"
   },
   {
    "duration": 172,
    "start_time": "2025-01-22T11:16:45.456Z"
   },
   {
    "duration": 2,
    "start_time": "2025-01-22T11:16:45.630Z"
   },
   {
    "duration": 12,
    "start_time": "2025-01-22T11:16:45.633Z"
   },
   {
    "duration": 8,
    "start_time": "2025-01-22T11:16:45.647Z"
   },
   {
    "duration": 38,
    "start_time": "2025-01-22T11:17:07.052Z"
   },
   {
    "duration": 36,
    "start_time": "2025-01-22T11:17:18.020Z"
   },
   {
    "duration": 36,
    "start_time": "2025-01-22T11:17:23.064Z"
   },
   {
    "duration": 38,
    "start_time": "2025-01-22T11:17:36.800Z"
   },
   {
    "duration": 37,
    "start_time": "2025-01-22T11:17:39.820Z"
   },
   {
    "duration": 8,
    "start_time": "2025-01-22T11:18:01.510Z"
   },
   {
    "duration": 37,
    "start_time": "2025-01-22T11:18:13.919Z"
   },
   {
    "duration": 5,
    "start_time": "2025-01-22T11:18:34.800Z"
   },
   {
    "duration": 36,
    "start_time": "2025-01-22T11:18:50.489Z"
   },
   {
    "duration": 35,
    "start_time": "2025-01-22T11:18:58.850Z"
   },
   {
    "duration": 37,
    "start_time": "2025-01-22T11:19:06.043Z"
   },
   {
    "duration": 36,
    "start_time": "2025-01-22T11:20:09.519Z"
   },
   {
    "duration": 40,
    "start_time": "2025-01-22T11:20:18.718Z"
   },
   {
    "duration": 5,
    "start_time": "2025-01-22T11:20:46.578Z"
   },
   {
    "duration": 5,
    "start_time": "2025-01-22T11:20:57.729Z"
   },
   {
    "duration": 5,
    "start_time": "2025-01-22T11:21:01.379Z"
   },
   {
    "duration": 6,
    "start_time": "2025-01-22T11:21:08.928Z"
   },
   {
    "duration": 10,
    "start_time": "2025-01-22T11:21:59.738Z"
   },
   {
    "duration": 493,
    "start_time": "2025-01-22T11:23:43.164Z"
   },
   {
    "duration": 40,
    "start_time": "2025-01-22T11:23:43.659Z"
   },
   {
    "duration": 15,
    "start_time": "2025-01-22T11:23:43.700Z"
   },
   {
    "duration": 2265,
    "start_time": "2025-01-22T11:23:43.717Z"
   },
   {
    "duration": 10,
    "start_time": "2025-01-22T11:23:45.984Z"
   },
   {
    "duration": 12,
    "start_time": "2025-01-22T11:23:45.995Z"
   },
   {
    "duration": 33,
    "start_time": "2025-01-22T11:23:46.009Z"
   },
   {
    "duration": 4,
    "start_time": "2025-01-22T11:23:46.044Z"
   },
   {
    "duration": 17,
    "start_time": "2025-01-22T11:23:46.049Z"
   },
   {
    "duration": 4,
    "start_time": "2025-01-22T11:23:46.069Z"
   },
   {
    "duration": 13,
    "start_time": "2025-01-22T11:23:46.074Z"
   },
   {
    "duration": 12,
    "start_time": "2025-01-22T11:23:46.089Z"
   },
   {
    "duration": 6,
    "start_time": "2025-01-22T11:23:46.103Z"
   },
   {
    "duration": 48,
    "start_time": "2025-01-22T11:23:46.110Z"
   },
   {
    "duration": 5,
    "start_time": "2025-01-22T11:23:46.159Z"
   },
   {
    "duration": 14,
    "start_time": "2025-01-22T11:23:46.166Z"
   },
   {
    "duration": 5,
    "start_time": "2025-01-22T11:23:46.182Z"
   },
   {
    "duration": 18,
    "start_time": "2025-01-22T11:23:46.188Z"
   },
   {
    "duration": 15,
    "start_time": "2025-01-22T11:23:46.208Z"
   },
   {
    "duration": 5,
    "start_time": "2025-01-22T11:23:46.225Z"
   },
   {
    "duration": 9,
    "start_time": "2025-01-22T11:23:46.231Z"
   },
   {
    "duration": 7,
    "start_time": "2025-01-22T11:23:46.241Z"
   },
   {
    "duration": 55,
    "start_time": "2025-01-22T11:23:46.250Z"
   },
   {
    "duration": 12,
    "start_time": "2025-01-22T11:23:46.307Z"
   },
   {
    "duration": 74,
    "start_time": "2025-01-22T11:23:46.320Z"
   },
   {
    "duration": 10,
    "start_time": "2025-01-22T11:23:46.396Z"
   },
   {
    "duration": 40,
    "start_time": "2025-01-22T11:23:46.408Z"
   },
   {
    "duration": 5,
    "start_time": "2025-01-22T11:23:46.451Z"
   },
   {
    "duration": 7,
    "start_time": "2025-01-22T11:23:46.458Z"
   },
   {
    "duration": 27,
    "start_time": "2025-01-22T11:23:46.467Z"
   },
   {
    "duration": 8,
    "start_time": "2025-01-22T11:23:46.496Z"
   },
   {
    "duration": 40,
    "start_time": "2025-01-22T11:23:46.505Z"
   },
   {
    "duration": 4,
    "start_time": "2025-01-22T11:23:46.547Z"
   },
   {
    "duration": 6,
    "start_time": "2025-01-22T11:23:46.553Z"
   },
   {
    "duration": 16,
    "start_time": "2025-01-22T11:23:46.561Z"
   },
   {
    "duration": 15,
    "start_time": "2025-01-22T11:23:46.578Z"
   },
   {
    "duration": 18,
    "start_time": "2025-01-22T11:23:46.595Z"
   },
   {
    "duration": 324,
    "start_time": "2025-01-22T11:23:46.614Z"
   },
   {
    "duration": 7,
    "start_time": "2025-01-22T11:23:46.940Z"
   },
   {
    "duration": 7,
    "start_time": "2025-01-22T11:23:46.948Z"
   },
   {
    "duration": 1292,
    "start_time": "2025-01-22T11:23:46.956Z"
   },
   {
    "duration": 17,
    "start_time": "2025-01-22T11:23:48.250Z"
   },
   {
    "duration": 13,
    "start_time": "2025-01-22T11:23:48.269Z"
   },
   {
    "duration": 9,
    "start_time": "2025-01-22T11:23:48.285Z"
   },
   {
    "duration": 6,
    "start_time": "2025-01-22T11:23:48.296Z"
   },
   {
    "duration": 40,
    "start_time": "2025-01-22T11:23:48.304Z"
   },
   {
    "duration": 27,
    "start_time": "2025-01-22T11:23:48.346Z"
   },
   {
    "duration": 3,
    "start_time": "2025-01-22T11:23:48.375Z"
   },
   {
    "duration": 18,
    "start_time": "2025-01-22T11:23:48.379Z"
   },
   {
    "duration": 5,
    "start_time": "2025-01-22T11:23:48.399Z"
   },
   {
    "duration": 178,
    "start_time": "2025-01-22T11:23:48.405Z"
   },
   {
    "duration": 2,
    "start_time": "2025-01-22T11:23:48.585Z"
   },
   {
    "duration": 11,
    "start_time": "2025-01-22T11:23:48.589Z"
   },
   {
    "duration": 6,
    "start_time": "2025-01-22T11:23:48.601Z"
   },
   {
    "duration": 8,
    "start_time": "2025-01-22T11:23:48.609Z"
   },
   {
    "duration": 6,
    "start_time": "2025-01-22T11:24:04.374Z"
   },
   {
    "duration": 531,
    "start_time": "2025-01-22T11:24:24.434Z"
   },
   {
    "duration": 42,
    "start_time": "2025-01-22T11:24:24.967Z"
   },
   {
    "duration": 28,
    "start_time": "2025-01-22T11:24:25.011Z"
   },
   {
    "duration": 2341,
    "start_time": "2025-01-22T11:24:25.041Z"
   },
   {
    "duration": 10,
    "start_time": "2025-01-22T11:24:27.384Z"
   },
   {
    "duration": 6,
    "start_time": "2025-01-22T11:24:27.396Z"
   },
   {
    "duration": 41,
    "start_time": "2025-01-22T11:24:27.403Z"
   },
   {
    "duration": 4,
    "start_time": "2025-01-22T11:24:27.445Z"
   },
   {
    "duration": 47,
    "start_time": "2025-01-22T11:24:27.450Z"
   },
   {
    "duration": 6,
    "start_time": "2025-01-22T11:24:27.498Z"
   },
   {
    "duration": 12,
    "start_time": "2025-01-22T11:24:27.505Z"
   },
   {
    "duration": 7,
    "start_time": "2025-01-22T11:24:27.519Z"
   },
   {
    "duration": 7,
    "start_time": "2025-01-22T11:24:27.527Z"
   },
   {
    "duration": 33,
    "start_time": "2025-01-22T11:24:27.537Z"
   },
   {
    "duration": 4,
    "start_time": "2025-01-22T11:24:27.572Z"
   },
   {
    "duration": 11,
    "start_time": "2025-01-22T11:24:27.577Z"
   },
   {
    "duration": 4,
    "start_time": "2025-01-22T11:24:27.590Z"
   },
   {
    "duration": 5,
    "start_time": "2025-01-22T11:24:27.595Z"
   },
   {
    "duration": 35,
    "start_time": "2025-01-22T11:24:27.602Z"
   },
   {
    "duration": 4,
    "start_time": "2025-01-22T11:24:27.639Z"
   },
   {
    "duration": 5,
    "start_time": "2025-01-22T11:24:27.645Z"
   },
   {
    "duration": 8,
    "start_time": "2025-01-22T11:24:27.651Z"
   },
   {
    "duration": 43,
    "start_time": "2025-01-22T11:24:27.661Z"
   },
   {
    "duration": 39,
    "start_time": "2025-01-22T11:24:27.706Z"
   },
   {
    "duration": 63,
    "start_time": "2025-01-22T11:24:27.747Z"
   },
   {
    "duration": 26,
    "start_time": "2025-01-22T11:24:27.812Z"
   },
   {
    "duration": 27,
    "start_time": "2025-01-22T11:24:27.840Z"
   },
   {
    "duration": 4,
    "start_time": "2025-01-22T11:24:27.869Z"
   },
   {
    "duration": 7,
    "start_time": "2025-01-22T11:24:27.875Z"
   },
   {
    "duration": 25,
    "start_time": "2025-01-22T11:24:27.884Z"
   },
   {
    "duration": 13,
    "start_time": "2025-01-22T11:24:27.936Z"
   },
   {
    "duration": 21,
    "start_time": "2025-01-22T11:24:27.951Z"
   },
   {
    "duration": 5,
    "start_time": "2025-01-22T11:24:27.974Z"
   },
   {
    "duration": 8,
    "start_time": "2025-01-22T11:24:27.980Z"
   },
   {
    "duration": 5,
    "start_time": "2025-01-22T11:24:27.990Z"
   },
   {
    "duration": 7,
    "start_time": "2025-01-22T11:24:27.996Z"
   },
   {
    "duration": 33,
    "start_time": "2025-01-22T11:24:28.005Z"
   },
   {
    "duration": 344,
    "start_time": "2025-01-22T11:24:28.040Z"
   },
   {
    "duration": 8,
    "start_time": "2025-01-22T11:24:28.385Z"
   },
   {
    "duration": 8,
    "start_time": "2025-01-22T11:24:28.395Z"
   },
   {
    "duration": 1309,
    "start_time": "2025-01-22T11:24:28.408Z"
   },
   {
    "duration": 19,
    "start_time": "2025-01-22T11:24:29.718Z"
   },
   {
    "duration": 7,
    "start_time": "2025-01-22T11:24:29.738Z"
   },
   {
    "duration": 20,
    "start_time": "2025-01-22T11:24:29.746Z"
   },
   {
    "duration": 8,
    "start_time": "2025-01-22T11:24:29.767Z"
   },
   {
    "duration": 12,
    "start_time": "2025-01-22T11:24:29.777Z"
   },
   {
    "duration": 29,
    "start_time": "2025-01-22T11:24:29.791Z"
   },
   {
    "duration": 17,
    "start_time": "2025-01-22T11:24:29.821Z"
   },
   {
    "duration": 5,
    "start_time": "2025-01-22T11:24:29.840Z"
   },
   {
    "duration": 9,
    "start_time": "2025-01-22T11:24:29.847Z"
   },
   {
    "duration": 7,
    "start_time": "2025-01-22T11:24:29.858Z"
   },
   {
    "duration": 5,
    "start_time": "2025-01-22T11:24:29.866Z"
   },
   {
    "duration": 199,
    "start_time": "2025-01-22T11:24:29.873Z"
   },
   {
    "duration": 3,
    "start_time": "2025-01-22T11:24:30.074Z"
   },
   {
    "duration": 19,
    "start_time": "2025-01-22T11:24:30.078Z"
   },
   {
    "duration": 25,
    "start_time": "2025-01-22T11:24:30.099Z"
   },
   {
    "duration": 25,
    "start_time": "2025-01-22T11:24:30.126Z"
   },
   {
    "duration": 7,
    "start_time": "2025-01-22T11:25:26.543Z"
   },
   {
    "duration": 7,
    "start_time": "2025-01-22T11:25:28.363Z"
   },
   {
    "duration": 94,
    "start_time": "2025-01-22T11:25:47.494Z"
   },
   {
    "duration": 6,
    "start_time": "2025-01-22T12:40:21.259Z"
   },
   {
    "duration": 7,
    "start_time": "2025-01-22T12:40:22.706Z"
   },
   {
    "duration": 7,
    "start_time": "2025-01-22T12:40:25.145Z"
   },
   {
    "duration": 532,
    "start_time": "2025-01-22T12:40:30.645Z"
   },
   {
    "duration": 42,
    "start_time": "2025-01-22T12:40:31.179Z"
   },
   {
    "duration": 21,
    "start_time": "2025-01-22T12:40:31.223Z"
   },
   {
    "duration": 2452,
    "start_time": "2025-01-22T12:40:31.246Z"
   },
   {
    "duration": 13,
    "start_time": "2025-01-22T12:40:33.701Z"
   },
   {
    "duration": 22,
    "start_time": "2025-01-22T12:40:33.716Z"
   },
   {
    "duration": 65,
    "start_time": "2025-01-22T12:40:33.740Z"
   },
   {
    "duration": 4,
    "start_time": "2025-01-22T12:40:33.807Z"
   },
   {
    "duration": 56,
    "start_time": "2025-01-22T12:40:33.813Z"
   },
   {
    "duration": 35,
    "start_time": "2025-01-22T12:40:33.871Z"
   },
   {
    "duration": 43,
    "start_time": "2025-01-22T12:40:33.908Z"
   },
   {
    "duration": 22,
    "start_time": "2025-01-22T12:40:33.953Z"
   },
   {
    "duration": 22,
    "start_time": "2025-01-22T12:40:33.977Z"
   },
   {
    "duration": 44,
    "start_time": "2025-01-22T12:40:34.003Z"
   },
   {
    "duration": 5,
    "start_time": "2025-01-22T12:40:34.050Z"
   },
   {
    "duration": 67,
    "start_time": "2025-01-22T12:40:34.057Z"
   },
   {
    "duration": 40,
    "start_time": "2025-01-22T12:40:34.126Z"
   },
   {
    "duration": 6,
    "start_time": "2025-01-22T12:40:34.168Z"
   },
   {
    "duration": 8,
    "start_time": "2025-01-22T12:40:34.176Z"
   },
   {
    "duration": 11,
    "start_time": "2025-01-22T12:40:34.186Z"
   },
   {
    "duration": 16,
    "start_time": "2025-01-22T12:40:34.199Z"
   },
   {
    "duration": 23,
    "start_time": "2025-01-22T12:40:34.216Z"
   },
   {
    "duration": 70,
    "start_time": "2025-01-22T12:40:34.241Z"
   },
   {
    "duration": 12,
    "start_time": "2025-01-22T12:40:34.313Z"
   },
   {
    "duration": 79,
    "start_time": "2025-01-22T12:40:34.327Z"
   },
   {
    "duration": 15,
    "start_time": "2025-01-22T12:40:34.408Z"
   },
   {
    "duration": 46,
    "start_time": "2025-01-22T12:40:34.424Z"
   },
   {
    "duration": 4,
    "start_time": "2025-01-22T12:40:34.472Z"
   },
   {
    "duration": 14,
    "start_time": "2025-01-22T12:40:34.477Z"
   },
   {
    "duration": 35,
    "start_time": "2025-01-22T12:40:34.493Z"
   },
   {
    "duration": 28,
    "start_time": "2025-01-22T12:40:34.530Z"
   },
   {
    "duration": 27,
    "start_time": "2025-01-22T12:40:34.560Z"
   },
   {
    "duration": 16,
    "start_time": "2025-01-22T12:40:34.589Z"
   },
   {
    "duration": 18,
    "start_time": "2025-01-22T12:40:34.606Z"
   },
   {
    "duration": 27,
    "start_time": "2025-01-22T12:40:34.626Z"
   },
   {
    "duration": 9,
    "start_time": "2025-01-22T12:40:34.655Z"
   },
   {
    "duration": 11,
    "start_time": "2025-01-22T12:40:34.666Z"
   },
   {
    "duration": 356,
    "start_time": "2025-01-22T12:40:34.679Z"
   },
   {
    "duration": 7,
    "start_time": "2025-01-22T12:40:35.037Z"
   },
   {
    "duration": 10,
    "start_time": "2025-01-22T12:40:35.046Z"
   },
   {
    "duration": 1323,
    "start_time": "2025-01-22T12:40:35.059Z"
   },
   {
    "duration": 10,
    "start_time": "2025-01-22T12:40:36.384Z"
   },
   {
    "duration": 22,
    "start_time": "2025-01-22T12:40:36.395Z"
   },
   {
    "duration": 24,
    "start_time": "2025-01-22T12:40:36.419Z"
   },
   {
    "duration": 23,
    "start_time": "2025-01-22T12:40:36.445Z"
   },
   {
    "duration": 35,
    "start_time": "2025-01-22T12:40:36.470Z"
   },
   {
    "duration": 39,
    "start_time": "2025-01-22T12:40:36.508Z"
   },
   {
    "duration": 16,
    "start_time": "2025-01-22T12:40:36.549Z"
   },
   {
    "duration": 21,
    "start_time": "2025-01-22T12:40:36.568Z"
   },
   {
    "duration": 32,
    "start_time": "2025-01-22T12:40:36.591Z"
   },
   {
    "duration": 52,
    "start_time": "2025-01-22T12:40:36.625Z"
   },
   {
    "duration": 36,
    "start_time": "2025-01-22T12:40:36.678Z"
   },
   {
    "duration": 249,
    "start_time": "2025-01-22T12:40:36.717Z"
   },
   {
    "duration": 2,
    "start_time": "2025-01-22T12:40:36.968Z"
   },
   {
    "duration": 24,
    "start_time": "2025-01-22T12:40:36.972Z"
   },
   {
    "duration": 26,
    "start_time": "2025-01-22T12:40:36.998Z"
   },
   {
    "duration": 31,
    "start_time": "2025-01-22T12:40:37.026Z"
   },
   {
    "duration": 6,
    "start_time": "2025-01-22T12:41:25.158Z"
   },
   {
    "duration": 10,
    "start_time": "2025-01-22T12:41:27.625Z"
   },
   {
    "duration": 4,
    "start_time": "2025-01-22T12:41:35.885Z"
   },
   {
    "duration": 171,
    "start_time": "2025-01-22T12:41:58.575Z"
   },
   {
    "duration": 540,
    "start_time": "2025-01-22T12:42:08.735Z"
   },
   {
    "duration": 42,
    "start_time": "2025-01-22T12:42:09.278Z"
   },
   {
    "duration": 25,
    "start_time": "2025-01-22T12:42:09.321Z"
   },
   {
    "duration": 2386,
    "start_time": "2025-01-22T12:42:09.348Z"
   },
   {
    "duration": 11,
    "start_time": "2025-01-22T12:42:11.736Z"
   },
   {
    "duration": 6,
    "start_time": "2025-01-22T12:42:11.750Z"
   },
   {
    "duration": 34,
    "start_time": "2025-01-22T12:42:11.758Z"
   },
   {
    "duration": 4,
    "start_time": "2025-01-22T12:42:11.793Z"
   },
   {
    "duration": 16,
    "start_time": "2025-01-22T12:42:11.799Z"
   },
   {
    "duration": 5,
    "start_time": "2025-01-22T12:42:11.837Z"
   },
   {
    "duration": 6,
    "start_time": "2025-01-22T12:42:11.843Z"
   },
   {
    "duration": 7,
    "start_time": "2025-01-22T12:42:11.850Z"
   },
   {
    "duration": 7,
    "start_time": "2025-01-22T12:42:11.859Z"
   },
   {
    "duration": 33,
    "start_time": "2025-01-22T12:42:11.869Z"
   },
   {
    "duration": 33,
    "start_time": "2025-01-22T12:42:11.904Z"
   },
   {
    "duration": 12,
    "start_time": "2025-01-22T12:42:11.939Z"
   },
   {
    "duration": 6,
    "start_time": "2025-01-22T12:42:11.952Z"
   },
   {
    "duration": 4,
    "start_time": "2025-01-22T12:42:11.960Z"
   },
   {
    "duration": 5,
    "start_time": "2025-01-22T12:42:11.966Z"
   },
   {
    "duration": 5,
    "start_time": "2025-01-22T12:42:11.973Z"
   },
   {
    "duration": 7,
    "start_time": "2025-01-22T12:42:11.980Z"
   },
   {
    "duration": 50,
    "start_time": "2025-01-22T12:42:11.989Z"
   },
   {
    "duration": 47,
    "start_time": "2025-01-22T12:42:12.041Z"
   },
   {
    "duration": 13,
    "start_time": "2025-01-22T12:42:12.090Z"
   },
   {
    "duration": 96,
    "start_time": "2025-01-22T12:42:12.105Z"
   },
   {
    "duration": 10,
    "start_time": "2025-01-22T12:42:12.203Z"
   },
   {
    "duration": 46,
    "start_time": "2025-01-22T12:42:12.215Z"
   },
   {
    "duration": 5,
    "start_time": "2025-01-22T12:42:12.263Z"
   },
   {
    "duration": 20,
    "start_time": "2025-01-22T12:42:12.270Z"
   },
   {
    "duration": 30,
    "start_time": "2025-01-22T12:42:12.292Z"
   },
   {
    "duration": 18,
    "start_time": "2025-01-22T12:42:12.324Z"
   },
   {
    "duration": 18,
    "start_time": "2025-01-22T12:42:12.345Z"
   },
   {
    "duration": 6,
    "start_time": "2025-01-22T12:42:12.365Z"
   },
   {
    "duration": 16,
    "start_time": "2025-01-22T12:42:12.373Z"
   },
   {
    "duration": 5,
    "start_time": "2025-01-22T12:42:12.391Z"
   },
   {
    "duration": 7,
    "start_time": "2025-01-22T12:42:12.398Z"
   },
   {
    "duration": 4,
    "start_time": "2025-01-22T12:42:12.406Z"
   },
   {
    "duration": 338,
    "start_time": "2025-01-22T12:42:12.412Z"
   },
   {
    "duration": 7,
    "start_time": "2025-01-22T12:42:12.752Z"
   },
   {
    "duration": 8,
    "start_time": "2025-01-22T12:42:12.760Z"
   },
   {
    "duration": 1348,
    "start_time": "2025-01-22T12:42:12.772Z"
   },
   {
    "duration": 20,
    "start_time": "2025-01-22T12:42:14.122Z"
   },
   {
    "duration": 8,
    "start_time": "2025-01-22T12:42:14.144Z"
   },
   {
    "duration": 6,
    "start_time": "2025-01-22T12:42:14.154Z"
   },
   {
    "duration": 18,
    "start_time": "2025-01-22T12:42:14.162Z"
   },
   {
    "duration": 28,
    "start_time": "2025-01-22T12:42:14.182Z"
   },
   {
    "duration": 33,
    "start_time": "2025-01-22T12:42:14.212Z"
   },
   {
    "duration": 4,
    "start_time": "2025-01-22T12:42:14.247Z"
   },
   {
    "duration": 23,
    "start_time": "2025-01-22T12:42:14.253Z"
   },
   {
    "duration": 162,
    "start_time": "2025-01-22T12:42:14.278Z"
   },
   {
    "duration": 8,
    "start_time": "2025-01-22T12:42:14.442Z"
   },
   {
    "duration": 20,
    "start_time": "2025-01-22T12:42:14.451Z"
   },
   {
    "duration": 6,
    "start_time": "2025-01-22T12:42:14.473Z"
   },
   {
    "duration": 495,
    "start_time": "2025-01-22T12:42:29.295Z"
   },
   {
    "duration": 50,
    "start_time": "2025-01-22T12:42:29.792Z"
   },
   {
    "duration": 16,
    "start_time": "2025-01-22T12:42:29.843Z"
   },
   {
    "duration": 2382,
    "start_time": "2025-01-22T12:42:29.860Z"
   },
   {
    "duration": 11,
    "start_time": "2025-01-22T12:42:32.244Z"
   },
   {
    "duration": 12,
    "start_time": "2025-01-22T12:42:32.257Z"
   },
   {
    "duration": 35,
    "start_time": "2025-01-22T12:42:32.270Z"
   },
   {
    "duration": 3,
    "start_time": "2025-01-22T12:42:32.307Z"
   },
   {
    "duration": 31,
    "start_time": "2025-01-22T12:42:32.311Z"
   },
   {
    "duration": 24,
    "start_time": "2025-01-22T12:42:32.343Z"
   },
   {
    "duration": 6,
    "start_time": "2025-01-22T12:42:32.369Z"
   },
   {
    "duration": 12,
    "start_time": "2025-01-22T12:42:32.377Z"
   },
   {
    "duration": 16,
    "start_time": "2025-01-22T12:42:32.391Z"
   },
   {
    "duration": 49,
    "start_time": "2025-01-22T12:42:32.410Z"
   },
   {
    "duration": 4,
    "start_time": "2025-01-22T12:42:32.461Z"
   },
   {
    "duration": 26,
    "start_time": "2025-01-22T12:42:32.467Z"
   },
   {
    "duration": 30,
    "start_time": "2025-01-22T12:42:32.495Z"
   },
   {
    "duration": 5,
    "start_time": "2025-01-22T12:42:32.527Z"
   },
   {
    "duration": 31,
    "start_time": "2025-01-22T12:42:32.533Z"
   },
   {
    "duration": 12,
    "start_time": "2025-01-22T12:42:32.565Z"
   },
   {
    "duration": 14,
    "start_time": "2025-01-22T12:42:32.578Z"
   },
   {
    "duration": 11,
    "start_time": "2025-01-22T12:42:32.594Z"
   },
   {
    "duration": 51,
    "start_time": "2025-01-22T12:42:32.607Z"
   },
   {
    "duration": 12,
    "start_time": "2025-01-22T12:42:32.660Z"
   },
   {
    "duration": 81,
    "start_time": "2025-01-22T12:42:32.674Z"
   },
   {
    "duration": 9,
    "start_time": "2025-01-22T12:42:32.756Z"
   },
   {
    "duration": 52,
    "start_time": "2025-01-22T12:42:32.767Z"
   },
   {
    "duration": 5,
    "start_time": "2025-01-22T12:42:32.821Z"
   },
   {
    "duration": 25,
    "start_time": "2025-01-22T12:42:32.827Z"
   },
   {
    "duration": 46,
    "start_time": "2025-01-22T12:42:32.854Z"
   },
   {
    "duration": 35,
    "start_time": "2025-01-22T12:42:32.902Z"
   },
   {
    "duration": 41,
    "start_time": "2025-01-22T12:42:32.939Z"
   },
   {
    "duration": 5,
    "start_time": "2025-01-22T12:42:32.982Z"
   },
   {
    "duration": 58,
    "start_time": "2025-01-22T12:42:32.988Z"
   },
   {
    "duration": 15,
    "start_time": "2025-01-22T12:42:33.048Z"
   },
   {
    "duration": 13,
    "start_time": "2025-01-22T12:42:33.065Z"
   },
   {
    "duration": 6,
    "start_time": "2025-01-22T12:42:33.079Z"
   },
   {
    "duration": 318,
    "start_time": "2025-01-22T12:42:33.086Z"
   },
   {
    "duration": 8,
    "start_time": "2025-01-22T12:42:33.405Z"
   },
   {
    "duration": 33,
    "start_time": "2025-01-22T12:42:33.414Z"
   },
   {
    "duration": 1340,
    "start_time": "2025-01-22T12:42:33.451Z"
   },
   {
    "duration": 12,
    "start_time": "2025-01-22T12:42:34.793Z"
   },
   {
    "duration": 12,
    "start_time": "2025-01-22T12:42:34.807Z"
   },
   {
    "duration": 41,
    "start_time": "2025-01-22T12:42:34.821Z"
   },
   {
    "duration": 20,
    "start_time": "2025-01-22T12:42:34.864Z"
   },
   {
    "duration": 18,
    "start_time": "2025-01-22T12:42:34.887Z"
   },
   {
    "duration": 29,
    "start_time": "2025-01-22T12:42:34.907Z"
   },
   {
    "duration": 5,
    "start_time": "2025-01-22T12:42:34.939Z"
   },
   {
    "duration": 28,
    "start_time": "2025-01-22T12:42:34.946Z"
   },
   {
    "duration": 154,
    "start_time": "2025-01-22T12:42:34.976Z"
   },
   {
    "duration": 10,
    "start_time": "2025-01-22T12:42:35.132Z"
   },
   {
    "duration": 45,
    "start_time": "2025-01-22T12:42:35.144Z"
   },
   {
    "duration": 7,
    "start_time": "2025-01-22T12:42:35.191Z"
   },
   {
    "duration": 6,
    "start_time": "2025-01-22T12:42:57.385Z"
   },
   {
    "duration": 5,
    "start_time": "2025-01-22T12:43:16.256Z"
   },
   {
    "duration": 8,
    "start_time": "2025-01-22T12:43:35.245Z"
   },
   {
    "duration": 538,
    "start_time": "2025-01-22T12:43:44.044Z"
   },
   {
    "duration": 43,
    "start_time": "2025-01-22T12:43:44.585Z"
   },
   {
    "duration": 21,
    "start_time": "2025-01-22T12:43:44.630Z"
   },
   {
    "duration": 2453,
    "start_time": "2025-01-22T12:43:44.653Z"
   },
   {
    "duration": 12,
    "start_time": "2025-01-22T12:43:47.109Z"
   },
   {
    "duration": 6,
    "start_time": "2025-01-22T12:43:47.122Z"
   },
   {
    "duration": 39,
    "start_time": "2025-01-22T12:43:47.130Z"
   },
   {
    "duration": 4,
    "start_time": "2025-01-22T12:43:47.170Z"
   },
   {
    "duration": 19,
    "start_time": "2025-01-22T12:43:47.176Z"
   },
   {
    "duration": 5,
    "start_time": "2025-01-22T12:43:47.196Z"
   },
   {
    "duration": 10,
    "start_time": "2025-01-22T12:43:47.202Z"
   },
   {
    "duration": 10,
    "start_time": "2025-01-22T12:43:47.214Z"
   },
   {
    "duration": 6,
    "start_time": "2025-01-22T12:43:47.238Z"
   },
   {
    "duration": 32,
    "start_time": "2025-01-22T12:43:47.247Z"
   },
   {
    "duration": 6,
    "start_time": "2025-01-22T12:43:47.282Z"
   },
   {
    "duration": 13,
    "start_time": "2025-01-22T12:43:47.290Z"
   },
   {
    "duration": 32,
    "start_time": "2025-01-22T12:43:47.305Z"
   },
   {
    "duration": 4,
    "start_time": "2025-01-22T12:43:47.340Z"
   },
   {
    "duration": 7,
    "start_time": "2025-01-22T12:43:47.346Z"
   },
   {
    "duration": 5,
    "start_time": "2025-01-22T12:43:47.355Z"
   },
   {
    "duration": 8,
    "start_time": "2025-01-22T12:43:47.362Z"
   },
   {
    "duration": 11,
    "start_time": "2025-01-22T12:43:47.372Z"
   },
   {
    "duration": 74,
    "start_time": "2025-01-22T12:43:47.386Z"
   },
   {
    "duration": 11,
    "start_time": "2025-01-22T12:43:47.462Z"
   },
   {
    "duration": 85,
    "start_time": "2025-01-22T12:43:47.475Z"
   },
   {
    "duration": 10,
    "start_time": "2025-01-22T12:43:47.562Z"
   },
   {
    "duration": 28,
    "start_time": "2025-01-22T12:43:47.574Z"
   },
   {
    "duration": 33,
    "start_time": "2025-01-22T12:43:47.603Z"
   },
   {
    "duration": 19,
    "start_time": "2025-01-22T12:43:47.638Z"
   },
   {
    "duration": 27,
    "start_time": "2025-01-22T12:43:47.659Z"
   },
   {
    "duration": 18,
    "start_time": "2025-01-22T12:43:47.687Z"
   },
   {
    "duration": 29,
    "start_time": "2025-01-22T12:43:47.706Z"
   },
   {
    "duration": 6,
    "start_time": "2025-01-22T12:43:47.737Z"
   },
   {
    "duration": 9,
    "start_time": "2025-01-22T12:43:47.745Z"
   },
   {
    "duration": 6,
    "start_time": "2025-01-22T12:43:47.755Z"
   },
   {
    "duration": 11,
    "start_time": "2025-01-22T12:43:47.763Z"
   },
   {
    "duration": 14,
    "start_time": "2025-01-22T12:43:47.776Z"
   },
   {
    "duration": 340,
    "start_time": "2025-01-22T12:43:47.792Z"
   },
   {
    "duration": 7,
    "start_time": "2025-01-22T12:43:48.134Z"
   },
   {
    "duration": 5,
    "start_time": "2025-01-22T12:43:48.143Z"
   },
   {
    "duration": 1361,
    "start_time": "2025-01-22T12:43:48.152Z"
   },
   {
    "duration": 10,
    "start_time": "2025-01-22T12:43:49.515Z"
   },
   {
    "duration": 17,
    "start_time": "2025-01-22T12:43:49.526Z"
   },
   {
    "duration": 8,
    "start_time": "2025-01-22T12:43:49.545Z"
   },
   {
    "duration": 7,
    "start_time": "2025-01-22T12:43:49.555Z"
   },
   {
    "duration": 11,
    "start_time": "2025-01-22T12:43:49.564Z"
   },
   {
    "duration": 62,
    "start_time": "2025-01-22T12:43:49.577Z"
   },
   {
    "duration": 6,
    "start_time": "2025-01-22T12:43:49.641Z"
   },
   {
    "duration": 8,
    "start_time": "2025-01-22T12:43:49.649Z"
   },
   {
    "duration": 9,
    "start_time": "2025-01-22T12:43:49.659Z"
   },
   {
    "duration": 6,
    "start_time": "2025-01-22T12:43:49.670Z"
   },
   {
    "duration": 183,
    "start_time": "2025-01-22T12:43:49.677Z"
   },
   {
    "duration": 7,
    "start_time": "2025-01-22T12:43:49.862Z"
   },
   {
    "duration": 11,
    "start_time": "2025-01-22T12:43:49.870Z"
   },
   {
    "duration": 6,
    "start_time": "2025-01-22T12:43:49.883Z"
   },
   {
    "duration": 197,
    "start_time": "2025-01-22T12:44:18.444Z"
   },
   {
    "duration": 5,
    "start_time": "2025-01-22T12:44:38.084Z"
   },
   {
    "duration": 528,
    "start_time": "2025-01-22T12:44:55.174Z"
   },
   {
    "duration": 53,
    "start_time": "2025-01-22T12:44:55.705Z"
   },
   {
    "duration": 18,
    "start_time": "2025-01-22T12:44:55.760Z"
   },
   {
    "duration": 2507,
    "start_time": "2025-01-22T12:44:55.779Z"
   },
   {
    "duration": 17,
    "start_time": "2025-01-22T12:44:58.290Z"
   },
   {
    "duration": 10,
    "start_time": "2025-01-22T12:44:58.309Z"
   },
   {
    "duration": 43,
    "start_time": "2025-01-22T12:44:58.322Z"
   },
   {
    "duration": 4,
    "start_time": "2025-01-22T12:44:58.367Z"
   },
   {
    "duration": 61,
    "start_time": "2025-01-22T12:44:58.373Z"
   },
   {
    "duration": 5,
    "start_time": "2025-01-22T12:44:58.436Z"
   },
   {
    "duration": 25,
    "start_time": "2025-01-22T12:44:58.443Z"
   },
   {
    "duration": 39,
    "start_time": "2025-01-22T12:44:58.470Z"
   },
   {
    "duration": 70,
    "start_time": "2025-01-22T12:44:58.511Z"
   },
   {
    "duration": 51,
    "start_time": "2025-01-22T12:44:58.586Z"
   },
   {
    "duration": 5,
    "start_time": "2025-01-22T12:44:58.639Z"
   },
   {
    "duration": 48,
    "start_time": "2025-01-22T12:44:58.645Z"
   },
   {
    "duration": 10,
    "start_time": "2025-01-22T12:44:58.694Z"
   },
   {
    "duration": 11,
    "start_time": "2025-01-22T12:44:58.707Z"
   },
   {
    "duration": 11,
    "start_time": "2025-01-22T12:44:58.720Z"
   },
   {
    "duration": 11,
    "start_time": "2025-01-22T12:44:58.733Z"
   },
   {
    "duration": 18,
    "start_time": "2025-01-22T12:44:58.747Z"
   },
   {
    "duration": 23,
    "start_time": "2025-01-22T12:44:58.767Z"
   },
   {
    "duration": 55,
    "start_time": "2025-01-22T12:44:58.791Z"
   },
   {
    "duration": 15,
    "start_time": "2025-01-22T12:44:58.848Z"
   },
   {
    "duration": 83,
    "start_time": "2025-01-22T12:44:58.864Z"
   },
   {
    "duration": 10,
    "start_time": "2025-01-22T12:44:58.949Z"
   },
   {
    "duration": 34,
    "start_time": "2025-01-22T12:44:58.960Z"
   },
   {
    "duration": 6,
    "start_time": "2025-01-22T12:44:58.996Z"
   },
   {
    "duration": 35,
    "start_time": "2025-01-22T12:44:59.004Z"
   },
   {
    "duration": 39,
    "start_time": "2025-01-22T12:44:59.041Z"
   },
   {
    "duration": 29,
    "start_time": "2025-01-22T12:44:59.081Z"
   },
   {
    "duration": 23,
    "start_time": "2025-01-22T12:44:59.112Z"
   },
   {
    "duration": 5,
    "start_time": "2025-01-22T12:44:59.137Z"
   },
   {
    "duration": 33,
    "start_time": "2025-01-22T12:44:59.144Z"
   },
   {
    "duration": 15,
    "start_time": "2025-01-22T12:44:59.179Z"
   },
   {
    "duration": 11,
    "start_time": "2025-01-22T12:44:59.197Z"
   },
   {
    "duration": 10,
    "start_time": "2025-01-22T12:44:59.210Z"
   },
   {
    "duration": 337,
    "start_time": "2025-01-22T12:44:59.222Z"
   },
   {
    "duration": 8,
    "start_time": "2025-01-22T12:44:59.561Z"
   },
   {
    "duration": 19,
    "start_time": "2025-01-22T12:44:59.571Z"
   },
   {
    "duration": 1475,
    "start_time": "2025-01-22T12:44:59.597Z"
   },
   {
    "duration": 11,
    "start_time": "2025-01-22T12:45:01.074Z"
   },
   {
    "duration": 42,
    "start_time": "2025-01-22T12:45:01.087Z"
   },
   {
    "duration": 39,
    "start_time": "2025-01-22T12:45:01.131Z"
   },
   {
    "duration": 28,
    "start_time": "2025-01-22T12:45:01.173Z"
   },
   {
    "duration": 19,
    "start_time": "2025-01-22T12:45:01.203Z"
   },
   {
    "duration": 41,
    "start_time": "2025-01-22T12:45:01.225Z"
   },
   {
    "duration": 6,
    "start_time": "2025-01-22T12:45:01.268Z"
   },
   {
    "duration": 192,
    "start_time": "2025-01-22T12:45:01.276Z"
   },
   {
    "duration": 5,
    "start_time": "2025-01-22T12:45:01.470Z"
   },
   {
    "duration": 113,
    "start_time": "2025-01-22T12:45:01.477Z"
   },
   {
    "duration": 14,
    "start_time": "2025-01-22T12:45:01.593Z"
   },
   {
    "duration": 5,
    "start_time": "2025-01-22T12:46:48.593Z"
   },
   {
    "duration": 6,
    "start_time": "2025-01-22T12:47:11.006Z"
   },
   {
    "duration": 5,
    "start_time": "2025-01-22T12:47:35.273Z"
   },
   {
    "duration": 10,
    "start_time": "2025-01-22T12:50:46.382Z"
   },
   {
    "duration": 5,
    "start_time": "2025-01-22T12:50:52.363Z"
   },
   {
    "duration": 583,
    "start_time": "2025-01-22T12:51:07.855Z"
   },
   {
    "duration": 43,
    "start_time": "2025-01-22T12:51:08.450Z"
   },
   {
    "duration": 16,
    "start_time": "2025-01-22T12:51:08.495Z"
   },
   {
    "duration": 2514,
    "start_time": "2025-01-22T12:51:08.512Z"
   },
   {
    "duration": 12,
    "start_time": "2025-01-22T12:51:11.028Z"
   },
   {
    "duration": 18,
    "start_time": "2025-01-22T12:51:11.043Z"
   },
   {
    "duration": 39,
    "start_time": "2025-01-22T12:51:11.063Z"
   },
   {
    "duration": 4,
    "start_time": "2025-01-22T12:51:11.104Z"
   },
   {
    "duration": 39,
    "start_time": "2025-01-22T12:51:11.109Z"
   },
   {
    "duration": 20,
    "start_time": "2025-01-22T12:51:11.150Z"
   },
   {
    "duration": 24,
    "start_time": "2025-01-22T12:51:11.172Z"
   },
   {
    "duration": 15,
    "start_time": "2025-01-22T12:51:11.197Z"
   },
   {
    "duration": 16,
    "start_time": "2025-01-22T12:51:11.214Z"
   },
   {
    "duration": 37,
    "start_time": "2025-01-22T12:51:11.234Z"
   },
   {
    "duration": 35,
    "start_time": "2025-01-22T12:51:11.274Z"
   },
   {
    "duration": 17,
    "start_time": "2025-01-22T12:51:11.311Z"
   },
   {
    "duration": 18,
    "start_time": "2025-01-22T12:51:11.330Z"
   },
   {
    "duration": 17,
    "start_time": "2025-01-22T12:51:11.350Z"
   },
   {
    "duration": 21,
    "start_time": "2025-01-22T12:51:11.369Z"
   },
   {
    "duration": 20,
    "start_time": "2025-01-22T12:51:11.392Z"
   },
   {
    "duration": 19,
    "start_time": "2025-01-22T12:51:11.414Z"
   },
   {
    "duration": 19,
    "start_time": "2025-01-22T12:51:11.435Z"
   },
   {
    "duration": 94,
    "start_time": "2025-01-22T12:51:11.456Z"
   },
   {
    "duration": 13,
    "start_time": "2025-01-22T12:51:11.552Z"
   },
   {
    "duration": 112,
    "start_time": "2025-01-22T12:51:11.567Z"
   },
   {
    "duration": 11,
    "start_time": "2025-01-22T12:51:11.681Z"
   },
   {
    "duration": 31,
    "start_time": "2025-01-22T12:51:11.695Z"
   },
   {
    "duration": 25,
    "start_time": "2025-01-22T12:51:11.727Z"
   },
   {
    "duration": 6,
    "start_time": "2025-01-22T12:51:11.754Z"
   },
   {
    "duration": 47,
    "start_time": "2025-01-22T12:51:11.762Z"
   },
   {
    "duration": 24,
    "start_time": "2025-01-22T12:51:11.810Z"
   },
   {
    "duration": 29,
    "start_time": "2025-01-22T12:51:11.836Z"
   },
   {
    "duration": 15,
    "start_time": "2025-01-22T12:51:11.867Z"
   },
   {
    "duration": 14,
    "start_time": "2025-01-22T12:51:11.883Z"
   },
   {
    "duration": 24,
    "start_time": "2025-01-22T12:51:11.899Z"
   },
   {
    "duration": 7,
    "start_time": "2025-01-22T12:51:11.925Z"
   },
   {
    "duration": 20,
    "start_time": "2025-01-22T12:51:11.934Z"
   },
   {
    "duration": 345,
    "start_time": "2025-01-22T12:51:11.956Z"
   },
   {
    "duration": 7,
    "start_time": "2025-01-22T12:51:12.302Z"
   },
   {
    "duration": 7,
    "start_time": "2025-01-22T12:51:12.311Z"
   },
   {
    "duration": 1429,
    "start_time": "2025-01-22T12:51:12.323Z"
   },
   {
    "duration": 13,
    "start_time": "2025-01-22T12:51:13.754Z"
   },
   {
    "duration": 21,
    "start_time": "2025-01-22T12:51:13.769Z"
   },
   {
    "duration": 15,
    "start_time": "2025-01-22T12:51:13.792Z"
   },
   {
    "duration": 14,
    "start_time": "2025-01-22T12:51:13.808Z"
   },
   {
    "duration": 31,
    "start_time": "2025-01-22T12:51:13.823Z"
   },
   {
    "duration": 36,
    "start_time": "2025-01-22T12:51:13.855Z"
   },
   {
    "duration": 5,
    "start_time": "2025-01-22T12:51:13.893Z"
   },
   {
    "duration": 180,
    "start_time": "2025-01-22T12:51:13.899Z"
   },
   {
    "duration": 7,
    "start_time": "2025-01-22T12:51:14.080Z"
   },
   {
    "duration": 18,
    "start_time": "2025-01-22T12:51:14.089Z"
   },
   {
    "duration": 11,
    "start_time": "2025-01-22T12:51:14.109Z"
   },
   {
    "duration": 19,
    "start_time": "2025-01-22T12:51:14.122Z"
   },
   {
    "duration": 7,
    "start_time": "2025-01-22T12:52:24.951Z"
   },
   {
    "duration": 7,
    "start_time": "2025-01-22T12:52:26.063Z"
   },
   {
    "duration": 5,
    "start_time": "2025-01-22T12:52:27.021Z"
   },
   {
    "duration": 545,
    "start_time": "2025-01-22T12:52:32.364Z"
   },
   {
    "duration": 62,
    "start_time": "2025-01-22T12:52:32.911Z"
   },
   {
    "duration": 19,
    "start_time": "2025-01-22T12:52:32.975Z"
   },
   {
    "duration": 2478,
    "start_time": "2025-01-22T12:52:32.996Z"
   },
   {
    "duration": 10,
    "start_time": "2025-01-22T12:52:35.476Z"
   },
   {
    "duration": 16,
    "start_time": "2025-01-22T12:52:35.487Z"
   },
   {
    "duration": 51,
    "start_time": "2025-01-22T12:52:35.504Z"
   },
   {
    "duration": 4,
    "start_time": "2025-01-22T12:52:35.557Z"
   },
   {
    "duration": 36,
    "start_time": "2025-01-22T12:52:35.562Z"
   },
   {
    "duration": 20,
    "start_time": "2025-01-22T12:52:35.600Z"
   },
   {
    "duration": 39,
    "start_time": "2025-01-22T12:52:35.621Z"
   },
   {
    "duration": 39,
    "start_time": "2025-01-22T12:52:35.661Z"
   },
   {
    "duration": 24,
    "start_time": "2025-01-22T12:52:35.701Z"
   },
   {
    "duration": 54,
    "start_time": "2025-01-22T12:52:35.728Z"
   },
   {
    "duration": 8,
    "start_time": "2025-01-22T12:52:35.783Z"
   },
   {
    "duration": 35,
    "start_time": "2025-01-22T12:52:35.793Z"
   },
   {
    "duration": 25,
    "start_time": "2025-01-22T12:52:35.830Z"
   },
   {
    "duration": 19,
    "start_time": "2025-01-22T12:52:35.856Z"
   },
   {
    "duration": 32,
    "start_time": "2025-01-22T12:52:35.876Z"
   },
   {
    "duration": 44,
    "start_time": "2025-01-22T12:52:35.910Z"
   },
   {
    "duration": 24,
    "start_time": "2025-01-22T12:52:35.956Z"
   },
   {
    "duration": 26,
    "start_time": "2025-01-22T12:52:35.981Z"
   },
   {
    "duration": 81,
    "start_time": "2025-01-22T12:52:36.009Z"
   },
   {
    "duration": 57,
    "start_time": "2025-01-22T12:52:36.091Z"
   },
   {
    "duration": 106,
    "start_time": "2025-01-22T12:52:36.150Z"
   },
   {
    "duration": 10,
    "start_time": "2025-01-22T12:52:36.257Z"
   },
   {
    "duration": 66,
    "start_time": "2025-01-22T12:52:36.268Z"
   },
   {
    "duration": 47,
    "start_time": "2025-01-22T12:52:36.336Z"
   },
   {
    "duration": 59,
    "start_time": "2025-01-22T12:52:36.385Z"
   },
   {
    "duration": 48,
    "start_time": "2025-01-22T12:52:36.446Z"
   },
   {
    "duration": 14,
    "start_time": "2025-01-22T12:52:36.495Z"
   },
   {
    "duration": 59,
    "start_time": "2025-01-22T12:52:36.511Z"
   },
   {
    "duration": 81,
    "start_time": "2025-01-22T12:52:36.572Z"
   },
   {
    "duration": 18,
    "start_time": "2025-01-22T12:52:36.655Z"
   },
   {
    "duration": 13,
    "start_time": "2025-01-22T12:52:36.675Z"
   },
   {
    "duration": 14,
    "start_time": "2025-01-22T12:52:36.690Z"
   },
   {
    "duration": 10,
    "start_time": "2025-01-22T12:52:36.706Z"
   },
   {
    "duration": 368,
    "start_time": "2025-01-22T12:52:36.717Z"
   },
   {
    "duration": 7,
    "start_time": "2025-01-22T12:52:37.087Z"
   },
   {
    "duration": 35,
    "start_time": "2025-01-22T12:52:37.095Z"
   },
   {
    "duration": 1433,
    "start_time": "2025-01-22T12:52:37.135Z"
   },
   {
    "duration": 11,
    "start_time": "2025-01-22T12:52:38.571Z"
   },
   {
    "duration": 9,
    "start_time": "2025-01-22T12:52:38.584Z"
   },
   {
    "duration": 34,
    "start_time": "2025-01-22T12:52:38.594Z"
   },
   {
    "duration": 24,
    "start_time": "2025-01-22T12:52:38.630Z"
   },
   {
    "duration": 20,
    "start_time": "2025-01-22T12:52:38.656Z"
   },
   {
    "duration": 27,
    "start_time": "2025-01-22T12:52:38.678Z"
   },
   {
    "duration": 15,
    "start_time": "2025-01-22T12:52:38.707Z"
   },
   {
    "duration": 180,
    "start_time": "2025-01-22T12:52:38.724Z"
   },
   {
    "duration": 6,
    "start_time": "2025-01-22T12:52:38.906Z"
   },
   {
    "duration": 19,
    "start_time": "2025-01-22T12:52:38.913Z"
   },
   {
    "duration": 14,
    "start_time": "2025-01-22T12:52:38.940Z"
   },
   {
    "duration": 39,
    "start_time": "2025-01-22T12:52:38.956Z"
   },
   {
    "duration": 7,
    "start_time": "2025-01-22T12:52:49.262Z"
   },
   {
    "duration": 504,
    "start_time": "2025-01-22T12:53:02.382Z"
   },
   {
    "duration": 60,
    "start_time": "2025-01-22T12:53:02.888Z"
   },
   {
    "duration": 17,
    "start_time": "2025-01-22T12:53:02.950Z"
   },
   {
    "duration": 2461,
    "start_time": "2025-01-22T12:53:02.969Z"
   },
   {
    "duration": 18,
    "start_time": "2025-01-22T12:53:05.432Z"
   },
   {
    "duration": 10,
    "start_time": "2025-01-22T12:53:05.452Z"
   },
   {
    "duration": 38,
    "start_time": "2025-01-22T12:53:05.463Z"
   },
   {
    "duration": 4,
    "start_time": "2025-01-22T12:53:05.502Z"
   },
   {
    "duration": 44,
    "start_time": "2025-01-22T12:53:05.507Z"
   },
   {
    "duration": 12,
    "start_time": "2025-01-22T12:53:05.553Z"
   },
   {
    "duration": 12,
    "start_time": "2025-01-22T12:53:05.567Z"
   },
   {
    "duration": 16,
    "start_time": "2025-01-22T12:53:05.580Z"
   },
   {
    "duration": 6,
    "start_time": "2025-01-22T12:53:05.598Z"
   },
   {
    "duration": 108,
    "start_time": "2025-01-22T12:53:05.607Z"
   },
   {
    "duration": 5,
    "start_time": "2025-01-22T12:53:05.717Z"
   },
   {
    "duration": 25,
    "start_time": "2025-01-22T12:53:05.723Z"
   },
   {
    "duration": 23,
    "start_time": "2025-01-22T12:53:05.750Z"
   },
   {
    "duration": 12,
    "start_time": "2025-01-22T12:53:05.774Z"
   },
   {
    "duration": 7,
    "start_time": "2025-01-22T12:53:05.787Z"
   },
   {
    "duration": 24,
    "start_time": "2025-01-22T12:53:05.795Z"
   },
   {
    "duration": 37,
    "start_time": "2025-01-22T12:53:05.821Z"
   },
   {
    "duration": 23,
    "start_time": "2025-01-22T12:53:05.860Z"
   },
   {
    "duration": 46,
    "start_time": "2025-01-22T12:53:05.885Z"
   },
   {
    "duration": 22,
    "start_time": "2025-01-22T12:53:05.932Z"
   },
   {
    "duration": 84,
    "start_time": "2025-01-22T12:53:05.956Z"
   },
   {
    "duration": 11,
    "start_time": "2025-01-22T12:53:06.050Z"
   },
   {
    "duration": 71,
    "start_time": "2025-01-22T12:53:06.063Z"
   },
   {
    "duration": 10,
    "start_time": "2025-01-22T12:53:06.135Z"
   },
   {
    "duration": 24,
    "start_time": "2025-01-22T12:53:06.146Z"
   },
   {
    "duration": 30,
    "start_time": "2025-01-22T12:53:06.172Z"
   },
   {
    "duration": 30,
    "start_time": "2025-01-22T12:53:06.204Z"
   },
   {
    "duration": 32,
    "start_time": "2025-01-22T12:53:06.236Z"
   },
   {
    "duration": 11,
    "start_time": "2025-01-22T12:53:06.269Z"
   },
   {
    "duration": 21,
    "start_time": "2025-01-22T12:53:06.282Z"
   },
   {
    "duration": 23,
    "start_time": "2025-01-22T12:53:06.304Z"
   },
   {
    "duration": 19,
    "start_time": "2025-01-22T12:53:06.329Z"
   },
   {
    "duration": 9,
    "start_time": "2025-01-22T12:53:06.351Z"
   },
   {
    "duration": 333,
    "start_time": "2025-01-22T12:53:06.362Z"
   },
   {
    "duration": 8,
    "start_time": "2025-01-22T12:53:06.697Z"
   },
   {
    "duration": 9,
    "start_time": "2025-01-22T12:53:06.707Z"
   },
   {
    "duration": 1475,
    "start_time": "2025-01-22T12:53:06.721Z"
   },
   {
    "duration": 11,
    "start_time": "2025-01-22T12:53:08.197Z"
   },
   {
    "duration": 29,
    "start_time": "2025-01-22T12:53:08.210Z"
   },
   {
    "duration": 11,
    "start_time": "2025-01-22T12:53:08.241Z"
   },
   {
    "duration": 14,
    "start_time": "2025-01-22T12:53:08.254Z"
   },
   {
    "duration": 24,
    "start_time": "2025-01-22T12:53:08.271Z"
   },
   {
    "duration": 46,
    "start_time": "2025-01-22T12:53:08.298Z"
   },
   {
    "duration": 5,
    "start_time": "2025-01-22T12:53:08.354Z"
   },
   {
    "duration": 170,
    "start_time": "2025-01-22T12:53:08.361Z"
   },
   {
    "duration": 20,
    "start_time": "2025-01-22T12:53:08.533Z"
   },
   {
    "duration": 97,
    "start_time": "2025-01-22T12:53:08.555Z"
   },
   {
    "duration": 8,
    "start_time": "2025-01-22T12:53:08.661Z"
   },
   {
    "duration": 5,
    "start_time": "2025-01-22T12:53:08.671Z"
   },
   {
    "duration": 299,
    "start_time": "2025-01-22T12:54:17.241Z"
   },
   {
    "duration": 561,
    "start_time": "2025-01-22T12:54:31.911Z"
   },
   {
    "duration": 44,
    "start_time": "2025-01-22T12:54:32.477Z"
   },
   {
    "duration": 30,
    "start_time": "2025-01-22T12:54:32.523Z"
   },
   {
    "duration": 2387,
    "start_time": "2025-01-22T12:54:32.555Z"
   },
   {
    "duration": 11,
    "start_time": "2025-01-22T12:54:34.944Z"
   },
   {
    "duration": 13,
    "start_time": "2025-01-22T12:54:34.956Z"
   },
   {
    "duration": 34,
    "start_time": "2025-01-22T12:54:34.971Z"
   },
   {
    "duration": 4,
    "start_time": "2025-01-22T12:54:35.006Z"
   },
   {
    "duration": 33,
    "start_time": "2025-01-22T12:54:35.012Z"
   },
   {
    "duration": 9,
    "start_time": "2025-01-22T12:54:35.046Z"
   },
   {
    "duration": 10,
    "start_time": "2025-01-22T12:54:35.057Z"
   },
   {
    "duration": 8,
    "start_time": "2025-01-22T12:54:35.069Z"
   },
   {
    "duration": 28,
    "start_time": "2025-01-22T12:54:35.079Z"
   },
   {
    "duration": 43,
    "start_time": "2025-01-22T12:54:35.109Z"
   },
   {
    "duration": 5,
    "start_time": "2025-01-22T12:54:35.155Z"
   },
   {
    "duration": 21,
    "start_time": "2025-01-22T12:54:35.162Z"
   },
   {
    "duration": 24,
    "start_time": "2025-01-22T12:54:35.185Z"
   },
   {
    "duration": 8,
    "start_time": "2025-01-22T12:54:35.211Z"
   },
   {
    "duration": 7,
    "start_time": "2025-01-22T12:54:35.221Z"
   },
   {
    "duration": 32,
    "start_time": "2025-01-22T12:54:35.230Z"
   },
   {
    "duration": 6,
    "start_time": "2025-01-22T12:54:35.264Z"
   },
   {
    "duration": 8,
    "start_time": "2025-01-22T12:54:35.271Z"
   },
   {
    "duration": 74,
    "start_time": "2025-01-22T12:54:35.281Z"
   },
   {
    "duration": 11,
    "start_time": "2025-01-22T12:54:35.357Z"
   },
   {
    "duration": 78,
    "start_time": "2025-01-22T12:54:35.370Z"
   },
   {
    "duration": 12,
    "start_time": "2025-01-22T12:54:35.450Z"
   },
   {
    "duration": 27,
    "start_time": "2025-01-22T12:54:35.467Z"
   },
   {
    "duration": 23,
    "start_time": "2025-01-22T12:54:35.496Z"
   },
   {
    "duration": 18,
    "start_time": "2025-01-22T12:54:35.521Z"
   },
   {
    "duration": 51,
    "start_time": "2025-01-22T12:54:35.541Z"
   },
   {
    "duration": 19,
    "start_time": "2025-01-22T12:54:35.594Z"
   },
   {
    "duration": 80,
    "start_time": "2025-01-22T12:54:35.615Z"
   },
   {
    "duration": 4,
    "start_time": "2025-01-22T12:54:35.697Z"
   },
   {
    "duration": 28,
    "start_time": "2025-01-22T12:54:35.703Z"
   },
   {
    "duration": 6,
    "start_time": "2025-01-22T12:54:35.733Z"
   },
   {
    "duration": 22,
    "start_time": "2025-01-22T12:54:35.741Z"
   },
   {
    "duration": 3,
    "start_time": "2025-01-22T12:54:35.765Z"
   },
   {
    "duration": 318,
    "start_time": "2025-01-22T12:54:35.770Z"
   },
   {
    "duration": 7,
    "start_time": "2025-01-22T12:54:36.090Z"
   },
   {
    "duration": 20,
    "start_time": "2025-01-22T12:54:36.099Z"
   },
   {
    "duration": 1488,
    "start_time": "2025-01-22T12:54:36.121Z"
   },
   {
    "duration": 26,
    "start_time": "2025-01-22T12:54:37.611Z"
   },
   {
    "duration": 10,
    "start_time": "2025-01-22T12:54:37.639Z"
   },
   {
    "duration": 20,
    "start_time": "2025-01-22T12:54:37.650Z"
   },
   {
    "duration": 39,
    "start_time": "2025-01-22T12:54:37.672Z"
   },
   {
    "duration": 33,
    "start_time": "2025-01-22T12:54:37.713Z"
   },
   {
    "duration": 30,
    "start_time": "2025-01-22T12:54:37.748Z"
   },
   {
    "duration": 6,
    "start_time": "2025-01-22T12:54:37.780Z"
   },
   {
    "duration": 176,
    "start_time": "2025-01-22T12:54:37.787Z"
   },
   {
    "duration": 8,
    "start_time": "2025-01-22T12:54:37.965Z"
   },
   {
    "duration": 21,
    "start_time": "2025-01-22T12:54:37.975Z"
   },
   {
    "duration": 391,
    "start_time": "2025-01-22T12:54:37.998Z"
   },
   {
    "duration": 3,
    "start_time": "2025-01-22T12:54:38.392Z"
   },
   {
    "duration": 24,
    "start_time": "2025-01-22T12:54:38.396Z"
   },
   {
    "duration": 7,
    "start_time": "2025-01-22T12:55:27.520Z"
   },
   {
    "duration": 564,
    "start_time": "2025-01-22T12:55:33.510Z"
   },
   {
    "duration": 42,
    "start_time": "2025-01-22T12:55:34.076Z"
   },
   {
    "duration": 28,
    "start_time": "2025-01-22T12:55:34.120Z"
   },
   {
    "duration": 2411,
    "start_time": "2025-01-22T12:55:34.151Z"
   },
   {
    "duration": 12,
    "start_time": "2025-01-22T12:55:36.564Z"
   },
   {
    "duration": 44,
    "start_time": "2025-01-22T12:55:36.578Z"
   },
   {
    "duration": 87,
    "start_time": "2025-01-22T12:55:36.623Z"
   },
   {
    "duration": 4,
    "start_time": "2025-01-22T12:55:36.713Z"
   },
   {
    "duration": 45,
    "start_time": "2025-01-22T12:55:36.719Z"
   },
   {
    "duration": 15,
    "start_time": "2025-01-22T12:55:36.767Z"
   },
   {
    "duration": 15,
    "start_time": "2025-01-22T12:55:36.784Z"
   },
   {
    "duration": 23,
    "start_time": "2025-01-22T12:55:36.801Z"
   },
   {
    "duration": 23,
    "start_time": "2025-01-22T12:55:36.825Z"
   },
   {
    "duration": 69,
    "start_time": "2025-01-22T12:55:36.850Z"
   },
   {
    "duration": 5,
    "start_time": "2025-01-22T12:55:36.921Z"
   },
   {
    "duration": 25,
    "start_time": "2025-01-22T12:55:36.927Z"
   },
   {
    "duration": 15,
    "start_time": "2025-01-22T12:55:36.954Z"
   },
   {
    "duration": 34,
    "start_time": "2025-01-22T12:55:36.971Z"
   },
   {
    "duration": 13,
    "start_time": "2025-01-22T12:55:37.007Z"
   },
   {
    "duration": 16,
    "start_time": "2025-01-22T12:55:37.022Z"
   },
   {
    "duration": 42,
    "start_time": "2025-01-22T12:55:37.039Z"
   },
   {
    "duration": 12,
    "start_time": "2025-01-22T12:55:37.083Z"
   },
   {
    "duration": 45,
    "start_time": "2025-01-22T12:55:37.097Z"
   },
   {
    "duration": 12,
    "start_time": "2025-01-22T12:55:37.144Z"
   },
   {
    "duration": 74,
    "start_time": "2025-01-22T12:55:37.158Z"
   },
   {
    "duration": 11,
    "start_time": "2025-01-22T12:55:37.236Z"
   },
   {
    "duration": 45,
    "start_time": "2025-01-22T12:55:37.248Z"
   },
   {
    "duration": 5,
    "start_time": "2025-01-22T12:55:37.297Z"
   },
   {
    "duration": 12,
    "start_time": "2025-01-22T12:55:37.304Z"
   },
   {
    "duration": 42,
    "start_time": "2025-01-22T12:55:37.318Z"
   },
   {
    "duration": 22,
    "start_time": "2025-01-22T12:55:37.362Z"
   },
   {
    "duration": 21,
    "start_time": "2025-01-22T12:55:37.386Z"
   },
   {
    "duration": 8,
    "start_time": "2025-01-22T12:55:37.409Z"
   },
   {
    "duration": 13,
    "start_time": "2025-01-22T12:55:37.418Z"
   },
   {
    "duration": 27,
    "start_time": "2025-01-22T12:55:37.433Z"
   },
   {
    "duration": 14,
    "start_time": "2025-01-22T12:55:37.462Z"
   },
   {
    "duration": 9,
    "start_time": "2025-01-22T12:55:37.477Z"
   },
   {
    "duration": 317,
    "start_time": "2025-01-22T12:55:37.488Z"
   },
   {
    "duration": 7,
    "start_time": "2025-01-22T12:55:37.807Z"
   },
   {
    "duration": 17,
    "start_time": "2025-01-22T12:55:37.815Z"
   },
   {
    "duration": 1356,
    "start_time": "2025-01-22T12:55:37.834Z"
   },
   {
    "duration": 11,
    "start_time": "2025-01-22T12:55:39.191Z"
   },
   {
    "duration": 6,
    "start_time": "2025-01-22T12:55:39.204Z"
   },
   {
    "duration": 25,
    "start_time": "2025-01-22T12:55:39.212Z"
   },
   {
    "duration": 7,
    "start_time": "2025-01-22T12:55:39.239Z"
   },
   {
    "duration": 29,
    "start_time": "2025-01-22T12:55:39.247Z"
   },
   {
    "duration": 51,
    "start_time": "2025-01-22T12:55:39.278Z"
   },
   {
    "duration": 5,
    "start_time": "2025-01-22T12:55:39.331Z"
   },
   {
    "duration": 166,
    "start_time": "2025-01-22T12:55:39.338Z"
   },
   {
    "duration": 6,
    "start_time": "2025-01-22T12:55:39.506Z"
   },
   {
    "duration": 22,
    "start_time": "2025-01-22T12:55:39.514Z"
   },
   {
    "duration": 326,
    "start_time": "2025-01-22T12:55:39.538Z"
   },
   {
    "duration": 6,
    "start_time": "2025-01-22T12:55:39.866Z"
   },
   {
    "duration": 19,
    "start_time": "2025-01-22T12:55:39.874Z"
   },
   {
    "duration": 4,
    "start_time": "2025-01-22T12:56:15.730Z"
   },
   {
    "duration": 547,
    "start_time": "2025-01-22T12:56:23.069Z"
   },
   {
    "duration": 48,
    "start_time": "2025-01-22T12:56:23.618Z"
   },
   {
    "duration": 46,
    "start_time": "2025-01-22T12:56:23.667Z"
   },
   {
    "duration": 2363,
    "start_time": "2025-01-22T12:56:23.715Z"
   },
   {
    "duration": 12,
    "start_time": "2025-01-22T12:56:26.081Z"
   },
   {
    "duration": 18,
    "start_time": "2025-01-22T12:56:26.095Z"
   },
   {
    "duration": 36,
    "start_time": "2025-01-22T12:56:26.114Z"
   },
   {
    "duration": 4,
    "start_time": "2025-01-22T12:56:26.152Z"
   },
   {
    "duration": 18,
    "start_time": "2025-01-22T12:56:26.158Z"
   },
   {
    "duration": 6,
    "start_time": "2025-01-22T12:56:26.178Z"
   },
   {
    "duration": 8,
    "start_time": "2025-01-22T12:56:26.186Z"
   },
   {
    "duration": 7,
    "start_time": "2025-01-22T12:56:26.196Z"
   },
   {
    "duration": 36,
    "start_time": "2025-01-22T12:56:26.205Z"
   },
   {
    "duration": 58,
    "start_time": "2025-01-22T12:56:26.245Z"
   },
   {
    "duration": 5,
    "start_time": "2025-01-22T12:56:26.306Z"
   },
   {
    "duration": 20,
    "start_time": "2025-01-22T12:56:26.312Z"
   },
   {
    "duration": 5,
    "start_time": "2025-01-22T12:56:26.334Z"
   },
   {
    "duration": 7,
    "start_time": "2025-01-22T12:56:26.341Z"
   },
   {
    "duration": 6,
    "start_time": "2025-01-22T12:56:26.350Z"
   },
   {
    "duration": 5,
    "start_time": "2025-01-22T12:56:26.358Z"
   },
   {
    "duration": 6,
    "start_time": "2025-01-22T12:56:26.365Z"
   },
   {
    "duration": 15,
    "start_time": "2025-01-22T12:56:26.373Z"
   },
   {
    "duration": 78,
    "start_time": "2025-01-22T12:56:26.391Z"
   },
   {
    "duration": 13,
    "start_time": "2025-01-22T12:56:26.471Z"
   },
   {
    "duration": 82,
    "start_time": "2025-01-22T12:56:26.487Z"
   },
   {
    "duration": 11,
    "start_time": "2025-01-22T12:56:26.571Z"
   },
   {
    "duration": 97,
    "start_time": "2025-01-22T12:56:26.584Z"
   },
   {
    "duration": 6,
    "start_time": "2025-01-22T12:56:26.683Z"
   },
   {
    "duration": 7,
    "start_time": "2025-01-22T12:56:26.691Z"
   },
   {
    "duration": 29,
    "start_time": "2025-01-22T12:56:26.700Z"
   },
   {
    "duration": 13,
    "start_time": "2025-01-22T12:56:26.731Z"
   },
   {
    "duration": 15,
    "start_time": "2025-01-22T12:56:26.746Z"
   },
   {
    "duration": 5,
    "start_time": "2025-01-22T12:56:26.762Z"
   },
   {
    "duration": 21,
    "start_time": "2025-01-22T12:56:26.768Z"
   },
   {
    "duration": 13,
    "start_time": "2025-01-22T12:56:26.791Z"
   },
   {
    "duration": 6,
    "start_time": "2025-01-22T12:56:26.806Z"
   },
   {
    "duration": 4,
    "start_time": "2025-01-22T12:56:26.813Z"
   },
   {
    "duration": 333,
    "start_time": "2025-01-22T12:56:26.837Z"
   },
   {
    "duration": 7,
    "start_time": "2025-01-22T12:56:27.171Z"
   },
   {
    "duration": 10,
    "start_time": "2025-01-22T12:56:27.180Z"
   },
   {
    "duration": 1336,
    "start_time": "2025-01-22T12:56:27.194Z"
   },
   {
    "duration": 14,
    "start_time": "2025-01-22T12:56:28.532Z"
   },
   {
    "duration": 7,
    "start_time": "2025-01-22T12:56:28.548Z"
   },
   {
    "duration": 27,
    "start_time": "2025-01-22T12:56:28.557Z"
   },
   {
    "duration": 13,
    "start_time": "2025-01-22T12:56:28.587Z"
   },
   {
    "duration": 11,
    "start_time": "2025-01-22T12:56:28.602Z"
   },
   {
    "duration": 40,
    "start_time": "2025-01-22T12:56:28.615Z"
   },
   {
    "duration": 4,
    "start_time": "2025-01-22T12:56:28.658Z"
   },
   {
    "duration": 178,
    "start_time": "2025-01-22T12:56:28.664Z"
   },
   {
    "duration": 7,
    "start_time": "2025-01-22T12:56:28.844Z"
   },
   {
    "duration": 12,
    "start_time": "2025-01-22T12:56:28.852Z"
   },
   {
    "duration": 4,
    "start_time": "2025-01-22T12:56:28.866Z"
   },
   {
    "duration": 310,
    "start_time": "2025-01-22T12:56:28.872Z"
   },
   {
    "duration": 7,
    "start_time": "2025-01-22T12:56:29.184Z"
   },
   {
    "duration": 5,
    "start_time": "2025-01-22T12:56:29.192Z"
   },
   {
    "duration": 522,
    "start_time": "2025-01-22T12:58:43.754Z"
   },
   {
    "duration": 42,
    "start_time": "2025-01-22T12:58:44.278Z"
   },
   {
    "duration": 25,
    "start_time": "2025-01-22T12:58:44.322Z"
   },
   {
    "duration": 2393,
    "start_time": "2025-01-22T12:58:44.349Z"
   },
   {
    "duration": 11,
    "start_time": "2025-01-22T12:58:46.745Z"
   },
   {
    "duration": 14,
    "start_time": "2025-01-22T12:58:46.757Z"
   },
   {
    "duration": 42,
    "start_time": "2025-01-22T12:58:46.773Z"
   },
   {
    "duration": 3,
    "start_time": "2025-01-22T12:58:46.817Z"
   },
   {
    "duration": 35,
    "start_time": "2025-01-22T12:58:46.822Z"
   },
   {
    "duration": 8,
    "start_time": "2025-01-22T12:58:46.859Z"
   },
   {
    "duration": 24,
    "start_time": "2025-01-22T12:58:46.871Z"
   },
   {
    "duration": 18,
    "start_time": "2025-01-22T12:58:46.897Z"
   },
   {
    "duration": 15,
    "start_time": "2025-01-22T12:58:46.917Z"
   },
   {
    "duration": 46,
    "start_time": "2025-01-22T12:58:46.936Z"
   },
   {
    "duration": 5,
    "start_time": "2025-01-22T12:58:46.984Z"
   },
   {
    "duration": 25,
    "start_time": "2025-01-22T12:58:46.990Z"
   },
   {
    "duration": 8,
    "start_time": "2025-01-22T12:58:47.017Z"
   },
   {
    "duration": 13,
    "start_time": "2025-01-22T12:58:47.027Z"
   },
   {
    "duration": 19,
    "start_time": "2025-01-22T12:58:47.042Z"
   },
   {
    "duration": 16,
    "start_time": "2025-01-22T12:58:47.063Z"
   },
   {
    "duration": 15,
    "start_time": "2025-01-22T12:58:47.081Z"
   },
   {
    "duration": 18,
    "start_time": "2025-01-22T12:58:47.098Z"
   },
   {
    "duration": 50,
    "start_time": "2025-01-22T12:58:47.118Z"
   },
   {
    "duration": 12,
    "start_time": "2025-01-22T12:58:47.170Z"
   },
   {
    "duration": 80,
    "start_time": "2025-01-22T12:58:47.183Z"
   },
   {
    "duration": 12,
    "start_time": "2025-01-22T12:58:47.265Z"
   },
   {
    "duration": 29,
    "start_time": "2025-01-22T12:58:47.279Z"
   },
   {
    "duration": 28,
    "start_time": "2025-01-22T12:58:47.310Z"
   },
   {
    "duration": 6,
    "start_time": "2025-01-22T12:58:47.340Z"
   },
   {
    "duration": 33,
    "start_time": "2025-01-22T12:58:47.348Z"
   },
   {
    "duration": 30,
    "start_time": "2025-01-22T12:58:47.382Z"
   },
   {
    "duration": 29,
    "start_time": "2025-01-22T12:58:47.414Z"
   },
   {
    "duration": 5,
    "start_time": "2025-01-22T12:58:47.445Z"
   },
   {
    "duration": 18,
    "start_time": "2025-01-22T12:58:47.451Z"
   },
   {
    "duration": 11,
    "start_time": "2025-01-22T12:58:47.470Z"
   },
   {
    "duration": 15,
    "start_time": "2025-01-22T12:58:47.483Z"
   },
   {
    "duration": 21,
    "start_time": "2025-01-22T12:58:47.500Z"
   },
   {
    "duration": 330,
    "start_time": "2025-01-22T12:58:47.523Z"
   },
   {
    "duration": 7,
    "start_time": "2025-01-22T12:58:47.855Z"
   },
   {
    "duration": 10,
    "start_time": "2025-01-22T12:58:47.863Z"
   },
   {
    "duration": 1382,
    "start_time": "2025-01-22T12:58:47.877Z"
   },
   {
    "duration": 10,
    "start_time": "2025-01-22T12:58:49.261Z"
   },
   {
    "duration": 21,
    "start_time": "2025-01-22T12:58:49.273Z"
   },
   {
    "duration": 18,
    "start_time": "2025-01-22T12:58:49.295Z"
   },
   {
    "duration": 12,
    "start_time": "2025-01-22T12:58:49.315Z"
   },
   {
    "duration": 18,
    "start_time": "2025-01-22T12:58:49.329Z"
   },
   {
    "duration": 87,
    "start_time": "2025-01-22T12:58:49.349Z"
   },
   {
    "duration": 7,
    "start_time": "2025-01-22T12:58:49.437Z"
   },
   {
    "duration": 176,
    "start_time": "2025-01-22T12:58:49.445Z"
   },
   {
    "duration": 7,
    "start_time": "2025-01-22T12:58:49.623Z"
   },
   {
    "duration": 64,
    "start_time": "2025-01-22T12:58:49.637Z"
   },
   {
    "duration": 11,
    "start_time": "2025-01-22T12:58:49.703Z"
   },
   {
    "duration": 323,
    "start_time": "2025-01-22T12:58:49.716Z"
   },
   {
    "duration": 2,
    "start_time": "2025-01-22T12:58:50.041Z"
   },
   {
    "duration": 11,
    "start_time": "2025-01-22T12:58:50.045Z"
   },
   {
    "duration": 17,
    "start_time": "2025-01-22T12:58:50.058Z"
   },
   {
    "duration": 8,
    "start_time": "2025-01-22T12:58:56.140Z"
   },
   {
    "duration": 8,
    "start_time": "2025-01-22T12:58:59.119Z"
   },
   {
    "duration": 9,
    "start_time": "2025-01-22T12:59:01.661Z"
   },
   {
    "duration": 9,
    "start_time": "2025-01-22T12:59:04.409Z"
   },
   {
    "duration": 9,
    "start_time": "2025-01-22T12:59:24.310Z"
   },
   {
    "duration": 5,
    "start_time": "2025-01-22T13:00:04.739Z"
   },
   {
    "duration": 9,
    "start_time": "2025-01-22T13:02:41.747Z"
   },
   {
    "duration": 8,
    "start_time": "2025-01-22T13:02:51.498Z"
   },
   {
    "duration": 9,
    "start_time": "2025-01-22T13:04:46.387Z"
   },
   {
    "duration": 8,
    "start_time": "2025-01-22T13:04:56.986Z"
   },
   {
    "duration": 8,
    "start_time": "2025-01-22T13:05:14.087Z"
   },
   {
    "duration": 9,
    "start_time": "2025-01-22T13:05:37.027Z"
   },
   {
    "duration": 8,
    "start_time": "2025-01-22T13:07:53.386Z"
   },
   {
    "duration": 5,
    "start_time": "2025-01-22T13:07:58.246Z"
   },
   {
    "duration": 307,
    "start_time": "2025-01-22T13:08:05.946Z"
   },
   {
    "duration": 7,
    "start_time": "2025-01-22T13:09:54.355Z"
   },
   {
    "duration": 4,
    "start_time": "2025-01-22T13:09:57.865Z"
   },
   {
    "duration": 4,
    "start_time": "2025-01-22T13:10:10.215Z"
   },
   {
    "duration": 89,
    "start_time": "2025-01-22T13:13:12.064Z"
   },
   {
    "duration": 159,
    "start_time": "2025-01-22T13:13:16.044Z"
   },
   {
    "duration": 167,
    "start_time": "2025-01-22T13:13:36.173Z"
   },
   {
    "duration": 133,
    "start_time": "2025-01-22T13:13:46.043Z"
   },
   {
    "duration": 227,
    "start_time": "2025-01-22T13:13:57.093Z"
   },
   {
    "duration": 174,
    "start_time": "2025-01-22T13:14:34.673Z"
   },
   {
    "duration": 214,
    "start_time": "2025-01-22T13:14:44.683Z"
   },
   {
    "duration": 198,
    "start_time": "2025-01-22T13:14:51.323Z"
   },
   {
    "duration": 169,
    "start_time": "2025-01-22T13:15:04.693Z"
   },
   {
    "duration": 164,
    "start_time": "2025-01-22T13:16:37.432Z"
   },
   {
    "duration": 175,
    "start_time": "2025-01-22T13:16:50.512Z"
   },
   {
    "duration": 168,
    "start_time": "2025-01-22T13:17:05.233Z"
   },
   {
    "duration": 15,
    "start_time": "2025-01-22T13:19:47.851Z"
   },
   {
    "duration": 168,
    "start_time": "2025-01-22T13:19:53.931Z"
   },
   {
    "duration": 151,
    "start_time": "2025-01-22T13:20:48.954Z"
   },
   {
    "duration": 152,
    "start_time": "2025-01-22T13:20:56.462Z"
   },
   {
    "duration": 189,
    "start_time": "2025-01-22T13:21:58.220Z"
   },
   {
    "duration": 161,
    "start_time": "2025-01-22T13:22:14.450Z"
   },
   {
    "duration": 183,
    "start_time": "2025-01-22T13:23:01.369Z"
   },
   {
    "duration": 169,
    "start_time": "2025-01-22T13:24:10.489Z"
   },
   {
    "duration": 183,
    "start_time": "2025-01-22T13:24:27.539Z"
   },
   {
    "duration": 199,
    "start_time": "2025-01-22T13:25:55.848Z"
   },
   {
    "duration": 344,
    "start_time": "2025-01-22T13:26:01.869Z"
   },
   {
    "duration": 178,
    "start_time": "2025-01-22T13:26:05.769Z"
   },
   {
    "duration": 294,
    "start_time": "2025-01-22T13:27:28.187Z"
   },
   {
    "duration": 293,
    "start_time": "2025-01-22T13:27:46.918Z"
   },
   {
    "duration": 325,
    "start_time": "2025-01-22T13:27:51.718Z"
   },
   {
    "duration": 290,
    "start_time": "2025-01-22T13:28:36.168Z"
   },
   {
    "duration": 188,
    "start_time": "2025-01-22T13:30:09.317Z"
   },
   {
    "duration": 187,
    "start_time": "2025-01-22T13:30:22.770Z"
   },
   {
    "duration": 315,
    "start_time": "2025-01-22T13:30:56.566Z"
   },
   {
    "duration": 383,
    "start_time": "2025-01-22T13:34:15.505Z"
   },
   {
    "duration": 381,
    "start_time": "2025-01-22T13:34:29.415Z"
   },
   {
    "duration": 8,
    "start_time": "2025-01-22T14:07:58.862Z"
   },
   {
    "duration": 54,
    "start_time": "2025-01-22T14:08:05.802Z"
   },
   {
    "duration": 46,
    "start_time": "2025-01-22T14:08:19.482Z"
   },
   {
    "duration": 52,
    "start_time": "2025-01-22T14:08:26.612Z"
   },
   {
    "duration": 11,
    "start_time": "2025-01-22T14:10:37.471Z"
   },
   {
    "duration": 14,
    "start_time": "2025-01-22T14:11:22.901Z"
   },
   {
    "duration": 31868,
    "start_time": "2025-01-22T14:11:29.244Z"
   },
   {
    "duration": 48,
    "start_time": "2025-01-22T14:12:29.464Z"
   },
   {
    "duration": 15,
    "start_time": "2025-01-22T14:14:07.545Z"
   },
   {
    "duration": 86,
    "start_time": "2025-01-22T14:15:25.489Z"
   },
   {
    "duration": 1832,
    "start_time": "2025-01-22T14:15:29.700Z"
   },
   {
    "duration": 15,
    "start_time": "2025-01-22T14:16:20.980Z"
   },
   {
    "duration": 7,
    "start_time": "2025-01-22T14:16:45.169Z"
   },
   {
    "duration": 520,
    "start_time": "2025-01-22T14:17:13.268Z"
   },
   {
    "duration": 52,
    "start_time": "2025-01-22T14:17:13.790Z"
   },
   {
    "duration": 40,
    "start_time": "2025-01-22T14:17:13.844Z"
   },
   {
    "duration": 2480,
    "start_time": "2025-01-22T14:17:13.886Z"
   },
   {
    "duration": 10,
    "start_time": "2025-01-22T14:17:16.369Z"
   },
   {
    "duration": 5,
    "start_time": "2025-01-22T14:17:16.380Z"
   },
   {
    "duration": 39,
    "start_time": "2025-01-22T14:17:16.387Z"
   },
   {
    "duration": 4,
    "start_time": "2025-01-22T14:17:16.428Z"
   },
   {
    "duration": 26,
    "start_time": "2025-01-22T14:17:16.434Z"
   },
   {
    "duration": 4,
    "start_time": "2025-01-22T14:17:16.462Z"
   },
   {
    "duration": 13,
    "start_time": "2025-01-22T14:17:16.468Z"
   },
   {
    "duration": 6,
    "start_time": "2025-01-22T14:17:16.483Z"
   },
   {
    "duration": 12,
    "start_time": "2025-01-22T14:17:16.490Z"
   },
   {
    "duration": 41,
    "start_time": "2025-01-22T14:17:16.505Z"
   },
   {
    "duration": 5,
    "start_time": "2025-01-22T14:17:16.548Z"
   },
   {
    "duration": 32,
    "start_time": "2025-01-22T14:17:16.557Z"
   },
   {
    "duration": 5,
    "start_time": "2025-01-22T14:17:16.591Z"
   },
   {
    "duration": 13,
    "start_time": "2025-01-22T14:17:16.599Z"
   },
   {
    "duration": 7,
    "start_time": "2025-01-22T14:17:16.614Z"
   },
   {
    "duration": 9,
    "start_time": "2025-01-22T14:17:16.623Z"
   },
   {
    "duration": 17,
    "start_time": "2025-01-22T14:17:16.634Z"
   },
   {
    "duration": 8,
    "start_time": "2025-01-22T14:17:16.653Z"
   },
   {
    "duration": 44,
    "start_time": "2025-01-22T14:17:16.663Z"
   },
   {
    "duration": 29,
    "start_time": "2025-01-22T14:17:16.709Z"
   },
   {
    "duration": 76,
    "start_time": "2025-01-22T14:17:16.745Z"
   },
   {
    "duration": 15,
    "start_time": "2025-01-22T14:17:16.823Z"
   },
   {
    "duration": 38,
    "start_time": "2025-01-22T14:17:16.840Z"
   },
   {
    "duration": 14,
    "start_time": "2025-01-22T14:17:16.880Z"
   },
   {
    "duration": 7,
    "start_time": "2025-01-22T14:17:16.896Z"
   },
   {
    "duration": 53,
    "start_time": "2025-01-22T14:17:16.905Z"
   },
   {
    "duration": 62,
    "start_time": "2025-01-22T14:17:16.960Z"
   },
   {
    "duration": 25,
    "start_time": "2025-01-22T14:17:17.024Z"
   },
   {
    "duration": 6,
    "start_time": "2025-01-22T14:17:17.051Z"
   },
   {
    "duration": 10,
    "start_time": "2025-01-22T14:17:17.058Z"
   },
   {
    "duration": 5,
    "start_time": "2025-01-22T14:17:17.070Z"
   },
   {
    "duration": 11,
    "start_time": "2025-01-22T14:17:17.076Z"
   },
   {
    "duration": 5,
    "start_time": "2025-01-22T14:17:17.088Z"
   },
   {
    "duration": 341,
    "start_time": "2025-01-22T14:17:17.095Z"
   },
   {
    "duration": 10,
    "start_time": "2025-01-22T14:17:17.442Z"
   },
   {
    "duration": 27,
    "start_time": "2025-01-22T14:17:17.454Z"
   },
   {
    "duration": 4,
    "start_time": "2025-01-22T14:17:17.486Z"
   },
   {
    "duration": 1461,
    "start_time": "2025-01-22T14:17:17.491Z"
   },
   {
    "duration": 12,
    "start_time": "2025-01-22T14:17:18.954Z"
   },
   {
    "duration": 20,
    "start_time": "2025-01-22T14:17:18.967Z"
   },
   {
    "duration": 14,
    "start_time": "2025-01-22T14:17:18.989Z"
   },
   {
    "duration": 6,
    "start_time": "2025-01-22T14:17:19.005Z"
   },
   {
    "duration": 9,
    "start_time": "2025-01-22T14:17:19.013Z"
   },
   {
    "duration": 47,
    "start_time": "2025-01-22T14:17:19.023Z"
   },
   {
    "duration": 7,
    "start_time": "2025-01-22T14:17:19.072Z"
   },
   {
    "duration": 176,
    "start_time": "2025-01-22T14:17:19.080Z"
   },
   {
    "duration": 7,
    "start_time": "2025-01-22T14:17:19.257Z"
   },
   {
    "duration": 25,
    "start_time": "2025-01-22T14:17:19.266Z"
   },
   {
    "duration": 16,
    "start_time": "2025-01-22T14:17:19.292Z"
   },
   {
    "duration": 317,
    "start_time": "2025-01-22T14:17:19.310Z"
   },
   {
    "duration": 20,
    "start_time": "2025-01-22T14:17:19.629Z"
   },
   {
    "duration": 24,
    "start_time": "2025-01-22T14:17:19.651Z"
   },
   {
    "duration": 329,
    "start_time": "2025-01-22T14:17:19.677Z"
   },
   {
    "duration": 1543,
    "start_time": "2025-01-22T14:17:20.007Z"
   },
   {
    "duration": 0,
    "start_time": "2025-01-22T14:17:21.552Z"
   },
   {
    "duration": 0,
    "start_time": "2025-01-22T14:17:21.553Z"
   },
   {
    "duration": 530,
    "start_time": "2025-01-22T14:17:43.058Z"
   },
   {
    "duration": 50,
    "start_time": "2025-01-22T14:17:43.590Z"
   },
   {
    "duration": 22,
    "start_time": "2025-01-22T14:17:43.642Z"
   },
   {
    "duration": 2428,
    "start_time": "2025-01-22T14:17:43.666Z"
   },
   {
    "duration": 12,
    "start_time": "2025-01-22T14:17:46.097Z"
   },
   {
    "duration": 30,
    "start_time": "2025-01-22T14:17:46.111Z"
   },
   {
    "duration": 51,
    "start_time": "2025-01-22T14:17:46.143Z"
   },
   {
    "duration": 4,
    "start_time": "2025-01-22T14:17:46.195Z"
   },
   {
    "duration": 40,
    "start_time": "2025-01-22T14:17:46.200Z"
   },
   {
    "duration": 6,
    "start_time": "2025-01-22T14:17:46.250Z"
   },
   {
    "duration": 15,
    "start_time": "2025-01-22T14:17:46.257Z"
   },
   {
    "duration": 17,
    "start_time": "2025-01-22T14:17:46.274Z"
   },
   {
    "duration": 17,
    "start_time": "2025-01-22T14:17:46.293Z"
   },
   {
    "duration": 57,
    "start_time": "2025-01-22T14:17:46.313Z"
   },
   {
    "duration": 4,
    "start_time": "2025-01-22T14:17:46.372Z"
   },
   {
    "duration": 49,
    "start_time": "2025-01-22T14:17:46.377Z"
   },
   {
    "duration": 34,
    "start_time": "2025-01-22T14:17:46.427Z"
   },
   {
    "duration": 28,
    "start_time": "2025-01-22T14:17:46.463Z"
   },
   {
    "duration": 32,
    "start_time": "2025-01-22T14:17:46.492Z"
   },
   {
    "duration": 29,
    "start_time": "2025-01-22T14:17:46.526Z"
   },
   {
    "duration": 19,
    "start_time": "2025-01-22T14:17:46.556Z"
   },
   {
    "duration": 29,
    "start_time": "2025-01-22T14:17:46.577Z"
   },
   {
    "duration": 51,
    "start_time": "2025-01-22T14:17:46.607Z"
   },
   {
    "duration": 13,
    "start_time": "2025-01-22T14:17:46.660Z"
   },
   {
    "duration": 90,
    "start_time": "2025-01-22T14:17:46.676Z"
   },
   {
    "duration": 11,
    "start_time": "2025-01-22T14:17:46.768Z"
   },
   {
    "duration": 32,
    "start_time": "2025-01-22T14:17:46.781Z"
   },
   {
    "duration": 5,
    "start_time": "2025-01-22T14:17:46.815Z"
   },
   {
    "duration": 12,
    "start_time": "2025-01-22T14:17:46.838Z"
   },
   {
    "duration": 29,
    "start_time": "2025-01-22T14:17:46.857Z"
   },
   {
    "duration": 30,
    "start_time": "2025-01-22T14:17:46.888Z"
   },
   {
    "duration": 57,
    "start_time": "2025-01-22T14:17:46.920Z"
   },
   {
    "duration": 6,
    "start_time": "2025-01-22T14:17:46.979Z"
   },
   {
    "duration": 16,
    "start_time": "2025-01-22T14:17:46.986Z"
   },
   {
    "duration": 18,
    "start_time": "2025-01-22T14:17:47.004Z"
   },
   {
    "duration": 39,
    "start_time": "2025-01-22T14:17:47.024Z"
   },
   {
    "duration": 8,
    "start_time": "2025-01-22T14:17:47.065Z"
   },
   {
    "duration": 337,
    "start_time": "2025-01-22T14:17:47.075Z"
   },
   {
    "duration": 3,
    "start_time": "2025-01-22T14:17:47.414Z"
   },
   {
    "duration": 62,
    "start_time": "2025-01-22T14:17:47.419Z"
   },
   {
    "duration": 4,
    "start_time": "2025-01-22T14:17:47.487Z"
   },
   {
    "duration": 1440,
    "start_time": "2025-01-22T14:17:47.493Z"
   },
   {
    "duration": 13,
    "start_time": "2025-01-22T14:17:48.937Z"
   },
   {
    "duration": 17,
    "start_time": "2025-01-22T14:17:48.952Z"
   },
   {
    "duration": 12,
    "start_time": "2025-01-22T14:17:48.971Z"
   },
   {
    "duration": 25,
    "start_time": "2025-01-22T14:17:48.985Z"
   },
   {
    "duration": 18,
    "start_time": "2025-01-22T14:17:49.012Z"
   },
   {
    "duration": 41,
    "start_time": "2025-01-22T14:17:49.031Z"
   },
   {
    "duration": 5,
    "start_time": "2025-01-22T14:17:49.073Z"
   },
   {
    "duration": 169,
    "start_time": "2025-01-22T14:17:49.080Z"
   },
   {
    "duration": 8,
    "start_time": "2025-01-22T14:17:49.251Z"
   },
   {
    "duration": 18,
    "start_time": "2025-01-22T14:17:49.261Z"
   },
   {
    "duration": 11,
    "start_time": "2025-01-22T14:17:49.281Z"
   },
   {
    "duration": 312,
    "start_time": "2025-01-22T14:17:49.294Z"
   },
   {
    "duration": 6,
    "start_time": "2025-01-22T14:17:49.608Z"
   },
   {
    "duration": 10,
    "start_time": "2025-01-22T14:17:49.615Z"
   },
   {
    "duration": 325,
    "start_time": "2025-01-22T14:17:49.650Z"
   },
   {
    "duration": 1376,
    "start_time": "2025-01-22T14:17:49.976Z"
   },
   {
    "duration": 0,
    "start_time": "2025-01-22T14:17:51.353Z"
   },
   {
    "duration": 0,
    "start_time": "2025-01-22T14:17:51.355Z"
   },
   {
    "duration": 6,
    "start_time": "2025-01-22T14:18:04.406Z"
   },
   {
    "duration": 8,
    "start_time": "2025-01-22T14:19:18.576Z"
   },
   {
    "duration": 28,
    "start_time": "2025-01-22T14:19:22.076Z"
   },
   {
    "duration": 13,
    "start_time": "2025-01-22T14:19:47.407Z"
   },
   {
    "duration": 10,
    "start_time": "2025-01-22T14:20:05.937Z"
   },
   {
    "duration": 14,
    "start_time": "2025-01-22T14:20:06.966Z"
   },
   {
    "duration": 588,
    "start_time": "2025-01-22T14:20:23.217Z"
   },
   {
    "duration": 54,
    "start_time": "2025-01-22T14:20:23.807Z"
   },
   {
    "duration": 16,
    "start_time": "2025-01-22T14:20:23.863Z"
   },
   {
    "duration": 2445,
    "start_time": "2025-01-22T14:20:23.881Z"
   },
   {
    "duration": 21,
    "start_time": "2025-01-22T14:20:26.329Z"
   },
   {
    "duration": 5,
    "start_time": "2025-01-22T14:20:26.352Z"
   },
   {
    "duration": 38,
    "start_time": "2025-01-22T14:20:26.359Z"
   },
   {
    "duration": 3,
    "start_time": "2025-01-22T14:20:26.399Z"
   },
   {
    "duration": 17,
    "start_time": "2025-01-22T14:20:26.404Z"
   },
   {
    "duration": 6,
    "start_time": "2025-01-22T14:20:26.423Z"
   },
   {
    "duration": 5,
    "start_time": "2025-01-22T14:20:26.450Z"
   },
   {
    "duration": 13,
    "start_time": "2025-01-22T14:20:26.457Z"
   },
   {
    "duration": 8,
    "start_time": "2025-01-22T14:20:26.471Z"
   },
   {
    "duration": 43,
    "start_time": "2025-01-22T14:20:26.483Z"
   },
   {
    "duration": 5,
    "start_time": "2025-01-22T14:20:26.527Z"
   },
   {
    "duration": 24,
    "start_time": "2025-01-22T14:20:26.534Z"
   },
   {
    "duration": 17,
    "start_time": "2025-01-22T14:20:26.560Z"
   },
   {
    "duration": 4,
    "start_time": "2025-01-22T14:20:26.579Z"
   },
   {
    "duration": 6,
    "start_time": "2025-01-22T14:20:26.584Z"
   },
   {
    "duration": 17,
    "start_time": "2025-01-22T14:20:26.591Z"
   },
   {
    "duration": 5,
    "start_time": "2025-01-22T14:20:26.610Z"
   },
   {
    "duration": 7,
    "start_time": "2025-01-22T14:20:26.617Z"
   },
   {
    "duration": 53,
    "start_time": "2025-01-22T14:20:26.626Z"
   },
   {
    "duration": 11,
    "start_time": "2025-01-22T14:20:26.680Z"
   },
   {
    "duration": 84,
    "start_time": "2025-01-22T14:20:26.693Z"
   },
   {
    "duration": 9,
    "start_time": "2025-01-22T14:20:26.779Z"
   },
   {
    "duration": 28,
    "start_time": "2025-01-22T14:20:26.790Z"
   },
   {
    "duration": 22,
    "start_time": "2025-01-22T14:20:26.820Z"
   },
   {
    "duration": 6,
    "start_time": "2025-01-22T14:20:26.849Z"
   },
   {
    "duration": 34,
    "start_time": "2025-01-22T14:20:26.857Z"
   },
   {
    "duration": 22,
    "start_time": "2025-01-22T14:20:26.893Z"
   },
   {
    "duration": 31,
    "start_time": "2025-01-22T14:20:26.918Z"
   },
   {
    "duration": 5,
    "start_time": "2025-01-22T14:20:26.951Z"
   },
   {
    "duration": 63,
    "start_time": "2025-01-22T14:20:26.957Z"
   },
   {
    "duration": 37,
    "start_time": "2025-01-22T14:20:27.022Z"
   },
   {
    "duration": 5,
    "start_time": "2025-01-22T14:20:27.061Z"
   },
   {
    "duration": 4,
    "start_time": "2025-01-22T14:20:27.068Z"
   },
   {
    "duration": 337,
    "start_time": "2025-01-22T14:20:27.073Z"
   },
   {
    "duration": 2,
    "start_time": "2025-01-22T14:20:27.412Z"
   },
   {
    "duration": 44,
    "start_time": "2025-01-22T14:20:27.416Z"
   },
   {
    "duration": 4,
    "start_time": "2025-01-22T14:20:27.464Z"
   },
   {
    "duration": 1425,
    "start_time": "2025-01-22T14:20:27.470Z"
   },
   {
    "duration": 10,
    "start_time": "2025-01-22T14:20:28.897Z"
   },
   {
    "duration": 6,
    "start_time": "2025-01-22T14:20:28.909Z"
   },
   {
    "duration": 32,
    "start_time": "2025-01-22T14:20:28.917Z"
   },
   {
    "duration": 19,
    "start_time": "2025-01-22T14:20:28.952Z"
   },
   {
    "duration": 21,
    "start_time": "2025-01-22T14:20:28.973Z"
   },
   {
    "duration": 27,
    "start_time": "2025-01-22T14:20:28.996Z"
   },
   {
    "duration": 5,
    "start_time": "2025-01-22T14:20:29.025Z"
   },
   {
    "duration": 174,
    "start_time": "2025-01-22T14:20:29.031Z"
   },
   {
    "duration": 6,
    "start_time": "2025-01-22T14:20:29.207Z"
   },
   {
    "duration": 20,
    "start_time": "2025-01-22T14:20:29.214Z"
   },
   {
    "duration": 17,
    "start_time": "2025-01-22T14:20:29.236Z"
   },
   {
    "duration": 353,
    "start_time": "2025-01-22T14:20:29.255Z"
   },
   {
    "duration": 7,
    "start_time": "2025-01-22T14:20:29.609Z"
   },
   {
    "duration": 30,
    "start_time": "2025-01-22T14:20:29.618Z"
   },
   {
    "duration": 341,
    "start_time": "2025-01-22T14:20:29.651Z"
   },
   {
    "duration": 1740,
    "start_time": "2025-01-22T14:20:29.994Z"
   },
   {
    "duration": 0,
    "start_time": "2025-01-22T14:20:31.736Z"
   },
   {
    "duration": 0,
    "start_time": "2025-01-22T14:20:31.737Z"
   },
   {
    "duration": 5,
    "start_time": "2025-01-22T14:20:39.116Z"
   },
   {
    "duration": 15,
    "start_time": "2025-01-22T14:20:40.706Z"
   },
   {
    "duration": 8,
    "start_time": "2025-01-22T14:21:17.296Z"
   },
   {
    "duration": 6,
    "start_time": "2025-01-22T14:22:08.826Z"
   },
   {
    "duration": 17,
    "start_time": "2025-01-22T14:23:18.815Z"
   },
   {
    "duration": 560,
    "start_time": "2025-01-22T14:23:26.238Z"
   },
   {
    "duration": 55,
    "start_time": "2025-01-22T14:23:26.800Z"
   },
   {
    "duration": 17,
    "start_time": "2025-01-22T14:23:26.856Z"
   },
   {
    "duration": 2446,
    "start_time": "2025-01-22T14:23:26.876Z"
   },
   {
    "duration": 12,
    "start_time": "2025-01-22T14:23:29.324Z"
   },
   {
    "duration": 16,
    "start_time": "2025-01-22T14:23:29.338Z"
   },
   {
    "duration": 37,
    "start_time": "2025-01-22T14:23:29.356Z"
   },
   {
    "duration": 3,
    "start_time": "2025-01-22T14:23:29.395Z"
   },
   {
    "duration": 15,
    "start_time": "2025-01-22T14:23:29.401Z"
   },
   {
    "duration": 23,
    "start_time": "2025-01-22T14:23:29.418Z"
   },
   {
    "duration": 8,
    "start_time": "2025-01-22T14:23:29.445Z"
   },
   {
    "duration": 14,
    "start_time": "2025-01-22T14:23:29.454Z"
   },
   {
    "duration": 9,
    "start_time": "2025-01-22T14:23:29.470Z"
   },
   {
    "duration": 34,
    "start_time": "2025-01-22T14:23:29.481Z"
   },
   {
    "duration": 5,
    "start_time": "2025-01-22T14:23:29.516Z"
   },
   {
    "duration": 13,
    "start_time": "2025-01-22T14:23:29.545Z"
   },
   {
    "duration": 6,
    "start_time": "2025-01-22T14:23:29.560Z"
   },
   {
    "duration": 4,
    "start_time": "2025-01-22T14:23:29.567Z"
   },
   {
    "duration": 8,
    "start_time": "2025-01-22T14:23:29.573Z"
   },
   {
    "duration": 5,
    "start_time": "2025-01-22T14:23:29.583Z"
   },
   {
    "duration": 5,
    "start_time": "2025-01-22T14:23:29.589Z"
   },
   {
    "duration": 13,
    "start_time": "2025-01-22T14:23:29.596Z"
   },
   {
    "duration": 66,
    "start_time": "2025-01-22T14:23:29.611Z"
   },
   {
    "duration": 11,
    "start_time": "2025-01-22T14:23:29.679Z"
   },
   {
    "duration": 87,
    "start_time": "2025-01-22T14:23:29.692Z"
   },
   {
    "duration": 10,
    "start_time": "2025-01-22T14:23:29.780Z"
   },
   {
    "duration": 26,
    "start_time": "2025-01-22T14:23:29.791Z"
   },
   {
    "duration": 12,
    "start_time": "2025-01-22T14:23:29.839Z"
   },
   {
    "duration": 7,
    "start_time": "2025-01-22T14:23:29.853Z"
   },
   {
    "duration": 25,
    "start_time": "2025-01-22T14:23:29.862Z"
   },
   {
    "duration": 17,
    "start_time": "2025-01-22T14:23:29.889Z"
   },
   {
    "duration": 12,
    "start_time": "2025-01-22T14:23:29.908Z"
   },
   {
    "duration": 27,
    "start_time": "2025-01-22T14:23:29.922Z"
   },
   {
    "duration": 6,
    "start_time": "2025-01-22T14:23:29.951Z"
   },
   {
    "duration": 22,
    "start_time": "2025-01-22T14:23:29.959Z"
   },
   {
    "duration": 6,
    "start_time": "2025-01-22T14:23:29.983Z"
   },
   {
    "duration": 9,
    "start_time": "2025-01-22T14:23:29.990Z"
   },
   {
    "duration": 383,
    "start_time": "2025-01-22T14:23:30.000Z"
   },
   {
    "duration": 2,
    "start_time": "2025-01-22T14:23:30.384Z"
   },
   {
    "duration": 64,
    "start_time": "2025-01-22T14:23:30.388Z"
   },
   {
    "duration": 17,
    "start_time": "2025-01-22T14:23:30.454Z"
   },
   {
    "duration": 13,
    "start_time": "2025-01-22T14:23:30.473Z"
   },
   {
    "duration": 1669,
    "start_time": "2025-01-22T14:23:30.487Z"
   },
   {
    "duration": 9,
    "start_time": "2025-01-22T14:23:32.158Z"
   },
   {
    "duration": 6,
    "start_time": "2025-01-22T14:23:32.169Z"
   },
   {
    "duration": 7,
    "start_time": "2025-01-22T14:23:32.176Z"
   },
   {
    "duration": 6,
    "start_time": "2025-01-22T14:23:32.184Z"
   },
   {
    "duration": 9,
    "start_time": "2025-01-22T14:23:32.191Z"
   },
   {
    "duration": 60,
    "start_time": "2025-01-22T14:23:32.201Z"
   },
   {
    "duration": 15,
    "start_time": "2025-01-22T14:23:32.263Z"
   },
   {
    "duration": 178,
    "start_time": "2025-01-22T14:23:32.280Z"
   },
   {
    "duration": 7,
    "start_time": "2025-01-22T14:23:32.460Z"
   },
   {
    "duration": 15,
    "start_time": "2025-01-22T14:23:32.469Z"
   },
   {
    "duration": 22,
    "start_time": "2025-01-22T14:23:32.486Z"
   },
   {
    "duration": 312,
    "start_time": "2025-01-22T14:23:32.510Z"
   },
   {
    "duration": 25,
    "start_time": "2025-01-22T14:23:32.824Z"
   },
   {
    "duration": 6,
    "start_time": "2025-01-22T14:23:32.851Z"
   },
   {
    "duration": 316,
    "start_time": "2025-01-22T14:23:32.859Z"
   },
   {
    "duration": 1543,
    "start_time": "2025-01-22T14:23:33.176Z"
   },
   {
    "duration": 0,
    "start_time": "2025-01-22T14:23:34.721Z"
   },
   {
    "duration": 0,
    "start_time": "2025-01-22T14:23:34.722Z"
   },
   {
    "duration": 17,
    "start_time": "2025-01-22T14:24:15.467Z"
   },
   {
    "duration": 25,
    "start_time": "2025-01-22T14:24:45.827Z"
   },
   {
    "duration": 558,
    "start_time": "2025-01-22T14:25:33.761Z"
   },
   {
    "duration": 60,
    "start_time": "2025-01-22T14:25:34.322Z"
   },
   {
    "duration": 17,
    "start_time": "2025-01-22T14:25:34.384Z"
   },
   {
    "duration": 2612,
    "start_time": "2025-01-22T14:25:34.402Z"
   },
   {
    "duration": 10,
    "start_time": "2025-01-22T14:25:37.017Z"
   },
   {
    "duration": 84,
    "start_time": "2025-01-22T14:25:37.029Z"
   },
   {
    "duration": 51,
    "start_time": "2025-01-22T14:25:37.115Z"
   },
   {
    "duration": 7,
    "start_time": "2025-01-22T14:25:37.168Z"
   },
   {
    "duration": 44,
    "start_time": "2025-01-22T14:25:37.177Z"
   },
   {
    "duration": 27,
    "start_time": "2025-01-22T14:25:37.222Z"
   },
   {
    "duration": 33,
    "start_time": "2025-01-22T14:25:37.251Z"
   },
   {
    "duration": 35,
    "start_time": "2025-01-22T14:25:37.285Z"
   },
   {
    "duration": 34,
    "start_time": "2025-01-22T14:25:37.322Z"
   },
   {
    "duration": 60,
    "start_time": "2025-01-22T14:25:37.359Z"
   },
   {
    "duration": 30,
    "start_time": "2025-01-22T14:25:37.421Z"
   },
   {
    "duration": 26,
    "start_time": "2025-01-22T14:25:37.452Z"
   },
   {
    "duration": 40,
    "start_time": "2025-01-22T14:25:37.480Z"
   },
   {
    "duration": 28,
    "start_time": "2025-01-22T14:25:37.522Z"
   },
   {
    "duration": 39,
    "start_time": "2025-01-22T14:25:37.551Z"
   },
   {
    "duration": 32,
    "start_time": "2025-01-22T14:25:37.592Z"
   },
   {
    "duration": 36,
    "start_time": "2025-01-22T14:25:37.625Z"
   },
   {
    "duration": 25,
    "start_time": "2025-01-22T14:25:37.662Z"
   },
   {
    "duration": 86,
    "start_time": "2025-01-22T14:25:37.689Z"
   },
   {
    "duration": 14,
    "start_time": "2025-01-22T14:25:37.778Z"
   },
   {
    "duration": 84,
    "start_time": "2025-01-22T14:25:37.794Z"
   },
   {
    "duration": 9,
    "start_time": "2025-01-22T14:25:37.880Z"
   },
   {
    "duration": 49,
    "start_time": "2025-01-22T14:25:37.891Z"
   },
   {
    "duration": 6,
    "start_time": "2025-01-22T14:25:37.950Z"
   },
   {
    "duration": 20,
    "start_time": "2025-01-22T14:25:37.957Z"
   },
   {
    "duration": 46,
    "start_time": "2025-01-22T14:25:37.979Z"
   },
   {
    "duration": 35,
    "start_time": "2025-01-22T14:25:38.027Z"
   },
   {
    "duration": 23,
    "start_time": "2025-01-22T14:25:38.064Z"
   },
   {
    "duration": 26,
    "start_time": "2025-01-22T14:25:38.089Z"
   },
   {
    "duration": 14,
    "start_time": "2025-01-22T14:25:38.116Z"
   },
   {
    "duration": 19,
    "start_time": "2025-01-22T14:25:38.132Z"
   },
   {
    "duration": 16,
    "start_time": "2025-01-22T14:25:38.153Z"
   },
   {
    "duration": 9,
    "start_time": "2025-01-22T14:25:38.170Z"
   },
   {
    "duration": 401,
    "start_time": "2025-01-22T14:25:38.181Z"
   },
   {
    "duration": 3,
    "start_time": "2025-01-22T14:25:38.584Z"
   },
   {
    "duration": 36,
    "start_time": "2025-01-22T14:25:38.589Z"
   },
   {
    "duration": 18,
    "start_time": "2025-01-22T14:25:38.641Z"
   },
   {
    "duration": 36,
    "start_time": "2025-01-22T14:25:38.661Z"
   },
   {
    "duration": 1474,
    "start_time": "2025-01-22T14:25:38.699Z"
   },
   {
    "duration": 12,
    "start_time": "2025-01-22T14:25:40.175Z"
   },
   {
    "duration": 24,
    "start_time": "2025-01-22T14:25:40.188Z"
   },
   {
    "duration": 25,
    "start_time": "2025-01-22T14:25:40.214Z"
   },
   {
    "duration": 18,
    "start_time": "2025-01-22T14:25:40.242Z"
   },
   {
    "duration": 16,
    "start_time": "2025-01-22T14:25:40.262Z"
   },
   {
    "duration": 43,
    "start_time": "2025-01-22T14:25:40.280Z"
   },
   {
    "duration": 5,
    "start_time": "2025-01-22T14:25:40.325Z"
   },
   {
    "duration": 181,
    "start_time": "2025-01-22T14:25:40.332Z"
   },
   {
    "duration": 7,
    "start_time": "2025-01-22T14:25:40.515Z"
   },
   {
    "duration": 30,
    "start_time": "2025-01-22T14:25:40.524Z"
   },
   {
    "duration": 14,
    "start_time": "2025-01-22T14:25:40.556Z"
   },
   {
    "duration": 347,
    "start_time": "2025-01-22T14:25:40.572Z"
   },
   {
    "duration": 7,
    "start_time": "2025-01-22T14:25:40.921Z"
   },
   {
    "duration": 23,
    "start_time": "2025-01-22T14:25:40.930Z"
   },
   {
    "duration": 438,
    "start_time": "2025-01-22T14:25:40.955Z"
   },
   {
    "duration": 1506,
    "start_time": "2025-01-22T14:25:41.396Z"
   },
   {
    "duration": 0,
    "start_time": "2025-01-22T14:25:42.904Z"
   },
   {
    "duration": 0,
    "start_time": "2025-01-22T14:25:42.906Z"
   },
   {
    "duration": 7,
    "start_time": "2025-01-22T14:26:19.606Z"
   },
   {
    "duration": 671,
    "start_time": "2025-01-22T14:26:25.776Z"
   },
   {
    "duration": 119,
    "start_time": "2025-01-22T14:26:32.726Z"
   },
   {
    "duration": 7,
    "start_time": "2025-01-22T14:26:39.195Z"
   },
   {
    "duration": 16,
    "start_time": "2025-01-22T14:26:45.750Z"
   },
   {
    "duration": 48,
    "start_time": "2025-01-22T14:26:49.845Z"
   },
   {
    "duration": 5,
    "start_time": "2025-01-22T14:27:37.166Z"
   },
   {
    "duration": 567,
    "start_time": "2025-01-22T14:28:04.049Z"
   },
   {
    "duration": 60,
    "start_time": "2025-01-22T14:28:04.618Z"
   },
   {
    "duration": 16,
    "start_time": "2025-01-22T14:28:04.680Z"
   },
   {
    "duration": 2636,
    "start_time": "2025-01-22T14:28:04.698Z"
   },
   {
    "duration": 17,
    "start_time": "2025-01-22T14:28:07.336Z"
   },
   {
    "duration": 41,
    "start_time": "2025-01-22T14:28:07.354Z"
   },
   {
    "duration": 53,
    "start_time": "2025-01-22T14:28:07.397Z"
   },
   {
    "duration": 4,
    "start_time": "2025-01-22T14:28:07.452Z"
   },
   {
    "duration": 35,
    "start_time": "2025-01-22T14:28:07.458Z"
   },
   {
    "duration": 11,
    "start_time": "2025-01-22T14:28:07.495Z"
   },
   {
    "duration": 20,
    "start_time": "2025-01-22T14:28:07.508Z"
   },
   {
    "duration": 45,
    "start_time": "2025-01-22T14:28:07.530Z"
   },
   {
    "duration": 26,
    "start_time": "2025-01-22T14:28:07.577Z"
   },
   {
    "duration": 58,
    "start_time": "2025-01-22T14:28:07.606Z"
   },
   {
    "duration": 5,
    "start_time": "2025-01-22T14:28:07.666Z"
   },
   {
    "duration": 19,
    "start_time": "2025-01-22T14:28:07.672Z"
   },
   {
    "duration": 4,
    "start_time": "2025-01-22T14:28:07.693Z"
   },
   {
    "duration": 20,
    "start_time": "2025-01-22T14:28:07.698Z"
   },
   {
    "duration": 9,
    "start_time": "2025-01-22T14:28:07.720Z"
   },
   {
    "duration": 18,
    "start_time": "2025-01-22T14:28:07.731Z"
   },
   {
    "duration": 28,
    "start_time": "2025-01-22T14:28:07.752Z"
   },
   {
    "duration": 9,
    "start_time": "2025-01-22T14:28:07.783Z"
   },
   {
    "duration": 55,
    "start_time": "2025-01-22T14:28:07.793Z"
   },
   {
    "duration": 14,
    "start_time": "2025-01-22T14:28:07.851Z"
   },
   {
    "duration": 82,
    "start_time": "2025-01-22T14:28:07.866Z"
   },
   {
    "duration": 12,
    "start_time": "2025-01-22T14:28:07.951Z"
   },
   {
    "duration": 40,
    "start_time": "2025-01-22T14:28:07.965Z"
   },
   {
    "duration": 9,
    "start_time": "2025-01-22T14:28:08.007Z"
   },
   {
    "duration": 5,
    "start_time": "2025-01-22T14:28:08.017Z"
   },
   {
    "duration": 47,
    "start_time": "2025-01-22T14:28:08.024Z"
   },
   {
    "duration": 16,
    "start_time": "2025-01-22T14:28:08.072Z"
   },
   {
    "duration": 28,
    "start_time": "2025-01-22T14:28:08.090Z"
   },
   {
    "duration": 4,
    "start_time": "2025-01-22T14:28:08.120Z"
   },
   {
    "duration": 7,
    "start_time": "2025-01-22T14:28:08.126Z"
   },
   {
    "duration": 21,
    "start_time": "2025-01-22T14:28:08.135Z"
   },
   {
    "duration": 25,
    "start_time": "2025-01-22T14:28:08.157Z"
   },
   {
    "duration": 15,
    "start_time": "2025-01-22T14:28:08.183Z"
   },
   {
    "duration": 380,
    "start_time": "2025-01-22T14:28:08.200Z"
   },
   {
    "duration": 6,
    "start_time": "2025-01-22T14:28:08.582Z"
   },
   {
    "duration": 34,
    "start_time": "2025-01-22T14:28:08.590Z"
   },
   {
    "duration": 25,
    "start_time": "2025-01-22T14:28:08.628Z"
   },
   {
    "duration": 5,
    "start_time": "2025-01-22T14:28:08.655Z"
   },
   {
    "duration": 1416,
    "start_time": "2025-01-22T14:28:08.662Z"
   },
   {
    "duration": 9,
    "start_time": "2025-01-22T14:28:10.080Z"
   },
   {
    "duration": 8,
    "start_time": "2025-01-22T14:28:10.091Z"
   },
   {
    "duration": 12,
    "start_time": "2025-01-22T14:28:10.100Z"
   },
   {
    "duration": 32,
    "start_time": "2025-01-22T14:28:10.113Z"
   },
   {
    "duration": 12,
    "start_time": "2025-01-22T14:28:10.147Z"
   },
   {
    "duration": 32,
    "start_time": "2025-01-22T14:28:10.161Z"
   },
   {
    "duration": 7,
    "start_time": "2025-01-22T14:28:10.195Z"
   },
   {
    "duration": 194,
    "start_time": "2025-01-22T14:28:10.204Z"
   },
   {
    "duration": 7,
    "start_time": "2025-01-22T14:28:10.399Z"
   },
   {
    "duration": 9,
    "start_time": "2025-01-22T14:28:10.407Z"
   },
   {
    "duration": 8,
    "start_time": "2025-01-22T14:28:10.417Z"
   },
   {
    "duration": 321,
    "start_time": "2025-01-22T14:28:10.448Z"
   },
   {
    "duration": 6,
    "start_time": "2025-01-22T14:28:10.770Z"
   },
   {
    "duration": 11,
    "start_time": "2025-01-22T14:28:10.778Z"
   },
   {
    "duration": 322,
    "start_time": "2025-01-22T14:28:10.791Z"
   },
   {
    "duration": 1457,
    "start_time": "2025-01-22T14:28:11.114Z"
   },
   {
    "duration": 0,
    "start_time": "2025-01-22T14:28:12.573Z"
   },
   {
    "duration": 0,
    "start_time": "2025-01-22T14:28:12.574Z"
   },
   {
    "duration": 6,
    "start_time": "2025-01-22T14:28:20.255Z"
   },
   {
    "duration": 15,
    "start_time": "2025-01-22T14:28:24.004Z"
   },
   {
    "duration": 10,
    "start_time": "2025-01-22T14:30:44.423Z"
   },
   {
    "duration": 9,
    "start_time": "2025-01-22T14:30:47.072Z"
   },
   {
    "duration": 4,
    "start_time": "2025-01-22T14:30:55.855Z"
   },
   {
    "duration": 24,
    "start_time": "2025-01-22T14:31:13.032Z"
   },
   {
    "duration": 15,
    "start_time": "2025-01-22T14:31:38.112Z"
   },
   {
    "duration": 14,
    "start_time": "2025-01-22T14:31:51.892Z"
   },
   {
    "duration": 4,
    "start_time": "2025-01-22T14:31:59.472Z"
   },
   {
    "duration": 20,
    "start_time": "2025-01-22T14:32:17.531Z"
   },
   {
    "duration": 53,
    "start_time": "2025-01-22T14:41:00.698Z"
   },
   {
    "duration": 203,
    "start_time": "2025-01-22T14:45:46.171Z"
   },
   {
    "duration": 1414,
    "start_time": "2025-01-22T14:48:13.044Z"
   },
   {
    "duration": 1463,
    "start_time": "2025-01-22T14:48:49.843Z"
   },
   {
    "duration": 157,
    "start_time": "2025-01-22T14:49:20.464Z"
   },
   {
    "duration": 1557,
    "start_time": "2025-01-22T14:51:21.344Z"
   },
   {
    "duration": 500,
    "start_time": "2025-01-22T14:53:54.162Z"
   },
   {
    "duration": 511,
    "start_time": "2025-01-22T14:54:06.971Z"
   },
   {
    "duration": 539,
    "start_time": "2025-01-22T14:54:12.492Z"
   },
   {
    "duration": 706,
    "start_time": "2025-01-22T14:55:01.049Z"
   },
   {
    "duration": 767,
    "start_time": "2025-01-22T14:56:14.520Z"
   },
   {
    "duration": 957,
    "start_time": "2025-01-22T14:56:27.311Z"
   },
   {
    "duration": 27,
    "start_time": "2025-01-22T14:58:56.100Z"
   },
   {
    "duration": 684,
    "start_time": "2025-01-22T15:17:28.802Z"
   },
   {
    "duration": 19,
    "start_time": "2025-01-22T15:18:19.623Z"
   },
   {
    "duration": 21,
    "start_time": "2025-01-22T15:18:31.031Z"
   },
   {
    "duration": 17,
    "start_time": "2025-01-22T16:35:23.694Z"
   },
   {
    "duration": 32,
    "start_time": "2025-01-22T16:35:40.794Z"
   },
   {
    "duration": 17,
    "start_time": "2025-01-22T16:35:49.413Z"
   },
   {
    "duration": 16,
    "start_time": "2025-01-22T16:36:19.154Z"
   },
   {
    "duration": 18,
    "start_time": "2025-01-22T16:36:22.754Z"
   },
   {
    "duration": 17,
    "start_time": "2025-01-22T16:36:34.866Z"
   },
   {
    "duration": 15,
    "start_time": "2025-01-22T16:36:49.333Z"
   },
   {
    "duration": 1240,
    "start_time": "2025-01-22T16:37:33.203Z"
   },
   {
    "duration": 9,
    "start_time": "2025-01-22T16:37:39.554Z"
   },
   {
    "duration": 74,
    "start_time": "2025-01-22T16:37:53.554Z"
   },
   {
    "duration": 16,
    "start_time": "2025-01-22T16:37:59.283Z"
   },
   {
    "duration": 14,
    "start_time": "2025-01-22T16:39:01.962Z"
   },
   {
    "duration": 18,
    "start_time": "2025-01-22T16:41:51.391Z"
   },
   {
    "duration": 4,
    "start_time": "2025-01-22T16:43:43.382Z"
   },
   {
    "duration": 28,
    "start_time": "2025-01-22T16:44:07.850Z"
   },
   {
    "duration": 19,
    "start_time": "2025-01-22T16:44:26.480Z"
   },
   {
    "duration": 21,
    "start_time": "2025-01-22T16:44:39.700Z"
   },
   {
    "duration": 28,
    "start_time": "2025-01-22T16:44:43.258Z"
   },
   {
    "duration": 32,
    "start_time": "2025-01-22T16:45:20.020Z"
   },
   {
    "duration": 28,
    "start_time": "2025-01-22T16:45:27.050Z"
   },
   {
    "duration": 25,
    "start_time": "2025-01-22T16:46:41.180Z"
   },
   {
    "duration": 33,
    "start_time": "2025-01-22T16:47:21.719Z"
   },
   {
    "duration": 28,
    "start_time": "2025-01-22T16:47:26.990Z"
   },
   {
    "duration": 30,
    "start_time": "2025-01-22T16:47:56.139Z"
   },
   {
    "duration": 25,
    "start_time": "2025-01-22T16:48:29.389Z"
   },
   {
    "duration": 34,
    "start_time": "2025-01-22T16:48:35.309Z"
   },
   {
    "duration": 25,
    "start_time": "2025-01-22T16:48:41.169Z"
   },
   {
    "duration": 26,
    "start_time": "2025-01-22T16:50:23.098Z"
   },
   {
    "duration": 28,
    "start_time": "2025-01-22T16:50:27.738Z"
   },
   {
    "duration": 38,
    "start_time": "2025-01-22T16:52:56.797Z"
   },
   {
    "duration": 26,
    "start_time": "2025-01-22T16:53:08.796Z"
   },
   {
    "duration": 22,
    "start_time": "2025-01-22T16:53:15.767Z"
   },
   {
    "duration": 29,
    "start_time": "2025-01-22T16:53:17.327Z"
   },
   {
    "duration": 13,
    "start_time": "2025-01-22T16:53:26.338Z"
   },
   {
    "duration": 31,
    "start_time": "2025-01-22T16:53:48.126Z"
   },
   {
    "duration": 28,
    "start_time": "2025-01-22T16:56:46.966Z"
   },
   {
    "duration": 26,
    "start_time": "2025-01-22T16:57:01.049Z"
   },
   {
    "duration": 36,
    "start_time": "2025-01-22T16:57:18.030Z"
   },
   {
    "duration": 27,
    "start_time": "2025-01-22T16:57:52.984Z"
   },
   {
    "duration": 30,
    "start_time": "2025-01-22T16:58:06.024Z"
   },
   {
    "duration": 32,
    "start_time": "2025-01-22T16:59:13.323Z"
   },
   {
    "duration": 27,
    "start_time": "2025-01-22T16:59:23.149Z"
   },
   {
    "duration": 8,
    "start_time": "2025-01-22T17:10:49.662Z"
   },
   {
    "duration": 9,
    "start_time": "2025-01-22T17:11:02.418Z"
   },
   {
    "duration": 9,
    "start_time": "2025-01-22T17:11:14.198Z"
   },
   {
    "duration": 10,
    "start_time": "2025-01-22T17:18:29.055Z"
   },
   {
    "duration": 11,
    "start_time": "2025-01-22T17:19:15.595Z"
   },
   {
    "duration": 12,
    "start_time": "2025-01-22T17:19:19.746Z"
   },
   {
    "duration": 20,
    "start_time": "2025-01-22T17:19:46.645Z"
   },
   {
    "duration": 25,
    "start_time": "2025-01-22T17:20:50.804Z"
   },
   {
    "duration": 89,
    "start_time": "2025-01-22T17:25:16.782Z"
   },
   {
    "duration": 1272,
    "start_time": "2025-01-22T17:26:40.682Z"
   },
   {
    "duration": 6,
    "start_time": "2025-01-22T17:27:10.165Z"
   },
   {
    "duration": 7,
    "start_time": "2025-01-22T17:27:30.393Z"
   },
   {
    "duration": 30,
    "start_time": "2025-01-22T17:28:02.932Z"
   },
   {
    "duration": 7,
    "start_time": "2025-01-22T17:28:11.553Z"
   },
   {
    "duration": 989,
    "start_time": "2025-01-22T17:28:32.721Z"
   },
   {
    "duration": 8,
    "start_time": "2025-01-22T17:28:50.301Z"
   },
   {
    "duration": 6,
    "start_time": "2025-01-22T17:29:16.311Z"
   },
   {
    "duration": 7,
    "start_time": "2025-01-22T17:29:20.681Z"
   },
   {
    "duration": 25,
    "start_time": "2025-01-22T17:29:30.231Z"
   },
   {
    "duration": 17,
    "start_time": "2025-01-22T17:29:52.553Z"
   },
   {
    "duration": 18,
    "start_time": "2025-01-22T17:30:10.811Z"
   },
   {
    "duration": 18,
    "start_time": "2025-01-22T17:30:17.400Z"
   },
   {
    "duration": 13,
    "start_time": "2025-01-22T17:31:53.520Z"
   },
   {
    "duration": 13,
    "start_time": "2025-01-22T17:32:04.580Z"
   },
   {
    "duration": 13,
    "start_time": "2025-01-22T17:32:23.010Z"
   },
   {
    "duration": 20,
    "start_time": "2025-01-22T17:32:35.240Z"
   },
   {
    "duration": 22,
    "start_time": "2025-01-22T17:33:56.961Z"
   },
   {
    "duration": 21,
    "start_time": "2025-01-22T17:34:27.339Z"
   },
   {
    "duration": 150,
    "start_time": "2025-01-22T17:34:33.489Z"
   },
   {
    "duration": 167,
    "start_time": "2025-01-22T17:35:20.599Z"
   },
   {
    "duration": 21,
    "start_time": "2025-01-22T17:35:29.409Z"
   },
   {
    "duration": 159,
    "start_time": "2025-01-22T17:35:37.409Z"
   },
   {
    "duration": 4,
    "start_time": "2025-01-22T17:36:21.282Z"
   },
   {
    "duration": 8,
    "start_time": "2025-01-22T17:36:47.439Z"
   },
   {
    "duration": 13,
    "start_time": "2025-01-22T17:37:34.668Z"
   },
   {
    "duration": 4,
    "start_time": "2025-01-22T17:40:23.997Z"
   },
   {
    "duration": 13,
    "start_time": "2025-01-22T17:40:33.078Z"
   },
   {
    "duration": 165,
    "start_time": "2025-01-22T17:40:48.826Z"
   },
   {
    "duration": 6,
    "start_time": "2025-01-22T17:42:43.470Z"
   },
   {
    "duration": 162,
    "start_time": "2025-01-22T17:42:48.369Z"
   },
   {
    "duration": 519,
    "start_time": "2025-01-22T17:43:23.186Z"
   },
   {
    "duration": 47,
    "start_time": "2025-01-22T17:43:23.708Z"
   },
   {
    "duration": 16,
    "start_time": "2025-01-22T17:43:23.757Z"
   },
   {
    "duration": 2387,
    "start_time": "2025-01-22T17:43:23.775Z"
   },
   {
    "duration": 10,
    "start_time": "2025-01-22T17:43:26.164Z"
   },
   {
    "duration": 7,
    "start_time": "2025-01-22T17:43:26.176Z"
   },
   {
    "duration": 38,
    "start_time": "2025-01-22T17:43:26.185Z"
   },
   {
    "duration": 3,
    "start_time": "2025-01-22T17:43:26.224Z"
   },
   {
    "duration": 39,
    "start_time": "2025-01-22T17:43:26.229Z"
   },
   {
    "duration": 7,
    "start_time": "2025-01-22T17:43:26.271Z"
   },
   {
    "duration": 6,
    "start_time": "2025-01-22T17:43:26.280Z"
   },
   {
    "duration": 5,
    "start_time": "2025-01-22T17:43:26.288Z"
   },
   {
    "duration": 6,
    "start_time": "2025-01-22T17:43:26.294Z"
   },
   {
    "duration": 31,
    "start_time": "2025-01-22T17:43:26.301Z"
   },
   {
    "duration": 5,
    "start_time": "2025-01-22T17:43:26.334Z"
   },
   {
    "duration": 14,
    "start_time": "2025-01-22T17:43:26.341Z"
   },
   {
    "duration": 6,
    "start_time": "2025-01-22T17:43:26.357Z"
   },
   {
    "duration": 3,
    "start_time": "2025-01-22T17:43:26.365Z"
   },
   {
    "duration": 5,
    "start_time": "2025-01-22T17:43:26.369Z"
   },
   {
    "duration": 6,
    "start_time": "2025-01-22T17:43:26.375Z"
   },
   {
    "duration": 25,
    "start_time": "2025-01-22T17:43:26.382Z"
   },
   {
    "duration": 8,
    "start_time": "2025-01-22T17:43:26.408Z"
   },
   {
    "duration": 76,
    "start_time": "2025-01-22T17:43:26.417Z"
   },
   {
    "duration": 11,
    "start_time": "2025-01-22T17:43:26.495Z"
   },
   {
    "duration": 81,
    "start_time": "2025-01-22T17:43:26.508Z"
   },
   {
    "duration": 9,
    "start_time": "2025-01-22T17:43:26.590Z"
   },
   {
    "duration": 50,
    "start_time": "2025-01-22T17:43:26.601Z"
   },
   {
    "duration": 4,
    "start_time": "2025-01-22T17:43:26.657Z"
   },
   {
    "duration": 13,
    "start_time": "2025-01-22T17:43:26.663Z"
   },
   {
    "duration": 29,
    "start_time": "2025-01-22T17:43:26.678Z"
   },
   {
    "duration": 13,
    "start_time": "2025-01-22T17:43:26.708Z"
   },
   {
    "duration": 31,
    "start_time": "2025-01-22T17:43:26.722Z"
   },
   {
    "duration": 5,
    "start_time": "2025-01-22T17:43:26.754Z"
   },
   {
    "duration": 6,
    "start_time": "2025-01-22T17:43:26.761Z"
   },
   {
    "duration": 5,
    "start_time": "2025-01-22T17:43:26.769Z"
   },
   {
    "duration": 5,
    "start_time": "2025-01-22T17:43:26.775Z"
   },
   {
    "duration": 5,
    "start_time": "2025-01-22T17:43:26.782Z"
   },
   {
    "duration": 355,
    "start_time": "2025-01-22T17:43:26.789Z"
   },
   {
    "duration": 8,
    "start_time": "2025-01-22T17:43:27.147Z"
   },
   {
    "duration": 9,
    "start_time": "2025-01-22T17:43:27.156Z"
   },
   {
    "duration": 1344,
    "start_time": "2025-01-22T17:43:27.166Z"
   },
   {
    "duration": 10,
    "start_time": "2025-01-22T17:43:28.512Z"
   },
   {
    "duration": 18,
    "start_time": "2025-01-22T17:43:28.524Z"
   },
   {
    "duration": 12,
    "start_time": "2025-01-22T17:43:28.545Z"
   },
   {
    "duration": 6,
    "start_time": "2025-01-22T17:43:28.558Z"
   },
   {
    "duration": 10,
    "start_time": "2025-01-22T17:43:28.565Z"
   },
   {
    "duration": 26,
    "start_time": "2025-01-22T17:43:28.576Z"
   },
   {
    "duration": 4,
    "start_time": "2025-01-22T17:43:28.604Z"
   },
   {
    "duration": 173,
    "start_time": "2025-01-22T17:43:28.639Z"
   },
   {
    "duration": 7,
    "start_time": "2025-01-22T17:43:28.814Z"
   },
   {
    "duration": 24,
    "start_time": "2025-01-22T17:43:28.823Z"
   },
   {
    "duration": 5,
    "start_time": "2025-01-22T17:43:28.849Z"
   },
   {
    "duration": 328,
    "start_time": "2025-01-22T17:43:28.856Z"
   },
   {
    "duration": 5,
    "start_time": "2025-01-22T17:43:29.186Z"
   },
   {
    "duration": 24,
    "start_time": "2025-01-22T17:43:29.193Z"
   },
   {
    "duration": 356,
    "start_time": "2025-01-22T17:43:29.219Z"
   },
   {
    "duration": 44,
    "start_time": "2025-01-22T17:43:29.576Z"
   },
   {
    "duration": 673,
    "start_time": "2025-01-22T17:43:29.622Z"
   },
   {
    "duration": 28,
    "start_time": "2025-01-22T17:43:30.297Z"
   },
   {
    "duration": 288,
    "start_time": "2025-01-22T17:43:30.336Z"
   },
   {
    "duration": 44,
    "start_time": "2025-01-22T17:44:19.087Z"
   },
   {
    "duration": 89,
    "start_time": "2025-01-22T17:45:08.406Z"
   },
   {
    "duration": 48,
    "start_time": "2025-01-22T17:45:20.877Z"
   },
   {
    "duration": 12,
    "start_time": "2025-01-22T17:45:52.795Z"
   },
   {
    "duration": 53,
    "start_time": "2025-01-22T17:45:59.855Z"
   },
   {
    "duration": 22,
    "start_time": "2025-01-22T17:46:49.865Z"
   },
   {
    "duration": 16,
    "start_time": "2025-01-22T17:48:09.257Z"
   },
   {
    "duration": 18,
    "start_time": "2025-01-22T17:48:18.765Z"
   },
   {
    "duration": 18,
    "start_time": "2025-01-22T17:48:27.485Z"
   },
   {
    "duration": 6,
    "start_time": "2025-01-22T17:49:27.094Z"
   },
   {
    "duration": 8,
    "start_time": "2025-01-22T17:49:35.114Z"
   },
   {
    "duration": 9,
    "start_time": "2025-01-22T17:49:44.663Z"
   },
   {
    "duration": 13,
    "start_time": "2025-01-22T17:50:14.804Z"
   },
   {
    "duration": 5,
    "start_time": "2025-01-22T17:50:18.703Z"
   },
   {
    "duration": 14,
    "start_time": "2025-01-22T17:50:19.804Z"
   },
   {
    "duration": 504,
    "start_time": "2025-01-22T17:50:32.103Z"
   },
   {
    "duration": 43,
    "start_time": "2025-01-22T17:50:32.609Z"
   },
   {
    "duration": 23,
    "start_time": "2025-01-22T17:50:32.654Z"
   },
   {
    "duration": 2355,
    "start_time": "2025-01-22T17:50:32.679Z"
   },
   {
    "duration": 17,
    "start_time": "2025-01-22T17:50:35.036Z"
   },
   {
    "duration": 14,
    "start_time": "2025-01-22T17:50:35.055Z"
   },
   {
    "duration": 45,
    "start_time": "2025-01-22T17:50:35.071Z"
   },
   {
    "duration": 7,
    "start_time": "2025-01-22T17:50:35.118Z"
   },
   {
    "duration": 39,
    "start_time": "2025-01-22T17:50:35.127Z"
   },
   {
    "duration": 19,
    "start_time": "2025-01-22T17:50:35.168Z"
   },
   {
    "duration": 17,
    "start_time": "2025-01-22T17:50:35.189Z"
   },
   {
    "duration": 15,
    "start_time": "2025-01-22T17:50:35.208Z"
   },
   {
    "duration": 24,
    "start_time": "2025-01-22T17:50:35.225Z"
   },
   {
    "duration": 42,
    "start_time": "2025-01-22T17:50:35.253Z"
   },
   {
    "duration": 4,
    "start_time": "2025-01-22T17:50:35.297Z"
   },
   {
    "duration": 23,
    "start_time": "2025-01-22T17:50:35.303Z"
   },
   {
    "duration": 25,
    "start_time": "2025-01-22T17:50:35.328Z"
   },
   {
    "duration": 30,
    "start_time": "2025-01-22T17:50:35.355Z"
   },
   {
    "duration": 15,
    "start_time": "2025-01-22T17:50:35.387Z"
   },
   {
    "duration": 23,
    "start_time": "2025-01-22T17:50:35.404Z"
   },
   {
    "duration": 33,
    "start_time": "2025-01-22T17:50:35.429Z"
   },
   {
    "duration": 42,
    "start_time": "2025-01-22T17:50:35.465Z"
   },
   {
    "duration": 62,
    "start_time": "2025-01-22T17:50:35.509Z"
   },
   {
    "duration": 12,
    "start_time": "2025-01-22T17:50:35.573Z"
   },
   {
    "duration": 97,
    "start_time": "2025-01-22T17:50:35.587Z"
   },
   {
    "duration": 9,
    "start_time": "2025-01-22T17:50:35.686Z"
   },
   {
    "duration": 29,
    "start_time": "2025-01-22T17:50:35.696Z"
   },
   {
    "duration": 22,
    "start_time": "2025-01-22T17:50:35.726Z"
   },
   {
    "duration": 32,
    "start_time": "2025-01-22T17:50:35.750Z"
   },
   {
    "duration": 53,
    "start_time": "2025-01-22T17:50:35.783Z"
   },
   {
    "duration": 25,
    "start_time": "2025-01-22T17:50:35.839Z"
   },
   {
    "duration": 22,
    "start_time": "2025-01-22T17:50:35.866Z"
   },
   {
    "duration": 14,
    "start_time": "2025-01-22T17:50:35.890Z"
   },
   {
    "duration": 98,
    "start_time": "2025-01-22T17:50:35.906Z"
   },
   {
    "duration": 48,
    "start_time": "2025-01-22T17:50:36.006Z"
   },
   {
    "duration": 46,
    "start_time": "2025-01-22T17:50:36.056Z"
   },
   {
    "duration": 19,
    "start_time": "2025-01-22T17:50:36.103Z"
   },
   {
    "duration": 340,
    "start_time": "2025-01-22T17:50:36.123Z"
   },
   {
    "duration": 6,
    "start_time": "2025-01-22T17:50:36.465Z"
   },
   {
    "duration": 36,
    "start_time": "2025-01-22T17:50:36.473Z"
   },
   {
    "duration": 49,
    "start_time": "2025-01-22T17:50:36.514Z"
   },
   {
    "duration": 1349,
    "start_time": "2025-01-22T17:50:36.565Z"
   },
   {
    "duration": 10,
    "start_time": "2025-01-22T17:50:37.916Z"
   },
   {
    "duration": 25,
    "start_time": "2025-01-22T17:50:37.944Z"
   },
   {
    "duration": 52,
    "start_time": "2025-01-22T17:50:37.971Z"
   },
   {
    "duration": 31,
    "start_time": "2025-01-22T17:50:38.025Z"
   },
   {
    "duration": 37,
    "start_time": "2025-01-22T17:50:38.058Z"
   },
   {
    "duration": 74,
    "start_time": "2025-01-22T17:50:38.096Z"
   },
   {
    "duration": 5,
    "start_time": "2025-01-22T17:50:38.171Z"
   },
   {
    "duration": 197,
    "start_time": "2025-01-22T17:50:38.177Z"
   },
   {
    "duration": 6,
    "start_time": "2025-01-22T17:50:38.375Z"
   },
   {
    "duration": 6,
    "start_time": "2025-01-22T17:50:38.383Z"
   },
   {
    "duration": 316,
    "start_time": "2025-01-22T17:50:38.391Z"
   },
   {
    "duration": 7,
    "start_time": "2025-01-22T17:50:38.709Z"
   },
   {
    "duration": 18,
    "start_time": "2025-01-22T17:50:38.718Z"
   },
   {
    "duration": 339,
    "start_time": "2025-01-22T17:50:38.738Z"
   },
   {
    "duration": 43,
    "start_time": "2025-01-22T17:50:39.079Z"
   },
   {
    "duration": 671,
    "start_time": "2025-01-22T17:50:39.124Z"
   },
   {
    "duration": 51,
    "start_time": "2025-01-22T17:50:39.797Z"
   },
   {
    "duration": 19,
    "start_time": "2025-01-22T17:50:39.850Z"
   },
   {
    "duration": 5,
    "start_time": "2025-01-22T17:51:09.172Z"
   },
   {
    "duration": 14,
    "start_time": "2025-01-22T17:51:10.953Z"
   },
   {
    "duration": 83,
    "start_time": "2025-01-22T17:52:02.763Z"
   },
   {
    "duration": 14,
    "start_time": "2025-01-22T17:53:33.612Z"
   },
   {
    "duration": 6,
    "start_time": "2025-01-22T17:53:37.953Z"
   },
   {
    "duration": 19,
    "start_time": "2025-01-22T17:53:38.932Z"
   },
   {
    "duration": 15,
    "start_time": "2025-01-22T17:54:16.921Z"
   },
   {
    "duration": 19,
    "start_time": "2025-01-22T17:54:20.558Z"
   },
   {
    "duration": 27,
    "start_time": "2025-01-22T17:56:26.911Z"
   },
   {
    "duration": 128,
    "start_time": "2025-01-22T17:58:32.870Z"
   },
   {
    "duration": 38,
    "start_time": "2025-01-22T17:59:55.819Z"
   },
   {
    "duration": 7,
    "start_time": "2025-01-22T18:00:51.299Z"
   },
   {
    "duration": 8,
    "start_time": "2025-01-22T18:00:55.729Z"
   },
   {
    "duration": 11,
    "start_time": "2025-01-22T18:01:09.039Z"
   },
   {
    "duration": 7,
    "start_time": "2025-01-22T18:01:24.769Z"
   },
   {
    "duration": 4,
    "start_time": "2025-01-22T18:03:30.139Z"
   },
   {
    "duration": 24,
    "start_time": "2025-01-22T18:03:36.509Z"
   },
   {
    "duration": 21,
    "start_time": "2025-01-22T18:03:59.179Z"
   },
   {
    "duration": 20,
    "start_time": "2025-01-22T18:04:15.210Z"
   },
   {
    "duration": 20,
    "start_time": "2025-01-22T18:04:27.960Z"
   },
   {
    "duration": 167,
    "start_time": "2025-01-22T18:04:33.678Z"
   },
   {
    "duration": 222,
    "start_time": "2025-01-22T18:05:28.169Z"
   },
   {
    "duration": 171,
    "start_time": "2025-01-22T18:06:02.068Z"
   },
   {
    "duration": 210,
    "start_time": "2025-01-22T18:06:34.528Z"
   },
   {
    "duration": 204,
    "start_time": "2025-01-22T18:06:39.818Z"
   },
   {
    "duration": 176,
    "start_time": "2025-01-22T18:06:47.188Z"
   },
   {
    "duration": 182,
    "start_time": "2025-01-22T18:06:52.348Z"
   },
   {
    "duration": 170,
    "start_time": "2025-01-22T18:06:55.878Z"
   },
   {
    "duration": 209,
    "start_time": "2025-01-22T18:07:18.088Z"
   },
   {
    "duration": 193,
    "start_time": "2025-01-22T18:07:43.638Z"
   },
   {
    "duration": 1327,
    "start_time": "2025-01-22T18:09:38.959Z"
   },
   {
    "duration": 191,
    "start_time": "2025-01-22T18:10:33.577Z"
   },
   {
    "duration": 191,
    "start_time": "2025-01-22T18:10:44.427Z"
   },
   {
    "duration": 185,
    "start_time": "2025-01-22T18:10:49.157Z"
   },
   {
    "duration": 1405,
    "start_time": "2025-01-22T18:13:08.237Z"
   },
   {
    "duration": 1292,
    "start_time": "2025-01-22T18:13:28.016Z"
   },
   {
    "duration": 1432,
    "start_time": "2025-01-22T18:13:53.916Z"
   },
   {
    "duration": 300,
    "start_time": "2025-01-23T09:54:26.471Z"
   },
   {
    "duration": 771,
    "start_time": "2025-01-23T09:54:35.971Z"
   },
   {
    "duration": 38,
    "start_time": "2025-01-23T09:54:36.744Z"
   },
   {
    "duration": 18,
    "start_time": "2025-01-23T09:54:36.784Z"
   },
   {
    "duration": 2668,
    "start_time": "2025-01-23T09:54:36.804Z"
   },
   {
    "duration": 11,
    "start_time": "2025-01-23T09:54:39.475Z"
   },
   {
    "duration": 8,
    "start_time": "2025-01-23T09:54:39.488Z"
   },
   {
    "duration": 35,
    "start_time": "2025-01-23T09:54:39.497Z"
   },
   {
    "duration": 3,
    "start_time": "2025-01-23T09:54:39.534Z"
   },
   {
    "duration": 30,
    "start_time": "2025-01-23T09:54:39.539Z"
   },
   {
    "duration": 5,
    "start_time": "2025-01-23T09:54:39.570Z"
   },
   {
    "duration": 13,
    "start_time": "2025-01-23T09:54:39.577Z"
   },
   {
    "duration": 23,
    "start_time": "2025-01-23T09:54:39.592Z"
   },
   {
    "duration": 6,
    "start_time": "2025-01-23T09:54:39.617Z"
   },
   {
    "duration": 37,
    "start_time": "2025-01-23T09:54:39.627Z"
   },
   {
    "duration": 5,
    "start_time": "2025-01-23T09:54:39.666Z"
   },
   {
    "duration": 17,
    "start_time": "2025-01-23T09:54:39.673Z"
   },
   {
    "duration": 4,
    "start_time": "2025-01-23T09:54:39.692Z"
   },
   {
    "duration": 5,
    "start_time": "2025-01-23T09:54:39.698Z"
   },
   {
    "duration": 17,
    "start_time": "2025-01-23T09:54:39.705Z"
   },
   {
    "duration": 5,
    "start_time": "2025-01-23T09:54:39.724Z"
   },
   {
    "duration": 6,
    "start_time": "2025-01-23T09:54:39.731Z"
   },
   {
    "duration": 28,
    "start_time": "2025-01-23T09:54:39.738Z"
   },
   {
    "duration": 59,
    "start_time": "2025-01-23T09:54:39.768Z"
   },
   {
    "duration": 12,
    "start_time": "2025-01-23T09:54:39.829Z"
   },
   {
    "duration": 75,
    "start_time": "2025-01-23T09:54:39.842Z"
   },
   {
    "duration": 9,
    "start_time": "2025-01-23T09:54:39.919Z"
   },
   {
    "duration": 42,
    "start_time": "2025-01-23T09:54:39.930Z"
   },
   {
    "duration": 5,
    "start_time": "2025-01-23T09:54:39.974Z"
   },
   {
    "duration": 16,
    "start_time": "2025-01-23T09:54:39.980Z"
   },
   {
    "duration": 27,
    "start_time": "2025-01-23T09:54:39.997Z"
   },
   {
    "duration": 11,
    "start_time": "2025-01-23T09:54:40.026Z"
   },
   {
    "duration": 31,
    "start_time": "2025-01-23T09:54:40.039Z"
   },
   {
    "duration": 9,
    "start_time": "2025-01-23T09:54:40.072Z"
   },
   {
    "duration": 13,
    "start_time": "2025-01-23T09:54:40.083Z"
   },
   {
    "duration": 6,
    "start_time": "2025-01-23T09:54:40.098Z"
   },
   {
    "duration": 9,
    "start_time": "2025-01-23T09:54:40.106Z"
   },
   {
    "duration": 11,
    "start_time": "2025-01-23T09:54:40.116Z"
   },
   {
    "duration": 332,
    "start_time": "2025-01-23T09:54:40.128Z"
   },
   {
    "duration": 8,
    "start_time": "2025-01-23T09:54:40.461Z"
   },
   {
    "duration": 11,
    "start_time": "2025-01-23T09:54:40.471Z"
   },
   {
    "duration": 23,
    "start_time": "2025-01-23T09:54:40.487Z"
   },
   {
    "duration": 1382,
    "start_time": "2025-01-23T09:54:40.512Z"
   },
   {
    "duration": 10,
    "start_time": "2025-01-23T09:54:41.896Z"
   },
   {
    "duration": 6,
    "start_time": "2025-01-23T09:54:41.908Z"
   },
   {
    "duration": 20,
    "start_time": "2025-01-23T09:54:41.915Z"
   },
   {
    "duration": 7,
    "start_time": "2025-01-23T09:54:41.937Z"
   },
   {
    "duration": 10,
    "start_time": "2025-01-23T09:54:41.959Z"
   },
   {
    "duration": 29,
    "start_time": "2025-01-23T09:54:41.971Z"
   },
   {
    "duration": 6,
    "start_time": "2025-01-23T09:54:42.001Z"
   },
   {
    "duration": 183,
    "start_time": "2025-01-23T09:54:42.008Z"
   },
   {
    "duration": 7,
    "start_time": "2025-01-23T09:54:42.193Z"
   },
   {
    "duration": 7,
    "start_time": "2025-01-23T09:54:42.201Z"
   },
   {
    "duration": 313,
    "start_time": "2025-01-23T09:54:42.209Z"
   },
   {
    "duration": 6,
    "start_time": "2025-01-23T09:54:42.524Z"
   },
   {
    "duration": 22,
    "start_time": "2025-01-23T09:54:42.532Z"
   },
   {
    "duration": 380,
    "start_time": "2025-01-23T09:54:42.556Z"
   },
   {
    "duration": 51,
    "start_time": "2025-01-23T09:54:42.938Z"
   },
   {
    "duration": 772,
    "start_time": "2025-01-23T09:54:42.991Z"
   },
   {
    "duration": 30,
    "start_time": "2025-01-23T09:54:43.764Z"
   },
   {
    "duration": 21,
    "start_time": "2025-01-23T09:54:43.796Z"
   },
   {
    "duration": 1166,
    "start_time": "2025-01-23T09:55:18.330Z"
   },
   {
    "duration": 24,
    "start_time": "2025-01-23T09:56:04.949Z"
   },
   {
    "duration": 25,
    "start_time": "2025-01-23T09:56:11.989Z"
   },
   {
    "duration": 21,
    "start_time": "2025-01-23T09:56:20.960Z"
   },
   {
    "duration": 23,
    "start_time": "2025-01-23T09:56:27.220Z"
   },
   {
    "duration": 21,
    "start_time": "2025-01-23T09:56:38.910Z"
   },
   {
    "duration": 22,
    "start_time": "2025-01-23T09:56:55.330Z"
   },
   {
    "duration": 19,
    "start_time": "2025-01-23T09:57:12.660Z"
   },
   {
    "duration": 24,
    "start_time": "2025-01-23T09:57:26.649Z"
   },
   {
    "duration": 164,
    "start_time": "2025-01-23T09:57:35.660Z"
   },
   {
    "duration": 144,
    "start_time": "2025-01-23T09:57:43.979Z"
   },
   {
    "duration": 155,
    "start_time": "2025-01-23T09:58:22.309Z"
   },
   {
    "duration": 173,
    "start_time": "2025-01-23T09:58:25.319Z"
   },
   {
    "duration": 181,
    "start_time": "2025-01-23T09:58:31.300Z"
   },
   {
    "duration": 212,
    "start_time": "2025-01-23T09:58:37.849Z"
   },
   {
    "duration": 200,
    "start_time": "2025-01-23T09:59:25.419Z"
   },
   {
    "duration": 189,
    "start_time": "2025-01-23T10:00:18.378Z"
   },
   {
    "duration": 188,
    "start_time": "2025-01-23T10:00:32.688Z"
   },
   {
    "duration": 25,
    "start_time": "2025-01-23T10:01:04.628Z"
   },
   {
    "duration": 184,
    "start_time": "2025-01-23T10:01:23.238Z"
   },
   {
    "duration": 181,
    "start_time": "2025-01-23T10:03:20.548Z"
   },
   {
    "duration": 184,
    "start_time": "2025-01-23T10:07:39.457Z"
   },
   {
    "duration": 187,
    "start_time": "2025-01-23T10:07:47.507Z"
   },
   {
    "duration": 243,
    "start_time": "2025-01-23T10:13:37.053Z"
   },
   {
    "duration": 6,
    "start_time": "2025-01-23T10:19:21.661Z"
   },
   {
    "duration": 13,
    "start_time": "2025-01-23T10:24:57.069Z"
   },
   {
    "duration": 103,
    "start_time": "2025-01-23T10:25:21.510Z"
   },
   {
    "duration": 14,
    "start_time": "2025-01-23T10:26:12.149Z"
   },
   {
    "duration": 123,
    "start_time": "2025-01-23T10:26:39.099Z"
   },
   {
    "duration": 136,
    "start_time": "2025-01-23T10:27:15.429Z"
   },
   {
    "duration": 139,
    "start_time": "2025-01-23T10:28:58.558Z"
   },
   {
    "duration": 116,
    "start_time": "2025-01-23T10:29:30.128Z"
   },
   {
    "duration": 24,
    "start_time": "2025-01-23T10:30:16.348Z"
   },
   {
    "duration": 49,
    "start_time": "2025-01-23T10:31:08.248Z"
   },
   {
    "duration": 583,
    "start_time": "2025-01-23T10:31:25.630Z"
   },
   {
    "duration": 35,
    "start_time": "2025-01-23T10:31:26.215Z"
   },
   {
    "duration": 24,
    "start_time": "2025-01-23T10:31:26.251Z"
   },
   {
    "duration": 2515,
    "start_time": "2025-01-23T10:31:26.277Z"
   },
   {
    "duration": 11,
    "start_time": "2025-01-23T10:31:28.795Z"
   },
   {
    "duration": 34,
    "start_time": "2025-01-23T10:31:28.808Z"
   },
   {
    "duration": 44,
    "start_time": "2025-01-23T10:31:28.844Z"
   },
   {
    "duration": 4,
    "start_time": "2025-01-23T10:31:28.890Z"
   },
   {
    "duration": 37,
    "start_time": "2025-01-23T10:31:28.896Z"
   },
   {
    "duration": 6,
    "start_time": "2025-01-23T10:31:28.935Z"
   },
   {
    "duration": 17,
    "start_time": "2025-01-23T10:31:28.943Z"
   },
   {
    "duration": 14,
    "start_time": "2025-01-23T10:31:28.961Z"
   },
   {
    "duration": 10,
    "start_time": "2025-01-23T10:31:28.977Z"
   },
   {
    "duration": 63,
    "start_time": "2025-01-23T10:31:28.991Z"
   },
   {
    "duration": 5,
    "start_time": "2025-01-23T10:31:29.056Z"
   },
   {
    "duration": 13,
    "start_time": "2025-01-23T10:31:29.063Z"
   },
   {
    "duration": 25,
    "start_time": "2025-01-23T10:31:29.078Z"
   },
   {
    "duration": 17,
    "start_time": "2025-01-23T10:31:29.105Z"
   },
   {
    "duration": 30,
    "start_time": "2025-01-23T10:31:29.124Z"
   },
   {
    "duration": 15,
    "start_time": "2025-01-23T10:31:29.156Z"
   },
   {
    "duration": 49,
    "start_time": "2025-01-23T10:31:29.173Z"
   },
   {
    "duration": 9,
    "start_time": "2025-01-23T10:31:29.223Z"
   },
   {
    "duration": 62,
    "start_time": "2025-01-23T10:31:29.233Z"
   },
   {
    "duration": 13,
    "start_time": "2025-01-23T10:31:29.297Z"
   },
   {
    "duration": 84,
    "start_time": "2025-01-23T10:31:29.312Z"
   },
   {
    "duration": 10,
    "start_time": "2025-01-23T10:31:29.398Z"
   },
   {
    "duration": 56,
    "start_time": "2025-01-23T10:31:29.411Z"
   },
   {
    "duration": 6,
    "start_time": "2025-01-23T10:31:29.469Z"
   },
   {
    "duration": 14,
    "start_time": "2025-01-23T10:31:29.476Z"
   },
   {
    "duration": 40,
    "start_time": "2025-01-23T10:31:29.492Z"
   },
   {
    "duration": 16,
    "start_time": "2025-01-23T10:31:29.534Z"
   },
   {
    "duration": 20,
    "start_time": "2025-01-23T10:31:29.552Z"
   },
   {
    "duration": 16,
    "start_time": "2025-01-23T10:31:29.574Z"
   },
   {
    "duration": 13,
    "start_time": "2025-01-23T10:31:29.592Z"
   },
   {
    "duration": 10,
    "start_time": "2025-01-23T10:31:29.607Z"
   },
   {
    "duration": 11,
    "start_time": "2025-01-23T10:31:29.620Z"
   },
   {
    "duration": 3,
    "start_time": "2025-01-23T10:31:29.633Z"
   },
   {
    "duration": 337,
    "start_time": "2025-01-23T10:31:29.639Z"
   },
   {
    "duration": 9,
    "start_time": "2025-01-23T10:31:29.977Z"
   },
   {
    "duration": 60,
    "start_time": "2025-01-23T10:31:29.987Z"
   },
   {
    "duration": 39,
    "start_time": "2025-01-23T10:31:30.052Z"
   },
   {
    "duration": 1389,
    "start_time": "2025-01-23T10:31:30.093Z"
   },
   {
    "duration": 10,
    "start_time": "2025-01-23T10:31:31.484Z"
   },
   {
    "duration": 8,
    "start_time": "2025-01-23T10:31:31.496Z"
   },
   {
    "duration": 45,
    "start_time": "2025-01-23T10:31:31.505Z"
   },
   {
    "duration": 32,
    "start_time": "2025-01-23T10:31:31.552Z"
   },
   {
    "duration": 20,
    "start_time": "2025-01-23T10:31:31.586Z"
   },
   {
    "duration": 47,
    "start_time": "2025-01-23T10:31:31.608Z"
   },
   {
    "duration": 6,
    "start_time": "2025-01-23T10:31:31.657Z"
   },
   {
    "duration": 188,
    "start_time": "2025-01-23T10:31:31.665Z"
   },
   {
    "duration": 9,
    "start_time": "2025-01-23T10:31:31.855Z"
   },
   {
    "duration": 37,
    "start_time": "2025-01-23T10:31:31.866Z"
   },
   {
    "duration": 307,
    "start_time": "2025-01-23T10:31:31.905Z"
   },
   {
    "duration": 7,
    "start_time": "2025-01-23T10:31:32.213Z"
   },
   {
    "duration": 35,
    "start_time": "2025-01-23T10:31:32.222Z"
   },
   {
    "duration": 334,
    "start_time": "2025-01-23T10:31:32.259Z"
   },
   {
    "duration": 48,
    "start_time": "2025-01-23T10:31:32.595Z"
   },
   {
    "duration": 697,
    "start_time": "2025-01-23T10:31:32.644Z"
   },
   {
    "duration": 39,
    "start_time": "2025-01-23T10:31:33.343Z"
   },
   {
    "duration": 306,
    "start_time": "2025-01-23T10:31:33.384Z"
   },
   {
    "duration": 85,
    "start_time": "2025-01-23T10:38:18.317Z"
   },
   {
    "duration": 809,
    "start_time": "2025-01-23T10:38:38.406Z"
   },
   {
    "duration": 137,
    "start_time": "2025-01-23T10:40:14.146Z"
   },
   {
    "duration": 134,
    "start_time": "2025-01-23T10:51:51.951Z"
   },
   {
    "duration": 132,
    "start_time": "2025-01-23T10:51:58.692Z"
   },
   {
    "duration": 130,
    "start_time": "2025-01-23T10:52:05.281Z"
   },
   {
    "duration": 5,
    "start_time": "2025-01-23T10:55:53.590Z"
   },
   {
    "duration": 11,
    "start_time": "2025-01-23T10:56:18.019Z"
   },
   {
    "duration": 10,
    "start_time": "2025-01-23T11:02:05.008Z"
   },
   {
    "duration": 6,
    "start_time": "2025-01-23T11:02:10.548Z"
   },
   {
    "duration": 17,
    "start_time": "2025-01-23T11:02:45.137Z"
   },
   {
    "duration": 7,
    "start_time": "2025-01-23T11:02:48.947Z"
   },
   {
    "duration": 5,
    "start_time": "2025-01-23T11:06:00.977Z"
   },
   {
    "duration": 21,
    "start_time": "2025-01-23T11:06:01.696Z"
   },
   {
    "duration": 1422,
    "start_time": "2025-01-23T11:06:15.427Z"
   },
   {
    "duration": 232,
    "start_time": "2025-01-23T11:07:17.806Z"
   },
   {
    "duration": 132,
    "start_time": "2025-01-23T11:35:01.295Z"
   },
   {
    "duration": 4,
    "start_time": "2025-01-23T11:35:07.055Z"
   },
   {
    "duration": 4,
    "start_time": "2025-01-23T11:37:09.284Z"
   },
   {
    "duration": 588,
    "start_time": "2025-01-23T11:38:30.651Z"
   },
   {
    "duration": 40,
    "start_time": "2025-01-23T11:38:31.242Z"
   },
   {
    "duration": 18,
    "start_time": "2025-01-23T11:38:31.284Z"
   },
   {
    "duration": 2633,
    "start_time": "2025-01-23T11:38:31.304Z"
   },
   {
    "duration": 12,
    "start_time": "2025-01-23T11:38:33.939Z"
   },
   {
    "duration": 7,
    "start_time": "2025-01-23T11:38:33.953Z"
   },
   {
    "duration": 43,
    "start_time": "2025-01-23T11:38:33.962Z"
   },
   {
    "duration": 4,
    "start_time": "2025-01-23T11:38:34.007Z"
   },
   {
    "duration": 36,
    "start_time": "2025-01-23T11:38:34.012Z"
   },
   {
    "duration": 6,
    "start_time": "2025-01-23T11:38:34.051Z"
   },
   {
    "duration": 5,
    "start_time": "2025-01-23T11:38:34.059Z"
   },
   {
    "duration": 13,
    "start_time": "2025-01-23T11:38:34.066Z"
   },
   {
    "duration": 34,
    "start_time": "2025-01-23T11:38:34.081Z"
   },
   {
    "duration": 57,
    "start_time": "2025-01-23T11:38:34.117Z"
   },
   {
    "duration": 4,
    "start_time": "2025-01-23T11:38:34.176Z"
   },
   {
    "duration": 38,
    "start_time": "2025-01-23T11:38:34.182Z"
   },
   {
    "duration": 33,
    "start_time": "2025-01-23T11:38:34.222Z"
   },
   {
    "duration": 10,
    "start_time": "2025-01-23T11:38:34.257Z"
   },
   {
    "duration": 10,
    "start_time": "2025-01-23T11:38:34.269Z"
   },
   {
    "duration": 21,
    "start_time": "2025-01-23T11:38:34.281Z"
   },
   {
    "duration": 121,
    "start_time": "2025-01-23T11:38:34.304Z"
   },
   {
    "duration": 0,
    "start_time": "2025-01-23T11:38:34.428Z"
   },
   {
    "duration": 0,
    "start_time": "2025-01-23T11:38:34.429Z"
   },
   {
    "duration": 0,
    "start_time": "2025-01-23T11:38:34.430Z"
   },
   {
    "duration": 0,
    "start_time": "2025-01-23T11:38:34.431Z"
   },
   {
    "duration": 0,
    "start_time": "2025-01-23T11:38:34.432Z"
   },
   {
    "duration": 0,
    "start_time": "2025-01-23T11:38:34.433Z"
   },
   {
    "duration": 0,
    "start_time": "2025-01-23T11:38:34.434Z"
   },
   {
    "duration": 0,
    "start_time": "2025-01-23T11:38:34.435Z"
   },
   {
    "duration": 0,
    "start_time": "2025-01-23T11:38:34.436Z"
   },
   {
    "duration": 0,
    "start_time": "2025-01-23T11:38:34.437Z"
   },
   {
    "duration": 0,
    "start_time": "2025-01-23T11:38:34.438Z"
   },
   {
    "duration": 0,
    "start_time": "2025-01-23T11:38:34.439Z"
   },
   {
    "duration": 0,
    "start_time": "2025-01-23T11:38:34.460Z"
   },
   {
    "duration": 0,
    "start_time": "2025-01-23T11:38:34.461Z"
   },
   {
    "duration": 0,
    "start_time": "2025-01-23T11:38:34.462Z"
   },
   {
    "duration": 0,
    "start_time": "2025-01-23T11:38:34.463Z"
   },
   {
    "duration": 0,
    "start_time": "2025-01-23T11:38:34.464Z"
   },
   {
    "duration": 0,
    "start_time": "2025-01-23T11:38:34.465Z"
   },
   {
    "duration": 0,
    "start_time": "2025-01-23T11:38:34.466Z"
   },
   {
    "duration": 0,
    "start_time": "2025-01-23T11:38:34.468Z"
   },
   {
    "duration": 0,
    "start_time": "2025-01-23T11:38:34.469Z"
   },
   {
    "duration": 1,
    "start_time": "2025-01-23T11:38:34.469Z"
   },
   {
    "duration": 0,
    "start_time": "2025-01-23T11:38:34.470Z"
   },
   {
    "duration": 0,
    "start_time": "2025-01-23T11:38:34.471Z"
   },
   {
    "duration": 0,
    "start_time": "2025-01-23T11:38:34.472Z"
   },
   {
    "duration": 0,
    "start_time": "2025-01-23T11:38:34.473Z"
   },
   {
    "duration": 0,
    "start_time": "2025-01-23T11:38:34.474Z"
   },
   {
    "duration": 0,
    "start_time": "2025-01-23T11:38:34.475Z"
   },
   {
    "duration": 0,
    "start_time": "2025-01-23T11:38:34.476Z"
   },
   {
    "duration": 0,
    "start_time": "2025-01-23T11:38:34.477Z"
   },
   {
    "duration": 0,
    "start_time": "2025-01-23T11:38:34.478Z"
   },
   {
    "duration": 0,
    "start_time": "2025-01-23T11:38:34.479Z"
   },
   {
    "duration": 0,
    "start_time": "2025-01-23T11:38:34.480Z"
   },
   {
    "duration": 0,
    "start_time": "2025-01-23T11:38:34.481Z"
   },
   {
    "duration": 0,
    "start_time": "2025-01-23T11:38:34.483Z"
   },
   {
    "duration": 0,
    "start_time": "2025-01-23T11:38:34.484Z"
   },
   {
    "duration": 0,
    "start_time": "2025-01-23T11:38:34.486Z"
   },
   {
    "duration": 0,
    "start_time": "2025-01-23T11:38:34.488Z"
   },
   {
    "duration": 0,
    "start_time": "2025-01-23T11:38:34.489Z"
   },
   {
    "duration": 0,
    "start_time": "2025-01-23T11:38:34.491Z"
   },
   {
    "duration": 0,
    "start_time": "2025-01-23T11:38:34.493Z"
   },
   {
    "duration": 634,
    "start_time": "2025-01-23T11:38:45.841Z"
   },
   {
    "duration": 41,
    "start_time": "2025-01-23T11:38:46.478Z"
   },
   {
    "duration": 30,
    "start_time": "2025-01-23T11:38:46.520Z"
   },
   {
    "duration": 2657,
    "start_time": "2025-01-23T11:38:46.559Z"
   },
   {
    "duration": 11,
    "start_time": "2025-01-23T11:38:49.219Z"
   },
   {
    "duration": 6,
    "start_time": "2025-01-23T11:38:49.231Z"
   },
   {
    "duration": 36,
    "start_time": "2025-01-23T11:38:49.239Z"
   },
   {
    "duration": 4,
    "start_time": "2025-01-23T11:38:49.277Z"
   },
   {
    "duration": 17,
    "start_time": "2025-01-23T11:38:49.282Z"
   },
   {
    "duration": 4,
    "start_time": "2025-01-23T11:38:49.301Z"
   },
   {
    "duration": 11,
    "start_time": "2025-01-23T11:38:49.307Z"
   },
   {
    "duration": 6,
    "start_time": "2025-01-23T11:38:49.320Z"
   },
   {
    "duration": 32,
    "start_time": "2025-01-23T11:38:49.328Z"
   },
   {
    "duration": 34,
    "start_time": "2025-01-23T11:38:49.364Z"
   },
   {
    "duration": 5,
    "start_time": "2025-01-23T11:38:49.400Z"
   },
   {
    "duration": 14,
    "start_time": "2025-01-23T11:38:49.407Z"
   },
   {
    "duration": 5,
    "start_time": "2025-01-23T11:38:49.423Z"
   },
   {
    "duration": 31,
    "start_time": "2025-01-23T11:38:49.430Z"
   },
   {
    "duration": 21,
    "start_time": "2025-01-23T11:38:49.463Z"
   },
   {
    "duration": 10,
    "start_time": "2025-01-23T11:38:49.486Z"
   },
   {
    "duration": 81,
    "start_time": "2025-01-23T11:38:49.498Z"
   },
   {
    "duration": 0,
    "start_time": "2025-01-23T11:38:49.581Z"
   },
   {
    "duration": 0,
    "start_time": "2025-01-23T11:38:49.583Z"
   },
   {
    "duration": 0,
    "start_time": "2025-01-23T11:38:49.584Z"
   },
   {
    "duration": 0,
    "start_time": "2025-01-23T11:38:49.585Z"
   },
   {
    "duration": 0,
    "start_time": "2025-01-23T11:38:49.586Z"
   },
   {
    "duration": 0,
    "start_time": "2025-01-23T11:38:49.588Z"
   },
   {
    "duration": 0,
    "start_time": "2025-01-23T11:38:49.589Z"
   },
   {
    "duration": 0,
    "start_time": "2025-01-23T11:38:49.591Z"
   },
   {
    "duration": 0,
    "start_time": "2025-01-23T11:38:49.592Z"
   },
   {
    "duration": 0,
    "start_time": "2025-01-23T11:38:49.593Z"
   },
   {
    "duration": 0,
    "start_time": "2025-01-23T11:38:49.594Z"
   },
   {
    "duration": 0,
    "start_time": "2025-01-23T11:38:49.595Z"
   },
   {
    "duration": 0,
    "start_time": "2025-01-23T11:38:49.597Z"
   },
   {
    "duration": 0,
    "start_time": "2025-01-23T11:38:49.598Z"
   },
   {
    "duration": 0,
    "start_time": "2025-01-23T11:38:49.599Z"
   },
   {
    "duration": 0,
    "start_time": "2025-01-23T11:38:49.601Z"
   },
   {
    "duration": 0,
    "start_time": "2025-01-23T11:38:49.602Z"
   },
   {
    "duration": 0,
    "start_time": "2025-01-23T11:38:49.603Z"
   },
   {
    "duration": 0,
    "start_time": "2025-01-23T11:38:49.604Z"
   },
   {
    "duration": 0,
    "start_time": "2025-01-23T11:38:49.605Z"
   },
   {
    "duration": 0,
    "start_time": "2025-01-23T11:38:49.606Z"
   },
   {
    "duration": 0,
    "start_time": "2025-01-23T11:38:49.607Z"
   },
   {
    "duration": 0,
    "start_time": "2025-01-23T11:38:49.608Z"
   },
   {
    "duration": 0,
    "start_time": "2025-01-23T11:38:49.660Z"
   },
   {
    "duration": 0,
    "start_time": "2025-01-23T11:38:49.662Z"
   },
   {
    "duration": 0,
    "start_time": "2025-01-23T11:38:49.663Z"
   },
   {
    "duration": 0,
    "start_time": "2025-01-23T11:38:49.664Z"
   },
   {
    "duration": 0,
    "start_time": "2025-01-23T11:38:49.665Z"
   },
   {
    "duration": 0,
    "start_time": "2025-01-23T11:38:49.667Z"
   },
   {
    "duration": 0,
    "start_time": "2025-01-23T11:38:49.668Z"
   },
   {
    "duration": 0,
    "start_time": "2025-01-23T11:38:49.669Z"
   },
   {
    "duration": 0,
    "start_time": "2025-01-23T11:38:49.670Z"
   },
   {
    "duration": 0,
    "start_time": "2025-01-23T11:38:49.671Z"
   },
   {
    "duration": 0,
    "start_time": "2025-01-23T11:38:49.672Z"
   },
   {
    "duration": 0,
    "start_time": "2025-01-23T11:38:49.673Z"
   },
   {
    "duration": 0,
    "start_time": "2025-01-23T11:38:49.675Z"
   },
   {
    "duration": 0,
    "start_time": "2025-01-23T11:38:49.676Z"
   },
   {
    "duration": 0,
    "start_time": "2025-01-23T11:38:49.677Z"
   },
   {
    "duration": 0,
    "start_time": "2025-01-23T11:38:49.679Z"
   },
   {
    "duration": 0,
    "start_time": "2025-01-23T11:38:49.680Z"
   },
   {
    "duration": 0,
    "start_time": "2025-01-23T11:38:49.681Z"
   },
   {
    "duration": 134,
    "start_time": "2025-01-23T11:39:13.341Z"
   },
   {
    "duration": 131,
    "start_time": "2025-01-23T11:39:29.380Z"
   },
   {
    "duration": 5,
    "start_time": "2025-01-23T11:40:02.840Z"
   },
   {
    "duration": 9,
    "start_time": "2025-01-23T11:40:05.530Z"
   },
   {
    "duration": 35,
    "start_time": "2025-01-23T11:40:07.110Z"
   },
   {
    "duration": 13,
    "start_time": "2025-01-23T11:40:08.650Z"
   },
   {
    "duration": 69,
    "start_time": "2025-01-23T11:40:12.600Z"
   },
   {
    "duration": 11,
    "start_time": "2025-01-23T11:40:13.620Z"
   },
   {
    "duration": 9,
    "start_time": "2025-01-23T11:40:19.270Z"
   },
   {
    "duration": 48,
    "start_time": "2025-01-23T11:40:31.270Z"
   },
   {
    "duration": 14,
    "start_time": "2025-01-23T11:40:32.370Z"
   },
   {
    "duration": 69,
    "start_time": "2025-01-23T11:40:34.129Z"
   },
   {
    "duration": 11,
    "start_time": "2025-01-23T11:40:35.210Z"
   },
   {
    "duration": 10,
    "start_time": "2025-01-23T11:40:37.060Z"
   },
   {
    "duration": 548,
    "start_time": "2025-01-23T11:40:52.583Z"
   },
   {
    "duration": 44,
    "start_time": "2025-01-23T11:40:53.133Z"
   },
   {
    "duration": 20,
    "start_time": "2025-01-23T11:40:53.178Z"
   },
   {
    "duration": 2605,
    "start_time": "2025-01-23T11:40:53.199Z"
   },
   {
    "duration": 11,
    "start_time": "2025-01-23T11:40:55.807Z"
   },
   {
    "duration": 7,
    "start_time": "2025-01-23T11:40:55.819Z"
   },
   {
    "duration": 36,
    "start_time": "2025-01-23T11:40:55.828Z"
   },
   {
    "duration": 4,
    "start_time": "2025-01-23T11:40:55.865Z"
   },
   {
    "duration": 20,
    "start_time": "2025-01-23T11:40:55.871Z"
   },
   {
    "duration": 5,
    "start_time": "2025-01-23T11:40:55.893Z"
   },
   {
    "duration": 16,
    "start_time": "2025-01-23T11:40:55.899Z"
   },
   {
    "duration": 23,
    "start_time": "2025-01-23T11:40:55.917Z"
   },
   {
    "duration": 27,
    "start_time": "2025-01-23T11:40:55.943Z"
   },
   {
    "duration": 43,
    "start_time": "2025-01-23T11:40:55.975Z"
   },
   {
    "duration": 5,
    "start_time": "2025-01-23T11:40:56.020Z"
   },
   {
    "duration": 13,
    "start_time": "2025-01-23T11:40:56.027Z"
   },
   {
    "duration": 4,
    "start_time": "2025-01-23T11:40:56.042Z"
   },
   {
    "duration": 12,
    "start_time": "2025-01-23T11:40:56.048Z"
   },
   {
    "duration": 25,
    "start_time": "2025-01-23T11:40:56.062Z"
   },
   {
    "duration": 25,
    "start_time": "2025-01-23T11:40:56.088Z"
   },
   {
    "duration": 136,
    "start_time": "2025-01-23T11:40:56.114Z"
   },
   {
    "duration": 10,
    "start_time": "2025-01-23T11:40:56.252Z"
   },
   {
    "duration": 8,
    "start_time": "2025-01-23T11:40:56.264Z"
   },
   {
    "duration": 57,
    "start_time": "2025-01-23T11:40:56.274Z"
   },
   {
    "duration": 12,
    "start_time": "2025-01-23T11:40:56.333Z"
   },
   {
    "duration": 80,
    "start_time": "2025-01-23T11:40:56.347Z"
   },
   {
    "duration": 10,
    "start_time": "2025-01-23T11:40:56.429Z"
   },
   {
    "duration": 27,
    "start_time": "2025-01-23T11:40:56.441Z"
   },
   {
    "duration": 41,
    "start_time": "2025-01-23T11:40:56.470Z"
   },
   {
    "duration": 5,
    "start_time": "2025-01-23T11:40:56.513Z"
   },
   {
    "duration": 6,
    "start_time": "2025-01-23T11:40:56.520Z"
   },
   {
    "duration": 45,
    "start_time": "2025-01-23T11:40:56.528Z"
   },
   {
    "duration": 18,
    "start_time": "2025-01-23T11:40:56.575Z"
   },
   {
    "duration": 36,
    "start_time": "2025-01-23T11:40:56.594Z"
   },
   {
    "duration": 7,
    "start_time": "2025-01-23T11:40:56.632Z"
   },
   {
    "duration": 10,
    "start_time": "2025-01-23T11:40:56.640Z"
   },
   {
    "duration": 6,
    "start_time": "2025-01-23T11:40:56.652Z"
   },
   {
    "duration": 9,
    "start_time": "2025-01-23T11:40:56.659Z"
   },
   {
    "duration": 3,
    "start_time": "2025-01-23T11:40:56.670Z"
   },
   {
    "duration": 321,
    "start_time": "2025-01-23T11:40:56.675Z"
   },
   {
    "duration": 7,
    "start_time": "2025-01-23T11:40:57.000Z"
   },
   {
    "duration": 26,
    "start_time": "2025-01-23T11:40:57.009Z"
   },
   {
    "duration": 40,
    "start_time": "2025-01-23T11:40:57.037Z"
   },
   {
    "duration": 1447,
    "start_time": "2025-01-23T11:40:57.079Z"
   },
   {
    "duration": 11,
    "start_time": "2025-01-23T11:40:58.529Z"
   },
   {
    "duration": 33,
    "start_time": "2025-01-23T11:40:58.542Z"
   },
   {
    "duration": 18,
    "start_time": "2025-01-23T11:40:58.576Z"
   },
   {
    "duration": 18,
    "start_time": "2025-01-23T11:40:58.596Z"
   },
   {
    "duration": 20,
    "start_time": "2025-01-23T11:40:58.616Z"
   },
   {
    "duration": 42,
    "start_time": "2025-01-23T11:40:58.638Z"
   },
   {
    "duration": 5,
    "start_time": "2025-01-23T11:40:58.682Z"
   },
   {
    "duration": 179,
    "start_time": "2025-01-23T11:40:58.689Z"
   },
   {
    "duration": 7,
    "start_time": "2025-01-23T11:40:58.870Z"
   },
   {
    "duration": 33,
    "start_time": "2025-01-23T11:40:58.879Z"
   },
   {
    "duration": 342,
    "start_time": "2025-01-23T11:40:58.913Z"
   },
   {
    "duration": 6,
    "start_time": "2025-01-23T11:40:59.260Z"
   },
   {
    "duration": 26,
    "start_time": "2025-01-23T11:40:59.268Z"
   },
   {
    "duration": 350,
    "start_time": "2025-01-23T11:40:59.296Z"
   },
   {
    "duration": 50,
    "start_time": "2025-01-23T11:40:59.648Z"
   },
   {
    "duration": 799,
    "start_time": "2025-01-23T11:40:59.700Z"
   },
   {
    "duration": 30,
    "start_time": "2025-01-23T11:41:00.501Z"
   },
   {
    "duration": 213,
    "start_time": "2025-01-23T11:41:00.532Z"
   },
   {
    "duration": 49,
    "start_time": "2025-01-23T11:41:40.713Z"
   },
   {
    "duration": 12,
    "start_time": "2025-01-23T11:41:41.852Z"
   },
   {
    "duration": 65,
    "start_time": "2025-01-23T11:41:43.652Z"
   },
   {
    "duration": 10,
    "start_time": "2025-01-23T11:41:44.712Z"
   },
   {
    "duration": 10,
    "start_time": "2025-01-23T11:41:46.332Z"
   },
   {
    "duration": 46,
    "start_time": "2025-01-23T11:42:03.893Z"
   },
   {
    "duration": 12,
    "start_time": "2025-01-23T11:42:04.762Z"
   },
   {
    "duration": 67,
    "start_time": "2025-01-23T11:42:06.522Z"
   },
   {
    "duration": 10,
    "start_time": "2025-01-23T11:42:07.332Z"
   },
   {
    "duration": 10,
    "start_time": "2025-01-23T11:42:09.152Z"
   },
   {
    "duration": 584,
    "start_time": "2025-01-23T11:42:14.450Z"
   },
   {
    "duration": 47,
    "start_time": "2025-01-23T11:42:15.037Z"
   },
   {
    "duration": 58,
    "start_time": "2025-01-23T11:42:15.086Z"
   },
   {
    "duration": 2606,
    "start_time": "2025-01-23T11:42:15.146Z"
   },
   {
    "duration": 11,
    "start_time": "2025-01-23T11:42:17.755Z"
   },
   {
    "duration": 11,
    "start_time": "2025-01-23T11:42:17.768Z"
   },
   {
    "duration": 40,
    "start_time": "2025-01-23T11:42:17.781Z"
   },
   {
    "duration": 4,
    "start_time": "2025-01-23T11:42:17.823Z"
   },
   {
    "duration": 38,
    "start_time": "2025-01-23T11:42:17.828Z"
   },
   {
    "duration": 5,
    "start_time": "2025-01-23T11:42:17.868Z"
   },
   {
    "duration": 19,
    "start_time": "2025-01-23T11:42:17.875Z"
   },
   {
    "duration": 11,
    "start_time": "2025-01-23T11:42:17.896Z"
   },
   {
    "duration": 13,
    "start_time": "2025-01-23T11:42:17.909Z"
   },
   {
    "duration": 73,
    "start_time": "2025-01-23T11:42:17.926Z"
   },
   {
    "duration": 8,
    "start_time": "2025-01-23T11:42:18.001Z"
   },
   {
    "duration": 14,
    "start_time": "2025-01-23T11:42:18.011Z"
   },
   {
    "duration": 5,
    "start_time": "2025-01-23T11:42:18.027Z"
   },
   {
    "duration": 30,
    "start_time": "2025-01-23T11:42:18.034Z"
   },
   {
    "duration": 17,
    "start_time": "2025-01-23T11:42:18.066Z"
   },
   {
    "duration": 28,
    "start_time": "2025-01-23T11:42:18.085Z"
   },
   {
    "duration": 142,
    "start_time": "2025-01-23T11:42:18.115Z"
   },
   {
    "duration": 5,
    "start_time": "2025-01-23T11:42:18.260Z"
   },
   {
    "duration": 11,
    "start_time": "2025-01-23T11:42:18.267Z"
   },
   {
    "duration": 52,
    "start_time": "2025-01-23T11:42:18.280Z"
   },
   {
    "duration": 26,
    "start_time": "2025-01-23T11:42:18.334Z"
   },
   {
    "duration": 75,
    "start_time": "2025-01-23T11:42:18.362Z"
   },
   {
    "duration": 28,
    "start_time": "2025-01-23T11:42:18.440Z"
   },
   {
    "duration": 23,
    "start_time": "2025-01-23T11:42:18.470Z"
   },
   {
    "duration": 39,
    "start_time": "2025-01-23T11:42:18.495Z"
   },
   {
    "duration": 6,
    "start_time": "2025-01-23T11:42:18.535Z"
   },
   {
    "duration": 32,
    "start_time": "2025-01-23T11:42:18.543Z"
   },
   {
    "duration": 41,
    "start_time": "2025-01-23T11:42:18.577Z"
   },
   {
    "duration": 27,
    "start_time": "2025-01-23T11:42:18.620Z"
   },
   {
    "duration": 26,
    "start_time": "2025-01-23T11:42:18.650Z"
   },
   {
    "duration": 8,
    "start_time": "2025-01-23T11:42:18.680Z"
   },
   {
    "duration": 9,
    "start_time": "2025-01-23T11:42:18.691Z"
   },
   {
    "duration": 13,
    "start_time": "2025-01-23T11:42:18.702Z"
   },
   {
    "duration": 6,
    "start_time": "2025-01-23T11:42:18.718Z"
   },
   {
    "duration": 4,
    "start_time": "2025-01-23T11:42:18.726Z"
   },
   {
    "duration": 345,
    "start_time": "2025-01-23T11:42:18.760Z"
   },
   {
    "duration": 9,
    "start_time": "2025-01-23T11:42:19.110Z"
   },
   {
    "duration": 16,
    "start_time": "2025-01-23T11:42:19.121Z"
   },
   {
    "duration": 34,
    "start_time": "2025-01-23T11:42:19.139Z"
   },
   {
    "duration": 1481,
    "start_time": "2025-01-23T11:42:19.175Z"
   },
   {
    "duration": 11,
    "start_time": "2025-01-23T11:42:20.661Z"
   },
   {
    "duration": 26,
    "start_time": "2025-01-23T11:42:20.674Z"
   },
   {
    "duration": 23,
    "start_time": "2025-01-23T11:42:20.702Z"
   },
   {
    "duration": 26,
    "start_time": "2025-01-23T11:42:20.726Z"
   },
   {
    "duration": 31,
    "start_time": "2025-01-23T11:42:20.754Z"
   },
   {
    "duration": 48,
    "start_time": "2025-01-23T11:42:20.787Z"
   },
   {
    "duration": 6,
    "start_time": "2025-01-23T11:42:20.837Z"
   },
   {
    "duration": 187,
    "start_time": "2025-01-23T11:42:20.845Z"
   },
   {
    "duration": 7,
    "start_time": "2025-01-23T11:42:21.034Z"
   },
   {
    "duration": 18,
    "start_time": "2025-01-23T11:42:21.043Z"
   },
   {
    "duration": 345,
    "start_time": "2025-01-23T11:42:21.063Z"
   },
   {
    "duration": 6,
    "start_time": "2025-01-23T11:42:21.411Z"
   },
   {
    "duration": 32,
    "start_time": "2025-01-23T11:42:21.419Z"
   },
   {
    "duration": 387,
    "start_time": "2025-01-23T11:42:21.453Z"
   },
   {
    "duration": 53,
    "start_time": "2025-01-23T11:42:21.842Z"
   },
   {
    "duration": 816,
    "start_time": "2025-01-23T11:42:21.897Z"
   },
   {
    "duration": 30,
    "start_time": "2025-01-23T11:42:22.715Z"
   },
   {
    "duration": 203,
    "start_time": "2025-01-23T11:42:22.760Z"
   },
   {
    "duration": 14,
    "start_time": "2025-01-23T11:43:25.700Z"
   },
   {
    "duration": 5,
    "start_time": "2025-01-23T11:43:29.310Z"
   },
   {
    "duration": 14,
    "start_time": "2025-01-23T11:43:30.240Z"
   },
   {
    "duration": 1266,
    "start_time": "2025-01-23T11:43:43.640Z"
   },
   {
    "duration": 206,
    "start_time": "2025-01-23T11:48:00.528Z"
   },
   {
    "duration": 538,
    "start_time": "2025-01-23T11:48:12.978Z"
   },
   {
    "duration": 43,
    "start_time": "2025-01-23T11:48:13.519Z"
   },
   {
    "duration": 19,
    "start_time": "2025-01-23T11:48:13.564Z"
   },
   {
    "duration": 2531,
    "start_time": "2025-01-23T11:48:13.585Z"
   },
   {
    "duration": 10,
    "start_time": "2025-01-23T11:48:16.119Z"
   },
   {
    "duration": 9,
    "start_time": "2025-01-23T11:48:16.131Z"
   },
   {
    "duration": 44,
    "start_time": "2025-01-23T11:48:16.142Z"
   },
   {
    "duration": 4,
    "start_time": "2025-01-23T11:48:16.188Z"
   },
   {
    "duration": 23,
    "start_time": "2025-01-23T11:48:16.193Z"
   },
   {
    "duration": 5,
    "start_time": "2025-01-23T11:48:16.217Z"
   },
   {
    "duration": 15,
    "start_time": "2025-01-23T11:48:16.223Z"
   },
   {
    "duration": 48,
    "start_time": "2025-01-23T11:48:16.240Z"
   },
   {
    "duration": 21,
    "start_time": "2025-01-23T11:48:16.290Z"
   },
   {
    "duration": 44,
    "start_time": "2025-01-23T11:48:16.314Z"
   },
   {
    "duration": 7,
    "start_time": "2025-01-23T11:48:16.360Z"
   },
   {
    "duration": 11,
    "start_time": "2025-01-23T11:48:16.369Z"
   },
   {
    "duration": 12,
    "start_time": "2025-01-23T11:48:16.382Z"
   },
   {
    "duration": 18,
    "start_time": "2025-01-23T11:48:16.396Z"
   },
   {
    "duration": 12,
    "start_time": "2025-01-23T11:48:16.416Z"
   },
   {
    "duration": 32,
    "start_time": "2025-01-23T11:48:16.430Z"
   },
   {
    "duration": 140,
    "start_time": "2025-01-23T11:48:16.464Z"
   },
   {
    "duration": 5,
    "start_time": "2025-01-23T11:48:16.606Z"
   },
   {
    "duration": 39,
    "start_time": "2025-01-23T11:48:16.613Z"
   },
   {
    "duration": 68,
    "start_time": "2025-01-23T11:48:16.654Z"
   },
   {
    "duration": 13,
    "start_time": "2025-01-23T11:48:16.724Z"
   },
   {
    "duration": 72,
    "start_time": "2025-01-23T11:48:16.739Z"
   },
   {
    "duration": 12,
    "start_time": "2025-01-23T11:48:16.813Z"
   },
   {
    "duration": 33,
    "start_time": "2025-01-23T11:48:16.827Z"
   },
   {
    "duration": 31,
    "start_time": "2025-01-23T11:48:16.862Z"
   },
   {
    "duration": 6,
    "start_time": "2025-01-23T11:48:16.894Z"
   },
   {
    "duration": 10,
    "start_time": "2025-01-23T11:48:16.902Z"
   },
   {
    "duration": 52,
    "start_time": "2025-01-23T11:48:16.914Z"
   },
   {
    "duration": 9,
    "start_time": "2025-01-23T11:48:16.969Z"
   },
   {
    "duration": 16,
    "start_time": "2025-01-23T11:48:16.980Z"
   },
   {
    "duration": 6,
    "start_time": "2025-01-23T11:48:16.998Z"
   },
   {
    "duration": 7,
    "start_time": "2025-01-23T11:48:17.005Z"
   },
   {
    "duration": 5,
    "start_time": "2025-01-23T11:48:17.014Z"
   },
   {
    "duration": 40,
    "start_time": "2025-01-23T11:48:17.021Z"
   },
   {
    "duration": 6,
    "start_time": "2025-01-23T11:48:17.063Z"
   },
   {
    "duration": 322,
    "start_time": "2025-01-23T11:48:17.071Z"
   },
   {
    "duration": 8,
    "start_time": "2025-01-23T11:48:17.398Z"
   },
   {
    "duration": 19,
    "start_time": "2025-01-23T11:48:17.408Z"
   },
   {
    "duration": 34,
    "start_time": "2025-01-23T11:48:17.428Z"
   },
   {
    "duration": 1461,
    "start_time": "2025-01-23T11:48:17.464Z"
   },
   {
    "duration": 11,
    "start_time": "2025-01-23T11:48:18.927Z"
   },
   {
    "duration": 22,
    "start_time": "2025-01-23T11:48:18.940Z"
   },
   {
    "duration": 8,
    "start_time": "2025-01-23T11:48:18.963Z"
   },
   {
    "duration": 8,
    "start_time": "2025-01-23T11:48:18.973Z"
   },
   {
    "duration": 10,
    "start_time": "2025-01-23T11:48:18.983Z"
   },
   {
    "duration": 29,
    "start_time": "2025-01-23T11:48:18.994Z"
   },
   {
    "duration": 37,
    "start_time": "2025-01-23T11:48:19.024Z"
   },
   {
    "duration": 172,
    "start_time": "2025-01-23T11:48:19.063Z"
   },
   {
    "duration": 7,
    "start_time": "2025-01-23T11:48:19.237Z"
   },
   {
    "duration": 15,
    "start_time": "2025-01-23T11:48:19.246Z"
   },
   {
    "duration": 333,
    "start_time": "2025-01-23T11:48:19.263Z"
   },
   {
    "duration": 7,
    "start_time": "2025-01-23T11:48:19.598Z"
   },
   {
    "duration": 9,
    "start_time": "2025-01-23T11:48:19.607Z"
   },
   {
    "duration": 382,
    "start_time": "2025-01-23T11:48:19.618Z"
   },
   {
    "duration": 47,
    "start_time": "2025-01-23T11:48:20.001Z"
   },
   {
    "duration": 801,
    "start_time": "2025-01-23T11:48:20.059Z"
   },
   {
    "duration": 31,
    "start_time": "2025-01-23T11:48:20.862Z"
   },
   {
    "duration": 206,
    "start_time": "2025-01-23T11:48:20.895Z"
   },
   {
    "duration": 18,
    "start_time": "2025-01-23T11:52:31.666Z"
   },
   {
    "duration": 209,
    "start_time": "2025-01-23T11:52:44.536Z"
   },
   {
    "duration": 7,
    "start_time": "2025-01-23T11:52:55.005Z"
   },
   {
    "duration": 7,
    "start_time": "2025-01-23T11:52:57.695Z"
   },
   {
    "duration": 14,
    "start_time": "2025-01-23T11:53:06.946Z"
   },
   {
    "duration": 7,
    "start_time": "2025-01-23T11:53:21.766Z"
   },
   {
    "duration": 13,
    "start_time": "2025-01-23T11:53:26.075Z"
   },
   {
    "duration": 13,
    "start_time": "2025-01-23T11:54:04.335Z"
   },
   {
    "duration": 525,
    "start_time": "2025-01-23T11:54:10.006Z"
   },
   {
    "duration": 44,
    "start_time": "2025-01-23T11:54:10.533Z"
   },
   {
    "duration": 36,
    "start_time": "2025-01-23T11:54:10.581Z"
   },
   {
    "duration": 2608,
    "start_time": "2025-01-23T11:54:10.620Z"
   },
   {
    "duration": 11,
    "start_time": "2025-01-23T11:54:13.230Z"
   },
   {
    "duration": 18,
    "start_time": "2025-01-23T11:54:13.242Z"
   },
   {
    "duration": 51,
    "start_time": "2025-01-23T11:54:13.262Z"
   },
   {
    "duration": 4,
    "start_time": "2025-01-23T11:54:13.314Z"
   },
   {
    "duration": 15,
    "start_time": "2025-01-23T11:54:13.319Z"
   },
   {
    "duration": 6,
    "start_time": "2025-01-23T11:54:13.336Z"
   },
   {
    "duration": 6,
    "start_time": "2025-01-23T11:54:13.344Z"
   },
   {
    "duration": 9,
    "start_time": "2025-01-23T11:54:13.351Z"
   },
   {
    "duration": 13,
    "start_time": "2025-01-23T11:54:13.363Z"
   },
   {
    "duration": 35,
    "start_time": "2025-01-23T11:54:13.378Z"
   },
   {
    "duration": 4,
    "start_time": "2025-01-23T11:54:13.415Z"
   },
   {
    "duration": 12,
    "start_time": "2025-01-23T11:54:13.421Z"
   },
   {
    "duration": 25,
    "start_time": "2025-01-23T11:54:13.435Z"
   },
   {
    "duration": 13,
    "start_time": "2025-01-23T11:54:13.462Z"
   },
   {
    "duration": 10,
    "start_time": "2025-01-23T11:54:13.477Z"
   },
   {
    "duration": 11,
    "start_time": "2025-01-23T11:54:13.489Z"
   },
   {
    "duration": 137,
    "start_time": "2025-01-23T11:54:13.501Z"
   },
   {
    "duration": 5,
    "start_time": "2025-01-23T11:54:13.640Z"
   },
   {
    "duration": 22,
    "start_time": "2025-01-23T11:54:13.647Z"
   },
   {
    "duration": 51,
    "start_time": "2025-01-23T11:54:13.671Z"
   },
   {
    "duration": 12,
    "start_time": "2025-01-23T11:54:13.724Z"
   },
   {
    "duration": 82,
    "start_time": "2025-01-23T11:54:13.737Z"
   },
   {
    "duration": 10,
    "start_time": "2025-01-23T11:54:13.820Z"
   },
   {
    "duration": 8,
    "start_time": "2025-01-23T11:54:13.832Z"
   },
   {
    "duration": 31,
    "start_time": "2025-01-23T11:54:13.859Z"
   },
   {
    "duration": 5,
    "start_time": "2025-01-23T11:54:13.892Z"
   },
   {
    "duration": 18,
    "start_time": "2025-01-23T11:54:13.898Z"
   },
   {
    "duration": 43,
    "start_time": "2025-01-23T11:54:13.918Z"
   },
   {
    "duration": 9,
    "start_time": "2025-01-23T11:54:13.963Z"
   },
   {
    "duration": 21,
    "start_time": "2025-01-23T11:54:13.973Z"
   },
   {
    "duration": 14,
    "start_time": "2025-01-23T11:54:13.995Z"
   },
   {
    "duration": 20,
    "start_time": "2025-01-23T11:54:14.010Z"
   },
   {
    "duration": 7,
    "start_time": "2025-01-23T11:54:14.032Z"
   },
   {
    "duration": 12,
    "start_time": "2025-01-23T11:54:14.041Z"
   },
   {
    "duration": 18,
    "start_time": "2025-01-23T11:54:14.055Z"
   },
   {
    "duration": 322,
    "start_time": "2025-01-23T11:54:14.077Z"
   },
   {
    "duration": 7,
    "start_time": "2025-01-23T11:54:14.400Z"
   },
   {
    "duration": 5,
    "start_time": "2025-01-23T11:54:14.409Z"
   },
   {
    "duration": 17,
    "start_time": "2025-01-23T11:54:14.416Z"
   },
   {
    "duration": 1407,
    "start_time": "2025-01-23T11:54:14.434Z"
   },
   {
    "duration": 19,
    "start_time": "2025-01-23T11:54:15.843Z"
   },
   {
    "duration": 12,
    "start_time": "2025-01-23T11:54:15.864Z"
   },
   {
    "duration": 18,
    "start_time": "2025-01-23T11:54:15.878Z"
   },
   {
    "duration": 10,
    "start_time": "2025-01-23T11:54:15.898Z"
   },
   {
    "duration": 23,
    "start_time": "2025-01-23T11:54:15.910Z"
   },
   {
    "duration": 29,
    "start_time": "2025-01-23T11:54:15.934Z"
   },
   {
    "duration": 5,
    "start_time": "2025-01-23T11:54:15.965Z"
   },
   {
    "duration": 178,
    "start_time": "2025-01-23T11:54:15.972Z"
   },
   {
    "duration": 7,
    "start_time": "2025-01-23T11:54:16.160Z"
   },
   {
    "duration": 8,
    "start_time": "2025-01-23T11:54:16.168Z"
   },
   {
    "duration": 330,
    "start_time": "2025-01-23T11:54:16.178Z"
   },
   {
    "duration": 14,
    "start_time": "2025-01-23T11:54:16.510Z"
   },
   {
    "duration": 46,
    "start_time": "2025-01-23T11:54:16.526Z"
   },
   {
    "duration": 41,
    "start_time": "2025-01-23T11:54:16.574Z"
   },
   {
    "duration": 7,
    "start_time": "2025-01-23T11:54:16.617Z"
   },
   {
    "duration": 370,
    "start_time": "2025-01-23T11:54:16.626Z"
   },
   {
    "duration": 47,
    "start_time": "2025-01-23T11:54:16.997Z"
   },
   {
    "duration": 829,
    "start_time": "2025-01-23T11:54:17.045Z"
   },
   {
    "duration": 37,
    "start_time": "2025-01-23T11:54:17.876Z"
   },
   {
    "duration": 47,
    "start_time": "2025-01-23T11:54:17.916Z"
   },
   {
    "duration": 222,
    "start_time": "2025-01-23T11:54:17.965Z"
   },
   {
    "duration": 29,
    "start_time": "2025-01-23T11:57:01.685Z"
   },
   {
    "duration": 15,
    "start_time": "2025-01-23T11:57:03.044Z"
   },
   {
    "duration": 532,
    "start_time": "2025-01-23T11:57:12.906Z"
   },
   {
    "duration": 43,
    "start_time": "2025-01-23T11:57:13.440Z"
   },
   {
    "duration": 18,
    "start_time": "2025-01-23T11:57:13.485Z"
   },
   {
    "duration": 2700,
    "start_time": "2025-01-23T11:57:13.505Z"
   },
   {
    "duration": 11,
    "start_time": "2025-01-23T11:57:16.207Z"
   },
   {
    "duration": 6,
    "start_time": "2025-01-23T11:57:16.219Z"
   },
   {
    "duration": 38,
    "start_time": "2025-01-23T11:57:16.227Z"
   },
   {
    "duration": 4,
    "start_time": "2025-01-23T11:57:16.266Z"
   },
   {
    "duration": 21,
    "start_time": "2025-01-23T11:57:16.272Z"
   },
   {
    "duration": 5,
    "start_time": "2025-01-23T11:57:16.294Z"
   },
   {
    "duration": 7,
    "start_time": "2025-01-23T11:57:16.300Z"
   },
   {
    "duration": 7,
    "start_time": "2025-01-23T11:57:16.308Z"
   },
   {
    "duration": 7,
    "start_time": "2025-01-23T11:57:16.317Z"
   },
   {
    "duration": 35,
    "start_time": "2025-01-23T11:57:16.359Z"
   },
   {
    "duration": 6,
    "start_time": "2025-01-23T11:57:16.396Z"
   },
   {
    "duration": 12,
    "start_time": "2025-01-23T11:57:16.404Z"
   },
   {
    "duration": 6,
    "start_time": "2025-01-23T11:57:16.418Z"
   },
   {
    "duration": 36,
    "start_time": "2025-01-23T11:57:16.426Z"
   },
   {
    "duration": 7,
    "start_time": "2025-01-23T11:57:16.464Z"
   },
   {
    "duration": 6,
    "start_time": "2025-01-23T11:57:16.474Z"
   },
   {
    "duration": 155,
    "start_time": "2025-01-23T11:57:16.482Z"
   },
   {
    "duration": 6,
    "start_time": "2025-01-23T11:57:16.639Z"
   },
   {
    "duration": 29,
    "start_time": "2025-01-23T11:57:16.647Z"
   },
   {
    "duration": 47,
    "start_time": "2025-01-23T11:57:16.679Z"
   },
   {
    "duration": 15,
    "start_time": "2025-01-23T11:57:16.728Z"
   },
   {
    "duration": 69,
    "start_time": "2025-01-23T11:57:16.760Z"
   },
   {
    "duration": 30,
    "start_time": "2025-01-23T11:57:16.831Z"
   },
   {
    "duration": 10,
    "start_time": "2025-01-23T11:57:16.863Z"
   },
   {
    "duration": 37,
    "start_time": "2025-01-23T11:57:16.875Z"
   },
   {
    "duration": 5,
    "start_time": "2025-01-23T11:57:16.913Z"
   },
   {
    "duration": 7,
    "start_time": "2025-01-23T11:57:16.920Z"
   },
   {
    "duration": 65,
    "start_time": "2025-01-23T11:57:16.929Z"
   },
   {
    "duration": 10,
    "start_time": "2025-01-23T11:57:16.996Z"
   },
   {
    "duration": 17,
    "start_time": "2025-01-23T11:57:17.008Z"
   },
   {
    "duration": 21,
    "start_time": "2025-01-23T11:57:17.027Z"
   },
   {
    "duration": 24,
    "start_time": "2025-01-23T11:57:17.050Z"
   },
   {
    "duration": 8,
    "start_time": "2025-01-23T11:57:17.076Z"
   },
   {
    "duration": 15,
    "start_time": "2025-01-23T11:57:17.086Z"
   },
   {
    "duration": 9,
    "start_time": "2025-01-23T11:57:17.103Z"
   },
   {
    "duration": 352,
    "start_time": "2025-01-23T11:57:17.114Z"
   },
   {
    "duration": 8,
    "start_time": "2025-01-23T11:57:17.471Z"
   },
   {
    "duration": 16,
    "start_time": "2025-01-23T11:57:17.480Z"
   },
   {
    "duration": 22,
    "start_time": "2025-01-23T11:57:17.498Z"
   },
   {
    "duration": 1449,
    "start_time": "2025-01-23T11:57:17.522Z"
   },
   {
    "duration": 11,
    "start_time": "2025-01-23T11:57:18.973Z"
   },
   {
    "duration": 18,
    "start_time": "2025-01-23T11:57:18.986Z"
   },
   {
    "duration": 7,
    "start_time": "2025-01-23T11:57:19.006Z"
   },
   {
    "duration": 6,
    "start_time": "2025-01-23T11:57:19.015Z"
   },
   {
    "duration": 31,
    "start_time": "2025-01-23T11:57:19.023Z"
   },
   {
    "duration": 31,
    "start_time": "2025-01-23T11:57:19.061Z"
   },
   {
    "duration": 6,
    "start_time": "2025-01-23T11:57:19.094Z"
   },
   {
    "duration": 190,
    "start_time": "2025-01-23T11:57:19.101Z"
   },
   {
    "duration": 7,
    "start_time": "2025-01-23T11:57:19.293Z"
   },
   {
    "duration": 16,
    "start_time": "2025-01-23T11:57:19.301Z"
   },
   {
    "duration": 340,
    "start_time": "2025-01-23T11:57:19.319Z"
   },
   {
    "duration": 17,
    "start_time": "2025-01-23T11:57:19.661Z"
   },
   {
    "duration": 36,
    "start_time": "2025-01-23T11:57:19.680Z"
   },
   {
    "duration": 45,
    "start_time": "2025-01-23T11:57:19.718Z"
   },
   {
    "duration": 6,
    "start_time": "2025-01-23T11:57:19.765Z"
   },
   {
    "duration": 333,
    "start_time": "2025-01-23T11:57:19.773Z"
   },
   {
    "duration": 38,
    "start_time": "2025-01-23T11:57:20.108Z"
   },
   {
    "duration": 883,
    "start_time": "2025-01-23T11:57:20.148Z"
   },
   {
    "duration": 42,
    "start_time": "2025-01-23T11:57:21.033Z"
   },
   {
    "duration": 39,
    "start_time": "2025-01-23T11:57:21.076Z"
   },
   {
    "duration": 220,
    "start_time": "2025-01-23T11:57:21.116Z"
   },
   {
    "duration": 22,
    "start_time": "2025-01-23T11:58:04.954Z"
   },
   {
    "duration": 595,
    "start_time": "2025-01-23T11:58:29.527Z"
   },
   {
    "duration": 36,
    "start_time": "2025-01-23T11:58:30.124Z"
   },
   {
    "duration": 81,
    "start_time": "2025-01-23T11:58:30.162Z"
   },
   {
    "duration": 2595,
    "start_time": "2025-01-23T11:58:30.245Z"
   },
   {
    "duration": 11,
    "start_time": "2025-01-23T11:58:32.842Z"
   },
   {
    "duration": 29,
    "start_time": "2025-01-23T11:58:32.855Z"
   },
   {
    "duration": 44,
    "start_time": "2025-01-23T11:58:32.886Z"
   },
   {
    "duration": 3,
    "start_time": "2025-01-23T11:58:32.932Z"
   },
   {
    "duration": 23,
    "start_time": "2025-01-23T11:58:32.937Z"
   },
   {
    "duration": 12,
    "start_time": "2025-01-23T11:58:32.963Z"
   },
   {
    "duration": 9,
    "start_time": "2025-01-23T11:58:32.977Z"
   },
   {
    "duration": 16,
    "start_time": "2025-01-23T11:58:32.988Z"
   },
   {
    "duration": 18,
    "start_time": "2025-01-23T11:58:33.006Z"
   },
   {
    "duration": 45,
    "start_time": "2025-01-23T11:58:33.026Z"
   },
   {
    "duration": 6,
    "start_time": "2025-01-23T11:58:33.072Z"
   },
   {
    "duration": 30,
    "start_time": "2025-01-23T11:58:33.080Z"
   },
   {
    "duration": 8,
    "start_time": "2025-01-23T11:58:33.112Z"
   },
   {
    "duration": 62,
    "start_time": "2025-01-23T11:58:33.122Z"
   },
   {
    "duration": 39,
    "start_time": "2025-01-23T11:58:33.186Z"
   },
   {
    "duration": 14,
    "start_time": "2025-01-23T11:58:33.226Z"
   },
   {
    "duration": 144,
    "start_time": "2025-01-23T11:58:33.242Z"
   },
   {
    "duration": 5,
    "start_time": "2025-01-23T11:58:33.388Z"
   },
   {
    "duration": 14,
    "start_time": "2025-01-23T11:58:33.395Z"
   },
   {
    "duration": 62,
    "start_time": "2025-01-23T11:58:33.410Z"
   },
   {
    "duration": 12,
    "start_time": "2025-01-23T11:58:33.474Z"
   },
   {
    "duration": 86,
    "start_time": "2025-01-23T11:58:33.488Z"
   },
   {
    "duration": 12,
    "start_time": "2025-01-23T11:58:33.576Z"
   },
   {
    "duration": 9,
    "start_time": "2025-01-23T11:58:33.594Z"
   },
   {
    "duration": 60,
    "start_time": "2025-01-23T11:58:33.605Z"
   },
   {
    "duration": 6,
    "start_time": "2025-01-23T11:58:33.667Z"
   },
   {
    "duration": 16,
    "start_time": "2025-01-23T11:58:33.675Z"
   },
   {
    "duration": 44,
    "start_time": "2025-01-23T11:58:33.694Z"
   },
   {
    "duration": 24,
    "start_time": "2025-01-23T11:58:33.740Z"
   },
   {
    "duration": 55,
    "start_time": "2025-01-23T11:58:33.766Z"
   },
   {
    "duration": 22,
    "start_time": "2025-01-23T11:58:33.823Z"
   },
   {
    "duration": 36,
    "start_time": "2025-01-23T11:58:33.847Z"
   },
   {
    "duration": 7,
    "start_time": "2025-01-23T11:58:33.885Z"
   },
   {
    "duration": 10,
    "start_time": "2025-01-23T11:58:33.894Z"
   },
   {
    "duration": 5,
    "start_time": "2025-01-23T11:58:33.906Z"
   },
   {
    "duration": 375,
    "start_time": "2025-01-23T11:58:33.912Z"
   },
   {
    "duration": 9,
    "start_time": "2025-01-23T11:58:34.290Z"
   },
   {
    "duration": 18,
    "start_time": "2025-01-23T11:58:34.301Z"
   },
   {
    "duration": 53,
    "start_time": "2025-01-23T11:58:34.322Z"
   },
   {
    "duration": 1461,
    "start_time": "2025-01-23T11:58:34.378Z"
   },
   {
    "duration": 19,
    "start_time": "2025-01-23T11:58:35.841Z"
   },
   {
    "duration": 61,
    "start_time": "2025-01-23T11:58:35.862Z"
   },
   {
    "duration": 38,
    "start_time": "2025-01-23T11:58:35.925Z"
   },
   {
    "duration": 29,
    "start_time": "2025-01-23T11:58:35.965Z"
   },
   {
    "duration": 71,
    "start_time": "2025-01-23T11:58:35.996Z"
   },
   {
    "duration": 66,
    "start_time": "2025-01-23T11:58:36.069Z"
   },
   {
    "duration": 6,
    "start_time": "2025-01-23T11:58:36.136Z"
   },
   {
    "duration": 254,
    "start_time": "2025-01-23T11:58:36.144Z"
   },
   {
    "duration": 7,
    "start_time": "2025-01-23T11:58:36.400Z"
   },
   {
    "duration": 56,
    "start_time": "2025-01-23T11:58:36.408Z"
   },
   {
    "duration": 367,
    "start_time": "2025-01-23T11:58:36.466Z"
   },
   {
    "duration": 44,
    "start_time": "2025-01-23T11:58:36.835Z"
   },
   {
    "duration": 27,
    "start_time": "2025-01-23T11:58:36.881Z"
   },
   {
    "duration": 374,
    "start_time": "2025-01-23T11:58:36.910Z"
   },
   {
    "duration": 38,
    "start_time": "2025-01-23T11:58:37.286Z"
   },
   {
    "duration": 868,
    "start_time": "2025-01-23T11:58:37.325Z"
   },
   {
    "duration": 34,
    "start_time": "2025-01-23T11:58:38.195Z"
   },
   {
    "duration": 219,
    "start_time": "2025-01-23T11:58:38.231Z"
   },
   {
    "duration": 600,
    "start_time": "2025-01-23T12:04:38.621Z"
   },
   {
    "duration": 34,
    "start_time": "2025-01-23T12:04:39.223Z"
   },
   {
    "duration": 16,
    "start_time": "2025-01-23T12:04:39.259Z"
   },
   {
    "duration": 2311,
    "start_time": "2025-01-23T12:04:39.276Z"
   },
   {
    "duration": 10,
    "start_time": "2025-01-23T12:04:41.590Z"
   },
   {
    "duration": 6,
    "start_time": "2025-01-23T12:04:41.602Z"
   },
   {
    "duration": 58,
    "start_time": "2025-01-23T12:04:41.610Z"
   },
   {
    "duration": 4,
    "start_time": "2025-01-23T12:04:41.669Z"
   },
   {
    "duration": 31,
    "start_time": "2025-01-23T12:04:41.675Z"
   },
   {
    "duration": 6,
    "start_time": "2025-01-23T12:04:41.708Z"
   },
   {
    "duration": 14,
    "start_time": "2025-01-23T12:04:41.716Z"
   },
   {
    "duration": 8,
    "start_time": "2025-01-23T12:04:41.732Z"
   },
   {
    "duration": 6,
    "start_time": "2025-01-23T12:04:41.742Z"
   },
   {
    "duration": 30,
    "start_time": "2025-01-23T12:04:41.751Z"
   },
   {
    "duration": 4,
    "start_time": "2025-01-23T12:04:41.782Z"
   },
   {
    "duration": 10,
    "start_time": "2025-01-23T12:04:41.788Z"
   },
   {
    "duration": 38,
    "start_time": "2025-01-23T12:04:41.799Z"
   },
   {
    "duration": 4,
    "start_time": "2025-01-23T12:04:41.839Z"
   },
   {
    "duration": 4,
    "start_time": "2025-01-23T12:04:41.845Z"
   },
   {
    "duration": 4,
    "start_time": "2025-01-23T12:04:41.851Z"
   },
   {
    "duration": 145,
    "start_time": "2025-01-23T12:04:41.857Z"
   },
   {
    "duration": 5,
    "start_time": "2025-01-23T12:04:42.003Z"
   },
   {
    "duration": 8,
    "start_time": "2025-01-23T12:04:42.009Z"
   },
   {
    "duration": 60,
    "start_time": "2025-01-23T12:04:42.018Z"
   },
   {
    "duration": 12,
    "start_time": "2025-01-23T12:04:42.080Z"
   },
   {
    "duration": 82,
    "start_time": "2025-01-23T12:04:42.094Z"
   },
   {
    "duration": 9,
    "start_time": "2025-01-23T12:04:42.178Z"
   },
   {
    "duration": 24,
    "start_time": "2025-01-23T12:04:42.189Z"
   },
   {
    "duration": 39,
    "start_time": "2025-01-23T12:04:42.215Z"
   },
   {
    "duration": 4,
    "start_time": "2025-01-23T12:04:42.256Z"
   },
   {
    "duration": 9,
    "start_time": "2025-01-23T12:04:42.262Z"
   },
   {
    "duration": 32,
    "start_time": "2025-01-23T12:04:42.273Z"
   },
   {
    "duration": 19,
    "start_time": "2025-01-23T12:04:42.307Z"
   },
   {
    "duration": 32,
    "start_time": "2025-01-23T12:04:42.327Z"
   },
   {
    "duration": 4,
    "start_time": "2025-01-23T12:04:42.361Z"
   },
   {
    "duration": 7,
    "start_time": "2025-01-23T12:04:42.367Z"
   },
   {
    "duration": 12,
    "start_time": "2025-01-23T12:04:42.375Z"
   },
   {
    "duration": 6,
    "start_time": "2025-01-23T12:04:42.389Z"
   },
   {
    "duration": 17,
    "start_time": "2025-01-23T12:04:42.396Z"
   },
   {
    "duration": 317,
    "start_time": "2025-01-23T12:04:42.415Z"
   },
   {
    "duration": 7,
    "start_time": "2025-01-23T12:04:42.739Z"
   },
   {
    "duration": 7,
    "start_time": "2025-01-23T12:04:42.748Z"
   },
   {
    "duration": 1257,
    "start_time": "2025-01-23T12:04:42.757Z"
   },
   {
    "duration": 21,
    "start_time": "2025-01-23T12:04:44.016Z"
   },
   {
    "duration": 6,
    "start_time": "2025-01-23T12:04:44.039Z"
   },
   {
    "duration": 8,
    "start_time": "2025-01-23T12:04:44.046Z"
   },
   {
    "duration": 14,
    "start_time": "2025-01-23T12:04:44.056Z"
   },
   {
    "duration": 21,
    "start_time": "2025-01-23T12:04:44.073Z"
   },
   {
    "duration": 27,
    "start_time": "2025-01-23T12:04:44.096Z"
   },
   {
    "duration": 5,
    "start_time": "2025-01-23T12:04:44.137Z"
   },
   {
    "duration": 163,
    "start_time": "2025-01-23T12:04:44.143Z"
   },
   {
    "duration": 7,
    "start_time": "2025-01-23T12:04:44.307Z"
   },
   {
    "duration": 11,
    "start_time": "2025-01-23T12:04:44.315Z"
   },
   {
    "duration": 296,
    "start_time": "2025-01-23T12:04:44.327Z"
   },
   {
    "duration": 42,
    "start_time": "2025-01-23T12:04:44.624Z"
   },
   {
    "duration": 41,
    "start_time": "2025-01-23T12:04:44.668Z"
   },
   {
    "duration": 351,
    "start_time": "2025-01-23T12:04:44.710Z"
   },
   {
    "duration": 35,
    "start_time": "2025-01-23T12:04:45.063Z"
   },
   {
    "duration": 760,
    "start_time": "2025-01-23T12:04:45.100Z"
   },
   {
    "duration": 29,
    "start_time": "2025-01-23T12:04:45.862Z"
   },
   {
    "duration": 204,
    "start_time": "2025-01-23T12:04:45.893Z"
   },
   {
    "duration": 825,
    "start_time": "2025-01-23T18:50:09.219Z"
   },
   {
    "duration": 33,
    "start_time": "2025-01-23T18:50:10.045Z"
   },
   {
    "duration": 71,
    "start_time": "2025-01-23T18:50:10.080Z"
   },
   {
    "duration": 3441,
    "start_time": "2025-01-23T18:50:10.153Z"
   },
   {
    "duration": 55,
    "start_time": "2025-01-23T18:50:13.596Z"
   },
   {
    "duration": 32,
    "start_time": "2025-01-23T18:50:13.653Z"
   },
   {
    "duration": 91,
    "start_time": "2025-01-23T18:50:13.688Z"
   },
   {
    "duration": 57,
    "start_time": "2025-01-23T18:50:13.781Z"
   },
   {
    "duration": 17,
    "start_time": "2025-01-23T18:50:13.840Z"
   },
   {
    "duration": 8,
    "start_time": "2025-01-23T18:50:13.859Z"
   },
   {
    "duration": 11,
    "start_time": "2025-01-23T18:50:13.869Z"
   },
   {
    "duration": 5,
    "start_time": "2025-01-23T18:50:13.938Z"
   },
   {
    "duration": 6,
    "start_time": "2025-01-23T18:50:13.945Z"
   },
   {
    "duration": 33,
    "start_time": "2025-01-23T18:50:13.953Z"
   },
   {
    "duration": 4,
    "start_time": "2025-01-23T18:50:13.988Z"
   },
   {
    "duration": 14,
    "start_time": "2025-01-23T18:50:14.037Z"
   },
   {
    "duration": 5,
    "start_time": "2025-01-23T18:50:14.053Z"
   },
   {
    "duration": 24,
    "start_time": "2025-01-23T18:50:14.061Z"
   },
   {
    "duration": 7,
    "start_time": "2025-01-23T18:50:14.138Z"
   },
   {
    "duration": 25,
    "start_time": "2025-01-23T18:50:14.147Z"
   },
   {
    "duration": 362,
    "start_time": "2025-01-23T18:50:14.174Z"
   },
   {
    "duration": 6,
    "start_time": "2025-01-23T18:50:14.539Z"
   },
   {
    "duration": 94,
    "start_time": "2025-01-23T18:50:14.547Z"
   },
   {
    "duration": 131,
    "start_time": "2025-01-23T18:50:14.643Z"
   },
   {
    "duration": 64,
    "start_time": "2025-01-23T18:50:14.775Z"
   },
   {
    "duration": 112,
    "start_time": "2025-01-23T18:50:14.841Z"
   },
   {
    "duration": 10,
    "start_time": "2025-01-23T18:50:14.954Z"
   },
   {
    "duration": 69,
    "start_time": "2025-01-23T18:50:14.969Z"
   },
   {
    "duration": 28,
    "start_time": "2025-01-23T18:50:15.040Z"
   },
   {
    "duration": 68,
    "start_time": "2025-01-23T18:50:15.070Z"
   },
   {
    "duration": 20,
    "start_time": "2025-01-23T18:50:15.141Z"
   },
   {
    "duration": 96,
    "start_time": "2025-01-23T18:50:15.163Z"
   },
   {
    "duration": 14,
    "start_time": "2025-01-23T18:50:15.262Z"
   },
   {
    "duration": 19,
    "start_time": "2025-01-23T18:50:15.337Z"
   },
   {
    "duration": 8,
    "start_time": "2025-01-23T18:50:15.358Z"
   },
   {
    "duration": 12,
    "start_time": "2025-01-23T18:50:15.368Z"
   },
   {
    "duration": 61,
    "start_time": "2025-01-23T18:50:15.381Z"
   },
   {
    "duration": 6,
    "start_time": "2025-01-23T18:50:15.445Z"
   },
   {
    "duration": 98,
    "start_time": "2025-01-23T18:50:15.453Z"
   },
   {
    "duration": 600,
    "start_time": "2025-01-23T18:50:15.553Z"
   },
   {
    "duration": 8,
    "start_time": "2025-01-23T18:50:16.155Z"
   },
   {
    "duration": 17,
    "start_time": "2025-01-23T18:50:16.166Z"
   },
   {
    "duration": 3077,
    "start_time": "2025-01-23T18:50:16.186Z"
   },
   {
    "duration": 11,
    "start_time": "2025-01-23T18:50:19.265Z"
   },
   {
    "duration": 64,
    "start_time": "2025-01-23T18:50:19.277Z"
   },
   {
    "duration": 8,
    "start_time": "2025-01-23T18:50:19.343Z"
   },
   {
    "duration": 7,
    "start_time": "2025-01-23T18:50:19.352Z"
   },
   {
    "duration": 77,
    "start_time": "2025-01-23T18:50:19.361Z"
   },
   {
    "duration": 32,
    "start_time": "2025-01-23T18:50:19.440Z"
   },
   {
    "duration": 5,
    "start_time": "2025-01-23T18:50:19.474Z"
   },
   {
    "duration": 308,
    "start_time": "2025-01-23T18:50:19.538Z"
   },
   {
    "duration": 8,
    "start_time": "2025-01-23T18:50:19.847Z"
   },
   {
    "duration": 14,
    "start_time": "2025-01-23T18:50:19.856Z"
   },
   {
    "duration": 667,
    "start_time": "2025-01-23T18:50:19.872Z"
   },
   {
    "duration": 32,
    "start_time": "2025-01-23T18:50:20.541Z"
   },
   {
    "duration": 81,
    "start_time": "2025-01-23T18:50:20.574Z"
   },
   {
    "duration": 587,
    "start_time": "2025-01-23T18:50:20.657Z"
   },
   {
    "duration": 35,
    "start_time": "2025-01-23T18:50:21.245Z"
   },
   {
    "duration": 1442,
    "start_time": "2025-01-23T18:50:21.338Z"
   },
   {
    "duration": 34,
    "start_time": "2025-01-23T18:50:22.837Z"
   },
   {
    "duration": 467,
    "start_time": "2025-01-23T18:50:22.873Z"
   },
   {
    "duration": 8,
    "start_time": "2025-01-23T18:54:37.963Z"
   },
   {
    "duration": 85,
    "start_time": "2025-01-23T18:54:58.023Z"
   },
   {
    "duration": 53,
    "start_time": "2025-01-24T09:17:34.423Z"
   },
   {
    "duration": 1053,
    "start_time": "2025-01-24T09:17:38.563Z"
   },
   {
    "duration": 29,
    "start_time": "2025-01-24T09:17:41.596Z"
   },
   {
    "duration": 2160,
    "start_time": "2025-01-24T09:18:02.322Z"
   },
   {
    "duration": 82,
    "start_time": "2025-01-24T09:23:10.520Z"
   },
   {
    "duration": 61,
    "start_time": "2025-01-24T09:35:46.025Z"
   },
   {
    "duration": 18,
    "start_time": "2025-01-24T09:36:22.085Z"
   },
   {
    "duration": 16,
    "start_time": "2025-01-24T09:36:43.315Z"
   },
   {
    "duration": 17,
    "start_time": "2025-01-24T09:38:50.314Z"
   },
   {
    "duration": 754,
    "start_time": "2025-01-24T09:39:38.424Z"
   },
   {
    "duration": 27,
    "start_time": "2025-01-24T09:39:39.179Z"
   },
   {
    "duration": 17,
    "start_time": "2025-01-24T09:39:39.207Z"
   },
   {
    "duration": 2125,
    "start_time": "2025-01-24T09:39:39.226Z"
   },
   {
    "duration": 10,
    "start_time": "2025-01-24T09:39:41.353Z"
   },
   {
    "duration": 6,
    "start_time": "2025-01-24T09:39:41.365Z"
   },
   {
    "duration": 40,
    "start_time": "2025-01-24T09:39:41.372Z"
   },
   {
    "duration": 3,
    "start_time": "2025-01-24T09:39:41.414Z"
   },
   {
    "duration": 27,
    "start_time": "2025-01-24T09:39:41.419Z"
   },
   {
    "duration": 20,
    "start_time": "2025-01-24T09:39:41.447Z"
   },
   {
    "duration": 9,
    "start_time": "2025-01-24T09:39:41.469Z"
   },
   {
    "duration": 7,
    "start_time": "2025-01-24T09:39:41.479Z"
   },
   {
    "duration": 12,
    "start_time": "2025-01-24T09:39:41.487Z"
   },
   {
    "duration": 31,
    "start_time": "2025-01-24T09:39:41.502Z"
   },
   {
    "duration": 4,
    "start_time": "2025-01-24T09:39:41.534Z"
   },
   {
    "duration": 26,
    "start_time": "2025-01-24T09:39:41.540Z"
   },
   {
    "duration": 17,
    "start_time": "2025-01-24T09:39:41.568Z"
   },
   {
    "duration": 21,
    "start_time": "2025-01-24T09:39:41.587Z"
   },
   {
    "duration": 16,
    "start_time": "2025-01-24T09:39:41.610Z"
   },
   {
    "duration": 10,
    "start_time": "2025-01-24T09:39:41.628Z"
   },
   {
    "duration": 22,
    "start_time": "2025-01-24T09:39:41.640Z"
   },
   {
    "duration": 48,
    "start_time": "2025-01-24T09:39:41.664Z"
   },
   {
    "duration": 12,
    "start_time": "2025-01-24T09:39:41.714Z"
   },
   {
    "duration": 82,
    "start_time": "2025-01-24T09:39:41.727Z"
   },
   {
    "duration": 10,
    "start_time": "2025-01-24T09:39:41.811Z"
   },
   {
    "duration": 9,
    "start_time": "2025-01-24T09:39:41.823Z"
   },
   {
    "duration": 10,
    "start_time": "2025-01-24T09:39:41.834Z"
   },
   {
    "duration": 105,
    "start_time": "2025-01-24T09:39:41.846Z"
   },
   {
    "duration": 12,
    "start_time": "2025-01-24T09:39:41.953Z"
   },
   {
    "duration": 95,
    "start_time": "2025-01-24T09:39:41.967Z"
   },
   {
    "duration": 0,
    "start_time": "2025-01-24T09:39:42.065Z"
   },
   {
    "duration": 0,
    "start_time": "2025-01-24T09:39:42.067Z"
   },
   {
    "duration": 0,
    "start_time": "2025-01-24T09:39:42.068Z"
   },
   {
    "duration": 0,
    "start_time": "2025-01-24T09:39:42.070Z"
   },
   {
    "duration": 0,
    "start_time": "2025-01-24T09:39:42.071Z"
   },
   {
    "duration": 0,
    "start_time": "2025-01-24T09:39:42.072Z"
   },
   {
    "duration": 0,
    "start_time": "2025-01-24T09:39:42.073Z"
   },
   {
    "duration": 0,
    "start_time": "2025-01-24T09:39:42.086Z"
   },
   {
    "duration": 0,
    "start_time": "2025-01-24T09:39:42.088Z"
   },
   {
    "duration": 0,
    "start_time": "2025-01-24T09:39:42.088Z"
   },
   {
    "duration": 0,
    "start_time": "2025-01-24T09:39:42.090Z"
   },
   {
    "duration": 1,
    "start_time": "2025-01-24T09:39:42.091Z"
   },
   {
    "duration": 0,
    "start_time": "2025-01-24T09:39:42.093Z"
   },
   {
    "duration": 0,
    "start_time": "2025-01-24T09:39:42.095Z"
   },
   {
    "duration": 0,
    "start_time": "2025-01-24T09:39:42.096Z"
   },
   {
    "duration": 0,
    "start_time": "2025-01-24T09:39:42.097Z"
   },
   {
    "duration": 0,
    "start_time": "2025-01-24T09:39:42.099Z"
   },
   {
    "duration": 0,
    "start_time": "2025-01-24T09:39:42.101Z"
   },
   {
    "duration": 0,
    "start_time": "2025-01-24T09:39:42.102Z"
   },
   {
    "duration": 0,
    "start_time": "2025-01-24T09:39:42.104Z"
   },
   {
    "duration": 0,
    "start_time": "2025-01-24T09:39:42.105Z"
   },
   {
    "duration": 0,
    "start_time": "2025-01-24T09:39:42.107Z"
   },
   {
    "duration": 0,
    "start_time": "2025-01-24T09:39:42.108Z"
   },
   {
    "duration": 0,
    "start_time": "2025-01-24T09:39:42.110Z"
   },
   {
    "duration": 0,
    "start_time": "2025-01-24T09:39:42.111Z"
   },
   {
    "duration": 0,
    "start_time": "2025-01-24T09:39:42.113Z"
   },
   {
    "duration": 0,
    "start_time": "2025-01-24T09:39:42.115Z"
   },
   {
    "duration": 17,
    "start_time": "2025-01-24T09:40:02.724Z"
   },
   {
    "duration": 9,
    "start_time": "2025-01-24T09:40:39.343Z"
   },
   {
    "duration": 12,
    "start_time": "2025-01-24T09:40:43.844Z"
   },
   {
    "duration": 8,
    "start_time": "2025-01-24T09:41:05.504Z"
   },
   {
    "duration": 9,
    "start_time": "2025-01-24T09:41:14.074Z"
   },
   {
    "duration": 146,
    "start_time": "2025-01-24T09:41:50.243Z"
   },
   {
    "duration": 11,
    "start_time": "2025-01-24T09:41:55.653Z"
   },
   {
    "duration": 785,
    "start_time": "2025-01-24T09:44:15.404Z"
   },
   {
    "duration": 27,
    "start_time": "2025-01-24T09:44:16.191Z"
   },
   {
    "duration": 16,
    "start_time": "2025-01-24T09:44:16.219Z"
   },
   {
    "duration": 2145,
    "start_time": "2025-01-24T09:44:16.237Z"
   },
   {
    "duration": 10,
    "start_time": "2025-01-24T09:44:18.385Z"
   },
   {
    "duration": 9,
    "start_time": "2025-01-24T09:44:18.397Z"
   },
   {
    "duration": 35,
    "start_time": "2025-01-24T09:44:18.407Z"
   },
   {
    "duration": 4,
    "start_time": "2025-01-24T09:44:18.443Z"
   },
   {
    "duration": 38,
    "start_time": "2025-01-24T09:44:18.449Z"
   },
   {
    "duration": 4,
    "start_time": "2025-01-24T09:44:18.489Z"
   },
   {
    "duration": 5,
    "start_time": "2025-01-24T09:44:18.495Z"
   },
   {
    "duration": 22,
    "start_time": "2025-01-24T09:44:18.501Z"
   },
   {
    "duration": 13,
    "start_time": "2025-01-24T09:44:18.524Z"
   },
   {
    "duration": 28,
    "start_time": "2025-01-24T09:44:18.541Z"
   },
   {
    "duration": 17,
    "start_time": "2025-01-24T09:44:18.571Z"
   },
   {
    "duration": 17,
    "start_time": "2025-01-24T09:44:18.590Z"
   },
   {
    "duration": 4,
    "start_time": "2025-01-24T09:44:18.609Z"
   },
   {
    "duration": 4,
    "start_time": "2025-01-24T09:44:18.614Z"
   },
   {
    "duration": 4,
    "start_time": "2025-01-24T09:44:18.620Z"
   },
   {
    "duration": 31,
    "start_time": "2025-01-24T09:44:18.625Z"
   },
   {
    "duration": 64,
    "start_time": "2025-01-24T09:44:18.657Z"
   },
   {
    "duration": 44,
    "start_time": "2025-01-24T09:44:18.723Z"
   },
   {
    "duration": 10,
    "start_time": "2025-01-24T09:44:18.769Z"
   },
   {
    "duration": 65,
    "start_time": "2025-01-24T09:44:18.781Z"
   },
   {
    "duration": 9,
    "start_time": "2025-01-24T09:44:18.848Z"
   },
   {
    "duration": 28,
    "start_time": "2025-01-24T09:44:18.859Z"
   },
   {
    "duration": 7,
    "start_time": "2025-01-24T09:44:18.889Z"
   },
   {
    "duration": 24,
    "start_time": "2025-01-24T09:44:18.897Z"
   },
   {
    "duration": 16,
    "start_time": "2025-01-24T09:44:18.923Z"
   },
   {
    "duration": 13,
    "start_time": "2025-01-24T09:44:18.940Z"
   },
   {
    "duration": 4,
    "start_time": "2025-01-24T09:44:18.955Z"
   },
   {
    "duration": 6,
    "start_time": "2025-01-24T09:44:18.986Z"
   },
   {
    "duration": 10,
    "start_time": "2025-01-24T09:44:18.994Z"
   },
   {
    "duration": 12,
    "start_time": "2025-01-24T09:44:19.005Z"
   },
   {
    "duration": 3,
    "start_time": "2025-01-24T09:44:19.019Z"
   },
   {
    "duration": 333,
    "start_time": "2025-01-24T09:44:19.024Z"
   },
   {
    "duration": 7,
    "start_time": "2025-01-24T09:44:19.359Z"
   },
   {
    "duration": 18,
    "start_time": "2025-01-24T09:44:19.368Z"
   },
   {
    "duration": 1326,
    "start_time": "2025-01-24T09:44:19.388Z"
   },
   {
    "duration": 10,
    "start_time": "2025-01-24T09:44:20.715Z"
   },
   {
    "duration": 18,
    "start_time": "2025-01-24T09:44:20.729Z"
   },
   {
    "duration": 32,
    "start_time": "2025-01-24T09:44:20.748Z"
   },
   {
    "duration": 10,
    "start_time": "2025-01-24T09:44:20.782Z"
   },
   {
    "duration": 16,
    "start_time": "2025-01-24T09:44:20.794Z"
   },
   {
    "duration": 36,
    "start_time": "2025-01-24T09:44:20.811Z"
   },
   {
    "duration": 5,
    "start_time": "2025-01-24T09:44:20.849Z"
   },
   {
    "duration": 205,
    "start_time": "2025-01-24T09:44:20.855Z"
   },
   {
    "duration": 6,
    "start_time": "2025-01-24T09:44:21.062Z"
   },
   {
    "duration": 17,
    "start_time": "2025-01-24T09:44:21.069Z"
   },
   {
    "duration": 312,
    "start_time": "2025-01-24T09:44:21.087Z"
   },
   {
    "duration": 27,
    "start_time": "2025-01-24T09:44:21.400Z"
   },
   {
    "duration": 22,
    "start_time": "2025-01-24T09:44:21.429Z"
   },
   {
    "duration": 354,
    "start_time": "2025-01-24T09:44:21.453Z"
   },
   {
    "duration": 44,
    "start_time": "2025-01-24T09:44:21.809Z"
   },
   {
    "duration": 667,
    "start_time": "2025-01-24T09:44:21.855Z"
   },
   {
    "duration": 29,
    "start_time": "2025-01-24T09:44:22.523Z"
   },
   {
    "duration": 279,
    "start_time": "2025-01-24T09:44:22.554Z"
   },
   {
    "duration": 609,
    "start_time": "2025-01-24T09:46:13.952Z"
   },
   {
    "duration": 482,
    "start_time": "2025-01-24T09:46:42.852Z"
   },
   {
    "duration": 434,
    "start_time": "2025-01-24T09:47:28.812Z"
   },
   {
    "duration": 486,
    "start_time": "2025-01-24T09:47:59.921Z"
   },
   {
    "duration": 592,
    "start_time": "2025-01-24T09:48:08.081Z"
   },
   {
    "duration": 461,
    "start_time": "2025-01-24T09:48:15.921Z"
   },
   {
    "duration": 319,
    "start_time": "2025-01-24T09:48:55.511Z"
   },
   {
    "duration": 182,
    "start_time": "2025-01-24T09:49:34.441Z"
   },
   {
    "duration": 176,
    "start_time": "2025-01-24T09:49:40.510Z"
   },
   {
    "duration": 174,
    "start_time": "2025-01-24T09:50:04.111Z"
   },
   {
    "duration": 11,
    "start_time": "2025-01-24T09:50:36.660Z"
   },
   {
    "duration": 33,
    "start_time": "2025-01-24T09:51:02.921Z"
   },
   {
    "duration": 35,
    "start_time": "2025-01-24T09:51:38.689Z"
   },
   {
    "duration": 34,
    "start_time": "2025-01-24T09:52:15.340Z"
   },
   {
    "duration": 8,
    "start_time": "2025-01-24T09:52:53.959Z"
   },
   {
    "duration": 10,
    "start_time": "2025-01-24T09:53:02.340Z"
   },
   {
    "duration": 10,
    "start_time": "2025-01-24T09:53:18.389Z"
   },
   {
    "duration": 33,
    "start_time": "2025-01-24T09:53:50.909Z"
   },
   {
    "duration": 24,
    "start_time": "2025-01-24T09:55:44.999Z"
   },
   {
    "duration": 9,
    "start_time": "2025-01-24T09:57:28.337Z"
   },
   {
    "duration": 8,
    "start_time": "2025-01-24T09:58:38.877Z"
   },
   {
    "duration": 8,
    "start_time": "2025-01-24T09:58:43.187Z"
   },
   {
    "duration": 10,
    "start_time": "2025-01-24T09:58:49.907Z"
   },
   {
    "duration": 11,
    "start_time": "2025-01-24T09:59:49.046Z"
   },
   {
    "duration": 11,
    "start_time": "2025-01-24T10:00:50.226Z"
   },
   {
    "duration": 11,
    "start_time": "2025-01-24T10:12:41.812Z"
   },
   {
    "duration": 24,
    "start_time": "2025-01-24T10:19:58.629Z"
   },
   {
    "duration": 33,
    "start_time": "2025-01-24T10:20:01.391Z"
   },
   {
    "duration": 135,
    "start_time": "2025-01-24T10:20:56.548Z"
   },
   {
    "duration": 129,
    "start_time": "2025-01-24T10:21:10.648Z"
   },
   {
    "duration": 11,
    "start_time": "2025-01-24T10:21:19.390Z"
   },
   {
    "duration": 8,
    "start_time": "2025-01-24T10:33:38.764Z"
   },
   {
    "duration": 151,
    "start_time": "2025-01-24T10:34:47.213Z"
   },
   {
    "duration": 94,
    "start_time": "2025-01-24T10:36:04.104Z"
   },
   {
    "duration": 163,
    "start_time": "2025-01-24T10:36:07.423Z"
   },
   {
    "duration": 159,
    "start_time": "2025-01-24T10:36:12.503Z"
   },
   {
    "duration": 290,
    "start_time": "2025-01-24T10:36:16.553Z"
   },
   {
    "duration": 155,
    "start_time": "2025-01-24T10:36:22.313Z"
   },
   {
    "duration": 154,
    "start_time": "2025-01-24T10:36:50.403Z"
   },
   {
    "duration": 157,
    "start_time": "2025-01-24T10:36:57.498Z"
   },
   {
    "duration": 174,
    "start_time": "2025-01-24T10:37:34.383Z"
   },
   {
    "duration": 187,
    "start_time": "2025-01-24T10:38:20.272Z"
   },
   {
    "duration": 187,
    "start_time": "2025-01-24T10:38:57.542Z"
   },
   {
    "duration": 181,
    "start_time": "2025-01-24T10:39:10.998Z"
   },
   {
    "duration": 193,
    "start_time": "2025-01-24T10:39:38.611Z"
   },
   {
    "duration": 197,
    "start_time": "2025-01-24T10:40:09.551Z"
   },
   {
    "duration": 824,
    "start_time": "2025-01-24T10:41:56.994Z"
   },
   {
    "duration": 28,
    "start_time": "2025-01-24T10:41:57.820Z"
   },
   {
    "duration": 17,
    "start_time": "2025-01-24T10:41:57.850Z"
   },
   {
    "duration": 2253,
    "start_time": "2025-01-24T10:41:57.869Z"
   },
   {
    "duration": 11,
    "start_time": "2025-01-24T10:42:00.125Z"
   },
   {
    "duration": 52,
    "start_time": "2025-01-24T10:42:00.138Z"
   },
   {
    "duration": 119,
    "start_time": "2025-01-24T10:42:00.191Z"
   },
   {
    "duration": 112,
    "start_time": "2025-01-24T10:42:00.312Z"
   },
   {
    "duration": 86,
    "start_time": "2025-01-24T10:42:00.426Z"
   },
   {
    "duration": 137,
    "start_time": "2025-01-24T10:42:00.514Z"
   },
   {
    "duration": 113,
    "start_time": "2025-01-24T10:42:00.653Z"
   },
   {
    "duration": 144,
    "start_time": "2025-01-24T10:42:00.768Z"
   },
   {
    "duration": 146,
    "start_time": "2025-01-24T10:42:00.914Z"
   },
   {
    "duration": 70,
    "start_time": "2025-01-24T10:42:01.063Z"
   },
   {
    "duration": 24,
    "start_time": "2025-01-24T10:42:01.135Z"
   },
   {
    "duration": 43,
    "start_time": "2025-01-24T10:42:01.161Z"
   },
   {
    "duration": 33,
    "start_time": "2025-01-24T10:42:01.205Z"
   },
   {
    "duration": 29,
    "start_time": "2025-01-24T10:42:01.241Z"
   },
   {
    "duration": 38,
    "start_time": "2025-01-24T10:42:01.272Z"
   },
   {
    "duration": 30,
    "start_time": "2025-01-24T10:42:01.311Z"
   },
   {
    "duration": 69,
    "start_time": "2025-01-24T10:42:01.342Z"
   },
   {
    "duration": 63,
    "start_time": "2025-01-24T10:42:01.413Z"
   },
   {
    "duration": 52,
    "start_time": "2025-01-24T10:42:01.478Z"
   },
   {
    "duration": 92,
    "start_time": "2025-01-24T10:42:01.531Z"
   },
   {
    "duration": 9,
    "start_time": "2025-01-24T10:42:01.625Z"
   },
   {
    "duration": 63,
    "start_time": "2025-01-24T10:42:01.636Z"
   },
   {
    "duration": 17,
    "start_time": "2025-01-24T10:42:01.701Z"
   },
   {
    "duration": 25,
    "start_time": "2025-01-24T10:42:01.720Z"
   },
   {
    "duration": 62,
    "start_time": "2025-01-24T10:42:01.747Z"
   },
   {
    "duration": 20,
    "start_time": "2025-01-24T10:42:01.811Z"
   },
   {
    "duration": 28,
    "start_time": "2025-01-24T10:42:01.833Z"
   },
   {
    "duration": 68,
    "start_time": "2025-01-24T10:42:01.862Z"
   },
   {
    "duration": 36,
    "start_time": "2025-01-24T10:42:01.932Z"
   },
   {
    "duration": 48,
    "start_time": "2025-01-24T10:42:01.970Z"
   },
   {
    "duration": 15,
    "start_time": "2025-01-24T10:42:02.020Z"
   },
   {
    "duration": 378,
    "start_time": "2025-01-24T10:42:02.036Z"
   },
   {
    "duration": 7,
    "start_time": "2025-01-24T10:42:02.415Z"
   },
   {
    "duration": 11,
    "start_time": "2025-01-24T10:42:02.423Z"
   },
   {
    "duration": 1446,
    "start_time": "2025-01-24T10:42:02.435Z"
   },
   {
    "duration": 21,
    "start_time": "2025-01-24T10:42:03.886Z"
   },
   {
    "duration": 20,
    "start_time": "2025-01-24T10:42:03.912Z"
   },
   {
    "duration": 70,
    "start_time": "2025-01-24T10:42:03.934Z"
   },
   {
    "duration": 13,
    "start_time": "2025-01-24T10:42:04.005Z"
   },
   {
    "duration": 48,
    "start_time": "2025-01-24T10:42:04.020Z"
   },
   {
    "duration": 50,
    "start_time": "2025-01-24T10:42:04.070Z"
   },
   {
    "duration": 25,
    "start_time": "2025-01-24T10:42:04.122Z"
   },
   {
    "duration": 751,
    "start_time": "2025-01-24T15:54:40.338Z"
   },
   {
    "duration": 26,
    "start_time": "2025-01-24T15:54:41.091Z"
   },
   {
    "duration": 15,
    "start_time": "2025-01-24T15:54:41.119Z"
   },
   {
    "duration": 1969,
    "start_time": "2025-01-24T15:54:41.135Z"
   },
   {
    "duration": 9,
    "start_time": "2025-01-24T15:54:43.106Z"
   },
   {
    "duration": 5,
    "start_time": "2025-01-24T15:54:43.117Z"
   },
   {
    "duration": 49,
    "start_time": "2025-01-24T15:54:43.124Z"
   },
   {
    "duration": 3,
    "start_time": "2025-01-24T15:54:43.175Z"
   },
   {
    "duration": 26,
    "start_time": "2025-01-24T15:54:43.179Z"
   },
   {
    "duration": 4,
    "start_time": "2025-01-24T15:54:43.206Z"
   },
   {
    "duration": 9,
    "start_time": "2025-01-24T15:54:43.212Z"
   },
   {
    "duration": 20,
    "start_time": "2025-01-24T15:54:43.223Z"
   },
   {
    "duration": 13,
    "start_time": "2025-01-24T15:54:43.244Z"
   },
   {
    "duration": 45,
    "start_time": "2025-01-24T15:54:43.260Z"
   },
   {
    "duration": 4,
    "start_time": "2025-01-24T15:54:43.307Z"
   },
   {
    "duration": 10,
    "start_time": "2025-01-24T15:54:43.313Z"
   },
   {
    "duration": 5,
    "start_time": "2025-01-24T15:54:43.324Z"
   },
   {
    "duration": 15,
    "start_time": "2025-01-24T15:54:43.331Z"
   },
   {
    "duration": 21,
    "start_time": "2025-01-24T15:54:43.347Z"
   },
   {
    "duration": 74,
    "start_time": "2025-01-24T15:54:43.370Z"
   },
   {
    "duration": 31,
    "start_time": "2025-01-24T15:54:43.446Z"
   },
   {
    "duration": 41,
    "start_time": "2025-01-24T15:54:43.479Z"
   },
   {
    "duration": 10,
    "start_time": "2025-01-24T15:54:43.522Z"
   },
   {
    "duration": 76,
    "start_time": "2025-01-24T15:54:43.534Z"
   },
   {
    "duration": 9,
    "start_time": "2025-01-24T15:54:43.612Z"
   },
   {
    "duration": 88,
    "start_time": "2025-01-24T15:54:43.622Z"
   },
   {
    "duration": 24,
    "start_time": "2025-01-24T15:54:43.712Z"
   },
   {
    "duration": 20,
    "start_time": "2025-01-24T15:54:43.737Z"
   },
   {
    "duration": 30,
    "start_time": "2025-01-24T15:54:43.759Z"
   },
   {
    "duration": 17,
    "start_time": "2025-01-24T15:54:43.790Z"
   },
   {
    "duration": 15,
    "start_time": "2025-01-24T15:54:43.808Z"
   },
   {
    "duration": 31,
    "start_time": "2025-01-24T15:54:43.824Z"
   },
   {
    "duration": 37,
    "start_time": "2025-01-24T15:54:43.856Z"
   },
   {
    "duration": 57,
    "start_time": "2025-01-24T15:54:43.895Z"
   },
   {
    "duration": 25,
    "start_time": "2025-01-24T15:54:43.954Z"
   },
   {
    "duration": 325,
    "start_time": "2025-01-24T15:54:43.981Z"
   },
   {
    "duration": 6,
    "start_time": "2025-01-24T15:54:44.308Z"
   },
   {
    "duration": 112,
    "start_time": "2025-01-24T15:54:44.315Z"
   },
   {
    "duration": 1212,
    "start_time": "2025-01-24T15:54:44.428Z"
   },
   {
    "duration": 11,
    "start_time": "2025-01-24T15:54:45.641Z"
   },
   {
    "duration": 90,
    "start_time": "2025-01-24T15:54:45.655Z"
   },
   {
    "duration": 12,
    "start_time": "2025-01-24T15:54:45.748Z"
   },
   {
    "duration": 50,
    "start_time": "2025-01-24T15:54:45.762Z"
   },
   {
    "duration": 42,
    "start_time": "2025-01-24T15:54:45.814Z"
   },
   {
    "duration": 32,
    "start_time": "2025-01-24T15:54:45.857Z"
   },
   {
    "duration": 4,
    "start_time": "2025-01-24T15:54:45.891Z"
   },
   {
    "duration": 160,
    "start_time": "2025-01-24T15:54:45.896Z"
   },
   {
    "duration": 6,
    "start_time": "2025-01-24T15:54:46.058Z"
   },
   {
    "duration": 8,
    "start_time": "2025-01-24T15:54:46.065Z"
   },
   {
    "duration": 281,
    "start_time": "2025-01-24T15:54:46.075Z"
   },
   {
    "duration": 30,
    "start_time": "2025-01-24T15:54:46.358Z"
   },
   {
    "duration": 55,
    "start_time": "2025-01-24T15:54:46.389Z"
   },
   {
    "duration": 329,
    "start_time": "2025-01-24T15:54:46.445Z"
   },
   {
    "duration": 166,
    "start_time": "2025-01-24T15:54:46.776Z"
   },
   {
    "duration": 9,
    "start_time": "2025-01-24T15:54:46.944Z"
   },
   {
    "duration": 21,
    "start_time": "2025-01-24T15:54:46.955Z"
   },
   {
    "duration": 35,
    "start_time": "2025-01-24T15:54:46.978Z"
   },
   {
    "duration": 676,
    "start_time": "2025-01-24T15:54:47.014Z"
   },
   {
    "duration": 28,
    "start_time": "2025-01-24T15:54:47.692Z"
   },
   {
    "duration": 181,
    "start_time": "2025-01-24T15:54:47.721Z"
   },
   {
    "duration": 183,
    "start_time": "2025-01-24T15:54:47.904Z"
   }
  ],
  "colab": {
   "provenance": []
  },
  "kernelspec": {
   "display_name": "Python 3 (ipykernel)",
   "language": "python",
   "name": "python3"
  },
  "language_info": {
   "codemirror_mode": {
    "name": "ipython",
    "version": 3
   },
   "file_extension": ".py",
   "mimetype": "text/x-python",
   "name": "python",
   "nbconvert_exporter": "python",
   "pygments_lexer": "ipython3",
   "version": "3.9.21"
  },
  "toc": {
   "base_numbering": 1,
   "nav_menu": {},
   "number_sections": true,
   "sideBar": true,
   "skip_h1_title": true,
   "title_cell": "Table of Contents",
   "title_sidebar": "Contents",
   "toc_cell": false,
   "toc_position": {},
   "toc_section_display": true,
   "toc_window_display": false
  }
 },
 "nbformat": 4,
 "nbformat_minor": 1
}
